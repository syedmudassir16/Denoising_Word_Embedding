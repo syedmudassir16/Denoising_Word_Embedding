{
 "cells": [
  {
   "cell_type": "markdown",
   "id": "97a6350c",
   "metadata": {},
   "source": [
    "# MuRIL"
   ]
  },
  {
   "cell_type": "code",
   "execution_count": 1,
   "id": "1ae794ba",
   "metadata": {
    "ExecuteTime": {
     "end_time": "2021-11-24T18:26:33.177440Z",
     "start_time": "2021-11-24T18:26:33.062437Z"
    }
   },
   "outputs": [],
   "source": [
    "import random\n",
    "random.seed(10)\n",
    "\n",
    "import numpy as np\n",
    "X_Embed_train = np.load('MuRIL_train.npy')\n",
    "X_Embed_val = np.load('MuRIL_val.npy')"
   ]
  },
  {
   "cell_type": "code",
   "execution_count": 2,
   "id": "1256f633",
   "metadata": {
    "ExecuteTime": {
     "end_time": "2021-11-24T18:26:33.193427Z",
     "start_time": "2021-11-24T18:26:33.178426Z"
    }
   },
   "outputs": [],
   "source": [
    "Y_raw_train = np.load(\"C:/Users/phvpa/Desktop/Denoising_Experimants/ModifiedCode/DataSets/NumpyFiles/Mal/Split4500and500/Mal_Train_label_5000.npy\")\n",
    "Y_raw_val = np.load(\"C:/Users/phvpa/Desktop/Denoising_Experimants/ModifiedCode/DataSets/NumpyFiles/Mal/Split4500and500/Mal_val_label_500.npy\")"
   ]
  },
  {
   "cell_type": "code",
   "execution_count": 3,
   "id": "bfa99638",
   "metadata": {
    "ExecuteTime": {
     "end_time": "2021-11-24T18:26:33.557437Z",
     "start_time": "2021-11-24T18:26:33.194425Z"
    }
   },
   "outputs": [
    {
     "data": {
      "text/plain": [
       "((4500,), (500,))"
      ]
     },
     "execution_count": 3,
     "metadata": {},
     "output_type": "execute_result"
    }
   ],
   "source": [
    "from sklearn.preprocessing import LabelEncoder\n",
    "le = LabelEncoder()\n",
    "Y_train = le.fit_transform(Y_raw_train)\n",
    "Y_val = le.fit_transform(Y_raw_val)\n",
    "Y_train.shape, Y_val.shape"
   ]
  },
  {
   "cell_type": "code",
   "execution_count": 4,
   "id": "c23bbeee",
   "metadata": {
    "ExecuteTime": {
     "end_time": "2021-11-24T18:26:34.023736Z",
     "start_time": "2021-11-24T18:26:34.009735Z"
    }
   },
   "outputs": [],
   "source": [
    "def WR_Wavelet(signal, sigma):\n",
    "    (cA, cD) = pywt.dwt(signal,'haar')\n",
    "    t=2*sigma  \n",
    "    wt=(np.abs(cD))>t                     #only the coefficient values greater than the threshold values are taken\n",
    "    #print(cA.shape , wt.shape ,'\\n')\n",
    "    p = np.multiply(cD,wt)\n",
    "    rw=pywt.idwt(cA, p,'haar')\n",
    "    return rw"
   ]
  },
  {
   "cell_type": "code",
   "execution_count": 5,
   "id": "b2baa520",
   "metadata": {
    "ExecuteTime": {
     "end_time": "2021-11-24T18:26:35.160652Z",
     "start_time": "2021-11-24T18:26:34.962493Z"
    }
   },
   "outputs": [],
   "source": [
    "import pywt\n",
    "sigma = 0.1\n",
    "\n",
    "MuRIL_train_list = []\n",
    "for i in range(len(X_Embed_train)):\n",
    "    temp = WR_Wavelet(X_Embed_train[i], sigma)\n",
    "    MuRIL_train_list.append(temp)\n",
    "    \n",
    "MuRIL_val_list = []\n",
    "for i in range(len(X_Embed_val)):\n",
    "    temp = WR_Wavelet(X_Embed_val[i],sigma)\n",
    "    MuRIL_val_list.append(temp)"
   ]
  },
  {
   "cell_type": "code",
   "execution_count": 6,
   "id": "26652e19",
   "metadata": {
    "ExecuteTime": {
     "end_time": "2021-11-24T18:26:37.377036Z",
     "start_time": "2021-11-24T18:26:37.364036Z"
    }
   },
   "outputs": [],
   "source": [
    "X_MuRIL_Wavlet_Denoise_Embed_train = np.asarray(MuRIL_train_list)\n",
    "X_MuRIL_Wavlet_Denoise_Embed_val = np.asarray(MuRIL_val_list)"
   ]
  },
  {
   "cell_type": "code",
   "execution_count": 7,
   "id": "c93438ea",
   "metadata": {
    "ExecuteTime": {
     "end_time": "2021-11-24T18:28:23.322911Z",
     "start_time": "2021-11-24T18:26:48.190407Z"
    }
   },
   "outputs": [
    {
     "name": "stderr",
     "output_type": "stream",
     "text": [
      "C:\\Users\\phvpa\\anaconda3\\envs\\MuRIL\\lib\\site-packages\\sklearn\\metrics\\_classification.py:1308: UndefinedMetricWarning: Precision is ill-defined and being set to 0.0 in labels with no predicted samples. Use `zero_division` parameter to control this behavior.\n",
      "  _warn_prf(average, modifier, msg_start, len(result))\n"
     ]
    },
    {
     "name": "stdout",
     "output_type": "stream",
     "text": [
      "[2021-11-24 18:27:17.447] Start to fit the model:\n",
      "[2021-11-24 18:27:17.447] Fitting cascade layer = 0 \n",
      "[2021-11-24 18:27:30.358] layer = 0  | Val Acc = 48.867 % | Elapsed = 12.910 s\n",
      "[2021-11-24 18:27:30.378] Fitting cascade layer = 1 \n",
      "[2021-11-24 18:27:43.432] layer = 1  | Val Acc = 49.289 % | Elapsed = 13.054 s\n",
      "[2021-11-24 18:27:43.446] Fitting cascade layer = 2 \n",
      "[2021-11-24 18:27:56.618] layer = 2  | Val Acc = 50.556 % | Elapsed = 13.172 s\n",
      "[2021-11-24 18:27:56.636] Fitting cascade layer = 3 \n",
      "[2021-11-24 18:28:09.563] layer = 3  | Val Acc = 50.222 % | Elapsed = 12.926 s\n",
      "[2021-11-24 18:28:09.564] Early stopping counter: 1 out of 2\n",
      "[2021-11-24 18:28:09.583] Fitting cascade layer = 4 \n",
      "[2021-11-24 18:28:23.109] layer = 4  | Val Acc = 50.422 % | Elapsed = 13.526 s\n",
      "[2021-11-24 18:28:23.109] Early stopping counter: 2 out of 2\n",
      "[2021-11-24 18:28:23.109] Handling early stopping\n",
      "[2021-11-24 18:28:23.112] The optimal number of layers: 3\n",
      "[2021-11-24 18:28:23.119] Start to evalute the model:\n",
      "[2021-11-24 18:28:23.137] Evaluating cascade layer = 0 \n",
      "[2021-11-24 18:28:23.187] Evaluating cascade layer = 1 \n",
      "[2021-11-24 18:28:23.241] Evaluating cascade layer = 2 \n"
     ]
    }
   ],
   "source": [
    "from Models.MLAlgos import SVectorMachine, Dtree, Rforest, NB, KNN, DeepForest\n",
    "\n",
    "SVM_MuRIL_WL_Denoise_Result = SVectorMachine(X_MuRIL_Wavlet_Denoise_Embed_train, Y_train, X_MuRIL_Wavlet_Denoise_Embed_val, Y_val)\n",
    "Dtree_MuRIL_WL_Denoise_Result = Dtree(X_MuRIL_Wavlet_Denoise_Embed_train, Y_train, X_MuRIL_Wavlet_Denoise_Embed_val, Y_val, deepth=9)\n",
    "Rforest_MuRIL_WL_Denoise_Result = Rforest(X_MuRIL_Wavlet_Denoise_Embed_train, Y_train, X_MuRIL_Wavlet_Denoise_Embed_val, Y_val, deepth=8)\n",
    "NB_MuRIL_WL_Denoise_Result = NB(X_MuRIL_Wavlet_Denoise_Embed_train, Y_train, X_MuRIL_Wavlet_Denoise_Embed_val, Y_val)\n",
    "KNN_MuRIL_WL_Denoise_Result = KNN(X_MuRIL_Wavlet_Denoise_Embed_train, Y_train, X_MuRIL_Wavlet_Denoise_Embed_val, Y_val)\n",
    "Deep_MuRIL_WL_Denoise_Result = DeepForest(X_MuRIL_Wavlet_Denoise_Embed_train, Y_train, X_MuRIL_Wavlet_Denoise_Embed_val, Y_val)"
   ]
  },
  {
   "cell_type": "code",
   "execution_count": 8,
   "id": "73832bed",
   "metadata": {
    "ExecuteTime": {
     "end_time": "2021-11-24T18:28:23.607059Z",
     "start_time": "2021-11-24T18:28:23.324902Z"
    }
   },
   "outputs": [
    {
     "data": {
      "text/html": [
       "<div>\n",
       "<style scoped>\n",
       "    .dataframe tbody tr th:only-of-type {\n",
       "        vertical-align: middle;\n",
       "    }\n",
       "\n",
       "    .dataframe tbody tr th {\n",
       "        vertical-align: top;\n",
       "    }\n",
       "\n",
       "    .dataframe thead th {\n",
       "        text-align: right;\n",
       "    }\n",
       "</style>\n",
       "<table border=\"1\" class=\"dataframe\">\n",
       "  <thead>\n",
       "    <tr style=\"text-align: right;\">\n",
       "      <th></th>\n",
       "      <th>accuracy</th>\n",
       "      <th>precision</th>\n",
       "      <th>f1</th>\n",
       "      <th>recall</th>\n",
       "    </tr>\n",
       "  </thead>\n",
       "  <tbody>\n",
       "    <tr>\n",
       "      <th>SVM</th>\n",
       "      <td>34.4000%</td>\n",
       "      <td>20.3137%</td>\n",
       "      <td>23.2730%</td>\n",
       "      <td>34.4000%</td>\n",
       "    </tr>\n",
       "    <tr>\n",
       "      <th>DTree</th>\n",
       "      <td>36.8000%</td>\n",
       "      <td>37.7867%</td>\n",
       "      <td>37.1605%</td>\n",
       "      <td>36.8000%</td>\n",
       "    </tr>\n",
       "    <tr>\n",
       "      <th>Rforest</th>\n",
       "      <td>49.0000%</td>\n",
       "      <td>48.0650%</td>\n",
       "      <td>47.4266%</td>\n",
       "      <td>49.0000%</td>\n",
       "    </tr>\n",
       "    <tr>\n",
       "      <th>NB</th>\n",
       "      <td>38.8000%</td>\n",
       "      <td>36.1638%</td>\n",
       "      <td>34.5479%</td>\n",
       "      <td>38.8000%</td>\n",
       "    </tr>\n",
       "    <tr>\n",
       "      <th>KNN</th>\n",
       "      <td>48.4000%</td>\n",
       "      <td>48.1966%</td>\n",
       "      <td>47.3980%</td>\n",
       "      <td>48.4000%</td>\n",
       "    </tr>\n",
       "    <tr>\n",
       "      <th>DeepForest</th>\n",
       "      <td>50.0000%</td>\n",
       "      <td>48.7292%</td>\n",
       "      <td>49.1304%</td>\n",
       "      <td>50.0000%</td>\n",
       "    </tr>\n",
       "  </tbody>\n",
       "</table>\n",
       "</div>"
      ],
      "text/plain": [
       "            accuracy precision        f1    recall\n",
       "SVM         34.4000%  20.3137%  23.2730%  34.4000%\n",
       "DTree       36.8000%  37.7867%  37.1605%  36.8000%\n",
       "Rforest     49.0000%  48.0650%  47.4266%  49.0000%\n",
       "NB          38.8000%  36.1638%  34.5479%  38.8000%\n",
       "KNN         48.4000%  48.1966%  47.3980%  48.4000%\n",
       "DeepForest  50.0000%  48.7292%  49.1304%  50.0000%"
      ]
     },
     "execution_count": 8,
     "metadata": {},
     "output_type": "execute_result"
    }
   ],
   "source": [
    "import pandas as pd\n",
    "MuRIL_WaveFilter_AFTR_Denoising= pd.DataFrame({'SVM' : SVM_MuRIL_WL_Denoise_Result, \n",
    "            'DTree' : Dtree_MuRIL_WL_Denoise_Result,\n",
    "            'Rforest' : Rforest_MuRIL_WL_Denoise_Result,\n",
    "            'NB' : NB_MuRIL_WL_Denoise_Result,\n",
    "            'KNN' : KNN_MuRIL_WL_Denoise_Result,\n",
    "            'DeepForest': Deep_MuRIL_WL_Denoise_Result})\n",
    "MuRIL_WaveFilter_AFTR_Denoising.index = ['accuracy', 'precision', 'f1', 'recall']\n",
    "MuRIL_WaveFilter_AFTR_Denoising = MuRIL_WaveFilter_AFTR_Denoising.transpose()\n",
    "MuRIL_WaveFilter_AFTR_Denoising"
   ]
  },
  {
   "cell_type": "markdown",
   "id": "4204b346",
   "metadata": {},
   "source": [
    "# LABSE"
   ]
  },
  {
   "cell_type": "code",
   "execution_count": 1,
   "id": "ce1d7c17",
   "metadata": {
    "ExecuteTime": {
     "end_time": "2021-11-24T18:34:34.813798Z",
     "start_time": "2021-11-24T18:34:34.792793Z"
    }
   },
   "outputs": [],
   "source": [
    "import random \n",
    "random.seed(10)"
   ]
  },
  {
   "cell_type": "code",
   "execution_count": 2,
   "id": "d8029e86",
   "metadata": {
    "ExecuteTime": {
     "end_time": "2021-11-24T18:34:35.236196Z",
     "start_time": "2021-11-24T18:34:35.139587Z"
    }
   },
   "outputs": [],
   "source": [
    "import numpy as np\n",
    "X_Embed_train = np.load('LaBSE_train.npy')\n",
    "X_Embed_val = np.load('LaBSE_val.npy')"
   ]
  },
  {
   "cell_type": "code",
   "execution_count": 3,
   "id": "3a076ee0",
   "metadata": {
    "ExecuteTime": {
     "end_time": "2021-11-24T18:34:35.517651Z",
     "start_time": "2021-11-24T18:34:35.507652Z"
    }
   },
   "outputs": [],
   "source": [
    "Y_raw_train = np.load(\"C:/Users/phvpa/Desktop/Denoising_Experimants/ModifiedCode/DataSets/NumpyFiles/Mal/Split4500and500/Mal_Train_label_5000.npy\")\n",
    "Y_raw_val = np.load(\"C:/Users/phvpa/Desktop/Denoising_Experimants/ModifiedCode/DataSets/NumpyFiles/Mal/Split4500and500/Mal_val_label_500.npy\")"
   ]
  },
  {
   "cell_type": "code",
   "execution_count": 4,
   "id": "a028cdd1",
   "metadata": {
    "ExecuteTime": {
     "end_time": "2021-11-24T18:34:36.218651Z",
     "start_time": "2021-11-24T18:34:35.876651Z"
    }
   },
   "outputs": [
    {
     "data": {
      "text/plain": [
       "((4500,), (500,))"
      ]
     },
     "execution_count": 4,
     "metadata": {},
     "output_type": "execute_result"
    }
   ],
   "source": [
    "from sklearn.preprocessing import LabelEncoder\n",
    "le = LabelEncoder()\n",
    "Y_train = le.fit_transform(Y_raw_train)\n",
    "Y_val = le.fit_transform(Y_raw_val)\n",
    "Y_train.shape, Y_val.shape"
   ]
  },
  {
   "cell_type": "code",
   "execution_count": null,
   "id": "30fc54f4",
   "metadata": {},
   "outputs": [],
   "source": []
  },
  {
   "cell_type": "code",
   "execution_count": 5,
   "id": "1984ca9c",
   "metadata": {
    "ExecuteTime": {
     "end_time": "2021-11-24T18:34:37.387535Z",
     "start_time": "2021-11-24T18:34:37.357488Z"
    }
   },
   "outputs": [],
   "source": [
    "import pywt\n",
    "def WR_Wavelet(signal, sigma):\n",
    "    (cA, cD) = pywt.dwt(signal,'haar')\n",
    "    t=2*sigma  \n",
    "    wt=(np.abs(cD))>t                     #only the coefficient values greater than the threshold values are taken\n",
    "    #print(cA.shape , wt.shape ,'\\n')\n",
    "    p = np.multiply(cD,wt)\n",
    "    rw=pywt.idwt(cA, p,'haar')\n",
    "    return rw"
   ]
  },
  {
   "cell_type": "code",
   "execution_count": 6,
   "id": "b544dacf",
   "metadata": {
    "ExecuteTime": {
     "end_time": "2021-11-24T18:34:38.760546Z",
     "start_time": "2021-11-24T18:34:38.579381Z"
    }
   },
   "outputs": [],
   "source": [
    "sigma = 0.01\n",
    "\n",
    "train_list = []\n",
    "for i in range(len(X_Embed_train)):\n",
    "    temp = WR_Wavelet(X_Embed_train[i], sigma)\n",
    "    train_list.append(temp)\n",
    "    \n",
    "val_list = []\n",
    "for i in range(len(X_Embed_val)):\n",
    "    temp = WR_Wavelet(X_Embed_val[i],sigma)\n",
    "    val_list.append(temp)"
   ]
  },
  {
   "cell_type": "code",
   "execution_count": 7,
   "id": "a60b9ad6",
   "metadata": {
    "ExecuteTime": {
     "end_time": "2021-11-24T18:36:24.395885Z",
     "start_time": "2021-11-24T18:34:39.889721Z"
    }
   },
   "outputs": [
    {
     "name": "stderr",
     "output_type": "stream",
     "text": [
      "C:\\Users\\phvpa\\anaconda3\\envs\\MuRIL\\lib\\site-packages\\sklearn\\svm\\_base.py:284: ConvergenceWarning: Solver terminated early (max_iter=1000).  Consider pre-processing your data with StandardScaler or MinMaxScaler.\n",
      "  warnings.warn(\n"
     ]
    },
    {
     "name": "stdout",
     "output_type": "stream",
     "text": [
      "[2021-11-24 18:35:00.206] Start to fit the model:\n",
      "[2021-11-24 18:35:00.206] Fitting cascade layer = 0 \n",
      "[2021-11-24 18:35:16.179] layer = 0  | Val Acc = 50.778 % | Elapsed = 15.973 s\n",
      "[2021-11-24 18:35:16.198] Fitting cascade layer = 1 \n",
      "[2021-11-24 18:35:29.933] layer = 1  | Val Acc = 52.067 % | Elapsed = 13.735 s\n",
      "[2021-11-24 18:35:29.949] Fitting cascade layer = 2 \n",
      "[2021-11-24 18:35:43.764] layer = 2  | Val Acc = 53.089 % | Elapsed = 13.816 s\n",
      "[2021-11-24 18:35:43.783] Fitting cascade layer = 3 \n",
      "[2021-11-24 18:35:57.626] layer = 3  | Val Acc = 53.667 % | Elapsed = 13.842 s\n",
      "[2021-11-24 18:35:57.640] Fitting cascade layer = 4 \n",
      "[2021-11-24 18:36:10.697] layer = 4  | Val Acc = 52.889 % | Elapsed = 13.056 s\n",
      "[2021-11-24 18:36:10.697] Early stopping counter: 1 out of 2\n",
      "[2021-11-24 18:36:10.711] Fitting cascade layer = 5 \n",
      "[2021-11-24 18:36:24.091] layer = 5  | Val Acc = 51.933 % | Elapsed = 13.380 s\n",
      "[2021-11-24 18:36:24.091] Early stopping counter: 2 out of 2\n",
      "[2021-11-24 18:36:24.091] Handling early stopping\n",
      "[2021-11-24 18:36:24.094] The optimal number of layers: 4\n",
      "[2021-11-24 18:36:24.100] Start to evalute the model:\n",
      "[2021-11-24 18:36:24.131] Evaluating cascade layer = 0 \n",
      "[2021-11-24 18:36:24.197] Evaluating cascade layer = 1 \n",
      "[2021-11-24 18:36:24.258] Evaluating cascade layer = 2 \n",
      "[2021-11-24 18:36:24.309] Evaluating cascade layer = 3 \n"
     ]
    }
   ],
   "source": [
    "X_Wavlet_Denoise_Embed_train = np.asarray(train_list)\n",
    "X_Wavlet_Denoise_Embed_val = np.asarray(val_list)\n",
    "\n",
    "from Models.MLAlgos import SVectorMachine, Dtree, Rforest, NB, KNN, DeepForest\n",
    "SVM_WL_Denoise_Result = SVectorMachine(X_Wavlet_Denoise_Embed_train, Y_train, X_Wavlet_Denoise_Embed_val, Y_val)\n",
    "Dtree_WL_Denoise_Result = Dtree(X_Wavlet_Denoise_Embed_train, Y_train, X_Wavlet_Denoise_Embed_val, Y_val, deepth=7)\n",
    "Rforest_WL_Denoise_Result = Rforest(X_Wavlet_Denoise_Embed_train, Y_train, X_Wavlet_Denoise_Embed_val, Y_val, deepth =19)\n",
    "NB_WL_Denoise_Result = NB(X_Wavlet_Denoise_Embed_train, Y_train, X_Wavlet_Denoise_Embed_val, Y_val)\n",
    "KNN_WL_Denoise_Result = KNN(X_Wavlet_Denoise_Embed_train, Y_train, X_Wavlet_Denoise_Embed_val, Y_val)\n",
    "Deep_WL_Denoise_Result = DeepForest(X_Embed_train, Y_train, X_Embed_val, Y_val)"
   ]
  },
  {
   "cell_type": "code",
   "execution_count": 14,
   "id": "8d199482",
   "metadata": {
    "ExecuteTime": {
     "end_time": "2021-11-24T18:54:54.834034Z",
     "start_time": "2021-11-24T18:54:54.823034Z"
    }
   },
   "outputs": [
    {
     "data": {
      "text/html": [
       "<div>\n",
       "<style scoped>\n",
       "    .dataframe tbody tr th:only-of-type {\n",
       "        vertical-align: middle;\n",
       "    }\n",
       "\n",
       "    .dataframe tbody tr th {\n",
       "        vertical-align: top;\n",
       "    }\n",
       "\n",
       "    .dataframe thead th {\n",
       "        text-align: right;\n",
       "    }\n",
       "</style>\n",
       "<table border=\"1\" class=\"dataframe\">\n",
       "  <thead>\n",
       "    <tr style=\"text-align: right;\">\n",
       "      <th></th>\n",
       "      <th>accuracy</th>\n",
       "      <th>precision</th>\n",
       "      <th>f1</th>\n",
       "      <th>recall</th>\n",
       "    </tr>\n",
       "  </thead>\n",
       "  <tbody>\n",
       "    <tr>\n",
       "      <th>SVM</th>\n",
       "      <td>57.2000%</td>\n",
       "      <td>57.1810%</td>\n",
       "      <td>57.0822%</td>\n",
       "      <td>57.2000%</td>\n",
       "    </tr>\n",
       "    <tr>\n",
       "      <th>DTree</th>\n",
       "      <td>37.6000%</td>\n",
       "      <td>40.0861%</td>\n",
       "      <td>37.7031%</td>\n",
       "      <td>37.6000%</td>\n",
       "    </tr>\n",
       "    <tr>\n",
       "      <th>Rforest</th>\n",
       "      <td>53.8000%</td>\n",
       "      <td>53.3829%</td>\n",
       "      <td>53.3626%</td>\n",
       "      <td>53.8000%</td>\n",
       "    </tr>\n",
       "    <tr>\n",
       "      <th>NB</th>\n",
       "      <td>45.2000%</td>\n",
       "      <td>44.7133%</td>\n",
       "      <td>43.6500%</td>\n",
       "      <td>45.2000%</td>\n",
       "    </tr>\n",
       "    <tr>\n",
       "      <th>KNN</th>\n",
       "      <td>47.0000%</td>\n",
       "      <td>51.1793%</td>\n",
       "      <td>47.2982%</td>\n",
       "      <td>47.0000%</td>\n",
       "    </tr>\n",
       "    <tr>\n",
       "      <th>DeepForest</th>\n",
       "      <td>55.6000%</td>\n",
       "      <td>55.2700%</td>\n",
       "      <td>55.2291%</td>\n",
       "      <td>55.6000%</td>\n",
       "    </tr>\n",
       "  </tbody>\n",
       "</table>\n",
       "</div>"
      ],
      "text/plain": [
       "            accuracy precision        f1    recall\n",
       "SVM         57.2000%  57.1810%  57.0822%  57.2000%\n",
       "DTree       37.6000%  40.0861%  37.7031%  37.6000%\n",
       "Rforest     53.8000%  53.3829%  53.3626%  53.8000%\n",
       "NB          45.2000%  44.7133%  43.6500%  45.2000%\n",
       "KNN         47.0000%  51.1793%  47.2982%  47.0000%\n",
       "DeepForest  55.6000%  55.2700%  55.2291%  55.6000%"
      ]
     },
     "execution_count": 14,
     "metadata": {},
     "output_type": "execute_result"
    }
   ],
   "source": [
    "import pandas as pd\n",
    "WaveFilter_AFTR_Denoising= pd.DataFrame({'SVM' : SVM_WL_Denoise_Result, \n",
    "            'DTree' : Dtree_WL_Denoise_Result,\n",
    "            'Rforest' : Rforest_WL_Denoise_Result,\n",
    "            'NB' : NB_WL_Denoise_Result,\n",
    "            'KNN' : KNN_WL_Denoise_Result,\n",
    "            'DeepForest': Deep_WL_Denoise_Result})\n",
    "WaveFilter_AFTR_Denoising.index = ['accuracy', 'precision', 'f1', 'recall']\n",
    "WaveFilter_AFTR_Denoising = WaveFilter_AFTR_Denoising.transpose()\n",
    "WaveFilter_AFTR_Denoising"
   ]
  },
  {
   "cell_type": "code",
   "execution_count": null,
   "id": "7ac66d77",
   "metadata": {},
   "outputs": [],
   "source": []
  },
  {
   "cell_type": "code",
   "execution_count": 9,
   "id": "c15319ee",
   "metadata": {
    "ExecuteTime": {
     "end_time": "2021-11-24T18:47:15.533290Z",
     "start_time": "2021-11-24T18:39:13.598750Z"
    }
   },
   "outputs": [
    {
     "name": "stderr",
     "output_type": "stream",
     "text": [
      "C:\\Users\\phvpa\\anaconda3\\envs\\MuRIL\\lib\\site-packages\\sklearn\\metrics\\_classification.py:1308: UndefinedMetricWarning: Precision is ill-defined and being set to 0.0 in labels with no predicted samples. Use `zero_division` parameter to control this behavior.\n",
      "  _warn_prf(average, modifier, msg_start, len(result))\n",
      "C:\\Users\\phvpa\\anaconda3\\envs\\MuRIL\\lib\\site-packages\\sklearn\\metrics\\_classification.py:1308: UndefinedMetricWarning: Precision is ill-defined and being set to 0.0 in labels with no predicted samples. Use `zero_division` parameter to control this behavior.\n",
      "  _warn_prf(average, modifier, msg_start, len(result))\n",
      "C:\\Users\\phvpa\\anaconda3\\envs\\MuRIL\\lib\\site-packages\\sklearn\\metrics\\_classification.py:1308: UndefinedMetricWarning: Precision is ill-defined and being set to 0.0 in labels with no predicted samples. Use `zero_division` parameter to control this behavior.\n",
      "  _warn_prf(average, modifier, msg_start, len(result))\n"
     ]
    }
   ],
   "source": [
    "import random \n",
    "random.seed(10)\n",
    "from Models.MLAlgos import Rforest, DeepForest\n",
    "\n",
    "DT_results = []\n",
    "RF_results = []\n",
    "\n",
    "for i in range(50):\n",
    "    \n",
    "    Dtree_WL_Denoise_Result = Dtree(X_Wavlet_Denoise_Embed_train, Y_train, X_Wavlet_Denoise_Embed_val, Y_val, deepth=i+1)\n",
    "    DT_results.append(Dtree_WL_Denoise_Result)\n",
    "    Rforest_WL_Denoise_Result = Rforest(X_Wavlet_Denoise_Embed_train, Y_train, X_Wavlet_Denoise_Embed_val, Y_val, deepth =i+1)\n",
    "    RF_results.append(Rforest_WL_Denoise_Result)"
   ]
  },
  {
   "cell_type": "code",
   "execution_count": 10,
   "id": "7d076c3b",
   "metadata": {
    "ExecuteTime": {
     "end_time": "2021-11-24T18:47:15.548290Z",
     "start_time": "2021-11-24T18:47:15.535294Z"
    },
    "scrolled": true
   },
   "outputs": [
    {
     "data": {
      "text/plain": [
       "[['34.4000%', '32.2390%', '28.1855%', '34.4000%'],\n",
       " ['36.6000%', '34.4230%', '31.3411%', '36.6000%'],\n",
       " ['39.4000%', '38.0107%', '35.2286%', '39.4000%'],\n",
       " ['40.6000%', '39.6445%', '38.0262%', '40.6000%'],\n",
       " ['43.6000%', '43.7424%', '41.6748%', '43.6000%'],\n",
       " ['46.0000%', '45.0450%', '44.4552%', '46.0000%'],\n",
       " ['46.0000%', '44.4727%', '44.5813%', '46.0000%'],\n",
       " ['48.2000%', '47.2343%', '47.1720%', '48.2000%'],\n",
       " ['48.8000%', '48.1336%', '47.9417%', '48.8000%'],\n",
       " ['50.4000%', '49.8012%', '49.8502%', '50.4000%'],\n",
       " ['50.2000%', '49.3937%', '49.5270%', '50.2000%'],\n",
       " ['49.0000%', '48.2601%', '48.2963%', '49.0000%'],\n",
       " ['50.2000%', '49.7186%', '49.8003%', '50.2000%'],\n",
       " ['52.4000%', '51.9364%', '51.8690%', '52.4000%'],\n",
       " ['50.0000%', '49.5580%', '49.3917%', '50.0000%'],\n",
       " ['52.4000%', '52.0812%', '51.9738%', '52.4000%'],\n",
       " ['50.4000%', '49.7354%', '49.8730%', '50.4000%'],\n",
       " ['50.2000%', '49.7827%', '49.7553%', '50.2000%'],\n",
       " ['53.8000%', '53.3829%', '53.3626%', '53.8000%'],\n",
       " ['49.4000%', '48.7090%', '48.7477%', '49.4000%'],\n",
       " ['50.4000%', '49.8767%', '49.8468%', '50.4000%'],\n",
       " ['49.0000%', '48.4744%', '48.3994%', '49.0000%'],\n",
       " ['49.4000%', '48.5219%', '48.7642%', '49.4000%'],\n",
       " ['49.4000%', '48.7747%', '48.7592%', '49.4000%'],\n",
       " ['49.6000%', '48.9135%', '49.0017%', '49.6000%'],\n",
       " ['50.0000%', '49.3680%', '49.4029%', '50.0000%'],\n",
       " ['49.4000%', '48.8936%', '48.8320%', '49.4000%'],\n",
       " ['49.2000%', '48.4309%', '48.5658%', '49.2000%'],\n",
       " ['49.6000%', '48.9967%', '49.0094%', '49.6000%'],\n",
       " ['48.8000%', '48.0692%', '48.1531%', '48.8000%'],\n",
       " ['48.8000%', '48.0459%', '48.1563%', '48.8000%'],\n",
       " ['49.4000%', '48.6297%', '48.7386%', '49.4000%'],\n",
       " ['49.4000%', '48.6297%', '48.7386%', '49.4000%'],\n",
       " ['49.4000%', '48.6297%', '48.7386%', '49.4000%'],\n",
       " ['49.4000%', '48.6297%', '48.7386%', '49.4000%'],\n",
       " ['49.4000%', '48.6297%', '48.7386%', '49.4000%'],\n",
       " ['49.4000%', '48.6297%', '48.7386%', '49.4000%'],\n",
       " ['49.4000%', '48.6297%', '48.7386%', '49.4000%'],\n",
       " ['49.4000%', '48.6297%', '48.7386%', '49.4000%'],\n",
       " ['49.4000%', '48.6297%', '48.7386%', '49.4000%'],\n",
       " ['49.4000%', '48.6297%', '48.7386%', '49.4000%'],\n",
       " ['49.4000%', '48.6297%', '48.7386%', '49.4000%'],\n",
       " ['49.4000%', '48.6297%', '48.7386%', '49.4000%'],\n",
       " ['49.4000%', '48.6297%', '48.7386%', '49.4000%'],\n",
       " ['49.4000%', '48.6297%', '48.7386%', '49.4000%'],\n",
       " ['49.4000%', '48.6297%', '48.7386%', '49.4000%'],\n",
       " ['49.4000%', '48.6297%', '48.7386%', '49.4000%'],\n",
       " ['49.4000%', '48.6297%', '48.7386%', '49.4000%'],\n",
       " ['49.4000%', '48.6297%', '48.7386%', '49.4000%'],\n",
       " ['49.4000%', '48.6297%', '48.7386%', '49.4000%']]"
      ]
     },
     "execution_count": 10,
     "metadata": {},
     "output_type": "execute_result"
    }
   ],
   "source": [
    "RF_results "
   ]
  },
  {
   "cell_type": "code",
   "execution_count": 11,
   "id": "8117c0b4",
   "metadata": {
    "ExecuteTime": {
     "end_time": "2021-11-24T18:47:50.362606Z",
     "start_time": "2021-11-24T18:47:50.345607Z"
    },
    "scrolled": true
   },
   "outputs": [
    {
     "data": {
      "text/plain": [
       "[['27.4000%', '13.4710%', '16.6411%', '27.4000%'],\n",
       " ['29.6000%', '13.1784%', '17.6944%', '29.6000%'],\n",
       " ['32.8000%', '27.3815%', '27.9046%', '32.8000%'],\n",
       " ['33.6000%', '31.9554%', '30.8745%', '33.6000%'],\n",
       " ['35.6000%', '34.7524%', '34.1588%', '35.6000%'],\n",
       " ['35.4000%', '36.4333%', '35.7505%', '35.4000%'],\n",
       " ['37.6000%', '40.0861%', '37.7031%', '37.6000%'],\n",
       " ['37.4000%', '38.4915%', '37.4878%', '37.4000%'],\n",
       " ['35.4000%', '37.0239%', '35.9949%', '35.4000%'],\n",
       " ['36.4000%', '38.3376%', '37.0770%', '36.4000%'],\n",
       " ['34.4000%', '35.3606%', '34.7669%', '34.4000%'],\n",
       " ['36.2000%', '36.7270%', '36.1708%', '36.2000%'],\n",
       " ['35.8000%', '35.9058%', '35.7274%', '35.8000%'],\n",
       " ['35.0000%', '35.2024%', '35.0254%', '35.0000%'],\n",
       " ['35.2000%', '35.4145%', '35.2640%', '35.2000%'],\n",
       " ['37.2000%', '37.6894%', '37.3792%', '37.2000%'],\n",
       " ['36.4000%', '36.6096%', '36.4519%', '36.4000%'],\n",
       " ['35.2000%', '35.3748%', '35.1807%', '35.2000%'],\n",
       " ['37.4000%', '37.3042%', '37.2903%', '37.4000%'],\n",
       " ['36.6000%', '36.5799%', '36.5304%', '36.6000%'],\n",
       " ['36.8000%', '36.9338%', '36.8203%', '36.8000%'],\n",
       " ['36.4000%', '36.8926%', '36.6102%', '36.4000%'],\n",
       " ['36.0000%', '36.1715%', '36.0393%', '36.0000%'],\n",
       " ['36.0000%', '36.1715%', '36.0393%', '36.0000%'],\n",
       " ['36.0000%', '36.1715%', '36.0393%', '36.0000%'],\n",
       " ['36.0000%', '36.1715%', '36.0393%', '36.0000%'],\n",
       " ['36.0000%', '36.1715%', '36.0393%', '36.0000%'],\n",
       " ['36.0000%', '36.1715%', '36.0393%', '36.0000%'],\n",
       " ['36.0000%', '36.1715%', '36.0393%', '36.0000%'],\n",
       " ['36.0000%', '36.1715%', '36.0393%', '36.0000%'],\n",
       " ['36.0000%', '36.1715%', '36.0393%', '36.0000%'],\n",
       " ['36.0000%', '36.1715%', '36.0393%', '36.0000%'],\n",
       " ['36.0000%', '36.1715%', '36.0393%', '36.0000%'],\n",
       " ['36.0000%', '36.1715%', '36.0393%', '36.0000%'],\n",
       " ['36.0000%', '36.1715%', '36.0393%', '36.0000%'],\n",
       " ['36.0000%', '36.1715%', '36.0393%', '36.0000%'],\n",
       " ['36.0000%', '36.1715%', '36.0393%', '36.0000%'],\n",
       " ['36.0000%', '36.1715%', '36.0393%', '36.0000%'],\n",
       " ['36.0000%', '36.1715%', '36.0393%', '36.0000%'],\n",
       " ['36.0000%', '36.1715%', '36.0393%', '36.0000%'],\n",
       " ['36.0000%', '36.1715%', '36.0393%', '36.0000%'],\n",
       " ['36.0000%', '36.1715%', '36.0393%', '36.0000%'],\n",
       " ['36.0000%', '36.1715%', '36.0393%', '36.0000%'],\n",
       " ['36.0000%', '36.1715%', '36.0393%', '36.0000%'],\n",
       " ['36.0000%', '36.1715%', '36.0393%', '36.0000%'],\n",
       " ['36.0000%', '36.1715%', '36.0393%', '36.0000%'],\n",
       " ['36.0000%', '36.1715%', '36.0393%', '36.0000%'],\n",
       " ['36.0000%', '36.1715%', '36.0393%', '36.0000%'],\n",
       " ['36.0000%', '36.1715%', '36.0393%', '36.0000%'],\n",
       " ['36.0000%', '36.1715%', '36.0393%', '36.0000%']]"
      ]
     },
     "execution_count": 11,
     "metadata": {},
     "output_type": "execute_result"
    }
   ],
   "source": [
    "DT_results "
   ]
  },
  {
   "cell_type": "code",
   "execution_count": 12,
   "id": "fdc1f760",
   "metadata": {
    "ExecuteTime": {
     "end_time": "2021-11-24T18:53:48.680789Z",
     "start_time": "2021-11-24T18:53:40.058613Z"
    }
   },
   "outputs": [],
   "source": [
    "Dtree_WL_Denoise_Result = Dtree(X_Wavlet_Denoise_Embed_train, Y_train, X_Wavlet_Denoise_Embed_val, Y_val, deepth=7)\n",
    "Rforest_WL_Denoise_Result = Rforest(X_Wavlet_Denoise_Embed_train, Y_train, X_Wavlet_Denoise_Embed_val, Y_val, deepth =19)"
   ]
  },
  {
   "cell_type": "code",
   "execution_count": 13,
   "id": "224d8224",
   "metadata": {
    "ExecuteTime": {
     "end_time": "2021-11-24T18:54:00.756913Z",
     "start_time": "2021-11-24T18:54:00.738947Z"
    }
   },
   "outputs": [
    {
     "data": {
      "text/plain": [
       "(['37.6000%', '40.0861%', '37.7031%', '37.6000%'],\n",
       " ['53.8000%', '53.3829%', '53.3626%', '53.8000%'])"
      ]
     },
     "execution_count": 13,
     "metadata": {},
     "output_type": "execute_result"
    }
   ],
   "source": [
    "Dtree_WL_Denoise_Result,Rforest_WL_Denoise_Result"
   ]
  },
  {
   "cell_type": "markdown",
   "id": "091afbac",
   "metadata": {
    "heading_collapsed": true
   },
   "source": [
    "# Rough Work"
   ]
  },
  {
   "cell_type": "code",
   "execution_count": 9,
   "id": "db2d0060",
   "metadata": {
    "ExecuteTime": {
     "end_time": "2021-11-24T18:15:26.073854Z",
     "start_time": "2021-11-24T18:07:57.816503Z"
    },
    "hidden": true
   },
   "outputs": [
    {
     "name": "stderr",
     "output_type": "stream",
     "text": [
      "C:\\Users\\phvpa\\anaconda3\\envs\\MuRIL\\lib\\site-packages\\sklearn\\metrics\\_classification.py:1308: UndefinedMetricWarning: Precision is ill-defined and being set to 0.0 in labels with no predicted samples. Use `zero_division` parameter to control this behavior.\n",
      "  _warn_prf(average, modifier, msg_start, len(result))\n",
      "C:\\Users\\phvpa\\anaconda3\\envs\\MuRIL\\lib\\site-packages\\sklearn\\metrics\\_classification.py:1308: UndefinedMetricWarning: Precision is ill-defined and being set to 0.0 in labels with no predicted samples. Use `zero_division` parameter to control this behavior.\n",
      "  _warn_prf(average, modifier, msg_start, len(result))\n",
      "C:\\Users\\phvpa\\anaconda3\\envs\\MuRIL\\lib\\site-packages\\sklearn\\metrics\\_classification.py:1308: UndefinedMetricWarning: Precision is ill-defined and being set to 0.0 in labels with no predicted samples. Use `zero_division` parameter to control this behavior.\n",
      "  _warn_prf(average, modifier, msg_start, len(result))\n"
     ]
    }
   ],
   "source": [
    "import random\n",
    "random.seed(10)\n",
    "\n",
    "from Models.MLAlgos import Dtree, Rforest\n",
    "\n",
    "DT_Results = []\n",
    "RF_Results = []\n",
    "\n",
    "for i in range(50):\n",
    "    Dtree_MuRIL_WL_Denoise_Result = Dtree(X_MuRIL_Wavlet_Denoise_Embed_train, Y_train, X_MuRIL_Wavlet_Denoise_Embed_val, Y_val, deepth=i+1)\n",
    "    DT_Results.append(Dtree_MuRIL_WL_Denoise_Result)\n",
    "    Rforest_MuRIL_WL_Denoise_Result = Rforest(X_MuRIL_Wavlet_Denoise_Embed_train, Y_train, X_MuRIL_Wavlet_Denoise_Embed_val, Y_val, deepth=i+1)\n",
    "    RF_Results.append(Rforest_MuRIL_WL_Denoise_Result)"
   ]
  },
  {
   "cell_type": "code",
   "execution_count": 10,
   "id": "79bf79f8",
   "metadata": {
    "ExecuteTime": {
     "end_time": "2021-11-24T18:15:26.089888Z",
     "start_time": "2021-11-24T18:15:26.074854Z"
    },
    "hidden": true
   },
   "outputs": [
    {
     "data": {
      "text/plain": [
       "[['31.8000%', '13.9674%', '18.9383%', '31.8000%'],\n",
       " ['32.4000%', '19.6857%', '23.0952%', '32.4000%'],\n",
       " ['35.4000%', '30.9388%', '26.7417%', '35.4000%'],\n",
       " ['37.4000%', '36.0342%', '34.7707%', '37.4000%'],\n",
       " ['34.8000%', '35.7545%', '34.2306%', '34.8000%'],\n",
       " ['33.8000%', '33.5469%', '32.9029%', '33.8000%'],\n",
       " ['34.0000%', '37.5902%', '34.6368%', '34.0000%'],\n",
       " ['32.8000%', '34.7466%', '33.2292%', '32.8000%'],\n",
       " ['36.8000%', '37.7867%', '37.1605%', '36.8000%'],\n",
       " ['35.6000%', '36.3158%', '35.7602%', '35.6000%'],\n",
       " ['33.8000%', '34.6525%', '34.0054%', '33.8000%'],\n",
       " ['33.6000%', '33.8872%', '33.6499%', '33.6000%'],\n",
       " ['33.6000%', '34.3251%', '33.7534%', '33.6000%'],\n",
       " ['34.6000%', '34.7104%', '34.5550%', '34.6000%'],\n",
       " ['34.4000%', '34.5759%', '34.4595%', '34.4000%'],\n",
       " ['32.8000%', '32.8596%', '32.8033%', '32.8000%'],\n",
       " ['34.0000%', '34.4985%', '34.1858%', '34.0000%'],\n",
       " ['32.2000%', '32.3071%', '32.2096%', '32.2000%'],\n",
       " ['33.0000%', '33.5627%', '33.2331%', '33.0000%'],\n",
       " ['31.6000%', '32.1457%', '31.8016%', '31.6000%'],\n",
       " ['33.0000%', '32.9581%', '32.8569%', '33.0000%'],\n",
       " ['32.6000%', '32.5639%', '32.5314%', '32.6000%'],\n",
       " ['33.6000%', '33.3827%', '33.4383%', '33.6000%'],\n",
       " ['33.8000%', '33.7233%', '33.7036%', '33.8000%'],\n",
       " ['32.4000%', '32.3918%', '32.3594%', '32.4000%'],\n",
       " ['32.8000%', '32.6614%', '32.6747%', '32.8000%'],\n",
       " ['31.6000%', '31.4890%', '31.4973%', '31.6000%'],\n",
       " ['33.2000%', '33.0979%', '33.1103%', '33.2000%'],\n",
       " ['32.6000%', '32.4849%', '32.4999%', '32.6000%'],\n",
       " ['32.6000%', '32.4849%', '32.4999%', '32.6000%'],\n",
       " ['32.6000%', '32.4849%', '32.4999%', '32.6000%'],\n",
       " ['32.6000%', '32.4849%', '32.4999%', '32.6000%'],\n",
       " ['32.6000%', '32.4849%', '32.4999%', '32.6000%'],\n",
       " ['32.6000%', '32.4849%', '32.4999%', '32.6000%'],\n",
       " ['32.6000%', '32.4849%', '32.4999%', '32.6000%'],\n",
       " ['32.6000%', '32.4849%', '32.4999%', '32.6000%'],\n",
       " ['32.6000%', '32.4849%', '32.4999%', '32.6000%'],\n",
       " ['32.6000%', '32.4849%', '32.4999%', '32.6000%'],\n",
       " ['32.6000%', '32.4849%', '32.4999%', '32.6000%'],\n",
       " ['32.6000%', '32.4849%', '32.4999%', '32.6000%'],\n",
       " ['32.6000%', '32.4849%', '32.4999%', '32.6000%'],\n",
       " ['32.6000%', '32.4849%', '32.4999%', '32.6000%'],\n",
       " ['32.6000%', '32.4849%', '32.4999%', '32.6000%'],\n",
       " ['32.6000%', '32.4849%', '32.4999%', '32.6000%'],\n",
       " ['32.6000%', '32.4849%', '32.4999%', '32.6000%'],\n",
       " ['32.6000%', '32.4849%', '32.4999%', '32.6000%'],\n",
       " ['32.6000%', '32.4849%', '32.4999%', '32.6000%'],\n",
       " ['32.6000%', '32.4849%', '32.4999%', '32.6000%'],\n",
       " ['32.6000%', '32.4849%', '32.4999%', '32.6000%'],\n",
       " ['32.6000%', '32.4849%', '32.4999%', '32.6000%']]"
      ]
     },
     "execution_count": 10,
     "metadata": {},
     "output_type": "execute_result"
    }
   ],
   "source": [
    "DT_Results"
   ]
  },
  {
   "cell_type": "code",
   "execution_count": 11,
   "id": "d60d8ed3",
   "metadata": {
    "ExecuteTime": {
     "end_time": "2021-11-24T18:15:26.105174Z",
     "start_time": "2021-11-24T18:15:26.092230Z"
    },
    "hidden": true
   },
   "outputs": [
    {
     "data": {
      "text/plain": [
       "[['36.8000%', '30.8401%', '28.8544%', '36.8000%'],\n",
       " ['38.6000%', '34.8776%', '31.9249%', '38.6000%'],\n",
       " ['41.4000%', '40.6474%', '36.7837%', '41.4000%'],\n",
       " ['42.0000%', '40.7901%', '39.0335%', '42.0000%'],\n",
       " ['44.0000%', '41.2179%', '41.0346%', '44.0000%'],\n",
       " ['45.0000%', '42.5812%', '43.0802%', '45.0000%'],\n",
       " ['47.4000%', '45.3046%', '45.2885%', '47.4000%'],\n",
       " ['49.0000%', '48.0650%', '47.4266%', '49.0000%'],\n",
       " ['48.6000%', '47.1690%', '47.2431%', '48.6000%'],\n",
       " ['46.8000%', '45.0440%', '45.5459%', '46.8000%'],\n",
       " ['46.6000%', '44.5130%', '45.1482%', '46.6000%'],\n",
       " ['45.2000%', '43.5205%', '44.1146%', '45.2000%'],\n",
       " ['48.2000%', '46.8562%', '46.9857%', '48.2000%'],\n",
       " ['45.4000%', '43.3812%', '44.0522%', '45.4000%'],\n",
       " ['47.6000%', '46.2118%', '46.5490%', '47.6000%'],\n",
       " ['48.6000%', '46.5654%', '47.1710%', '48.6000%'],\n",
       " ['45.8000%', '44.3541%', '44.8308%', '45.8000%'],\n",
       " ['46.0000%', '44.2141%', '44.6897%', '46.0000%'],\n",
       " ['45.4000%', '43.5645%', '44.1245%', '45.4000%'],\n",
       " ['45.4000%', '43.5667%', '44.1292%', '45.4000%'],\n",
       " ['45.0000%', '43.4427%', '44.0293%', '45.0000%'],\n",
       " ['47.0000%', '45.5411%', '45.8248%', '47.0000%'],\n",
       " ['46.4000%', '44.6806%', '45.1556%', '46.4000%'],\n",
       " ['47.6000%', '45.9667%', '46.4625%', '47.6000%'],\n",
       " ['47.6000%', '45.7324%', '46.3246%', '47.6000%'],\n",
       " ['48.2000%', '46.3488%', '46.8542%', '48.2000%'],\n",
       " ['47.6000%', '45.8818%', '46.2546%', '47.6000%'],\n",
       " ['47.6000%', '45.9534%', '46.3241%', '47.6000%'],\n",
       " ['47.6000%', '45.8788%', '46.2395%', '47.6000%'],\n",
       " ['47.6000%', '45.9213%', '46.2660%', '47.6000%'],\n",
       " ['47.8000%', '46.1659%', '46.4833%', '47.8000%'],\n",
       " ['47.6000%', '45.9690%', '46.3272%', '47.6000%'],\n",
       " ['48.0000%', '46.3520%', '46.6594%', '48.0000%'],\n",
       " ['48.4000%', '46.7529%', '47.0752%', '48.4000%'],\n",
       " ['47.8000%', '46.1299%', '46.4354%', '47.8000%'],\n",
       " ['47.6000%', '45.8562%', '46.2029%', '47.6000%'],\n",
       " ['47.8000%', '46.1678%', '46.4934%', '47.8000%'],\n",
       " ['47.4000%', '45.7327%', '46.0459%', '47.4000%'],\n",
       " ['47.4000%', '45.7327%', '46.0459%', '47.4000%'],\n",
       " ['47.4000%', '45.7327%', '46.0459%', '47.4000%'],\n",
       " ['47.4000%', '45.7327%', '46.0459%', '47.4000%'],\n",
       " ['47.4000%', '45.7327%', '46.0459%', '47.4000%'],\n",
       " ['47.4000%', '45.7327%', '46.0459%', '47.4000%'],\n",
       " ['47.4000%', '45.7327%', '46.0459%', '47.4000%'],\n",
       " ['47.4000%', '45.7327%', '46.0459%', '47.4000%'],\n",
       " ['47.4000%', '45.7327%', '46.0459%', '47.4000%'],\n",
       " ['47.4000%', '45.7327%', '46.0459%', '47.4000%'],\n",
       " ['47.4000%', '45.7327%', '46.0459%', '47.4000%'],\n",
       " ['47.4000%', '45.7327%', '46.0459%', '47.4000%'],\n",
       " ['47.4000%', '45.7327%', '46.0459%', '47.4000%']]"
      ]
     },
     "execution_count": 11,
     "metadata": {},
     "output_type": "execute_result"
    }
   ],
   "source": [
    "RF_Results"
   ]
  },
  {
   "cell_type": "code",
   "execution_count": 9,
   "id": "14f0eb0e",
   "metadata": {
    "ExecuteTime": {
     "end_time": "2021-11-24T18:22:56.445661Z",
     "start_time": "2021-11-24T18:22:48.393010Z"
    },
    "hidden": true
   },
   "outputs": [
    {
     "data": {
      "text/plain": [
       "(['36.8000%', '37.7867%', '37.1605%', '36.8000%'],\n",
       " ['49.0000%', '48.0650%', '47.4266%', '49.0000%'])"
      ]
     },
     "execution_count": 9,
     "metadata": {},
     "output_type": "execute_result"
    }
   ],
   "source": [
    "import random\n",
    "random.seed(10)\n",
    "# When sigma= 0.1 then deepth is 9(DT),8(RF)\n",
    "\n",
    "from Models.MLAlgos import Dtree, Rforest\n",
    "\n",
    "Dtree_MuRIL_WL_Denoise_Result = Dtree(X_MuRIL_Wavlet_Denoise_Embed_train, Y_train, X_MuRIL_Wavlet_Denoise_Embed_val, Y_val, deepth=9)\n",
    "Rforest_MuRIL_WL_Denoise_Result = Rforest(X_MuRIL_Wavlet_Denoise_Embed_train, Y_train, X_MuRIL_Wavlet_Denoise_Embed_val, Y_val, deepth=8)\n",
    "\n",
    "Dtree_MuRIL_WL_Denoise_Result,Rforest_MuRIL_WL_Denoise_Result"
   ]
  }
 ],
 "metadata": {
  "kernelspec": {
   "display_name": "Python 3 (ipykernel)",
   "language": "python",
   "name": "python3"
  },
  "language_info": {
   "codemirror_mode": {
    "name": "ipython",
    "version": 3
   },
   "file_extension": ".py",
   "mimetype": "text/x-python",
   "name": "python",
   "nbconvert_exporter": "python",
   "pygments_lexer": "ipython3",
   "version": "3.8.11"
  },
  "latex_envs": {
   "LaTeX_envs_menu_present": true,
   "autoclose": false,
   "autocomplete": true,
   "bibliofile": "biblio.bib",
   "cite_by": "apalike",
   "current_citInitial": 1,
   "eqLabelWithNumbers": true,
   "eqNumInitial": 1,
   "hotkeys": {
    "equation": "Ctrl-E",
    "itemize": "Ctrl-I"
   },
   "labels_anchors": false,
   "latex_user_defs": false,
   "report_style_numbering": false,
   "user_envs_cfg": false
  },
  "toc": {
   "base_numbering": 1,
   "nav_menu": {},
   "number_sections": true,
   "sideBar": true,
   "skip_h1_title": false,
   "title_cell": "Table of Contents",
   "title_sidebar": "Contents",
   "toc_cell": false,
   "toc_position": {},
   "toc_section_display": true,
   "toc_window_display": false
  }
 },
 "nbformat": 4,
 "nbformat_minor": 5
}
