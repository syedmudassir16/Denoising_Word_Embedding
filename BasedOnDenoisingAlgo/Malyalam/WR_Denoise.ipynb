{
 "cells": [
  {
   "cell_type": "markdown",
   "id": "cf41512a",
   "metadata": {},
   "source": [
    "# MuRIL"
   ]
  },
  {
   "cell_type": "code",
   "execution_count": 1,
   "id": "8f8d95c9",
   "metadata": {
    "ExecuteTime": {
     "end_time": "2021-11-24T17:01:58.039262Z",
     "start_time": "2021-11-24T17:01:57.724084Z"
    }
   },
   "outputs": [],
   "source": [
    "import random\n",
    "random.seed(10)\n",
    "import time\n",
    "import cupy as cp"
   ]
  },
  {
   "cell_type": "code",
   "execution_count": 2,
   "id": "395b492b",
   "metadata": {
    "ExecuteTime": {
     "end_time": "2021-11-24T17:01:58.939864Z",
     "start_time": "2021-11-24T17:01:58.058129Z"
    }
   },
   "outputs": [
    {
     "data": {
      "text/plain": [
       "(cupy._core.core.ndarray, cupy._core.core.ndarray)"
      ]
     },
     "execution_count": 2,
     "metadata": {},
     "output_type": "execute_result"
    }
   ],
   "source": [
    "X_train = cp.load('MuRIL_train.npy')\n",
    "X_val = cp.load('MuRIL_val.npy')\n",
    "type(X_train), type(X_val)"
   ]
  },
  {
   "cell_type": "code",
   "execution_count": 3,
   "id": "f9753d79",
   "metadata": {
    "ExecuteTime": {
     "end_time": "2021-11-24T17:01:58.954864Z",
     "start_time": "2021-11-24T17:01:58.941884Z"
    }
   },
   "outputs": [],
   "source": [
    "from Denoising.WR_LS_Denoising import WR_LS_Denoise"
   ]
  },
  {
   "cell_type": "code",
   "execution_count": 4,
   "id": "b6e109f3",
   "metadata": {
    "ExecuteTime": {
     "end_time": "2021-11-24T17:05:54.257209Z",
     "start_time": "2021-11-24T17:01:59.051068Z"
    }
   },
   "outputs": [
    {
     "name": "stdout",
     "output_type": "stream",
     "text": [
      "Wed Nov 24 22:31:59 2021\n",
      "0 Wed Nov 24 22:32:01 2021\n",
      "1000 Wed Nov 24 22:32:52 2021\n",
      "2000 Wed Nov 24 22:33:45 2021\n",
      "3000 Wed Nov 24 22:34:36 2021\n",
      "4000 Wed Nov 24 22:35:27 2021\n"
     ]
    }
   ],
   "source": [
    "start = time.ctime(time.time())\n",
    "print(start)\n",
    "for i in range(len(X_train)):\n",
    "    Denoised =  WR_LS_Denoise(X_train[i],lamda=0.01)\n",
    "    X_train[i] = Denoised\n",
    "    if(i%1000 == 0):\n",
    "        print(i, time.ctime(time.time()))"
   ]
  },
  {
   "cell_type": "code",
   "execution_count": 5,
   "id": "27c6c3c1",
   "metadata": {
    "ExecuteTime": {
     "end_time": "2021-11-24T17:06:20.120231Z",
     "start_time": "2021-11-24T17:05:54.258200Z"
    }
   },
   "outputs": [
    {
     "name": "stdout",
     "output_type": "stream",
     "text": [
      "Wed Nov 24 22:35:54 2021\n",
      "0 Wed Nov 24 22:35:54 2021\n"
     ]
    }
   ],
   "source": [
    "start = time.ctime(time.time())\n",
    "print(start)\n",
    "for i in range(len(X_val)):\n",
    "    Denoised =  WR_LS_Denoise(X_val[i],lamda=0.01)\n",
    "    X_val[i] = Denoised\n",
    "    if(i%1000 == 0):\n",
    "        print(i, time.ctime(time.time()))"
   ]
  },
  {
   "cell_type": "code",
   "execution_count": 6,
   "id": "957c79e1",
   "metadata": {
    "ExecuteTime": {
     "end_time": "2021-11-24T17:06:20.135232Z",
     "start_time": "2021-11-24T17:06:20.122202Z"
    }
   },
   "outputs": [],
   "source": [
    "X_WR_Denoise_Embed_train = cp.ndarray.get(X_train)\n",
    "X_WR_Denoise_Embed_val = cp.ndarray.get(X_val)\n",
    "\n",
    "# np.save('X_WR_Denoise_Embed_train.npy',X_WR_Denoise_Embed_train)\n",
    "# np.save('X_WR_Denoise_Embed_val.npy',X_WR_Denoise_Embed_val)\n",
    "# X_WR_Denoise_Embed_train = np.load('X_WR_Denoise_Embed_train.npy')\n",
    "# X_WR_Denoise_Embed_val = np.load('X_WR_Denoise_Embed_val.npy')"
   ]
  },
  {
   "cell_type": "code",
   "execution_count": 7,
   "id": "7b0511f5",
   "metadata": {
    "ExecuteTime": {
     "end_time": "2021-11-24T17:06:20.151216Z",
     "start_time": "2021-11-24T17:06:20.138203Z"
    }
   },
   "outputs": [],
   "source": [
    "import numpy as np\n",
    "Y_raw_train = np.load(\"C:/Users/phvpa/Desktop/Denoising_Experimants/ModifiedCode/DataSets/NumpyFiles/Mal/Split4500and500/Mal_Train_label_5000.npy\")\n",
    "Y_raw_val = np.load(\"C:/Users/phvpa/Desktop/Denoising_Experimants/ModifiedCode/DataSets/NumpyFiles/Mal/Split4500and500/Mal_val_label_500.npy\")"
   ]
  },
  {
   "cell_type": "code",
   "execution_count": 8,
   "id": "128d5c03",
   "metadata": {
    "ExecuteTime": {
     "end_time": "2021-11-24T17:06:20.436209Z",
     "start_time": "2021-11-24T17:06:20.152201Z"
    }
   },
   "outputs": [
    {
     "data": {
      "text/plain": [
       "((4500,), (500,))"
      ]
     },
     "execution_count": 8,
     "metadata": {},
     "output_type": "execute_result"
    }
   ],
   "source": [
    "from sklearn.preprocessing import LabelEncoder\n",
    "le = LabelEncoder()\n",
    "Y_train = le.fit_transform(Y_raw_train)\n",
    "Y_val = le.fit_transform(Y_raw_val)\n",
    "Y_train.shape, Y_val.shape"
   ]
  },
  {
   "cell_type": "code",
   "execution_count": 9,
   "id": "526ac764",
   "metadata": {
    "ExecuteTime": {
     "end_time": "2021-11-24T17:07:53.503234Z",
     "start_time": "2021-11-24T17:06:20.437199Z"
    }
   },
   "outputs": [
    {
     "name": "stderr",
     "output_type": "stream",
     "text": [
      "C:\\Users\\phvpa\\anaconda3\\envs\\MuRIL\\lib\\site-packages\\sklearn\\metrics\\_classification.py:1308: UndefinedMetricWarning: Precision is ill-defined and being set to 0.0 in labels with no predicted samples. Use `zero_division` parameter to control this behavior.\n",
      "  _warn_prf(average, modifier, msg_start, len(result))\n"
     ]
    },
    {
     "name": "stdout",
     "output_type": "stream",
     "text": [
      "[2021-11-24 17:06:41.092] Start to fit the model:\n",
      "[2021-11-24 17:06:41.092] Fitting cascade layer = 0 \n",
      "[2021-11-24 17:06:53.441] layer = 0  | Val Acc = 49.044 % | Elapsed = 12.349 s\n",
      "[2021-11-24 17:06:53.459] Fitting cascade layer = 1 \n",
      "[2021-11-24 17:07:05.244] layer = 1  | Val Acc = 50.333 % | Elapsed = 11.785 s\n",
      "[2021-11-24 17:07:05.257] Fitting cascade layer = 2 \n",
      "[2021-11-24 17:07:17.179] layer = 2  | Val Acc = 50.444 % | Elapsed = 11.921 s\n",
      "[2021-11-24 17:07:17.194] Fitting cascade layer = 3 \n",
      "[2021-11-24 17:07:29.210] layer = 3  | Val Acc = 51.622 % | Elapsed = 12.016 s\n",
      "[2021-11-24 17:07:29.224] Fitting cascade layer = 4 \n",
      "[2021-11-24 17:07:41.222] layer = 4  | Val Acc = 51.111 % | Elapsed = 11.998 s\n",
      "[2021-11-24 17:07:41.222] Early stopping counter: 1 out of 2\n",
      "[2021-11-24 17:07:41.236] Fitting cascade layer = 5 \n",
      "[2021-11-24 17:07:53.240] layer = 5  | Val Acc = 50.600 % | Elapsed = 12.004 s\n",
      "[2021-11-24 17:07:53.240] Early stopping counter: 2 out of 2\n",
      "[2021-11-24 17:07:53.240] Handling early stopping\n",
      "[2021-11-24 17:07:53.241] The optimal number of layers: 4\n",
      "[2021-11-24 17:07:53.244] Start to evalute the model:\n",
      "[2021-11-24 17:07:53.260] Evaluating cascade layer = 0 \n",
      "[2021-11-24 17:07:53.310] Evaluating cascade layer = 1 \n",
      "[2021-11-24 17:07:53.362] Evaluating cascade layer = 2 \n",
      "[2021-11-24 17:07:53.415] Evaluating cascade layer = 3 \n"
     ]
    }
   ],
   "source": [
    "from Models.MLAlgos import SVectorMachine, Dtree, Rforest, NB, KNN, DeepForest\n",
    "\n",
    "SVM_WRDenoise_Result = SVectorMachine(X_WR_Denoise_Embed_train, Y_train, X_WR_Denoise_Embed_val, Y_val)\n",
    "Dtree_WRDenoise_Result = Dtree(X_WR_Denoise_Embed_train, Y_train, X_WR_Denoise_Embed_val, Y_val, deepth = 10)\n",
    "Rforest_WRDenoise_Result = Rforest(X_WR_Denoise_Embed_train, Y_train, X_WR_Denoise_Embed_val, Y_val, deepth = 10)\n",
    "NB_WRDenoise_Result = NB(X_WR_Denoise_Embed_train, Y_train, X_WR_Denoise_Embed_val, Y_val)\n",
    "KNN_WRDenoise_Result = KNN(X_WR_Denoise_Embed_train, Y_train, X_WR_Denoise_Embed_val, Y_val)\n",
    "Deep_WRDenoise_Result = DeepForest(X_WR_Denoise_Embed_train, Y_train, X_WR_Denoise_Embed_val, Y_val)"
   ]
  },
  {
   "cell_type": "code",
   "execution_count": 10,
   "id": "a6f54192",
   "metadata": {
    "ExecuteTime": {
     "end_time": "2021-11-24T17:07:53.772234Z",
     "start_time": "2021-11-24T17:07:53.504204Z"
    }
   },
   "outputs": [
    {
     "data": {
      "text/html": [
       "<div>\n",
       "<style scoped>\n",
       "    .dataframe tbody tr th:only-of-type {\n",
       "        vertical-align: middle;\n",
       "    }\n",
       "\n",
       "    .dataframe tbody tr th {\n",
       "        vertical-align: top;\n",
       "    }\n",
       "\n",
       "    .dataframe thead th {\n",
       "        text-align: right;\n",
       "    }\n",
       "</style>\n",
       "<table border=\"1\" class=\"dataframe\">\n",
       "  <thead>\n",
       "    <tr style=\"text-align: right;\">\n",
       "      <th></th>\n",
       "      <th>accuracy</th>\n",
       "      <th>precision</th>\n",
       "      <th>f1</th>\n",
       "      <th>recall</th>\n",
       "    </tr>\n",
       "  </thead>\n",
       "  <tbody>\n",
       "    <tr>\n",
       "      <th>SVM</th>\n",
       "      <td>34.0000%</td>\n",
       "      <td>19.5891%</td>\n",
       "      <td>22.0766%</td>\n",
       "      <td>34.0000%</td>\n",
       "    </tr>\n",
       "    <tr>\n",
       "      <th>DTree</th>\n",
       "      <td>42.0000%</td>\n",
       "      <td>42.3317%</td>\n",
       "      <td>41.9639%</td>\n",
       "      <td>42.0000%</td>\n",
       "    </tr>\n",
       "    <tr>\n",
       "      <th>Rforest</th>\n",
       "      <td>48.4000%</td>\n",
       "      <td>46.8978%</td>\n",
       "      <td>46.8775%</td>\n",
       "      <td>48.4000%</td>\n",
       "    </tr>\n",
       "    <tr>\n",
       "      <th>NB</th>\n",
       "      <td>38.8000%</td>\n",
       "      <td>37.4562%</td>\n",
       "      <td>34.9466%</td>\n",
       "      <td>38.8000%</td>\n",
       "    </tr>\n",
       "    <tr>\n",
       "      <th>KNN</th>\n",
       "      <td>47.2000%</td>\n",
       "      <td>47.8130%</td>\n",
       "      <td>46.1362%</td>\n",
       "      <td>47.2000%</td>\n",
       "    </tr>\n",
       "    <tr>\n",
       "      <th>DeepForest</th>\n",
       "      <td>50.0000%</td>\n",
       "      <td>48.8120%</td>\n",
       "      <td>49.1219%</td>\n",
       "      <td>50.0000%</td>\n",
       "    </tr>\n",
       "  </tbody>\n",
       "</table>\n",
       "</div>"
      ],
      "text/plain": [
       "            accuracy precision        f1    recall\n",
       "SVM         34.0000%  19.5891%  22.0766%  34.0000%\n",
       "DTree       42.0000%  42.3317%  41.9639%  42.0000%\n",
       "Rforest     48.4000%  46.8978%  46.8775%  48.4000%\n",
       "NB          38.8000%  37.4562%  34.9466%  38.8000%\n",
       "KNN         47.2000%  47.8130%  46.1362%  47.2000%\n",
       "DeepForest  50.0000%  48.8120%  49.1219%  50.0000%"
      ]
     },
     "execution_count": 10,
     "metadata": {},
     "output_type": "execute_result"
    }
   ],
   "source": [
    "import pandas as pd\n",
    "AFTR_WR_Denoising= pd.DataFrame({'SVM' : SVM_WRDenoise_Result, \n",
    "            'DTree' : Dtree_WRDenoise_Result,\n",
    "            'Rforest' : Rforest_WRDenoise_Result,\n",
    "            'NB' : NB_WRDenoise_Result,\n",
    "            'KNN' : KNN_WRDenoise_Result,\n",
    "            'DeepForest':Deep_WRDenoise_Result})\n",
    "AFTR_WR_Denoising.index = ['accuracy', 'precision', 'f1', 'recall']\n",
    "AFTR_WR_Denoising = AFTR_WR_Denoising.transpose()\n",
    "AFTR_WR_Denoising"
   ]
  },
  {
   "cell_type": "markdown",
   "id": "95736905",
   "metadata": {},
   "source": [
    "<h1><center>If cupy error comes then restart and run only the below part :)</center></h1>"
   ]
  },
  {
   "cell_type": "markdown",
   "id": "a8b8153a",
   "metadata": {},
   "source": [
    "# LABSE"
   ]
  },
  {
   "cell_type": "code",
   "execution_count": 1,
   "id": "7c4b27ec",
   "metadata": {
    "ExecuteTime": {
     "end_time": "2021-11-24T16:26:09.856005Z",
     "start_time": "2021-11-24T16:26:07.397000Z"
    }
   },
   "outputs": [],
   "source": [
    "import random\n",
    "random.seed(10)\n",
    "import cupy as cp\n",
    "import time"
   ]
  },
  {
   "cell_type": "code",
   "execution_count": 2,
   "id": "ff98c6b3",
   "metadata": {
    "ExecuteTime": {
     "end_time": "2021-11-24T16:26:14.355861Z",
     "start_time": "2021-11-24T16:26:13.016860Z"
    }
   },
   "outputs": [
    {
     "data": {
      "text/plain": [
       "(cupy._core.core.ndarray, cupy._core.core.ndarray)"
      ]
     },
     "execution_count": 2,
     "metadata": {},
     "output_type": "execute_result"
    }
   ],
   "source": [
    "X_train = cp.load('LaBSE_train.npy')\n",
    "X_val = cp.load('LaBSE_val.npy')\n",
    "type(X_train), type(X_val)"
   ]
  },
  {
   "cell_type": "code",
   "execution_count": 3,
   "id": "c9b233e5",
   "metadata": {
    "ExecuteTime": {
     "end_time": "2021-11-24T16:31:18.362339Z",
     "start_time": "2021-11-24T16:27:29.654749Z"
    }
   },
   "outputs": [
    {
     "name": "stdout",
     "output_type": "stream",
     "text": [
      "Wed Nov 24 21:57:29 2021\n",
      "0 Wed Nov 24 21:57:31 2021\n",
      "1000 Wed Nov 24 21:58:22 2021\n",
      "2000 Wed Nov 24 21:59:12 2021\n",
      "3000 Wed Nov 24 22:00:02 2021\n",
      "4000 Wed Nov 24 22:00:53 2021\n"
     ]
    }
   ],
   "source": [
    "from Denoising.WR_LS_Denoising import WR_LS_Denoise\n",
    "start = time.ctime(time.time())\n",
    "print(start)\n",
    "for i in range(len(X_train)):\n",
    "    Denoised =  WR_LS_Denoise(X_train[i],lamda=0.01)\n",
    "    X_train[i] = Denoised\n",
    "    if(i%1000 == 0):\n",
    "        print(i, time.ctime(time.time()))"
   ]
  },
  {
   "cell_type": "code",
   "execution_count": 4,
   "id": "5b5efd62",
   "metadata": {
    "ExecuteTime": {
     "end_time": "2021-11-24T16:31:44.046847Z",
     "start_time": "2021-11-24T16:31:18.364328Z"
    }
   },
   "outputs": [
    {
     "name": "stdout",
     "output_type": "stream",
     "text": [
      "Wed Nov 24 22:01:18 2021\n",
      "0 Wed Nov 24 22:01:18 2021\n"
     ]
    }
   ],
   "source": [
    "start = time.ctime(time.time())\n",
    "print(start)\n",
    "for i in range(len(X_val)):\n",
    "    Denoised =  WR_LS_Denoise(X_val[i],lamda=0.01)\n",
    "    X_val[i] = Denoised\n",
    "    if(i%1000 == 0):\n",
    "        print(i, time.ctime(time.time()))"
   ]
  },
  {
   "cell_type": "code",
   "execution_count": 5,
   "id": "db010f4b",
   "metadata": {
    "ExecuteTime": {
     "end_time": "2021-11-24T16:31:44.062846Z",
     "start_time": "2021-11-24T16:31:44.047840Z"
    }
   },
   "outputs": [],
   "source": [
    "X_LABSE_WR_Denoise_Embed_train = cp.ndarray.get(X_train)\n",
    "X_LABSE_WR_Denoise_Embed_val = cp.ndarray.get(X_val)"
   ]
  },
  {
   "cell_type": "code",
   "execution_count": 7,
   "id": "80126283",
   "metadata": {
    "ExecuteTime": {
     "end_time": "2021-11-24T16:34:33.923838Z",
     "start_time": "2021-11-24T16:34:33.916839Z"
    }
   },
   "outputs": [],
   "source": [
    "import numpy as np\n",
    "Y_raw_train = np.load(\"C:/Users/phvpa/Desktop/Denoising_Experimants/ModifiedCode/DataSets/NumpyFiles/Mal/Split4500and500/Mal_Train_label_5000.npy\")\n",
    "Y_raw_val = np.load(\"C:/Users/phvpa/Desktop/Denoising_Experimants/ModifiedCode/DataSets/NumpyFiles/Mal/Split4500and500/Mal_val_label_500.npy\")"
   ]
  },
  {
   "cell_type": "code",
   "execution_count": 8,
   "id": "f20e3a68",
   "metadata": {
    "ExecuteTime": {
     "end_time": "2021-11-24T16:34:45.468668Z",
     "start_time": "2021-11-24T16:34:45.450668Z"
    }
   },
   "outputs": [
    {
     "data": {
      "text/plain": [
       "((4500,), (500,))"
      ]
     },
     "execution_count": 8,
     "metadata": {},
     "output_type": "execute_result"
    }
   ],
   "source": [
    "from sklearn.preprocessing import LabelEncoder\n",
    "le = LabelEncoder()\n",
    "Y_train = le.fit_transform(Y_raw_train)\n",
    "Y_val = le.fit_transform(Y_raw_val)\n",
    "Y_train.shape, Y_val.shape"
   ]
  },
  {
   "cell_type": "code",
   "execution_count": 9,
   "id": "167c66ea",
   "metadata": {
    "ExecuteTime": {
     "end_time": "2021-11-24T16:36:04.923854Z",
     "start_time": "2021-11-24T16:34:46.573562Z"
    }
   },
   "outputs": [
    {
     "name": "stderr",
     "output_type": "stream",
     "text": [
      "C:\\Users\\phvpa\\anaconda3\\envs\\MuRIL\\lib\\site-packages\\sklearn\\svm\\_base.py:284: ConvergenceWarning: Solver terminated early (max_iter=1000).  Consider pre-processing your data with StandardScaler or MinMaxScaler.\n",
      "  warnings.warn(\n"
     ]
    },
    {
     "name": "stdout",
     "output_type": "stream",
     "text": [
      "[2021-11-24 16:35:06.110] Start to fit the model:\n",
      "[2021-11-24 16:35:06.110] Fitting cascade layer = 0 \n",
      "[2021-11-24 16:35:18.289] layer = 0  | Val Acc = 51.356 % | Elapsed = 12.179 s\n",
      "[2021-11-24 16:35:18.313] Fitting cascade layer = 1 \n",
      "[2021-11-24 16:35:29.943] layer = 1  | Val Acc = 52.378 % | Elapsed = 11.630 s\n",
      "[2021-11-24 16:35:29.956] Fitting cascade layer = 2 \n",
      "[2021-11-24 16:35:41.619] layer = 2  | Val Acc = 53.511 % | Elapsed = 11.662 s\n",
      "[2021-11-24 16:35:41.632] Fitting cascade layer = 3 \n",
      "[2021-11-24 16:35:52.878] layer = 3  | Val Acc = 52.800 % | Elapsed = 11.245 s\n",
      "[2021-11-24 16:35:52.878] Early stopping counter: 1 out of 2\n",
      "[2021-11-24 16:35:52.892] Fitting cascade layer = 4 \n",
      "[2021-11-24 16:36:04.725] layer = 4  | Val Acc = 53.178 % | Elapsed = 11.833 s\n",
      "[2021-11-24 16:36:04.725] Early stopping counter: 2 out of 2\n",
      "[2021-11-24 16:36:04.725] Handling early stopping\n",
      "[2021-11-24 16:36:04.726] The optimal number of layers: 3\n",
      "[2021-11-24 16:36:04.729] Start to evalute the model:\n",
      "[2021-11-24 16:36:04.745] Evaluating cascade layer = 0 \n",
      "[2021-11-24 16:36:04.796] Evaluating cascade layer = 1 \n",
      "[2021-11-24 16:36:04.847] Evaluating cascade layer = 2 \n"
     ]
    }
   ],
   "source": [
    "from Models.MLAlgos import SVectorMachine, Dtree, Rforest, NB, KNN, DeepForest\n",
    "\n",
    "SVM_WRDenoise_Result = SVectorMachine(X_LABSE_WR_Denoise_Embed_train, Y_train, X_LABSE_WR_Denoise_Embed_val, Y_val)\n",
    "Dtree_WRDenoise_Result = Dtree(X_LABSE_WR_Denoise_Embed_train, Y_train, X_LABSE_WR_Denoise_Embed_val, Y_val, deepth = 14)\n",
    "Rforest_WRDenoise_Result = Rforest(X_LABSE_WR_Denoise_Embed_train, Y_train, X_LABSE_WR_Denoise_Embed_val, Y_val, deepth = 13)\n",
    "NB_WRDenoise_Result = NB(X_LABSE_WR_Denoise_Embed_train, Y_train, X_LABSE_WR_Denoise_Embed_val, Y_val)\n",
    "KNN_WRDenoise_Result = KNN(X_LABSE_WR_Denoise_Embed_train, Y_train, X_LABSE_WR_Denoise_Embed_val, Y_val)\n",
    "Deep_WRDenoise_Result = DeepForest(X_LABSE_WR_Denoise_Embed_train, Y_train, X_LABSE_WR_Denoise_Embed_val, Y_val)"
   ]
  },
  {
   "cell_type": "code",
   "execution_count": 15,
   "id": "5f4912a3",
   "metadata": {
    "ExecuteTime": {
     "end_time": "2021-11-24T16:59:15.324007Z",
     "start_time": "2021-11-24T16:59:15.311008Z"
    }
   },
   "outputs": [
    {
     "data": {
      "text/html": [
       "<div>\n",
       "<style scoped>\n",
       "    .dataframe tbody tr th:only-of-type {\n",
       "        vertical-align: middle;\n",
       "    }\n",
       "\n",
       "    .dataframe tbody tr th {\n",
       "        vertical-align: top;\n",
       "    }\n",
       "\n",
       "    .dataframe thead th {\n",
       "        text-align: right;\n",
       "    }\n",
       "</style>\n",
       "<table border=\"1\" class=\"dataframe\">\n",
       "  <thead>\n",
       "    <tr style=\"text-align: right;\">\n",
       "      <th></th>\n",
       "      <th>accuracy</th>\n",
       "      <th>precision</th>\n",
       "      <th>f1</th>\n",
       "      <th>recall</th>\n",
       "    </tr>\n",
       "  </thead>\n",
       "  <tbody>\n",
       "    <tr>\n",
       "      <th>SVM</th>\n",
       "      <td>57.6000%</td>\n",
       "      <td>57.5195%</td>\n",
       "      <td>57.4571%</td>\n",
       "      <td>57.6000%</td>\n",
       "    </tr>\n",
       "    <tr>\n",
       "      <th>DTree</th>\n",
       "      <td>37.8000%</td>\n",
       "      <td>37.6343%</td>\n",
       "      <td>37.6015%</td>\n",
       "      <td>37.8000%</td>\n",
       "    </tr>\n",
       "    <tr>\n",
       "      <th>Rforest</th>\n",
       "      <td>53.0000%</td>\n",
       "      <td>52.2098%</td>\n",
       "      <td>52.2166%</td>\n",
       "      <td>53.0000%</td>\n",
       "    </tr>\n",
       "    <tr>\n",
       "      <th>NB</th>\n",
       "      <td>45.0000%</td>\n",
       "      <td>44.4460%</td>\n",
       "      <td>43.4131%</td>\n",
       "      <td>45.0000%</td>\n",
       "    </tr>\n",
       "    <tr>\n",
       "      <th>KNN</th>\n",
       "      <td>47.4000%</td>\n",
       "      <td>51.4822%</td>\n",
       "      <td>47.7777%</td>\n",
       "      <td>47.4000%</td>\n",
       "    </tr>\n",
       "    <tr>\n",
       "      <th>DeepForest</th>\n",
       "      <td>53.8000%</td>\n",
       "      <td>53.4783%</td>\n",
       "      <td>53.5710%</td>\n",
       "      <td>53.8000%</td>\n",
       "    </tr>\n",
       "  </tbody>\n",
       "</table>\n",
       "</div>"
      ],
      "text/plain": [
       "            accuracy precision        f1    recall\n",
       "SVM         57.6000%  57.5195%  57.4571%  57.6000%\n",
       "DTree       37.8000%  37.6343%  37.6015%  37.8000%\n",
       "Rforest     53.0000%  52.2098%  52.2166%  53.0000%\n",
       "NB          45.0000%  44.4460%  43.4131%  45.0000%\n",
       "KNN         47.4000%  51.4822%  47.7777%  47.4000%\n",
       "DeepForest  53.8000%  53.4783%  53.5710%  53.8000%"
      ]
     },
     "execution_count": 15,
     "metadata": {},
     "output_type": "execute_result"
    }
   ],
   "source": [
    "import pandas as pd\n",
    "AFTR_LABS_Denoising= pd.DataFrame({'SVM' : SVM_WRDenoise_Result, \n",
    "            'DTree' : Dtree_WRDenoise_Result,\n",
    "            'Rforest' : Rforest_WRDenoise_Result,\n",
    "            'NB' : NB_WRDenoise_Result,\n",
    "            'KNN' : KNN_WRDenoise_Result,\n",
    "            'DeepForest':Deep_WRDenoise_Result})\n",
    "AFTR_LABS_Denoising.index = ['accuracy', 'precision', 'f1', 'recall']\n",
    "AFTR_LABS_Denoising = AFTR_LABS_Denoising.transpose()\n",
    "AFTR_LABS_Denoising"
   ]
  },
  {
   "cell_type": "code",
   "execution_count": null,
   "id": "c177e9c1",
   "metadata": {},
   "outputs": [],
   "source": []
  },
  {
   "cell_type": "markdown",
   "id": "1bd48eb5",
   "metadata": {
    "heading_collapsed": true
   },
   "source": [
    "# Rough Work"
   ]
  },
  {
   "cell_type": "code",
   "execution_count": 11,
   "id": "077cd558",
   "metadata": {
    "ExecuteTime": {
     "end_time": "2021-11-24T16:48:02.914385Z",
     "start_time": "2021-11-24T16:40:26.887196Z"
    },
    "hidden": true
   },
   "outputs": [
    {
     "name": "stderr",
     "output_type": "stream",
     "text": [
      "C:\\Users\\phvpa\\anaconda3\\envs\\MuRIL\\lib\\site-packages\\sklearn\\metrics\\_classification.py:1308: UndefinedMetricWarning: Precision is ill-defined and being set to 0.0 in labels with no predicted samples. Use `zero_division` parameter to control this behavior.\n",
      "  _warn_prf(average, modifier, msg_start, len(result))\n",
      "C:\\Users\\phvpa\\anaconda3\\envs\\MuRIL\\lib\\site-packages\\sklearn\\metrics\\_classification.py:1308: UndefinedMetricWarning: Precision is ill-defined and being set to 0.0 in labels with no predicted samples. Use `zero_division` parameter to control this behavior.\n",
      "  _warn_prf(average, modifier, msg_start, len(result))\n",
      "C:\\Users\\phvpa\\anaconda3\\envs\\MuRIL\\lib\\site-packages\\sklearn\\metrics\\_classification.py:1308: UndefinedMetricWarning: Precision is ill-defined and being set to 0.0 in labels with no predicted samples. Use `zero_division` parameter to control this behavior.\n",
      "  _warn_prf(average, modifier, msg_start, len(result))\n"
     ]
    }
   ],
   "source": [
    "from Models.MLAlgos import SVectorMachine, Dtree, Rforest, NB, KNN, DeepForest\n",
    "DTResults = []\n",
    "RFResults = []\n",
    "for i in range(50):\n",
    "    Dtree_WRDenoise_Result = Dtree(X_LABSE_WR_Denoise_Embed_train, Y_train, X_LABSE_WR_Denoise_Embed_val, Y_val, deepth=i+1)\n",
    "    DTResults.append(Dtree_WRDenoise_Result)\n",
    "    Rforest_WRDenoise_Result = Rforest(X_LABSE_WR_Denoise_Embed_train, Y_train, X_LABSE_WR_Denoise_Embed_val, Y_val, deepth=i+1)\n",
    "    RFResults.append(Rforest_WRDenoise_Result)"
   ]
  },
  {
   "cell_type": "code",
   "execution_count": 12,
   "id": "6387fa6d",
   "metadata": {
    "ExecuteTime": {
     "end_time": "2021-11-24T16:48:02.929640Z",
     "start_time": "2021-11-24T16:48:02.916217Z"
    },
    "hidden": true,
    "scrolled": true
   },
   "outputs": [
    {
     "data": {
      "text/plain": [
       "[['27.0000%', '12.8051%', '16.2185%', '27.0000%'],\n",
       " ['28.8000%', '12.7862%', '17.1410%', '28.8000%'],\n",
       " ['30.6000%', '26.0475%', '26.3755%', '30.6000%'],\n",
       " ['32.8000%', '32.2565%', '29.2490%', '32.8000%'],\n",
       " ['33.4000%', '33.0175%', '32.2075%', '33.4000%'],\n",
       " ['32.0000%', '33.1766%', '32.1655%', '32.0000%'],\n",
       " ['33.4000%', '34.7668%', '33.3240%', '33.4000%'],\n",
       " ['34.8000%', '35.6254%', '34.7072%', '34.8000%'],\n",
       " ['34.2000%', '34.8123%', '34.2192%', '34.2000%'],\n",
       " ['34.8000%', '35.2937%', '34.8658%', '34.8000%'],\n",
       " ['36.4000%', '36.5819%', '36.1910%', '36.4000%'],\n",
       " ['35.4000%', '35.0795%', '34.9419%', '35.4000%'],\n",
       " ['36.0000%', '35.9972%', '35.9200%', '36.0000%'],\n",
       " ['37.8000%', '37.6343%', '37.6015%', '37.8000%'],\n",
       " ['36.8000%', '37.1126%', '36.8583%', '36.8000%'],\n",
       " ['35.2000%', '35.6890%', '35.3075%', '35.2000%'],\n",
       " ['36.0000%', '36.2374%', '35.9940%', '36.0000%'],\n",
       " ['36.8000%', '36.8851%', '36.7634%', '36.8000%'],\n",
       " ['35.6000%', '35.6621%', '35.5438%', '35.6000%'],\n",
       " ['35.4000%', '35.5959%', '35.4150%', '35.4000%'],\n",
       " ['36.8000%', '36.9596%', '36.8205%', '36.8000%'],\n",
       " ['36.4000%', '36.5922%', '36.4244%', '36.4000%'],\n",
       " ['36.8000%', '37.0174%', '36.7888%', '36.8000%'],\n",
       " ['36.8000%', '37.0174%', '36.7888%', '36.8000%'],\n",
       " ['36.8000%', '37.0174%', '36.7888%', '36.8000%'],\n",
       " ['36.8000%', '37.0174%', '36.7888%', '36.8000%'],\n",
       " ['36.8000%', '37.0174%', '36.7888%', '36.8000%'],\n",
       " ['36.8000%', '37.0174%', '36.7888%', '36.8000%'],\n",
       " ['36.8000%', '37.0174%', '36.7888%', '36.8000%'],\n",
       " ['36.8000%', '37.0174%', '36.7888%', '36.8000%'],\n",
       " ['36.8000%', '37.0174%', '36.7888%', '36.8000%'],\n",
       " ['36.8000%', '37.0174%', '36.7888%', '36.8000%'],\n",
       " ['36.8000%', '37.0174%', '36.7888%', '36.8000%'],\n",
       " ['36.8000%', '37.0174%', '36.7888%', '36.8000%'],\n",
       " ['36.8000%', '37.0174%', '36.7888%', '36.8000%'],\n",
       " ['36.8000%', '37.0174%', '36.7888%', '36.8000%'],\n",
       " ['36.8000%', '37.0174%', '36.7888%', '36.8000%'],\n",
       " ['36.8000%', '37.0174%', '36.7888%', '36.8000%'],\n",
       " ['36.8000%', '37.0174%', '36.7888%', '36.8000%'],\n",
       " ['36.8000%', '37.0174%', '36.7888%', '36.8000%'],\n",
       " ['36.8000%', '37.0174%', '36.7888%', '36.8000%'],\n",
       " ['36.8000%', '37.0174%', '36.7888%', '36.8000%'],\n",
       " ['36.8000%', '37.0174%', '36.7888%', '36.8000%'],\n",
       " ['36.8000%', '37.0174%', '36.7888%', '36.8000%'],\n",
       " ['36.8000%', '37.0174%', '36.7888%', '36.8000%'],\n",
       " ['36.8000%', '37.0174%', '36.7888%', '36.8000%'],\n",
       " ['36.8000%', '37.0174%', '36.7888%', '36.8000%'],\n",
       " ['36.8000%', '37.0174%', '36.7888%', '36.8000%'],\n",
       " ['36.8000%', '37.0174%', '36.7888%', '36.8000%'],\n",
       " ['36.8000%', '37.0174%', '36.7888%', '36.8000%']]"
      ]
     },
     "execution_count": 12,
     "metadata": {},
     "output_type": "execute_result"
    }
   ],
   "source": [
    "DTResults"
   ]
  },
  {
   "cell_type": "code",
   "execution_count": 13,
   "id": "42035244",
   "metadata": {
    "ExecuteTime": {
     "end_time": "2021-11-24T16:48:02.944965Z",
     "start_time": "2021-11-24T16:48:02.930642Z"
    },
    "hidden": true,
    "scrolled": true
   },
   "outputs": [
    {
     "data": {
      "text/plain": [
       "[['32.4000%', '29.3597%', '25.4580%', '32.4000%'],\n",
       " ['35.2000%', '33.0304%', '30.1991%', '35.2000%'],\n",
       " ['38.6000%', '38.4323%', '34.8623%', '38.6000%'],\n",
       " ['41.2000%', '40.5926%', '38.5061%', '41.2000%'],\n",
       " ['42.8000%', '41.7777%', '40.6058%', '42.8000%'],\n",
       " ['47.8000%', '47.5952%', '46.6264%', '47.8000%'],\n",
       " ['49.0000%', '48.8748%', '47.8394%', '49.0000%'],\n",
       " ['48.8000%', '48.1854%', '48.1357%', '48.8000%'],\n",
       " ['49.6000%', '48.8893%', '48.5849%', '49.6000%'],\n",
       " ['51.0000%', '50.1797%', '50.0995%', '51.0000%'],\n",
       " ['48.2000%', '47.4211%', '47.6215%', '48.2000%'],\n",
       " ['52.8000%', '52.1683%', '52.0410%', '52.8000%'],\n",
       " ['53.0000%', '52.2098%', '52.2166%', '53.0000%'],\n",
       " ['51.4000%', '50.9057%', '50.6592%', '51.4000%'],\n",
       " ['49.2000%', '48.6650%', '48.6974%', '49.2000%'],\n",
       " ['51.0000%', '50.3831%', '50.4255%', '51.0000%'],\n",
       " ['48.0000%', '47.3179%', '47.1614%', '48.0000%'],\n",
       " ['47.2000%', '46.5102%', '46.3968%', '47.2000%'],\n",
       " ['51.4000%', '50.8503%', '50.9640%', '51.4000%'],\n",
       " ['49.8000%', '48.9863%', '49.2153%', '49.8000%'],\n",
       " ['49.6000%', '48.8686%', '48.8527%', '49.6000%'],\n",
       " ['50.6000%', '49.8668%', '49.8675%', '50.6000%'],\n",
       " ['47.8000%', '47.3156%', '47.1733%', '47.8000%'],\n",
       " ['49.8000%', '49.1162%', '49.2774%', '49.8000%'],\n",
       " ['50.2000%', '49.5528%', '49.6749%', '50.2000%'],\n",
       " ['49.4000%', '48.7708%', '48.8233%', '49.4000%'],\n",
       " ['48.8000%', '47.9858%', '48.1164%', '48.8000%'],\n",
       " ['48.6000%', '47.7590%', '47.8372%', '48.6000%'],\n",
       " ['49.4000%', '48.6791%', '48.7276%', '49.4000%'],\n",
       " ['50.0000%', '49.5602%', '49.5169%', '50.0000%'],\n",
       " ['49.8000%', '49.2609%', '49.2501%', '49.8000%'],\n",
       " ['49.2000%', '48.6191%', '48.5531%', '49.2000%'],\n",
       " ['49.8000%', '49.2530%', '49.2074%', '49.8000%'],\n",
       " ['49.8000%', '49.2530%', '49.2074%', '49.8000%'],\n",
       " ['49.8000%', '49.2530%', '49.2074%', '49.8000%'],\n",
       " ['49.8000%', '49.2530%', '49.2074%', '49.8000%'],\n",
       " ['49.8000%', '49.2530%', '49.2074%', '49.8000%'],\n",
       " ['49.8000%', '49.2530%', '49.2074%', '49.8000%'],\n",
       " ['49.8000%', '49.2530%', '49.2074%', '49.8000%'],\n",
       " ['49.8000%', '49.2530%', '49.2074%', '49.8000%'],\n",
       " ['49.8000%', '49.2530%', '49.2074%', '49.8000%'],\n",
       " ['49.8000%', '49.2530%', '49.2074%', '49.8000%'],\n",
       " ['49.8000%', '49.2530%', '49.2074%', '49.8000%'],\n",
       " ['49.8000%', '49.2530%', '49.2074%', '49.8000%'],\n",
       " ['49.8000%', '49.2530%', '49.2074%', '49.8000%'],\n",
       " ['49.8000%', '49.2530%', '49.2074%', '49.8000%'],\n",
       " ['49.8000%', '49.2530%', '49.2074%', '49.8000%'],\n",
       " ['49.8000%', '49.2530%', '49.2074%', '49.8000%'],\n",
       " ['49.8000%', '49.2530%', '49.2074%', '49.8000%'],\n",
       " ['49.8000%', '49.2530%', '49.2074%', '49.8000%']]"
      ]
     },
     "execution_count": 13,
     "metadata": {},
     "output_type": "execute_result"
    }
   ],
   "source": [
    "RFResults"
   ]
  },
  {
   "cell_type": "code",
   "execution_count": 14,
   "id": "ce9a3658",
   "metadata": {
    "ExecuteTime": {
     "end_time": "2021-11-24T16:58:26.478775Z",
     "start_time": "2021-11-24T16:58:17.525735Z"
    },
    "hidden": true
   },
   "outputs": [
    {
     "data": {
      "text/plain": [
       "(['37.8000%', '37.6343%', '37.6015%', '37.8000%'],\n",
       " ['53.0000%', '52.2098%', '52.2166%', '53.0000%'])"
      ]
     },
     "execution_count": 14,
     "metadata": {},
     "output_type": "execute_result"
    }
   ],
   "source": [
    "Dtree_WRDenoise_Result = Dtree(X_LABSE_WR_Denoise_Embed_train, Y_train, X_LABSE_WR_Denoise_Embed_val, Y_val, deepth=14)\n",
    "Rforest_WRDenoise_Result = Rforest(X_LABSE_WR_Denoise_Embed_train, Y_train, X_LABSE_WR_Denoise_Embed_val, Y_val, deepth=13)\n",
    "Dtree_WRDenoise_Result,Rforest_WRDenoise_Result"
   ]
  },
  {
   "cell_type": "code",
   "execution_count": 9,
   "id": "4fcb6893",
   "metadata": {
    "ExecuteTime": {
     "end_time": "2021-11-24T15:47:31.538571Z",
     "start_time": "2021-11-24T15:47:31.444601Z"
    },
    "hidden": true
   },
   "outputs": [],
   "source": [
    "from Models.MLAlgos import Rforest"
   ]
  },
  {
   "cell_type": "code",
   "execution_count": 11,
   "id": "1893a363",
   "metadata": {
    "ExecuteTime": {
     "end_time": "2021-11-24T16:03:45.150062Z",
     "start_time": "2021-11-24T15:58:42.115806Z"
    },
    "hidden": true
   },
   "outputs": [],
   "source": [
    "RFresults = []\n",
    "\n",
    "for i in range(50):\n",
    "    Rforest_WRDenoise_Result = Rforest(X_WR_Denoise_Embed_train, Y_train, X_WR_Denoise_Embed_val, Y_val, deepth=i+1)\n",
    "    RFresults.append(Rforest_WRDenoise_Result)"
   ]
  },
  {
   "cell_type": "code",
   "execution_count": 12,
   "id": "7b0ee181",
   "metadata": {
    "ExecuteTime": {
     "end_time": "2021-11-24T16:03:45.165885Z",
     "start_time": "2021-11-24T16:03:45.151883Z"
    },
    "hidden": true,
    "scrolled": true
   },
   "outputs": [
    {
     "data": {
      "text/plain": [
       "[['39.4000%', '37.9416%', '30.5216%', '39.4000%'],\n",
       " ['39.0000%', '36.2943%', '32.7275%', '39.0000%'],\n",
       " ['45.0000%', '42.2065%', '40.4396%', '45.0000%'],\n",
       " ['44.4000%', '41.2447%', '40.4123%', '44.4000%'],\n",
       " ['46.2000%', '43.3343%', '42.8424%', '46.2000%'],\n",
       " ['48.0000%', '46.1180%', '45.8195%', '48.0000%'],\n",
       " ['47.4000%', '45.0603%', '45.2334%', '47.4000%'],\n",
       " ['47.8000%', '46.1761%', '46.4582%', '47.8000%'],\n",
       " ['47.0000%', '45.4214%', '45.5834%', '47.0000%'],\n",
       " ['48.4000%', '46.8978%', '46.8775%', '48.4000%'],\n",
       " ['48.0000%', '46.2943%', '46.6331%', '48.0000%'],\n",
       " ['47.4000%', '45.8333%', '46.2294%', '47.4000%'],\n",
       " ['46.2000%', '44.9440%', '45.0978%', '46.2000%'],\n",
       " ['47.6000%', '46.4479%', '46.9015%', '47.6000%'],\n",
       " ['48.2000%', '46.5269%', '47.0061%', '48.2000%'],\n",
       " ['45.0000%', '42.9699%', '43.3254%', '45.0000%'],\n",
       " ['47.6000%', '45.8941%', '46.3283%', '47.6000%'],\n",
       " ['46.4000%', '44.4068%', '45.0134%', '46.4000%'],\n",
       " ['46.6000%', '44.9496%', '45.3875%', '46.6000%'],\n",
       " ['46.4000%', '44.7235%', '45.3276%', '46.4000%'],\n",
       " ['45.2000%', '43.7177%', '44.1712%', '45.2000%'],\n",
       " ['44.4000%', '43.0422%', '43.3977%', '44.4000%'],\n",
       " ['45.0000%', '43.8361%', '43.9768%', '45.0000%'],\n",
       " ['44.8000%', '43.6422%', '43.9477%', '44.8000%'],\n",
       " ['46.2000%', '45.1176%', '45.2611%', '46.2000%'],\n",
       " ['45.6000%', '44.7175%', '44.8633%', '45.6000%'],\n",
       " ['45.8000%', '44.6675%', '44.9493%', '45.8000%'],\n",
       " ['46.2000%', '45.0321%', '45.3199%', '46.2000%'],\n",
       " ['46.2000%', '45.1873%', '45.4125%', '46.2000%'],\n",
       " ['46.0000%', '44.9996%', '45.2435%', '46.0000%'],\n",
       " ['45.4000%', '44.3718%', '44.6514%', '45.4000%'],\n",
       " ['45.2000%', '44.1676%', '44.4591%', '45.2000%'],\n",
       " ['45.2000%', '44.1676%', '44.4591%', '45.2000%'],\n",
       " ['45.2000%', '44.1676%', '44.4591%', '45.2000%'],\n",
       " ['45.2000%', '44.1676%', '44.4591%', '45.2000%'],\n",
       " ['45.2000%', '44.1676%', '44.4591%', '45.2000%'],\n",
       " ['45.2000%', '44.1676%', '44.4591%', '45.2000%'],\n",
       " ['45.2000%', '44.1676%', '44.4591%', '45.2000%'],\n",
       " ['45.2000%', '44.1676%', '44.4591%', '45.2000%'],\n",
       " ['45.2000%', '44.1676%', '44.4591%', '45.2000%'],\n",
       " ['45.2000%', '44.1676%', '44.4591%', '45.2000%'],\n",
       " ['45.2000%', '44.1676%', '44.4591%', '45.2000%'],\n",
       " ['45.2000%', '44.1676%', '44.4591%', '45.2000%'],\n",
       " ['45.2000%', '44.1676%', '44.4591%', '45.2000%'],\n",
       " ['45.2000%', '44.1676%', '44.4591%', '45.2000%'],\n",
       " ['45.2000%', '44.1676%', '44.4591%', '45.2000%'],\n",
       " ['45.2000%', '44.1676%', '44.4591%', '45.2000%'],\n",
       " ['45.2000%', '44.1676%', '44.4591%', '45.2000%'],\n",
       " ['45.2000%', '44.1676%', '44.4591%', '45.2000%'],\n",
       " ['45.2000%', '44.1676%', '44.4591%', '45.2000%']]"
      ]
     },
     "execution_count": 12,
     "metadata": {},
     "output_type": "execute_result"
    }
   ],
   "source": [
    "RFresults"
   ]
  },
  {
   "cell_type": "code",
   "execution_count": 17,
   "id": "dbedb3e1",
   "metadata": {
    "ExecuteTime": {
     "end_time": "2021-11-24T16:21:37.557999Z",
     "start_time": "2021-11-24T16:21:32.319999Z"
    },
    "hidden": true
   },
   "outputs": [
    {
     "data": {
      "text/plain": [
       "['48.4000%', '46.8978%', '46.8775%', '48.4000%']"
      ]
     },
     "execution_count": 17,
     "metadata": {},
     "output_type": "execute_result"
    }
   ],
   "source": [
    "Rforest_WRDenoise_Result = Rforest(X_WR_Denoise_Embed_train, Y_train, X_WR_Denoise_Embed_val, Y_val, deepth=10)\n",
    "Rforest_WRDenoise_Result"
   ]
  },
  {
   "cell_type": "code",
   "execution_count": null,
   "id": "d8d2cc0c",
   "metadata": {
    "hidden": true
   },
   "outputs": [],
   "source": []
  },
  {
   "cell_type": "code",
   "execution_count": 16,
   "id": "db641a4d",
   "metadata": {
    "ExecuteTime": {
     "end_time": "2021-11-24T15:18:17.621249Z",
     "start_time": "2021-11-24T15:15:40.766215Z"
    },
    "hidden": true
   },
   "outputs": [
    {
     "name": "stderr",
     "output_type": "stream",
     "text": [
      "C:\\Users\\phvpa\\anaconda3\\envs\\MuRIL\\lib\\site-packages\\sklearn\\metrics\\_classification.py:1308: UndefinedMetricWarning: Precision is ill-defined and being set to 0.0 in labels with no predicted samples. Use `zero_division` parameter to control this behavior.\n",
      "  _warn_prf(average, modifier, msg_start, len(result))\n",
      "C:\\Users\\phvpa\\anaconda3\\envs\\MuRIL\\lib\\site-packages\\sklearn\\metrics\\_classification.py:1308: UndefinedMetricWarning: Precision is ill-defined and being set to 0.0 in labels with no predicted samples. Use `zero_division` parameter to control this behavior.\n",
      "  _warn_prf(average, modifier, msg_start, len(result))\n",
      "C:\\Users\\phvpa\\anaconda3\\envs\\MuRIL\\lib\\site-packages\\sklearn\\metrics\\_classification.py:1308: UndefinedMetricWarning: Precision is ill-defined and being set to 0.0 in labels with no predicted samples. Use `zero_division` parameter to control this behavior.\n",
      "  _warn_prf(average, modifier, msg_start, len(result))\n"
     ]
    }
   ],
   "source": [
    "results = []\n",
    "\n",
    "for i in range(50):\n",
    "    Dtree_WRDenoise_Result = Dtree(X_WR_Denoise_Embed_train, Y_train, X_WR_Denoise_Embed_val, Y_val, deepth=i+1)\n",
    "    results.append(Dtree_WRDenoise_Result)"
   ]
  },
  {
   "cell_type": "code",
   "execution_count": 17,
   "id": "94d8efce",
   "metadata": {
    "ExecuteTime": {
     "end_time": "2021-11-24T15:18:17.636644Z",
     "start_time": "2021-11-24T15:18:17.624071Z"
    },
    "hidden": true,
    "scrolled": true
   },
   "outputs": [
    {
     "data": {
      "text/plain": [
       "[['31.0000%', '16.4500%', '19.3600%', '31.0000%'],\n",
       " ['33.2000%', '14.1375%', '19.5642%', '33.2000%'],\n",
       " ['35.2000%', '29.0811%', '29.7961%', '35.2000%'],\n",
       " ['36.6000%', '38.0811%', '32.7412%', '36.6000%'],\n",
       " ['36.4000%', '37.2577%', '33.3611%', '36.4000%'],\n",
       " ['36.0000%', '36.3212%', '35.2732%', '36.0000%'],\n",
       " ['37.4000%', '37.6711%', '37.2530%', '37.4000%'],\n",
       " ['38.4000%', '37.9137%', '37.4297%', '38.4000%'],\n",
       " ['38.6000%', '38.9803%', '38.7146%', '38.6000%'],\n",
       " ['42.0000%', '42.3317%', '41.9639%', '42.0000%'],\n",
       " ['40.0000%', '39.5559%', '39.6206%', '40.0000%'],\n",
       " ['38.6000%', '37.9202%', '38.1187%', '38.6000%'],\n",
       " ['38.0000%', '37.1409%', '37.2025%', '38.0000%'],\n",
       " ['36.6000%', '35.6616%', '35.9742%', '36.6000%'],\n",
       " ['38.8000%', '38.1735%', '38.4007%', '38.8000%'],\n",
       " ['37.2000%', '36.6099%', '36.8383%', '37.2000%'],\n",
       " ['35.4000%', '34.6363%', '34.9509%', '35.4000%'],\n",
       " ['38.0000%', '37.4557%', '37.5743%', '38.0000%'],\n",
       " ['36.0000%', '35.0332%', '35.3985%', '36.0000%'],\n",
       " ['37.2000%', '36.2812%', '36.5460%', '37.2000%'],\n",
       " ['35.4000%', '34.8735%', '34.9995%', '35.4000%'],\n",
       " ['36.4000%', '35.8954%', '36.0554%', '36.4000%'],\n",
       " ['36.4000%', '35.8485%', '36.0403%', '36.4000%'],\n",
       " ['36.8000%', '36.1686%', '36.4017%', '36.8000%'],\n",
       " ['36.8000%', '36.1686%', '36.4017%', '36.8000%'],\n",
       " ['36.8000%', '36.1686%', '36.4017%', '36.8000%'],\n",
       " ['36.8000%', '36.1686%', '36.4017%', '36.8000%'],\n",
       " ['36.8000%', '36.1686%', '36.4017%', '36.8000%'],\n",
       " ['36.8000%', '36.1686%', '36.4017%', '36.8000%'],\n",
       " ['36.8000%', '36.1686%', '36.4017%', '36.8000%'],\n",
       " ['36.8000%', '36.1686%', '36.4017%', '36.8000%'],\n",
       " ['36.8000%', '36.1686%', '36.4017%', '36.8000%'],\n",
       " ['36.8000%', '36.1686%', '36.4017%', '36.8000%'],\n",
       " ['36.8000%', '36.1686%', '36.4017%', '36.8000%'],\n",
       " ['36.8000%', '36.1686%', '36.4017%', '36.8000%'],\n",
       " ['36.8000%', '36.1686%', '36.4017%', '36.8000%'],\n",
       " ['36.8000%', '36.1686%', '36.4017%', '36.8000%'],\n",
       " ['36.8000%', '36.1686%', '36.4017%', '36.8000%'],\n",
       " ['36.8000%', '36.1686%', '36.4017%', '36.8000%'],\n",
       " ['36.8000%', '36.1686%', '36.4017%', '36.8000%'],\n",
       " ['36.8000%', '36.1686%', '36.4017%', '36.8000%'],\n",
       " ['36.8000%', '36.1686%', '36.4017%', '36.8000%'],\n",
       " ['36.8000%', '36.1686%', '36.4017%', '36.8000%'],\n",
       " ['36.8000%', '36.1686%', '36.4017%', '36.8000%'],\n",
       " ['36.8000%', '36.1686%', '36.4017%', '36.8000%'],\n",
       " ['36.8000%', '36.1686%', '36.4017%', '36.8000%'],\n",
       " ['36.8000%', '36.1686%', '36.4017%', '36.8000%'],\n",
       " ['36.8000%', '36.1686%', '36.4017%', '36.8000%'],\n",
       " ['36.8000%', '36.1686%', '36.4017%', '36.8000%'],\n",
       " ['36.8000%', '36.1686%', '36.4017%', '36.8000%']]"
      ]
     },
     "execution_count": 17,
     "metadata": {},
     "output_type": "execute_result"
    }
   ],
   "source": [
    "results"
   ]
  },
  {
   "cell_type": "code",
   "execution_count": 19,
   "id": "a9c01042",
   "metadata": {
    "ExecuteTime": {
     "end_time": "2021-11-24T15:22:15.218923Z",
     "start_time": "2021-11-24T15:22:12.894903Z"
    },
    "hidden": true
   },
   "outputs": [
    {
     "data": {
      "text/plain": [
       "['42.0000%', '42.3317%', '41.9639%', '42.0000%']"
      ]
     },
     "execution_count": 19,
     "metadata": {},
     "output_type": "execute_result"
    }
   ],
   "source": [
    "Dtree_WRDenoise_Result = Dtree(X_WR_Denoise_Embed_train, Y_train, X_WR_Denoise_Embed_val, Y_val, deepth=10)\n",
    "Dtree_WRDenoise_Result"
   ]
  }
 ],
 "metadata": {
  "kernelspec": {
   "display_name": "Python 3 (ipykernel)",
   "language": "python",
   "name": "python3"
  },
  "language_info": {
   "codemirror_mode": {
    "name": "ipython",
    "version": 3
   },
   "file_extension": ".py",
   "mimetype": "text/x-python",
   "name": "python",
   "nbconvert_exporter": "python",
   "pygments_lexer": "ipython3",
   "version": "3.8.11"
  },
  "latex_envs": {
   "LaTeX_envs_menu_present": true,
   "autoclose": false,
   "autocomplete": true,
   "bibliofile": "biblio.bib",
   "cite_by": "apalike",
   "current_citInitial": 1,
   "eqLabelWithNumbers": true,
   "eqNumInitial": 1,
   "hotkeys": {
    "equation": "Ctrl-E",
    "itemize": "Ctrl-I"
   },
   "labels_anchors": false,
   "latex_user_defs": false,
   "report_style_numbering": false,
   "user_envs_cfg": false
  },
  "toc": {
   "base_numbering": 1,
   "nav_menu": {},
   "number_sections": false,
   "sideBar": true,
   "skip_h1_title": false,
   "title_cell": "Table of Contents",
   "title_sidebar": "Contents",
   "toc_cell": false,
   "toc_position": {},
   "toc_section_display": true,
   "toc_window_display": false
  }
 },
 "nbformat": 4,
 "nbformat_minor": 5
}
