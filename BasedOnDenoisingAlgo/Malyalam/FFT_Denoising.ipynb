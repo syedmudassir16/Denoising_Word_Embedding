{
 "cells": [
  {
   "cell_type": "markdown",
   "id": "40efc252",
   "metadata": {},
   "source": [
    "# MuRIL "
   ]
  },
  {
   "cell_type": "code",
   "execution_count": 1,
   "id": "19685c4c",
   "metadata": {
    "ExecuteTime": {
     "end_time": "2021-11-24T14:35:15.369059Z",
     "start_time": "2021-11-24T14:35:15.211976Z"
    }
   },
   "outputs": [],
   "source": [
    "from scipy.fft import fft, ifft"
   ]
  },
  {
   "cell_type": "code",
   "execution_count": 2,
   "id": "02fdfc15",
   "metadata": {
    "ExecuteTime": {
     "end_time": "2021-11-24T14:35:15.652597Z",
     "start_time": "2021-11-24T14:35:15.631597Z"
    }
   },
   "outputs": [],
   "source": [
    "import numpy as np\n",
    "X_MuRIL_Embed_train = np.load('MuRIL_train.npy')\n",
    "X_MuRIL_Embed_val = np.load('MuRIL_val.npy')"
   ]
  },
  {
   "cell_type": "code",
   "execution_count": 3,
   "id": "dbdab5ef",
   "metadata": {
    "ExecuteTime": {
     "end_time": "2021-11-24T14:35:15.953078Z",
     "start_time": "2021-11-24T14:35:15.944078Z"
    }
   },
   "outputs": [],
   "source": [
    "Y_raw_train = np.load(\"C:/Users/phvpa/Desktop/Denoising_Experimants/ModifiedCode/DataSets/NumpyFiles/Mal/Split4500and500/Mal_Train_label_5000.npy\")\n",
    "Y_raw_val = np.load(\"C:/Users/phvpa/Desktop/Denoising_Experimants/ModifiedCode/DataSets/NumpyFiles/Mal/Split4500and500/Mal_val_label_500.npy\")"
   ]
  },
  {
   "cell_type": "code",
   "execution_count": 4,
   "id": "20444755",
   "metadata": {
    "ExecuteTime": {
     "end_time": "2021-11-24T14:35:16.568139Z",
     "start_time": "2021-11-24T14:35:16.259216Z"
    }
   },
   "outputs": [
    {
     "data": {
      "text/plain": [
       "((4500,), (500,))"
      ]
     },
     "execution_count": 4,
     "metadata": {},
     "output_type": "execute_result"
    }
   ],
   "source": [
    "from sklearn.preprocessing import LabelEncoder\n",
    "le = LabelEncoder()\n",
    "Y_train = le.fit_transform(Y_raw_train)\n",
    "Y_val = le.fit_transform(Y_raw_val)\n",
    "Y_train.shape, Y_val.shape"
   ]
  },
  {
   "cell_type": "code",
   "execution_count": 5,
   "id": "f459d06f",
   "metadata": {
    "ExecuteTime": {
     "end_time": "2021-11-24T14:35:16.824297Z",
     "start_time": "2021-11-24T14:35:16.649149Z"
    }
   },
   "outputs": [],
   "source": [
    "#k1 = 4300\n",
    "trainlist = []\n",
    "for i in range(len(X_MuRIL_Embed_train)):\n",
    "    temp_fft = fft(X_MuRIL_Embed_train[i])\n",
    " #   temp_fft[k1:-1] = 0\n",
    "    temp_fft = temp_fft.real\n",
    "    temp_inverse = ifft(temp_fft)\n",
    "    temp_final = temp_inverse.real\n",
    "    trainlist.append(temp_final)\n",
    "\n",
    "#k2 = 480\n",
    "vallist = []\n",
    "for i in range(len(X_MuRIL_Embed_val)):\n",
    "    temp_fft = fft(X_MuRIL_Embed_val[i])\n",
    "    temp_fft = temp_fft.real\n",
    "#    temp_fft[k2:-1] = 0\n",
    "    temp_inverse = ifft(temp_fft)\n",
    "    temp_final = temp_inverse.real\n",
    "    vallist.append(temp_final)"
   ]
  },
  {
   "cell_type": "code",
   "execution_count": 6,
   "id": "aae1c2f4",
   "metadata": {
    "ExecuteTime": {
     "end_time": "2021-11-24T14:35:17.303499Z",
     "start_time": "2021-11-24T14:35:17.281483Z"
    }
   },
   "outputs": [],
   "source": [
    "X_MuRIL_FFT_Denoise_Embed_train = np.asarray(trainlist)\n",
    "X_MuRIL_FFT_Denoise_Embed_val = np.asarray(vallist)       #Don't run repetedly"
   ]
  },
  {
   "cell_type": "code",
   "execution_count": 7,
   "id": "2d0d6dcc",
   "metadata": {
    "ExecuteTime": {
     "end_time": "2021-11-24T14:37:08.796126Z",
     "start_time": "2021-11-24T14:35:17.987729Z"
    }
   },
   "outputs": [
    {
     "name": "stderr",
     "output_type": "stream",
     "text": [
      "C:\\Users\\phvpa\\anaconda3\\envs\\MuRIL\\lib\\site-packages\\sklearn\\metrics\\_classification.py:1308: UndefinedMetricWarning: Precision is ill-defined and being set to 0.0 in labels with no predicted samples. Use `zero_division` parameter to control this behavior.\n",
      "  _warn_prf(average, modifier, msg_start, len(result))\n"
     ]
    },
    {
     "name": "stdout",
     "output_type": "stream",
     "text": [
      "[2021-11-24 14:35:39.904] Start to fit the model:\n",
      "[2021-11-24 14:35:39.904] Fitting cascade layer = 0 \n",
      "[2021-11-24 14:35:52.343] layer = 0  | Val Acc = 49.000 % | Elapsed = 12.439 s\n",
      "[2021-11-24 14:35:52.363] Fitting cascade layer = 1 \n",
      "[2021-11-24 14:36:04.122] layer = 1  | Val Acc = 49.756 % | Elapsed = 11.759 s\n",
      "[2021-11-24 14:36:04.135] Fitting cascade layer = 2 \n",
      "[2021-11-24 14:36:16.850] layer = 2  | Val Acc = 49.711 % | Elapsed = 12.714 s\n",
      "[2021-11-24 14:36:16.850] Early stopping counter: 1 out of 2\n",
      "[2021-11-24 14:36:16.863] Fitting cascade layer = 3 \n",
      "[2021-11-24 14:36:29.724] layer = 3  | Val Acc = 49.778 % | Elapsed = 12.861 s\n",
      "[2021-11-24 14:36:29.746] Fitting cascade layer = 4 \n",
      "[2021-11-24 14:36:42.826] layer = 4  | Val Acc = 51.333 % | Elapsed = 13.079 s\n",
      "[2021-11-24 14:36:42.842] Fitting cascade layer = 5 \n",
      "[2021-11-24 14:36:55.873] layer = 5  | Val Acc = 50.911 % | Elapsed = 13.031 s\n",
      "[2021-11-24 14:36:55.874] Early stopping counter: 1 out of 2\n",
      "[2021-11-24 14:36:55.888] Fitting cascade layer = 6 \n",
      "[2021-11-24 14:37:08.432] layer = 6  | Val Acc = 50.022 % | Elapsed = 12.544 s\n",
      "[2021-11-24 14:37:08.432] Early stopping counter: 2 out of 2\n",
      "[2021-11-24 14:37:08.432] Handling early stopping\n",
      "[2021-11-24 14:37:08.435] The optimal number of layers: 5\n",
      "[2021-11-24 14:37:08.440] Start to evalute the model:\n",
      "[2021-11-24 14:37:08.456] Evaluating cascade layer = 0 \n",
      "[2021-11-24 14:37:08.503] Evaluating cascade layer = 1 \n",
      "[2021-11-24 14:37:08.553] Evaluating cascade layer = 2 \n",
      "[2021-11-24 14:37:08.603] Evaluating cascade layer = 3 \n",
      "[2021-11-24 14:37:08.670] Evaluating cascade layer = 4 \n"
     ]
    }
   ],
   "source": [
    "from Models.MLAlgos import SVectorMachine, Dtree, Rforest, NB, KNN, DeepForest\n",
    "\n",
    "SVM_MuRIL_IFDenoise_Result = SVectorMachine(X_MuRIL_FFT_Denoise_Embed_train, Y_train, X_MuRIL_FFT_Denoise_Embed_val, Y_val)\n",
    "Dtree_MuRIL_IFDenoise_Result = Dtree(X_MuRIL_FFT_Denoise_Embed_train, Y_train, X_MuRIL_FFT_Denoise_Embed_val, Y_val,deepth=12)\n",
    "Rforest_MuRIL_IFDenoise_Result = Rforest(X_MuRIL_FFT_Denoise_Embed_train, Y_train, X_MuRIL_FFT_Denoise_Embed_val, Y_val)\n",
    "NB_MuRIL_IFDenoiseIF_Result = NB(X_MuRIL_FFT_Denoise_Embed_train, Y_train, X_MuRIL_FFT_Denoise_Embed_val, Y_val)\n",
    "KNN_MuRIL_IFDenoise_Result = KNN(X_MuRIL_FFT_Denoise_Embed_train, Y_train, X_MuRIL_FFT_Denoise_Embed_val, Y_val)\n",
    "Deep_MuRIL_IFDenoise_Result = DeepForest(X_MuRIL_FFT_Denoise_Embed_train, Y_train, X_MuRIL_FFT_Denoise_Embed_val, Y_val)"
   ]
  },
  {
   "cell_type": "code",
   "execution_count": 8,
   "id": "2b922c35",
   "metadata": {
    "ExecuteTime": {
     "end_time": "2021-11-24T14:37:09.128127Z",
     "start_time": "2021-11-24T14:37:08.800131Z"
    }
   },
   "outputs": [
    {
     "data": {
      "text/html": [
       "<div>\n",
       "<style scoped>\n",
       "    .dataframe tbody tr th:only-of-type {\n",
       "        vertical-align: middle;\n",
       "    }\n",
       "\n",
       "    .dataframe tbody tr th {\n",
       "        vertical-align: top;\n",
       "    }\n",
       "\n",
       "    .dataframe thead th {\n",
       "        text-align: right;\n",
       "    }\n",
       "</style>\n",
       "<table border=\"1\" class=\"dataframe\">\n",
       "  <thead>\n",
       "    <tr style=\"text-align: right;\">\n",
       "      <th></th>\n",
       "      <th>accuracy</th>\n",
       "      <th>precision</th>\n",
       "      <th>f1</th>\n",
       "      <th>recall</th>\n",
       "    </tr>\n",
       "  </thead>\n",
       "  <tbody>\n",
       "    <tr>\n",
       "      <th>SVM</th>\n",
       "      <td>34.2000%</td>\n",
       "      <td>19.6420%</td>\n",
       "      <td>23.3041%</td>\n",
       "      <td>34.2000%</td>\n",
       "    </tr>\n",
       "    <tr>\n",
       "      <th>DTree</th>\n",
       "      <td>40.0000%</td>\n",
       "      <td>40.0387%</td>\n",
       "      <td>39.9451%</td>\n",
       "      <td>40.0000%</td>\n",
       "    </tr>\n",
       "    <tr>\n",
       "      <th>Rforest</th>\n",
       "      <td>51.0000%</td>\n",
       "      <td>49.0318%</td>\n",
       "      <td>49.5767%</td>\n",
       "      <td>51.0000%</td>\n",
       "    </tr>\n",
       "    <tr>\n",
       "      <th>NB</th>\n",
       "      <td>39.2000%</td>\n",
       "      <td>37.6869%</td>\n",
       "      <td>34.8683%</td>\n",
       "      <td>39.2000%</td>\n",
       "    </tr>\n",
       "    <tr>\n",
       "      <th>KNN</th>\n",
       "      <td>50.6000%</td>\n",
       "      <td>51.3834%</td>\n",
       "      <td>49.5097%</td>\n",
       "      <td>50.6000%</td>\n",
       "    </tr>\n",
       "    <tr>\n",
       "      <th>DeepForest</th>\n",
       "      <td>51.0000%</td>\n",
       "      <td>49.5084%</td>\n",
       "      <td>49.9733%</td>\n",
       "      <td>51.0000%</td>\n",
       "    </tr>\n",
       "  </tbody>\n",
       "</table>\n",
       "</div>"
      ],
      "text/plain": [
       "            accuracy precision        f1    recall\n",
       "SVM         34.2000%  19.6420%  23.3041%  34.2000%\n",
       "DTree       40.0000%  40.0387%  39.9451%  40.0000%\n",
       "Rforest     51.0000%  49.0318%  49.5767%  51.0000%\n",
       "NB          39.2000%  37.6869%  34.8683%  39.2000%\n",
       "KNN         50.6000%  51.3834%  49.5097%  50.6000%\n",
       "DeepForest  51.0000%  49.5084%  49.9733%  51.0000%"
      ]
     },
     "execution_count": 8,
     "metadata": {},
     "output_type": "execute_result"
    }
   ],
   "source": [
    "import pandas as pd\n",
    "MuRIL_AFTR_FFT_Denoising= pd.DataFrame({'SVM' : SVM_MuRIL_IFDenoise_Result, \n",
    "            'DTree' : Dtree_MuRIL_IFDenoise_Result,\n",
    "            'Rforest' : Rforest_MuRIL_IFDenoise_Result,\n",
    "            'NB' : NB_MuRIL_IFDenoiseIF_Result,\n",
    "            'KNN' : KNN_MuRIL_IFDenoise_Result,\n",
    "            'DeepForest':Deep_MuRIL_IFDenoise_Result})\n",
    "MuRIL_AFTR_FFT_Denoising.index = ['accuracy', 'precision', 'f1', 'recall']\n",
    "MuRIL_AFTR_FFT_Denoising = MuRIL_AFTR_FFT_Denoising.transpose()\n",
    "MuRIL_AFTR_FFT_Denoising"
   ]
  },
  {
   "cell_type": "code",
   "execution_count": null,
   "id": "baa5015e",
   "metadata": {},
   "outputs": [],
   "source": []
  },
  {
   "cell_type": "markdown",
   "id": "f4eb63db",
   "metadata": {},
   "source": [
    "# LABSE"
   ]
  },
  {
   "cell_type": "code",
   "execution_count": 1,
   "id": "5926e974",
   "metadata": {
    "ExecuteTime": {
     "end_time": "2021-11-24T14:56:12.780679Z",
     "start_time": "2021-11-24T14:56:12.620666Z"
    }
   },
   "outputs": [],
   "source": [
    "import random \n",
    "random.seed(10)\n",
    "from scipy.fft import fft, ifft"
   ]
  },
  {
   "cell_type": "code",
   "execution_count": 2,
   "id": "cf7229a9",
   "metadata": {
    "ExecuteTime": {
     "end_time": "2021-11-24T14:56:12.890684Z",
     "start_time": "2021-11-24T14:56:12.865684Z"
    }
   },
   "outputs": [],
   "source": [
    "import numpy as np\n",
    "X_LaSBE_Embed_train = np.load('LaBSE_train.npy')\n",
    "X_LaSBE_Embed_val = np.load('LaBSE_val.npy')"
   ]
  },
  {
   "cell_type": "code",
   "execution_count": 3,
   "id": "b83aaa45",
   "metadata": {
    "ExecuteTime": {
     "end_time": "2021-11-24T14:56:13.110973Z",
     "start_time": "2021-11-24T14:56:13.101974Z"
    }
   },
   "outputs": [],
   "source": [
    "Y_raw_train = np.load(\"C:/Users/phvpa/Desktop/Denoising_Experimants/ModifiedCode/DataSets/NumpyFiles/Mal/Split4500and500/Mal_Train_label_5000.npy\")\n",
    "Y_raw_val = np.load(\"C:/Users/phvpa/Desktop/Denoising_Experimants/ModifiedCode/DataSets/NumpyFiles/Mal/Split4500and500/Mal_val_label_500.npy\")"
   ]
  },
  {
   "cell_type": "code",
   "execution_count": 4,
   "id": "566bb20b",
   "metadata": {
    "ExecuteTime": {
     "end_time": "2021-11-24T14:56:13.781561Z",
     "start_time": "2021-11-24T14:56:13.490561Z"
    }
   },
   "outputs": [
    {
     "data": {
      "text/plain": [
       "((4500,), (500,))"
      ]
     },
     "execution_count": 4,
     "metadata": {},
     "output_type": "execute_result"
    }
   ],
   "source": [
    "from sklearn.preprocessing import LabelEncoder\n",
    "le = LabelEncoder()\n",
    "Y_train = le.fit_transform(Y_raw_train)\n",
    "Y_val = le.fit_transform(Y_raw_val)\n",
    "Y_train.shape, Y_val.shape"
   ]
  },
  {
   "cell_type": "code",
   "execution_count": 5,
   "id": "08a1cc1f",
   "metadata": {
    "ExecuteTime": {
     "end_time": "2021-11-24T14:56:13.938267Z",
     "start_time": "2021-11-24T14:56:13.919270Z"
    }
   },
   "outputs": [
    {
     "data": {
      "text/plain": [
       "(768,)"
      ]
     },
     "execution_count": 5,
     "metadata": {},
     "output_type": "execute_result"
    }
   ],
   "source": [
    "X_LaSBE_Embed_train[0].shape"
   ]
  },
  {
   "cell_type": "code",
   "execution_count": 6,
   "id": "4ea2d692",
   "metadata": {
    "ExecuteTime": {
     "end_time": "2021-11-24T14:56:14.780171Z",
     "start_time": "2021-11-24T14:56:14.617001Z"
    }
   },
   "outputs": [],
   "source": [
    "#k1 = 4300\n",
    "trainlist = []\n",
    "for i in range(len(X_LaSBE_Embed_train)):\n",
    "    temp_fft = fft(X_LaSBE_Embed_train[i])\n",
    " #   temp_fft[k1:-1] = 0\n",
    "    temp_fft = temp_fft.real\n",
    "    temp_inverse = ifft(temp_fft)\n",
    "    temp_final = temp_inverse.real\n",
    "    trainlist.append(temp_final)\n",
    "\n",
    "#k2 = 480\n",
    "vallist = []\n",
    "for i in range(len(X_LaSBE_Embed_val)):\n",
    "    temp_fft = fft(X_LaSBE_Embed_val[i])\n",
    "    temp_fft = temp_fft.real\n",
    "#    temp_fft[k2:-1] = 0\n",
    "    temp_inverse = ifft(temp_fft)\n",
    "    temp_final = temp_inverse.real\n",
    "    vallist.append(temp_final)"
   ]
  },
  {
   "cell_type": "code",
   "execution_count": 7,
   "id": "7e4c5da7",
   "metadata": {
    "ExecuteTime": {
     "end_time": "2021-11-24T14:56:15.294623Z",
     "start_time": "2021-11-24T14:56:15.274624Z"
    }
   },
   "outputs": [],
   "source": [
    "X_LaBSE_FFT_Denoise_Embed_train = np.asarray(trainlist)\n",
    "X_LaBSE_FFT_Denoise_Embed_val = np.asarray(vallist)"
   ]
  },
  {
   "cell_type": "code",
   "execution_count": 8,
   "id": "c3a09f10",
   "metadata": {
    "ExecuteTime": {
     "end_time": "2021-11-24T14:58:49.498408Z",
     "start_time": "2021-11-24T14:56:16.173625Z"
    }
   },
   "outputs": [
    {
     "name": "stderr",
     "output_type": "stream",
     "text": [
      "C:\\Users\\phvpa\\anaconda3\\envs\\MuRIL\\lib\\site-packages\\sklearn\\svm\\_base.py:284: ConvergenceWarning: Solver terminated early (max_iter=1000).  Consider pre-processing your data with StandardScaler or MinMaxScaler.\n",
      "  warnings.warn(\n"
     ]
    },
    {
     "name": "stdout",
     "output_type": "stream",
     "text": [
      "[2021-11-24 14:56:40.830] Start to fit the model:\n",
      "[2021-11-24 14:56:40.831] Fitting cascade layer = 0 \n",
      "[2021-11-24 14:56:54.898] layer = 0  | Val Acc = 49.911 % | Elapsed = 14.067 s\n",
      "[2021-11-24 14:56:54.922] Fitting cascade layer = 1 \n",
      "[2021-11-24 14:57:07.702] layer = 1  | Val Acc = 51.133 % | Elapsed = 12.780 s\n",
      "[2021-11-24 14:57:07.716] Fitting cascade layer = 2 \n",
      "[2021-11-24 14:57:21.209] layer = 2  | Val Acc = 51.489 % | Elapsed = 13.493 s\n",
      "[2021-11-24 14:57:21.224] Fitting cascade layer = 3 \n",
      "[2021-11-24 14:57:35.854] layer = 3  | Val Acc = 51.400 % | Elapsed = 14.629 s\n",
      "[2021-11-24 14:57:35.854] Early stopping counter: 1 out of 2\n",
      "[2021-11-24 14:57:35.874] Fitting cascade layer = 4 \n",
      "[2021-11-24 14:57:49.513] layer = 4  | Val Acc = 51.622 % | Elapsed = 13.639 s\n",
      "[2021-11-24 14:57:49.528] Fitting cascade layer = 5 \n",
      "[2021-11-24 14:58:03.922] layer = 5  | Val Acc = 51.711 % | Elapsed = 14.394 s\n",
      "[2021-11-24 14:58:03.941] Fitting cascade layer = 6 \n",
      "[2021-11-24 14:58:19.785] layer = 6  | Val Acc = 52.333 % | Elapsed = 15.844 s\n",
      "[2021-11-24 14:58:19.799] Fitting cascade layer = 7 \n",
      "[2021-11-24 14:58:35.018] layer = 7  | Val Acc = 51.800 % | Elapsed = 15.219 s\n",
      "[2021-11-24 14:58:35.018] Early stopping counter: 1 out of 2\n",
      "[2021-11-24 14:58:35.037] Fitting cascade layer = 8 \n",
      "[2021-11-24 14:58:49.006] layer = 8  | Val Acc = 51.911 % | Elapsed = 13.969 s\n",
      "[2021-11-24 14:58:49.006] Early stopping counter: 2 out of 2\n",
      "[2021-11-24 14:58:49.007] Handling early stopping\n",
      "[2021-11-24 14:58:49.013] The optimal number of layers: 7\n",
      "[2021-11-24 14:58:49.019] Start to evalute the model:\n",
      "[2021-11-24 14:58:49.046] Evaluating cascade layer = 0 \n",
      "[2021-11-24 14:58:49.111] Evaluating cascade layer = 1 \n",
      "[2021-11-24 14:58:49.177] Evaluating cascade layer = 2 \n",
      "[2021-11-24 14:58:49.239] Evaluating cascade layer = 3 \n",
      "[2021-11-24 14:58:49.300] Evaluating cascade layer = 4 \n",
      "[2021-11-24 14:58:49.352] Evaluating cascade layer = 5 \n",
      "[2021-11-24 14:58:49.406] Evaluating cascade layer = 6 \n"
     ]
    }
   ],
   "source": [
    "import random\n",
    "random.seed(10)\n",
    "\n",
    "from Models.MLAlgos import SVectorMachine, Dtree, Rforest, NB, KNN, DeepForest\n",
    "\n",
    "SVM_LaBSE_IFDenoise_Result = SVectorMachine(X_LaBSE_FFT_Denoise_Embed_train, Y_train, X_LaBSE_FFT_Denoise_Embed_val, Y_val)\n",
    "Dtree_LaBSE_IFDenoise_Result = Dtree(X_LaBSE_FFT_Denoise_Embed_train, Y_train, X_LaBSE_FFT_Denoise_Embed_val, Y_val,deepth=13)\n",
    "Rforest_LaBSE_IFDenoise_Result = Rforest(X_LaBSE_FFT_Denoise_Embed_train, Y_train, X_LaBSE_FFT_Denoise_Embed_val, Y_val,deepth=15)\n",
    "NB_LaBSE_IFDenoiseIF_Result = NB(X_LaBSE_FFT_Denoise_Embed_train, Y_train, X_LaBSE_FFT_Denoise_Embed_val, Y_val)\n",
    "KNN_LaBSE_IFDenoise_Result = KNN(X_LaBSE_FFT_Denoise_Embed_train, Y_train, X_LaBSE_FFT_Denoise_Embed_val, Y_val)\n",
    "Deep_LaBSE_IFDenoise_Result = DeepForest(X_LaBSE_FFT_Denoise_Embed_train, Y_train, X_LaBSE_FFT_Denoise_Embed_val, Y_val)"
   ]
  },
  {
   "cell_type": "code",
   "execution_count": 9,
   "id": "020a1c2f",
   "metadata": {
    "ExecuteTime": {
     "end_time": "2021-11-24T14:58:49.895404Z",
     "start_time": "2021-11-24T14:58:49.499400Z"
    }
   },
   "outputs": [
    {
     "data": {
      "text/html": [
       "<div>\n",
       "<style scoped>\n",
       "    .dataframe tbody tr th:only-of-type {\n",
       "        vertical-align: middle;\n",
       "    }\n",
       "\n",
       "    .dataframe tbody tr th {\n",
       "        vertical-align: top;\n",
       "    }\n",
       "\n",
       "    .dataframe thead th {\n",
       "        text-align: right;\n",
       "    }\n",
       "</style>\n",
       "<table border=\"1\" class=\"dataframe\">\n",
       "  <thead>\n",
       "    <tr style=\"text-align: right;\">\n",
       "      <th></th>\n",
       "      <th>accuracy</th>\n",
       "      <th>precision</th>\n",
       "      <th>f1</th>\n",
       "      <th>recall</th>\n",
       "    </tr>\n",
       "  </thead>\n",
       "  <tbody>\n",
       "    <tr>\n",
       "      <th>SVM</th>\n",
       "      <td>57.6000%</td>\n",
       "      <td>57.3299%</td>\n",
       "      <td>57.4079%</td>\n",
       "      <td>57.6000%</td>\n",
       "    </tr>\n",
       "    <tr>\n",
       "      <th>DTree</th>\n",
       "      <td>35.4000%</td>\n",
       "      <td>36.0889%</td>\n",
       "      <td>35.6596%</td>\n",
       "      <td>35.4000%</td>\n",
       "    </tr>\n",
       "    <tr>\n",
       "      <th>Rforest</th>\n",
       "      <td>51.8000%</td>\n",
       "      <td>50.9249%</td>\n",
       "      <td>51.0985%</td>\n",
       "      <td>51.8000%</td>\n",
       "    </tr>\n",
       "    <tr>\n",
       "      <th>NB</th>\n",
       "      <td>41.4000%</td>\n",
       "      <td>40.3280%</td>\n",
       "      <td>39.2434%</td>\n",
       "      <td>41.4000%</td>\n",
       "    </tr>\n",
       "    <tr>\n",
       "      <th>KNN</th>\n",
       "      <td>46.8000%</td>\n",
       "      <td>51.3087%</td>\n",
       "      <td>47.2659%</td>\n",
       "      <td>46.8000%</td>\n",
       "    </tr>\n",
       "    <tr>\n",
       "      <th>DeepForest</th>\n",
       "      <td>50.6000%</td>\n",
       "      <td>50.3793%</td>\n",
       "      <td>50.4607%</td>\n",
       "      <td>50.6000%</td>\n",
       "    </tr>\n",
       "  </tbody>\n",
       "</table>\n",
       "</div>"
      ],
      "text/plain": [
       "            accuracy precision        f1    recall\n",
       "SVM         57.6000%  57.3299%  57.4079%  57.6000%\n",
       "DTree       35.4000%  36.0889%  35.6596%  35.4000%\n",
       "Rforest     51.8000%  50.9249%  51.0985%  51.8000%\n",
       "NB          41.4000%  40.3280%  39.2434%  41.4000%\n",
       "KNN         46.8000%  51.3087%  47.2659%  46.8000%\n",
       "DeepForest  50.6000%  50.3793%  50.4607%  50.6000%"
      ]
     },
     "execution_count": 9,
     "metadata": {},
     "output_type": "execute_result"
    }
   ],
   "source": [
    "import pandas as pd\n",
    "AFTR_LaBSE_FFT_Denoising= pd.DataFrame({'SVM' : SVM_LaBSE_IFDenoise_Result, \n",
    "            'DTree' : Dtree_LaBSE_IFDenoise_Result,\n",
    "            'Rforest' : Rforest_LaBSE_IFDenoise_Result,\n",
    "            'NB' : NB_LaBSE_IFDenoiseIF_Result,\n",
    "            'KNN' : KNN_LaBSE_IFDenoise_Result,\n",
    "            'DeepForest':Deep_LaBSE_IFDenoise_Result})\n",
    "AFTR_LaBSE_FFT_Denoising.index = ['accuracy', 'precision', 'f1', 'recall']\n",
    "AFTR_LaBSE_FFT_Denoising = AFTR_LaBSE_FFT_Denoising.transpose()\n",
    "AFTR_LaBSE_FFT_Denoising"
   ]
  },
  {
   "cell_type": "markdown",
   "id": "16e84a33",
   "metadata": {
    "heading_collapsed": true
   },
   "source": [
    "# Rough Work"
   ]
  },
  {
   "cell_type": "code",
   "execution_count": null,
   "id": "c0184e0c",
   "metadata": {
    "ExecuteTime": {
     "start_time": "2021-11-24T14:26:48.553Z"
    },
    "hidden": true
   },
   "outputs": [],
   "source": [
    "import random \n",
    "random.seed(10)\n",
    "\n",
    "from deepforest import CascadeForestClassifier\n",
    "from sklearn.svm import SVC\n",
    "from sklearn.tree import DecisionTreeClassifier\n",
    "from sklearn.ensemble import RandomForestClassifier\n",
    "from sklearn.metrics import f1_score, precision_score, recall_score, accuracy_score\n",
    "\n",
    "#SVM\n",
    "def SVectorMachine(X_train, Y_train, X_test, Y_test):\n",
    "    svc = SVC( kernel='rbf',max_iter=1000,decision_function_shape='ovo',random_state=10)\n",
    "    svc.fit(X_train,Y_train)\n",
    "    pred_svc = svc.predict(X_test)\n",
    "    acc = f'{100*accuracy_score(Y_test,pred_svc):.4f}%'\n",
    "    prec = f'{100*precision_score(Y_test,pred_svc, average=\"macro\"):.4f}%'\n",
    "    f1 = f'{100*f1_score(Y_test,pred_svc, average=\"macro\"):.4f}%'\n",
    "    recall = f'{100*recall_score(Y_test,pred_svc, average=\"macro\"):.4f}%'\n",
    "    Result1 = [acc, prec, f1, recall]\n",
    "    return Result1\n",
    "\n",
    "#DecisionTree\n",
    "def Dtree(X_train, Y_train, X_test, Y_test):\n",
    "    #Dtree = DecisionTreeClassifier(criterion='entropy', random_state=10)\n",
    "    Dtree = DecisionTreeClassifier(max_depth=14, random_state=10)\n",
    "    Dtree.fit(X_train,Y_train)\n",
    "    pred_Dtree = Dtree.predict(X_test)\n",
    "    acc = f'{100*accuracy_score(Y_test,pred_Dtree):.4f}%'\n",
    "    prec = f'{100*precision_score(Y_test,pred_Dtree, average=\"macro\"):.4f}%'\n",
    "    f1 = f'{100*f1_score(Y_test,pred_Dtree, average=\"macro\"):.4f}%'\n",
    "    recall = f'{100*recall_score(Y_test,pred_Dtree, average=\"macro\"):.4f}%'\n",
    "    Result2 = [acc, prec, f1, recall]\n",
    "    return Result2\n",
    "\n",
    "#RandomForest\n",
    "def Rforest(X_train, Y_train, X_test, Y_test):\n",
    "    #RFC = RandomForestClassifier(criterion='entropy', random_state=10)\n",
    "    RFC = RandomForestClassifier(random_state=10)\n",
    "    RFC.fit(X_train,Y_train)\n",
    "    pred_RFC = RFC.predict(X_test)\n",
    "    acc = f'{100*accuracy_score(Y_test,pred_RFC):.4f}%'\n",
    "    prec = f'{100*precision_score(Y_test,pred_RFC, average=\"macro\"):.4f}%'\n",
    "    f1 = f'{100*f1_score(Y_test,pred_RFC, average=\"macro\"):.4f}%'\n",
    "    recall = f'{100*recall_score(Y_test,pred_RFC, average=\"macro\"):.4f}%'\n",
    "    Result3 = [acc, prec, f1, recall]\n",
    "    return Result3"
   ]
  },
  {
   "cell_type": "code",
   "execution_count": null,
   "id": "06a28abd",
   "metadata": {
    "ExecuteTime": {
     "start_time": "2021-11-24T14:26:49.203Z"
    },
    "hidden": true
   },
   "outputs": [],
   "source": [
    "# # Temp_SVM_MuRIL_IFDenoise_Result = SVectorMachine(X_MuRIL_FFT_Denoise_Embed_train, Y_train, X_MuRIL_FFT_Denoise_Embed_val, Y_val)\n",
    "# Temp_Dtree_MuRIL_IFDenoise_Result = Dtree(X_MuRIL_FFT_Denoise_Embed_train, Y_train, X_MuRIL_FFT_Denoise_Embed_val, Y_val)\n",
    "# # Temp_Rforest_MuRIL_IFDenoise_Result = Rforest(X_MuRIL_FFT_Denoise_Embed_train, Y_train, X_MuRIL_FFT_Denoise_Embed_val, Y_val)"
   ]
  },
  {
   "cell_type": "code",
   "execution_count": null,
   "id": "1f459a9d",
   "metadata": {
    "ExecuteTime": {
     "start_time": "2021-11-24T14:26:49.892Z"
    },
    "hidden": true
   },
   "outputs": [],
   "source": [
    "# # Temp_SVM_MuRIL_IFDenoise_Result, \n",
    "# Temp_Dtree_MuRIL_IFDenoise_Result#, \n",
    "# # Temp_Rforest_MuRIL_IFDenoise_Result"
   ]
  },
  {
   "cell_type": "code",
   "execution_count": 29,
   "id": "4cbf0e2f",
   "metadata": {
    "ExecuteTime": {
     "end_time": "2021-11-24T13:26:36.769690Z",
     "start_time": "2021-11-24T13:26:36.746656Z"
    },
    "hidden": true
   },
   "outputs": [],
   "source": [
    "import random \n",
    "random.seed(10)\n",
    "from sklearn.metrics import f1_score, precision_score, recall_score, accuracy_score\n",
    "from sklearn.ensemble import RandomForestClassifier\n",
    "from deepforest import CascadeForestClassifier\n",
    "\n",
    "#RandomForest\n",
    "def Rforest(X_train, Y_train, X_test, Y_test,deepth):\n",
    "    #RFC = RandomForestClassifier(criterion='entropy', random_state=10)\n",
    "    RFC = RandomForestClassifier(max_depth=deepth, random_state=10)\n",
    "    RFC.fit(X_train,Y_train)\n",
    "    pred_RFC = RFC.predict(X_test)\n",
    "    acc = f'{100*accuracy_score(Y_test,pred_RFC):.4f}%'\n",
    "    prec = f'{100*precision_score(Y_test,pred_RFC, average=\"macro\"):.4f}%'\n",
    "    f1 = f'{100*f1_score(Y_test,pred_RFC, average=\"macro\"):.4f}%'\n",
    "    recall = f'{100*recall_score(Y_test,pred_RFC, average=\"macro\"):.4f}%'\n",
    "    Result3 = [acc, prec, f1, recall]\n",
    "    return Result3"
   ]
  },
  {
   "cell_type": "code",
   "execution_count": 32,
   "id": "28bb2723",
   "metadata": {
    "ExecuteTime": {
     "end_time": "2021-11-24T13:48:59.720400Z",
     "start_time": "2021-11-24T13:48:52.902360Z"
    },
    "hidden": true
   },
   "outputs": [
    {
     "data": {
      "text/plain": [
       "['51.8000%', '50.9249%', '51.0985%', '51.8000%']"
      ]
     },
     "execution_count": 32,
     "metadata": {},
     "output_type": "execute_result"
    }
   ],
   "source": [
    "temp_RF_LaBSE_IFDenoise_Result = Rforest(X_LaBSE_FFT_Denoise_Embed_train, Y_train, X_LaBSE_FFT_Denoise_Embed_val, Y_val,deepth=15)\n",
    "temp_RF_LaBSE_IFDenoise_Result"
   ]
  },
  {
   "cell_type": "code",
   "execution_count": null,
   "id": "8dcc30bd",
   "metadata": {
    "hidden": true
   },
   "outputs": [],
   "source": []
  },
  {
   "cell_type": "code",
   "execution_count": 11,
   "id": "96ddde79",
   "metadata": {
    "ExecuteTime": {
     "end_time": "2021-11-24T14:53:20.828205Z",
     "start_time": "2021-11-24T14:48:32.478837Z"
    },
    "hidden": true
   },
   "outputs": [],
   "source": [
    "RFResults = []\n",
    "for i in range(40):\n",
    "    from Models.MLAlgos import Rforest\n",
    "    temp_RF_LaBSE_IFDenoise_Result = Rforest(X_LaBSE_FFT_Denoise_Embed_train, Y_train, X_LaBSE_FFT_Denoise_Embed_val, Y_val,deepth=i+1)\n",
    "    RFResults.append(temp_RF_LaBSE_IFDenoise_Result)"
   ]
  },
  {
   "cell_type": "code",
   "execution_count": 12,
   "id": "b96f296d",
   "metadata": {
    "ExecuteTime": {
     "end_time": "2021-11-24T14:53:20.844033Z",
     "start_time": "2021-11-24T14:53:20.829035Z"
    },
    "hidden": true
   },
   "outputs": [
    {
     "data": {
      "text/plain": [
       "[['48.6000%', '47.9295%', '47.8128%', '48.6000%'],\n",
       " ['48.6000%', '47.9295%', '47.8128%', '48.6000%'],\n",
       " ['48.6000%', '47.9295%', '47.8128%', '48.6000%'],\n",
       " ['48.6000%', '47.9295%', '47.8128%', '48.6000%'],\n",
       " ['48.6000%', '47.9295%', '47.8128%', '48.6000%'],\n",
       " ['48.6000%', '47.9295%', '47.8128%', '48.6000%'],\n",
       " ['48.6000%', '47.9295%', '47.8128%', '48.6000%'],\n",
       " ['48.6000%', '47.9295%', '47.8128%', '48.6000%'],\n",
       " ['48.6000%', '47.9295%', '47.8128%', '48.6000%'],\n",
       " ['48.6000%', '47.9295%', '47.8128%', '48.6000%'],\n",
       " ['48.6000%', '47.9295%', '47.8128%', '48.6000%'],\n",
       " ['48.6000%', '47.9295%', '47.8128%', '48.6000%'],\n",
       " ['48.6000%', '47.9295%', '47.8128%', '48.6000%'],\n",
       " ['48.6000%', '47.9295%', '47.8128%', '48.6000%'],\n",
       " ['48.6000%', '47.9295%', '47.8128%', '48.6000%'],\n",
       " ['48.6000%', '47.9295%', '47.8128%', '48.6000%'],\n",
       " ['48.6000%', '47.9295%', '47.8128%', '48.6000%'],\n",
       " ['48.6000%', '47.9295%', '47.8128%', '48.6000%'],\n",
       " ['48.6000%', '47.9295%', '47.8128%', '48.6000%'],\n",
       " ['48.6000%', '47.9295%', '47.8128%', '48.6000%'],\n",
       " ['48.6000%', '47.9295%', '47.8128%', '48.6000%'],\n",
       " ['48.6000%', '47.9295%', '47.8128%', '48.6000%'],\n",
       " ['48.6000%', '47.9295%', '47.8128%', '48.6000%'],\n",
       " ['48.6000%', '47.9295%', '47.8128%', '48.6000%'],\n",
       " ['48.6000%', '47.9295%', '47.8128%', '48.6000%'],\n",
       " ['48.6000%', '47.9295%', '47.8128%', '48.6000%'],\n",
       " ['48.6000%', '47.9295%', '47.8128%', '48.6000%'],\n",
       " ['48.6000%', '47.9295%', '47.8128%', '48.6000%'],\n",
       " ['48.6000%', '47.9295%', '47.8128%', '48.6000%'],\n",
       " ['48.6000%', '47.9295%', '47.8128%', '48.6000%'],\n",
       " ['48.6000%', '47.9295%', '47.8128%', '48.6000%'],\n",
       " ['48.6000%', '47.9295%', '47.8128%', '48.6000%'],\n",
       " ['48.6000%', '47.9295%', '47.8128%', '48.6000%'],\n",
       " ['48.6000%', '47.9295%', '47.8128%', '48.6000%'],\n",
       " ['48.6000%', '47.9295%', '47.8128%', '48.6000%'],\n",
       " ['48.6000%', '47.9295%', '47.8128%', '48.6000%'],\n",
       " ['48.6000%', '47.9295%', '47.8128%', '48.6000%'],\n",
       " ['48.6000%', '47.9295%', '47.8128%', '48.6000%'],\n",
       " ['48.6000%', '47.9295%', '47.8128%', '48.6000%'],\n",
       " ['48.6000%', '47.9295%', '47.8128%', '48.6000%']]"
      ]
     },
     "execution_count": 12,
     "metadata": {},
     "output_type": "execute_result"
    }
   ],
   "source": [
    "RFResults"
   ]
  },
  {
   "cell_type": "code",
   "execution_count": null,
   "id": "3b0491f5",
   "metadata": {
    "hidden": true
   },
   "outputs": [],
   "source": []
  },
  {
   "cell_type": "code",
   "execution_count": 31,
   "id": "561e12e2",
   "metadata": {
    "ExecuteTime": {
     "end_time": "2021-11-24T13:35:33.847459Z",
     "start_time": "2021-11-24T13:35:33.833391Z"
    },
    "hidden": true
   },
   "outputs": [
    {
     "data": {
      "text/plain": [
       "[['31.8000%', '31.5639%', '24.3181%', '31.8000%'],\n",
       " ['35.2000%', '32.5828%', '29.7142%', '35.2000%'],\n",
       " ['40.2000%', '38.5551%', '36.1568%', '40.2000%'],\n",
       " ['41.2000%', '38.6785%', '38.1432%', '41.2000%'],\n",
       " ['44.2000%', '42.8430%', '41.9577%', '44.2000%'],\n",
       " ['46.6000%', '45.6081%', '45.2889%', '46.6000%'],\n",
       " ['48.6000%', '47.4026%', '47.1659%', '48.6000%'],\n",
       " ['49.4000%', '48.5979%', '48.3864%', '49.4000%'],\n",
       " ['49.2000%', '48.7011%', '48.2848%', '49.2000%'],\n",
       " ['49.2000%', '48.5893%', '48.5433%', '49.2000%'],\n",
       " ['48.8000%', '47.9668%', '47.9876%', '48.8000%'],\n",
       " ['48.0000%', '47.6849%', '47.4037%', '48.0000%'],\n",
       " ['47.2000%', '46.3591%', '46.4568%', '47.2000%'],\n",
       " ['47.6000%', '46.4943%', '46.8162%', '47.6000%'],\n",
       " ['51.8000%', '50.9249%', '51.0985%', '51.8000%'],\n",
       " ['49.4000%', '48.6517%', '48.7543%', '49.4000%'],\n",
       " ['48.6000%', '48.0739%', '48.1108%', '48.6000%'],\n",
       " ['47.4000%', '46.4390%', '46.5471%', '47.4000%'],\n",
       " ['47.4000%', '46.3468%', '46.5540%', '47.4000%'],\n",
       " ['46.8000%', '45.6711%', '45.7624%', '46.8000%'],\n",
       " ['46.8000%', '45.7105%', '45.8425%', '46.8000%'],\n",
       " ['46.8000%', '45.9398%', '46.0025%', '46.8000%'],\n",
       " ['48.4000%', '47.6645%', '47.7496%', '48.4000%'],\n",
       " ['48.2000%', '47.1410%', '47.1180%', '48.2000%'],\n",
       " ['47.4000%', '46.1557%', '46.3980%', '47.4000%'],\n",
       " ['46.4000%', '45.6767%', '45.5675%', '46.4000%'],\n",
       " ['47.4000%', '46.5298%', '46.5520%', '47.4000%'],\n",
       " ['47.2000%', '46.4591%', '46.4171%', '47.2000%'],\n",
       " ['48.4000%', '47.5969%', '47.5584%', '48.4000%'],\n",
       " ['48.4000%', '47.6313%', '47.5882%', '48.4000%'],\n",
       " ['48.4000%', '47.6504%', '47.5518%', '48.4000%'],\n",
       " ['48.8000%', '48.1171%', '48.0107%', '48.8000%'],\n",
       " ['48.8000%', '48.1171%', '48.0107%', '48.8000%'],\n",
       " ['48.6000%', '47.8327%', '47.7792%', '48.6000%'],\n",
       " ['48.6000%', '47.9607%', '47.8086%', '48.6000%'],\n",
       " ['48.8000%', '48.1531%', '47.9686%', '48.8000%'],\n",
       " ['48.2000%', '47.5058%', '47.3869%', '48.2000%'],\n",
       " ['48.2000%', '47.4818%', '47.3827%', '48.2000%'],\n",
       " ['49.0000%', '48.3413%', '48.1735%', '49.0000%'],\n",
       " ['48.8000%', '48.0850%', '48.0011%', '48.8000%'],\n",
       " ['48.6000%', '47.9295%', '47.8128%', '48.6000%'],\n",
       " ['48.6000%', '47.9295%', '47.8128%', '48.6000%'],\n",
       " ['48.6000%', '47.9295%', '47.8128%', '48.6000%'],\n",
       " ['48.6000%', '47.9295%', '47.8128%', '48.6000%'],\n",
       " ['48.6000%', '47.9295%', '47.8128%', '48.6000%'],\n",
       " ['48.6000%', '47.9295%', '47.8128%', '48.6000%'],\n",
       " ['48.6000%', '47.9295%', '47.8128%', '48.6000%'],\n",
       " ['48.6000%', '47.9295%', '47.8128%', '48.6000%'],\n",
       " ['48.6000%', '47.9295%', '47.8128%', '48.6000%'],\n",
       " ['48.6000%', '47.9295%', '47.8128%', '48.6000%'],\n",
       " ['48.6000%', '47.9295%', '47.8128%', '48.6000%'],\n",
       " ['48.6000%', '47.9295%', '47.8128%', '48.6000%'],\n",
       " ['48.6000%', '47.9295%', '47.8128%', '48.6000%'],\n",
       " ['48.6000%', '47.9295%', '47.8128%', '48.6000%'],\n",
       " ['48.6000%', '47.9295%', '47.8128%', '48.6000%'],\n",
       " ['48.6000%', '47.9295%', '47.8128%', '48.6000%'],\n",
       " ['48.6000%', '47.9295%', '47.8128%', '48.6000%'],\n",
       " ['48.6000%', '47.9295%', '47.8128%', '48.6000%'],\n",
       " ['48.6000%', '47.9295%', '47.8128%', '48.6000%'],\n",
       " ['48.6000%', '47.9295%', '47.8128%', '48.6000%'],\n",
       " ['48.6000%', '47.9295%', '47.8128%', '48.6000%'],\n",
       " ['48.6000%', '47.9295%', '47.8128%', '48.6000%'],\n",
       " ['48.6000%', '47.9295%', '47.8128%', '48.6000%'],\n",
       " ['48.6000%', '47.9295%', '47.8128%', '48.6000%'],\n",
       " ['48.6000%', '47.9295%', '47.8128%', '48.6000%'],\n",
       " ['48.6000%', '47.9295%', '47.8128%', '48.6000%'],\n",
       " ['48.6000%', '47.9295%', '47.8128%', '48.6000%'],\n",
       " ['48.6000%', '47.9295%', '47.8128%', '48.6000%'],\n",
       " ['48.6000%', '47.9295%', '47.8128%', '48.6000%'],\n",
       " ['48.6000%', '47.9295%', '47.8128%', '48.6000%'],\n",
       " ['48.6000%', '47.9295%', '47.8128%', '48.6000%'],\n",
       " ['48.6000%', '47.9295%', '47.8128%', '48.6000%'],\n",
       " ['48.6000%', '47.9295%', '47.8128%', '48.6000%'],\n",
       " ['48.6000%', '47.9295%', '47.8128%', '48.6000%'],\n",
       " ['48.6000%', '47.9295%', '47.8128%', '48.6000%'],\n",
       " ['48.6000%', '47.9295%', '47.8128%', '48.6000%'],\n",
       " ['48.6000%', '47.9295%', '47.8128%', '48.6000%'],\n",
       " ['48.6000%', '47.9295%', '47.8128%', '48.6000%'],\n",
       " ['48.6000%', '47.9295%', '47.8128%', '48.6000%'],\n",
       " ['48.6000%', '47.9295%', '47.8128%', '48.6000%']]"
      ]
     },
     "execution_count": 31,
     "metadata": {},
     "output_type": "execute_result"
    }
   ],
   "source": [
    "RFResults"
   ]
  },
  {
   "cell_type": "code",
   "execution_count": 26,
   "id": "aab39471",
   "metadata": {
    "ExecuteTime": {
     "end_time": "2021-11-24T11:20:03.030187Z",
     "start_time": "2021-11-24T11:15:12.896446Z"
    },
    "hidden": true
   },
   "outputs": [],
   "source": []
  },
  {
   "cell_type": "code",
   "execution_count": null,
   "id": "44d2029a",
   "metadata": {
    "hidden": true
   },
   "outputs": [],
   "source": []
  }
 ],
 "metadata": {
  "kernelspec": {
   "display_name": "Python 3 (ipykernel)",
   "language": "python",
   "name": "python3"
  },
  "language_info": {
   "codemirror_mode": {
    "name": "ipython",
    "version": 3
   },
   "file_extension": ".py",
   "mimetype": "text/x-python",
   "name": "python",
   "nbconvert_exporter": "python",
   "pygments_lexer": "ipython3",
   "version": "3.8.11"
  },
  "latex_envs": {
   "LaTeX_envs_menu_present": true,
   "autoclose": false,
   "autocomplete": true,
   "bibliofile": "biblio.bib",
   "cite_by": "apalike",
   "current_citInitial": 1,
   "eqLabelWithNumbers": true,
   "eqNumInitial": 1,
   "hotkeys": {
    "equation": "Ctrl-E",
    "itemize": "Ctrl-I"
   },
   "labels_anchors": false,
   "latex_user_defs": false,
   "report_style_numbering": false,
   "user_envs_cfg": false
  },
  "toc": {
   "base_numbering": 1,
   "nav_menu": {},
   "number_sections": true,
   "sideBar": true,
   "skip_h1_title": false,
   "title_cell": "Table of Contents",
   "title_sidebar": "Contents",
   "toc_cell": false,
   "toc_position": {},
   "toc_section_display": true,
   "toc_window_display": false
  }
 },
 "nbformat": 4,
 "nbformat_minor": 5
}
