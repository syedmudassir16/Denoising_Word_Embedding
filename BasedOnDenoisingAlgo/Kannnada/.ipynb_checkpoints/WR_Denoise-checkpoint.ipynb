{
 "cells": [
  {
   "cell_type": "markdown",
   "id": "cf41512a",
   "metadata": {},
   "source": [
    "# MuRIL"
   ]
  },
  {
   "cell_type": "code",
   "execution_count": 1,
   "id": "8f8d95c9",
   "metadata": {
    "ExecuteTime": {
     "end_time": "2021-11-26T00:14:22.090542Z",
     "start_time": "2021-11-26T00:14:21.769577Z"
    }
   },
   "outputs": [],
   "source": [
    "import random\n",
    "random.seed(10)\n",
    "import time\n",
    "import cupy as cp"
   ]
  },
  {
   "cell_type": "code",
   "execution_count": 2,
   "id": "395b492b",
   "metadata": {
    "ExecuteTime": {
     "end_time": "2021-11-26T00:14:23.387704Z",
     "start_time": "2021-11-26T00:14:22.105544Z"
    }
   },
   "outputs": [
    {
     "data": {
      "text/plain": [
       "(cupy._core.core.ndarray, cupy._core.core.ndarray)"
      ]
     },
     "execution_count": 2,
     "metadata": {},
     "output_type": "execute_result"
    }
   ],
   "source": [
    "X_train = cp.load('Embeddings/Kan_MuRIL_train.npy')\n",
    "X_val = cp.load('Embeddings/Kan_MuRIL_val.npy')\n",
    "type(X_train), type(X_val)"
   ]
  },
  {
   "cell_type": "code",
   "execution_count": 3,
   "id": "cfd7d6b6",
   "metadata": {
    "ExecuteTime": {
     "end_time": "2021-11-26T00:14:23.403571Z",
     "start_time": "2021-11-26T00:14:23.389575Z"
    }
   },
   "outputs": [
    {
     "data": {
      "text/plain": [
       "((2750, 768), (250, 768))"
      ]
     },
     "execution_count": 3,
     "metadata": {},
     "output_type": "execute_result"
    }
   ],
   "source": [
    "X_train.shape, X_val.shape"
   ]
  },
  {
   "cell_type": "code",
   "execution_count": 4,
   "id": "f9753d79",
   "metadata": {
    "ExecuteTime": {
     "end_time": "2021-11-26T00:14:23.419573Z",
     "start_time": "2021-11-26T00:14:23.405585Z"
    }
   },
   "outputs": [],
   "source": [
    "from Denoising.WR_LS_Denoising import WR_LS_Denoise"
   ]
  },
  {
   "cell_type": "code",
   "execution_count": 5,
   "id": "b6e109f3",
   "metadata": {
    "ExecuteTime": {
     "end_time": "2021-11-26T00:16:45.721931Z",
     "start_time": "2021-11-26T00:14:23.422597Z"
    }
   },
   "outputs": [
    {
     "name": "stdout",
     "output_type": "stream",
     "text": [
      "Fri Nov 26 05:44:23 2021\n",
      "0 Fri Nov 26 05:44:25 2021\n",
      "1000 Fri Nov 26 05:45:17 2021\n",
      "2000 Fri Nov 26 05:46:08 2021\n"
     ]
    }
   ],
   "source": [
    "start = time.ctime(time.time())\n",
    "print(start)\n",
    "for i in range(len(X_train)):\n",
    "    Denoised =  WR_LS_Denoise(X_train[i],lamda=0.005)\n",
    "    X_train[i] = Denoised\n",
    "    if(i%1000 == 0):\n",
    "        print(i, time.ctime(time.time()))"
   ]
  },
  {
   "cell_type": "code",
   "execution_count": 6,
   "id": "27c6c3c1",
   "metadata": {
    "ExecuteTime": {
     "end_time": "2021-11-26T00:16:58.268932Z",
     "start_time": "2021-11-26T00:16:45.722932Z"
    }
   },
   "outputs": [
    {
     "name": "stdout",
     "output_type": "stream",
     "text": [
      "Fri Nov 26 05:46:45 2021\n",
      "0 Fri Nov 26 05:46:45 2021\n"
     ]
    }
   ],
   "source": [
    "start = time.ctime(time.time())\n",
    "print(start)\n",
    "for i in range(len(X_val)):\n",
    "    Denoised =  WR_LS_Denoise(X_val[i],lamda=0.005)\n",
    "    X_val[i] = Denoised\n",
    "    if(i%1000 == 0):\n",
    "        print(i, time.ctime(time.time()))"
   ]
  },
  {
   "cell_type": "code",
   "execution_count": 7,
   "id": "957c79e1",
   "metadata": {
    "ExecuteTime": {
     "end_time": "2021-11-26T00:16:58.299931Z",
     "start_time": "2021-11-26T00:16:58.269932Z"
    }
   },
   "outputs": [],
   "source": [
    "X_WR_Denoise_Embed_train = cp.ndarray.get(X_train)\n",
    "X_WR_Denoise_Embed_val = cp.ndarray.get(X_val)"
   ]
  },
  {
   "cell_type": "code",
   "execution_count": 8,
   "id": "7b0511f5",
   "metadata": {
    "ExecuteTime": {
     "end_time": "2021-11-26T00:16:58.314933Z",
     "start_time": "2021-11-26T00:16:58.302954Z"
    }
   },
   "outputs": [],
   "source": [
    "import numpy as np\n",
    "Y_raw_train = np.load(\"Embeddings/Kan/Split2750and250/Kan_Train_label_2750.npy\")\n",
    "Y_raw_val = np.load(\"Embeddings/Kan/Split2750and250/Kan_val_label_250.npy\")"
   ]
  },
  {
   "cell_type": "code",
   "execution_count": 9,
   "id": "128d5c03",
   "metadata": {
    "ExecuteTime": {
     "end_time": "2021-11-26T00:16:58.617933Z",
     "start_time": "2021-11-26T00:16:58.316937Z"
    }
   },
   "outputs": [
    {
     "data": {
      "text/plain": [
       "((2750,), (250,))"
      ]
     },
     "execution_count": 9,
     "metadata": {},
     "output_type": "execute_result"
    }
   ],
   "source": [
    "from sklearn.preprocessing import LabelEncoder\n",
    "le = LabelEncoder()\n",
    "Y_train = le.fit_transform(Y_raw_train)\n",
    "Y_val = le.fit_transform(Y_raw_val)\n",
    "Y_train.shape, Y_val.shape"
   ]
  },
  {
   "cell_type": "code",
   "execution_count": 10,
   "id": "526ac764",
   "metadata": {
    "ExecuteTime": {
     "end_time": "2021-11-26T00:17:51.650932Z",
     "start_time": "2021-11-26T00:16:58.619933Z"
    }
   },
   "outputs": [
    {
     "name": "stdout",
     "output_type": "stream",
     "text": [
      "[2021-11-26 00:17:06.076] Start to fit the model:\n",
      "[2021-11-26 00:17:06.076] Fitting cascade layer = 0 \n",
      "[2021-11-26 00:17:12.911] layer = 0  | Val Acc = 47.382 % | Elapsed = 6.835 s\n",
      "[2021-11-26 00:17:12.924] Fitting cascade layer = 1 \n",
      "[2021-11-26 00:17:19.297] layer = 1  | Val Acc = 47.600 % | Elapsed = 6.373 s\n",
      "[2021-11-26 00:17:19.307] Fitting cascade layer = 2 \n",
      "[2021-11-26 00:17:25.693] layer = 2  | Val Acc = 47.200 % | Elapsed = 6.386 s\n",
      "[2021-11-26 00:17:25.693] Early stopping counter: 1 out of 2\n",
      "[2021-11-26 00:17:25.703] Fitting cascade layer = 3 \n",
      "[2021-11-26 00:17:32.125] layer = 3  | Val Acc = 47.891 % | Elapsed = 6.422 s\n",
      "[2021-11-26 00:17:32.137] Fitting cascade layer = 4 \n",
      "[2021-11-26 00:17:38.537] layer = 4  | Val Acc = 49.200 % | Elapsed = 6.400 s\n",
      "[2021-11-26 00:17:38.547] Fitting cascade layer = 5 \n",
      "[2021-11-26 00:17:45.028] layer = 5  | Val Acc = 48.145 % | Elapsed = 6.481 s\n",
      "[2021-11-26 00:17:45.028] Early stopping counter: 1 out of 2\n",
      "[2021-11-26 00:17:45.039] Fitting cascade layer = 6 \n",
      "[2021-11-26 00:17:51.439] layer = 6  | Val Acc = 47.673 % | Elapsed = 6.400 s\n",
      "[2021-11-26 00:17:51.439] Early stopping counter: 2 out of 2\n",
      "[2021-11-26 00:17:51.439] Handling early stopping\n",
      "[2021-11-26 00:17:51.440] The optimal number of layers: 5\n",
      "[2021-11-26 00:17:51.441] Start to evalute the model:\n",
      "[2021-11-26 00:17:51.450] Evaluating cascade layer = 0 \n",
      "[2021-11-26 00:17:51.485] Evaluating cascade layer = 1 \n",
      "[2021-11-26 00:17:51.520] Evaluating cascade layer = 2 \n",
      "[2021-11-26 00:17:51.556] Evaluating cascade layer = 3 \n",
      "[2021-11-26 00:17:51.592] Evaluating cascade layer = 4 \n"
     ]
    }
   ],
   "source": [
    "from Models.MLAlgos import SVectorMachine, Dtree, Rforest, NB, KNN, DeepForest\n",
    "\n",
    "SVM_WRDenoise_Result = SVectorMachine(X_WR_Denoise_Embed_train, Y_train, X_WR_Denoise_Embed_val, Y_val, Cval = 1000,deguree=1,kernelu='rbf' )\n",
    "Dtree_WRDenoise_Result = Dtree(X_WR_Denoise_Embed_train, Y_train, X_WR_Denoise_Embed_val, Y_val,  deepth=4, split= 6)\n",
    "Rforest_WRDenoise_Result = Rforest(X_WR_Denoise_Embed_train, Y_train, X_WR_Denoise_Embed_val, Y_val, deepth=19, split= 6)\n",
    "NB_WRDenoise_Result = NB(X_WR_Denoise_Embed_train, Y_train, X_WR_Denoise_Embed_val, Y_val)\n",
    "KNN_WRDenoise_Result = KNN(X_WR_Denoise_Embed_train, Y_train, X_WR_Denoise_Embed_val, Y_val)\n",
    "Deep_WRDenoise_Result = DeepForest(X_WR_Denoise_Embed_train, Y_train, X_WR_Denoise_Embed_val, Y_val)"
   ]
  },
  {
   "cell_type": "code",
   "execution_count": 11,
   "id": "a81bd07a",
   "metadata": {
    "ExecuteTime": {
     "end_time": "2021-11-26T00:17:51.951933Z",
     "start_time": "2021-11-26T00:17:51.652932Z"
    }
   },
   "outputs": [
    {
     "data": {
      "text/html": [
       "<div>\n",
       "<style scoped>\n",
       "    .dataframe tbody tr th:only-of-type {\n",
       "        vertical-align: middle;\n",
       "    }\n",
       "\n",
       "    .dataframe tbody tr th {\n",
       "        vertical-align: top;\n",
       "    }\n",
       "\n",
       "    .dataframe thead th {\n",
       "        text-align: right;\n",
       "    }\n",
       "</style>\n",
       "<table border=\"1\" class=\"dataframe\">\n",
       "  <thead>\n",
       "    <tr style=\"text-align: right;\">\n",
       "      <th></th>\n",
       "      <th>accuracy</th>\n",
       "      <th>precision</th>\n",
       "      <th>f1</th>\n",
       "      <th>recall</th>\n",
       "    </tr>\n",
       "  </thead>\n",
       "  <tbody>\n",
       "    <tr>\n",
       "      <th>SVM</th>\n",
       "      <td>51.6000%</td>\n",
       "      <td>50.6186%</td>\n",
       "      <td>50.8396%</td>\n",
       "      <td>51.6000%</td>\n",
       "    </tr>\n",
       "    <tr>\n",
       "      <th>DTree</th>\n",
       "      <td>42.0000%</td>\n",
       "      <td>41.7472%</td>\n",
       "      <td>39.0779%</td>\n",
       "      <td>42.0000%</td>\n",
       "    </tr>\n",
       "    <tr>\n",
       "      <th>Rforest</th>\n",
       "      <td>53.2000%</td>\n",
       "      <td>52.9505%</td>\n",
       "      <td>52.4795%</td>\n",
       "      <td>53.2000%</td>\n",
       "    </tr>\n",
       "    <tr>\n",
       "      <th>NB</th>\n",
       "      <td>38.0000%</td>\n",
       "      <td>32.6251%</td>\n",
       "      <td>34.0108%</td>\n",
       "      <td>38.0000%</td>\n",
       "    </tr>\n",
       "    <tr>\n",
       "      <th>KNN</th>\n",
       "      <td>49.2000%</td>\n",
       "      <td>50.7245%</td>\n",
       "      <td>48.4686%</td>\n",
       "      <td>49.2000%</td>\n",
       "    </tr>\n",
       "    <tr>\n",
       "      <th>DeepForest</th>\n",
       "      <td>47.6000%</td>\n",
       "      <td>45.8870%</td>\n",
       "      <td>45.6393%</td>\n",
       "      <td>47.6000%</td>\n",
       "    </tr>\n",
       "  </tbody>\n",
       "</table>\n",
       "</div>"
      ],
      "text/plain": [
       "            accuracy precision        f1    recall\n",
       "SVM         51.6000%  50.6186%  50.8396%  51.6000%\n",
       "DTree       42.0000%  41.7472%  39.0779%  42.0000%\n",
       "Rforest     53.2000%  52.9505%  52.4795%  53.2000%\n",
       "NB          38.0000%  32.6251%  34.0108%  38.0000%\n",
       "KNN         49.2000%  50.7245%  48.4686%  49.2000%\n",
       "DeepForest  47.6000%  45.8870%  45.6393%  47.6000%"
      ]
     },
     "execution_count": 11,
     "metadata": {},
     "output_type": "execute_result"
    }
   ],
   "source": [
    "import pandas as pd\n",
    "AFTR_WR_Denoising= pd.DataFrame({'SVM' : SVM_WRDenoise_Result, \n",
    "            'DTree' : Dtree_WRDenoise_Result,\n",
    "            'Rforest' : Rforest_WRDenoise_Result,\n",
    "            'NB' : NB_WRDenoise_Result,\n",
    "            'KNN' : KNN_WRDenoise_Result,\n",
    "            'DeepForest':Deep_WRDenoise_Result})\n",
    "AFTR_WR_Denoising.index = ['accuracy', 'precision', 'f1', 'recall']\n",
    "AFTR_WR_Denoising = AFTR_WR_Denoising.transpose()\n",
    "AFTR_WR_Denoising"
   ]
  },
  {
   "cell_type": "code",
   "execution_count": null,
   "id": "c4474652",
   "metadata": {},
   "outputs": [],
   "source": []
  },
  {
   "cell_type": "code",
   "execution_count": null,
   "id": "03652a16",
   "metadata": {},
   "outputs": [],
   "source": []
  },
  {
   "cell_type": "markdown",
   "id": "95736905",
   "metadata": {},
   "source": [
    "<h1><center>If cupy error comes then restart and run only the below part :)</center></h1>"
   ]
  },
  {
   "cell_type": "markdown",
   "id": "a8b8153a",
   "metadata": {},
   "source": [
    "# LABSE"
   ]
  },
  {
   "cell_type": "code",
   "execution_count": 1,
   "id": "7c4b27ec",
   "metadata": {
    "ExecuteTime": {
     "end_time": "2021-11-26T05:44:44.845196Z",
     "start_time": "2021-11-26T05:44:42.765199Z"
    }
   },
   "outputs": [],
   "source": [
    "import random\n",
    "random.seed(10)\n",
    "import cupy as cp\n",
    "import time"
   ]
  },
  {
   "cell_type": "code",
   "execution_count": 2,
   "id": "ff98c6b3",
   "metadata": {
    "ExecuteTime": {
     "end_time": "2021-11-26T05:44:46.205424Z",
     "start_time": "2021-11-26T05:44:44.847198Z"
    }
   },
   "outputs": [
    {
     "data": {
      "text/plain": [
       "(cupy._core.core.ndarray, cupy._core.core.ndarray)"
      ]
     },
     "execution_count": 2,
     "metadata": {},
     "output_type": "execute_result"
    }
   ],
   "source": [
    "X_train = cp.load('Embeddings/Kan_MuRIL_train.npy')\n",
    "X_val = cp.load('Embeddings/Kan_MuRIL_val.npy')\n",
    "type(X_train), type(X_val)"
   ]
  },
  {
   "cell_type": "code",
   "execution_count": 3,
   "id": "c9b233e5",
   "metadata": {
    "ExecuteTime": {
     "end_time": "2021-11-26T05:47:13.302979Z",
     "start_time": "2021-11-26T05:44:46.206417Z"
    }
   },
   "outputs": [
    {
     "name": "stdout",
     "output_type": "stream",
     "text": [
      "Fri Nov 26 11:14:46 2021\n",
      "0 Fri Nov 26 11:14:48 2021\n",
      "1000 Fri Nov 26 11:15:42 2021\n",
      "2000 Fri Nov 26 11:16:34 2021\n"
     ]
    }
   ],
   "source": [
    "from Denoising.WR_LS_Denoising import WR_LS_Denoise\n",
    "start = time.ctime(time.time())\n",
    "print(start)\n",
    "for i in range(len(X_train)):\n",
    "    Denoised =  WR_LS_Denoise(X_train[i],lamda=0.001)\n",
    "    X_train[i] = Denoised\n",
    "    if(i%1000 == 0):\n",
    "        print(i, time.ctime(time.time()))"
   ]
  },
  {
   "cell_type": "code",
   "execution_count": 4,
   "id": "5b5efd62",
   "metadata": {
    "ExecuteTime": {
     "end_time": "2021-11-26T05:47:26.354978Z",
     "start_time": "2021-11-26T05:47:13.303979Z"
    }
   },
   "outputs": [
    {
     "name": "stdout",
     "output_type": "stream",
     "text": [
      "Fri Nov 26 11:17:13 2021\n",
      "0 Fri Nov 26 11:17:13 2021\n"
     ]
    }
   ],
   "source": [
    "start = time.ctime(time.time())\n",
    "print(start)\n",
    "for i in range(len(X_val)):\n",
    "    Denoised =  WR_LS_Denoise(X_val[i],lamda=0.001)\n",
    "    X_val[i] = Denoised\n",
    "    if(i%1000 == 0):\n",
    "        print(i, time.ctime(time.time()))"
   ]
  },
  {
   "cell_type": "code",
   "execution_count": 5,
   "id": "db010f4b",
   "metadata": {
    "ExecuteTime": {
     "end_time": "2021-11-26T05:47:26.369981Z",
     "start_time": "2021-11-26T05:47:26.355982Z"
    }
   },
   "outputs": [],
   "source": [
    "X_LABSE_WR_Denoise_Embed_train = cp.ndarray.get(X_train)\n",
    "X_LABSE_WR_Denoise_Embed_val = cp.ndarray.get(X_val)"
   ]
  },
  {
   "cell_type": "code",
   "execution_count": 6,
   "id": "80126283",
   "metadata": {
    "ExecuteTime": {
     "end_time": "2021-11-26T05:47:26.385980Z",
     "start_time": "2021-11-26T05:47:26.371983Z"
    }
   },
   "outputs": [],
   "source": [
    "import numpy as np\n",
    "Y_raw_train = np.load(\"Embeddings/Kan/Split2750and250/Kan_Train_label_2750.npy\")\n",
    "Y_raw_val = np.load(\"Embeddings/Kan/Split2750and250/Kan_val_label_250.npy\")"
   ]
  },
  {
   "cell_type": "code",
   "execution_count": 7,
   "id": "f20e3a68",
   "metadata": {
    "ExecuteTime": {
     "end_time": "2021-11-26T05:47:26.705013Z",
     "start_time": "2021-11-26T05:47:26.387999Z"
    }
   },
   "outputs": [
    {
     "data": {
      "text/plain": [
       "((2750,), (250,))"
      ]
     },
     "execution_count": 7,
     "metadata": {},
     "output_type": "execute_result"
    }
   ],
   "source": [
    "from sklearn.preprocessing import LabelEncoder\n",
    "le = LabelEncoder()\n",
    "Y_train = le.fit_transform(Y_raw_train)\n",
    "Y_val = le.fit_transform(Y_raw_val)\n",
    "Y_train.shape, Y_val.shape"
   ]
  },
  {
   "cell_type": "code",
   "execution_count": 37,
   "id": "167c66ea",
   "metadata": {
    "ExecuteTime": {
     "end_time": "2021-11-26T11:57:45.637378Z",
     "start_time": "2021-11-26T11:56:56.677369Z"
    }
   },
   "outputs": [
    {
     "name": "stdout",
     "output_type": "stream",
     "text": [
      "[2021-11-26 11:57:04.135] Start to fit the model:\n",
      "[2021-11-26 11:57:04.135] Fitting cascade layer = 0 \n",
      "[2021-11-26 11:57:11.745] layer = 0  | Val Acc = 46.727 % | Elapsed = 7.610 s\n",
      "[2021-11-26 11:57:11.759] Fitting cascade layer = 1 \n",
      "[2021-11-26 11:57:18.902] layer = 1  | Val Acc = 46.945 % | Elapsed = 7.143 s\n",
      "[2021-11-26 11:57:18.912] Fitting cascade layer = 2 \n",
      "[2021-11-26 11:57:25.623] layer = 2  | Val Acc = 47.927 % | Elapsed = 6.710 s\n",
      "[2021-11-26 11:57:25.634] Fitting cascade layer = 3 \n",
      "[2021-11-26 11:57:32.214] layer = 3  | Val Acc = 48.400 % | Elapsed = 6.580 s\n",
      "[2021-11-26 11:57:32.225] Fitting cascade layer = 4 \n",
      "[2021-11-26 11:57:38.743] layer = 4  | Val Acc = 48.255 % | Elapsed = 6.518 s\n",
      "[2021-11-26 11:57:38.743] Early stopping counter: 1 out of 2\n",
      "[2021-11-26 11:57:38.753] Fitting cascade layer = 5 \n",
      "[2021-11-26 11:57:45.467] layer = 5  | Val Acc = 47.600 % | Elapsed = 6.714 s\n",
      "[2021-11-26 11:57:45.467] Early stopping counter: 2 out of 2\n",
      "[2021-11-26 11:57:45.467] Handling early stopping\n",
      "[2021-11-26 11:57:45.468] The optimal number of layers: 4\n",
      "[2021-11-26 11:57:45.470] Start to evalute the model:\n",
      "[2021-11-26 11:57:45.478] Evaluating cascade layer = 0 \n",
      "[2021-11-26 11:57:45.513] Evaluating cascade layer = 1 \n",
      "[2021-11-26 11:57:45.548] Evaluating cascade layer = 2 \n",
      "[2021-11-26 11:57:45.582] Evaluating cascade layer = 3 \n"
     ]
    }
   ],
   "source": [
    "from Models.MLAlgos import SVectorMachine, Dtree, Rforest, NB, KNN, DeepForest\n",
    "\n",
    "SVM_WRDenoise_Result = SVectorMachine(X_LABSE_WR_Denoise_Embed_train, Y_train, X_LABSE_WR_Denoise_Embed_val, Y_val, Cval=1000, deguree=1)\n",
    "Dtree_WRDenoise_Result = Dtree(X_LABSE_WR_Denoise_Embed_train, Y_train, X_LABSE_WR_Denoise_Embed_val, Y_val, deepth=9, split=12)\n",
    "Rforest_WRDenoise_Result = Rforest(X_LABSE_WR_Denoise_Embed_train, Y_train, X_LABSE_WR_Denoise_Embed_val, Y_val, deepth=25, split= 19)\n",
    "NB_WRDenoise_Result = NB(X_LABSE_WR_Denoise_Embed_train, Y_train, X_LABSE_WR_Denoise_Embed_val, Y_val)\n",
    "KNN_WRDenoise_Result = KNN(X_LABSE_WR_Denoise_Embed_train, Y_train, X_LABSE_WR_Denoise_Embed_val, Y_val)\n",
    "Deep_WRDenoise_Result = DeepForest(X_LABSE_WR_Denoise_Embed_train, Y_train, X_LABSE_WR_Denoise_Embed_val, Y_val)"
   ]
  },
  {
   "cell_type": "code",
   "execution_count": 38,
   "id": "5f4912a3",
   "metadata": {
    "ExecuteTime": {
     "end_time": "2021-11-26T11:57:45.685370Z",
     "start_time": "2021-11-26T11:57:45.640402Z"
    }
   },
   "outputs": [
    {
     "data": {
      "text/html": [
       "<div>\n",
       "<style scoped>\n",
       "    .dataframe tbody tr th:only-of-type {\n",
       "        vertical-align: middle;\n",
       "    }\n",
       "\n",
       "    .dataframe tbody tr th {\n",
       "        vertical-align: top;\n",
       "    }\n",
       "\n",
       "    .dataframe thead th {\n",
       "        text-align: right;\n",
       "    }\n",
       "</style>\n",
       "<table border=\"1\" class=\"dataframe\">\n",
       "  <thead>\n",
       "    <tr style=\"text-align: right;\">\n",
       "      <th></th>\n",
       "      <th>accuracy</th>\n",
       "      <th>precision</th>\n",
       "      <th>f1</th>\n",
       "      <th>recall</th>\n",
       "    </tr>\n",
       "  </thead>\n",
       "  <tbody>\n",
       "    <tr>\n",
       "      <th>SVM</th>\n",
       "      <td>51.6000%</td>\n",
       "      <td>50.6135%</td>\n",
       "      <td>50.7996%</td>\n",
       "      <td>51.6000%</td>\n",
       "    </tr>\n",
       "    <tr>\n",
       "      <th>DTree</th>\n",
       "      <td>44.8000%</td>\n",
       "      <td>44.9894%</td>\n",
       "      <td>44.7362%</td>\n",
       "      <td>44.8000%</td>\n",
       "    </tr>\n",
       "    <tr>\n",
       "      <th>Rforest</th>\n",
       "      <td>51.6000%</td>\n",
       "      <td>51.5298%</td>\n",
       "      <td>51.0691%</td>\n",
       "      <td>51.6000%</td>\n",
       "    </tr>\n",
       "    <tr>\n",
       "      <th>NB</th>\n",
       "      <td>38.0000%</td>\n",
       "      <td>32.6293%</td>\n",
       "      <td>34.0018%</td>\n",
       "      <td>38.0000%</td>\n",
       "    </tr>\n",
       "    <tr>\n",
       "      <th>KNN</th>\n",
       "      <td>50.4000%</td>\n",
       "      <td>51.8223%</td>\n",
       "      <td>49.6549%</td>\n",
       "      <td>50.4000%</td>\n",
       "    </tr>\n",
       "    <tr>\n",
       "      <th>DeepForest</th>\n",
       "      <td>49.2000%</td>\n",
       "      <td>48.8502%</td>\n",
       "      <td>47.1206%</td>\n",
       "      <td>49.2000%</td>\n",
       "    </tr>\n",
       "  </tbody>\n",
       "</table>\n",
       "</div>"
      ],
      "text/plain": [
       "            accuracy precision        f1    recall\n",
       "SVM         51.6000%  50.6135%  50.7996%  51.6000%\n",
       "DTree       44.8000%  44.9894%  44.7362%  44.8000%\n",
       "Rforest     51.6000%  51.5298%  51.0691%  51.6000%\n",
       "NB          38.0000%  32.6293%  34.0018%  38.0000%\n",
       "KNN         50.4000%  51.8223%  49.6549%  50.4000%\n",
       "DeepForest  49.2000%  48.8502%  47.1206%  49.2000%"
      ]
     },
     "execution_count": 38,
     "metadata": {},
     "output_type": "execute_result"
    }
   ],
   "source": [
    "import pandas as pd\n",
    "AFTR_LABS_Denoising= pd.DataFrame({'SVM' : SVM_WRDenoise_Result, \n",
    "            'DTree' : Dtree_WRDenoise_Result,\n",
    "            'Rforest' : Rforest_WRDenoise_Result,\n",
    "            'NB' : NB_WRDenoise_Result,\n",
    "            'KNN' : KNN_WRDenoise_Result,\n",
    "            'DeepForest':Deep_WRDenoise_Result})\n",
    "AFTR_LABS_Denoising.index = ['accuracy', 'precision', 'f1', 'recall']\n",
    "AFTR_LABS_Denoising = AFTR_LABS_Denoising.transpose()\n",
    "AFTR_LABS_Denoising"
   ]
  },
  {
   "cell_type": "code",
   "execution_count": null,
   "id": "364c78b0",
   "metadata": {},
   "outputs": [],
   "source": []
  },
  {
   "cell_type": "markdown",
   "id": "1bd48eb5",
   "metadata": {
    "heading_collapsed": true
   },
   "source": [
    "# Rough Work"
   ]
  },
  {
   "cell_type": "code",
   "execution_count": 37,
   "id": "7dd6346e",
   "metadata": {
    "ExecuteTime": {
     "end_time": "2021-11-26T00:02:41.168252Z",
     "start_time": "2021-11-26T00:02:41.159252Z"
    },
    "hidden": true
   },
   "outputs": [],
   "source": [
    "from sklearn.metrics import f1_score, precision_score, recall_score, accuracy_score\n",
    "from sklearn.tree import DecisionTreeClassifier\n",
    "\n",
    "#DecisionTree\n",
    "\n",
    "def TestDtree(X_train, Y_train, X_test, Y_test,deepth=None, split= 2):\n",
    "    #Dtree = DecisionTreeClassifier(criterion='entropy', random_state=10)\n",
    "    Dtree = DecisionTreeClassifier(max_depth=deepth,min_samples_split = split, random_state=10)\n",
    "    Dtree.fit(X_train,Y_train)\n",
    "    pred_Dtree = Dtree.predict(X_test)\n",
    "    acc = f'{100*accuracy_score(Y_test,pred_Dtree):.4f}%'\n",
    "    prec = f'{100*precision_score(Y_test,pred_Dtree, average=\"macro\"):.4f}%'\n",
    "    f1 = f'{100*f1_score(Y_test,pred_Dtree, average=\"macro\"):.4f}%'\n",
    "    recall = f'{100*recall_score(Y_test,pred_Dtree, average=\"macro\"):.4f}%'\n",
    "    Result2 = [acc, prec, f1, recall]\n",
    "    return Result2"
   ]
  },
  {
   "cell_type": "code",
   "execution_count": 44,
   "id": "c4e4cd4c",
   "metadata": {
    "ExecuteTime": {
     "end_time": "2021-11-26T00:11:03.698657Z",
     "start_time": "2021-11-26T00:10:56.536657Z"
    },
    "hidden": true
   },
   "outputs": [
    {
     "name": "stdout",
     "output_type": "stream",
     "text": [
      "index:  0\n",
      "BestResult: ['42.0000%', '41.7472%', '39.0779%', '42.0000%']\n",
      "[1.648251, 1.648251, 1.648251, 1.648251, 1.648251, 1.648251, 1.648251, 1.648251, 1.648251, 1.648251, 1.648251]\n"
     ]
    },
    {
     "data": {
      "text/plain": [
       "[['42.0000%', '41.7472%', '39.0779%', '42.0000%'],\n",
       " ['42.0000%', '41.7472%', '39.0779%', '42.0000%'],\n",
       " ['42.0000%', '41.7472%', '39.0779%', '42.0000%'],\n",
       " ['42.0000%', '41.7472%', '39.0779%', '42.0000%'],\n",
       " ['42.0000%', '41.7472%', '39.0779%', '42.0000%'],\n",
       " ['42.0000%', '41.7472%', '39.0779%', '42.0000%'],\n",
       " ['42.0000%', '41.7472%', '39.0779%', '42.0000%'],\n",
       " ['42.0000%', '41.7472%', '39.0779%', '42.0000%'],\n",
       " ['42.0000%', '41.7472%', '39.0779%', '42.0000%'],\n",
       " ['42.0000%', '41.7472%', '39.0779%', '42.0000%'],\n",
       " ['42.0000%', '41.7472%', '39.0779%', '42.0000%']]"
      ]
     },
     "execution_count": 44,
     "metadata": {},
     "output_type": "execute_result"
    }
   ],
   "source": [
    "DTSipltResults = []\n",
    "sumtol = []\n",
    "count = 0\n",
    "for i in range(50):\n",
    "    Dtree_WRDenoise_Result = TestDtree(X_WR_Denoise_Embed_train, Y_train, X_WR_Denoise_Embed_val, Y_val, deepth=4, split= i+2)\n",
    "    DTSipltResults.append(Dtree_WRDenoise_Result)\n",
    "    if i>0:\n",
    "        if DTSipltResults[i] == DTSipltResults[i-1]:\n",
    "            count = count + 1\n",
    "\n",
    "    sumtemp = sum([float((DTSipltResults[i][0].strip('%')))/100 , float((DTSipltResults[i][1].strip('%')))/100 , float((DTSipltResults[i][2].strip('%')))/100 , float((DTSipltResults[i][3].strip('%')))/100])\n",
    "    sumtol.append(sumtemp)\n",
    "    if count == 10:\n",
    "        break\n",
    "print('index: ',sumtol.index(max(sumtol)))\n",
    "print('BestResult:', DTSipltResults[sumtol.index(max(sumtol))])\n",
    "print(sumtol)\n",
    "DTSipltResults"
   ]
  },
  {
   "cell_type": "code",
   "execution_count": 43,
   "id": "8afa558e",
   "metadata": {
    "ExecuteTime": {
     "end_time": "2021-11-26T00:09:26.911443Z",
     "start_time": "2021-11-26T00:08:54.561429Z"
    },
    "hidden": true,
    "scrolled": true
   },
   "outputs": [
    {
     "name": "stderr",
     "output_type": "stream",
     "text": [
      "C:\\Users\\phvpa\\anaconda3\\envs\\MuRIL\\lib\\site-packages\\sklearn\\metrics\\_classification.py:1308: UndefinedMetricWarning: Precision is ill-defined and being set to 0.0 in labels with no predicted samples. Use `zero_division` parameter to control this behavior.\n",
      "  _warn_prf(average, modifier, msg_start, len(result))\n",
      "C:\\Users\\phvpa\\anaconda3\\envs\\MuRIL\\lib\\site-packages\\sklearn\\metrics\\_classification.py:1308: UndefinedMetricWarning: Precision is ill-defined and being set to 0.0 in labels with no predicted samples. Use `zero_division` parameter to control this behavior.\n",
      "  _warn_prf(average, modifier, msg_start, len(result))\n"
     ]
    },
    {
     "name": "stdout",
     "output_type": "stream",
     "text": [
      "index:  3\n",
      "BestResult: ['42.0000%', '41.7472%', '39.0779%', '42.0000%']\n",
      "[0.987943, 1.4259619999999997, 1.584095, 1.648251, 1.627453, 1.563768, 1.527532, 1.5714829999999997, 1.4658509999999998, 1.3914299999999997, 1.3240089999999998, 1.506825, 1.4295860000000002, 1.4293440000000002, 1.522125, 1.5035120000000002, 1.5224639999999998, 1.388579, 1.388579, 1.388579, 1.388579, 1.388579, 1.388579, 1.388579, 1.388579, 1.388579, 1.388579, 1.388579]\n"
     ]
    },
    {
     "data": {
      "text/plain": [
       "[['33.2000%', '13.3608%', '19.0335%', '33.2000%'],\n",
       " ['37.6000%', '33.0135%', '34.3827%', '37.6000%'],\n",
       " ['40.0000%', '39.6759%', '38.7336%', '40.0000%'],\n",
       " ['42.0000%', '41.7472%', '39.0779%', '42.0000%'],\n",
       " ['40.8000%', '40.9719%', '40.1734%', '40.8000%'],\n",
       " ['38.4000%', '40.9540%', '38.6228%', '38.4000%'],\n",
       " ['38.0000%', '39.1796%', '37.5736%', '38.0000%'],\n",
       " ['38.8000%', '40.2120%', '39.3363%', '38.8000%'],\n",
       " ['36.4000%', '37.3312%', '36.4539%', '36.4000%'],\n",
       " ['34.4000%', '35.6597%', '34.6833%', '34.4000%'],\n",
       " ['32.8000%', '33.6621%', '33.1388%', '32.8000%'],\n",
       " ['37.2000%', '38.6001%', '37.6824%', '37.2000%'],\n",
       " ['35.2000%', '36.7787%', '35.7799%', '35.2000%'],\n",
       " ['35.2000%', '36.7805%', '35.7539%', '35.2000%'],\n",
       " ['37.6000%', '38.9486%', '38.0639%', '37.6000%'],\n",
       " ['37.2000%', '38.3400%', '37.6112%', '37.2000%'],\n",
       " ['37.6000%', '38.9302%', '38.1162%', '37.6000%'],\n",
       " ['34.4000%', '35.3011%', '34.7568%', '34.4000%'],\n",
       " ['34.4000%', '35.3011%', '34.7568%', '34.4000%'],\n",
       " ['34.4000%', '35.3011%', '34.7568%', '34.4000%'],\n",
       " ['34.4000%', '35.3011%', '34.7568%', '34.4000%'],\n",
       " ['34.4000%', '35.3011%', '34.7568%', '34.4000%'],\n",
       " ['34.4000%', '35.3011%', '34.7568%', '34.4000%'],\n",
       " ['34.4000%', '35.3011%', '34.7568%', '34.4000%'],\n",
       " ['34.4000%', '35.3011%', '34.7568%', '34.4000%'],\n",
       " ['34.4000%', '35.3011%', '34.7568%', '34.4000%'],\n",
       " ['34.4000%', '35.3011%', '34.7568%', '34.4000%'],\n",
       " ['34.4000%', '35.3011%', '34.7568%', '34.4000%']]"
      ]
     },
     "execution_count": 43,
     "metadata": {},
     "output_type": "execute_result"
    }
   ],
   "source": [
    "DTSipltResults = []\n",
    "sumtol = []\n",
    "count = 0\n",
    "for i in range(50):\n",
    "    Dtree_WRDenoise_Result = TestDtree(X_WR_Denoise_Embed_train, Y_train, X_WR_Denoise_Embed_val, Y_val, deepth=i+1, split= 10)\n",
    "    DTSipltResults.append(Dtree_WRDenoise_Result)\n",
    "    if i>0:\n",
    "        if DTSipltResults[i] == DTSipltResults[i-1]:\n",
    "            count = count + 1\n",
    "\n",
    "    sumtemp = sum([float((DTSipltResults[i][0].strip('%')))/100 , float((DTSipltResults[i][1].strip('%')))/100 , float((DTSipltResults[i][2].strip('%')))/100 , float((DTSipltResults[i][3].strip('%')))/100])\n",
    "    sumtol.append(sumtemp)\n",
    "    if count == 10:\n",
    "        break\n",
    "print('index: ',sumtol.index(max(sumtol)))\n",
    "print('BestResult:', DTSipltResults[sumtol.index(max(sumtol))])\n",
    "print(sumtol)\n",
    "DTSipltResults"
   ]
  },
  {
   "cell_type": "code",
   "execution_count": 26,
   "id": "22e8283c",
   "metadata": {
    "ExecuteTime": {
     "end_time": "2021-11-25T23:41:21.538775Z",
     "start_time": "2021-11-25T23:40:51.756386Z"
    },
    "hidden": true
   },
   "outputs": [
    {
     "data": {
      "text/plain": [
       "RandomForestClassifier(max_depth=7, n_estimators=16, random_state=10)"
      ]
     },
     "execution_count": 26,
     "metadata": {},
     "output_type": "execute_result"
    }
   ],
   "source": [
    "from sklearn.datasets import make_classification\n",
    "from sklearn.ensemble import RandomForestClassifier\n",
    "from sklearn.experimental import enable_halving_search_cv  # noqa\n",
    "from sklearn.model_selection import HalvingGridSearchCV\n",
    "import pandas as pd\n",
    "\n",
    "param_grid = {'max_depth': [3, 5, 10],'min_samples_split': [2, 5, 10]}\n",
    "base_estimator = RandomForestClassifier(random_state=10)\n",
    "# X, y = make_classification(n_samples=1000, random_state=0)\n",
    "sh = HalvingGridSearchCV(base_estimator, param_grid, cv=5,\n",
    "                        factor=2, resource='n_estimators',\n",
    "                        max_resources=30).fit(X_WR_Denoise_Embed_train, Y_train)\n",
    "sh.best_estimator_"
   ]
  },
  {
   "cell_type": "code",
   "execution_count": 15,
   "id": "28908251",
   "metadata": {
    "ExecuteTime": {
     "end_time": "2021-11-25T23:30:41.490989Z",
     "start_time": "2021-11-25T23:30:41.471988Z"
    },
    "hidden": true
   },
   "outputs": [
    {
     "data": {
      "text/plain": [
       "HalvingGridSearchCV(estimator=RandomForestClassifier(random_state=10), factor=2,\n",
       "                    max_resources=30,\n",
       "                    param_grid={'max_depth': [3, 5, 10],\n",
       "                                'min_samples_split': [2, 5, 10]},\n",
       "                    resource='n_estimators')"
      ]
     },
     "execution_count": 15,
     "metadata": {},
     "output_type": "execute_result"
    }
   ],
   "source": [
    "sh"
   ]
  },
  {
   "cell_type": "code",
   "execution_count": 18,
   "id": "e4a4eb5b",
   "metadata": {
    "ExecuteTime": {
     "end_time": "2021-11-25T23:33:09.907524Z",
     "start_time": "2021-11-25T23:33:09.893525Z"
    },
    "hidden": true
   },
   "outputs": [
    {
     "data": {
      "text/plain": [
       "HalvingGridSearchCV(estimator=SVC(), factor=2, min_resources=20,\n",
       "                    param_grid={'C': [1, 10, 100], 'kernel': ('linear', 'rbf')})"
      ]
     },
     "execution_count": 18,
     "metadata": {},
     "output_type": "execute_result"
    }
   ],
   "source": [
    "sh"
   ]
  },
  {
   "cell_type": "code",
   "execution_count": 33,
   "id": "e38abdf4",
   "metadata": {
    "ExecuteTime": {
     "end_time": "2021-11-26T06:19:45.505630Z",
     "start_time": "2021-11-26T06:19:45.487663Z"
    },
    "hidden": true
   },
   "outputs": [],
   "source": [
    "from sklearn.model_selection import GridSearchCV\n",
    "from sklearn.svm import SVC\n",
    "\n",
    "param_grid = { 'C':[0.1,1,100,1000],'kernel':['rbf','poly','sigmoid','linear'],'degree':[1,2,3,4,5,6]}"
   ]
  },
  {
   "cell_type": "code",
   "execution_count": 34,
   "id": "fb6edb3a",
   "metadata": {
    "ExecuteTime": {
     "end_time": "2021-11-26T06:33:54.125363Z",
     "start_time": "2021-11-26T06:19:47.117350Z"
    },
    "hidden": true
   },
   "outputs": [
    {
     "data": {
      "text/plain": [
       "GridSearchCV(estimator=SVC(random_state=10),\n",
       "             param_grid={'C': [0.1, 1, 100, 1000], 'degree': [1, 2, 3, 4, 5, 6],\n",
       "                         'kernel': ['rbf', 'poly', 'sigmoid', 'linear']})"
      ]
     },
     "execution_count": 34,
     "metadata": {},
     "output_type": "execute_result"
    }
   ],
   "source": [
    "grid = GridSearchCV(SVC(random_state=10),param_grid)\n",
    "grid.fit(X_LABSE_WR_Denoise_Embed_train, Y_train)"
   ]
  },
  {
   "cell_type": "code",
   "execution_count": 35,
   "id": "29ed9a1d",
   "metadata": {
    "ExecuteTime": {
     "end_time": "2021-11-26T06:33:54.586330Z",
     "start_time": "2021-11-26T06:33:54.128330Z"
    },
    "hidden": true
   },
   "outputs": [
    {
     "name": "stdout",
     "output_type": "stream",
     "text": [
      "{'C': 1000, 'degree': 1, 'kernel': 'rbf'}\n",
      "0.516\n"
     ]
    }
   ],
   "source": [
    "print(grid.best_params_)\n",
    "print(grid.score(X_LABSE_WR_Denoise_Embed_val, Y_val))"
   ]
  },
  {
   "cell_type": "markdown",
   "id": "eb127fe5",
   "metadata": {
    "hidden": true
   },
   "source": [
    "Basicaly from 0.01 to 0.005 the classifiaction performance increased so decreased further to 0.001"
   ]
  },
  {
   "cell_type": "code",
   "execution_count": 13,
   "id": "456e4e95",
   "metadata": {
    "ExecuteTime": {
     "end_time": "2021-11-26T01:48:52.949747Z",
     "start_time": "2021-11-26T01:48:50.781749Z"
    },
    "hidden": true
   },
   "outputs": [
    {
     "data": {
      "text/plain": [
       "['51.6000%', '50.6135%', '50.7996%', '51.6000%']"
      ]
     },
     "execution_count": 13,
     "metadata": {},
     "output_type": "execute_result"
    }
   ],
   "source": [
    "# for lambda = 0.005\n",
    "SVM_WRDenoise_Result = SVectorMachine(X_LABSE_WR_Denoise_Embed_train, Y_train, X_LABSE_WR_Denoise_Embed_val, Y_val,Cval = grid.best_params_['C'],deguree = grid.best_params_['degree'])\n",
    "SVM_WRDenoise_Result"
   ]
  },
  {
   "cell_type": "code",
   "execution_count": 14,
   "id": "c177e9c1",
   "metadata": {
    "ExecuteTime": {
     "end_time": "2021-11-26T01:48:55.205747Z",
     "start_time": "2021-11-26T01:48:52.951748Z"
    },
    "hidden": true
   },
   "outputs": [
    {
     "data": {
      "text/plain": [
       "['51.6000%', '50.6135%', '50.7996%', '51.6000%']"
      ]
     },
     "execution_count": 14,
     "metadata": {},
     "output_type": "execute_result"
    }
   ],
   "source": [
    "# for lambda = 0.01\n",
    "SVM_WRDenoise_Result = SVectorMachine(X_LABSE_WR_Denoise_Embed_train, Y_train, X_LABSE_WR_Denoise_Embed_val, Y_val,Cval = 1000,deguree = 1)\n",
    "SVM_WRDenoise_Result"
   ]
  },
  {
   "cell_type": "code",
   "execution_count": 11,
   "id": "a9140a3c",
   "metadata": {
    "ExecuteTime": {
     "end_time": "2021-11-26T05:58:04.274833Z",
     "start_time": "2021-11-26T05:55:52.699835Z"
    },
    "hidden": true,
    "scrolled": true
   },
   "outputs": [
    {
     "name": "stdout",
     "output_type": "stream",
     "text": [
      "index:  25\n",
      "BestResult: ['50.4000%', '49.9296%', '49.8942%', '50.4000%']\n",
      "[1.404995, 1.5238840000000002, 1.592199, 1.8105429999999998, 1.846118, 1.698242, 1.954925, 1.8962539999999999, 1.987476, 1.819243, 1.974622, 1.873978, 1.958264, 1.951356, 1.969103, 1.954225, 1.8941729999999999, 1.9756330000000002, 1.832582, 1.977625, 1.99532, 1.909968, 2.000582, 2.0050220000000003, 2.0062379999999997, 1.910394, 1.913397, 1.9318799999999998, 1.9629400000000001, 1.9117959999999998, 1.909633, 1.9150289999999999, 1.9150289999999999, 1.9150289999999999, 1.9150289999999999, 1.9150289999999999, 1.9150289999999999, 1.9150289999999999, 1.9150289999999999, 1.9150289999999999, 1.9150289999999999, 1.9150289999999999]\n"
     ]
    },
    {
     "data": {
      "text/plain": [
       "[['36.0000%', '41.4946%', '27.0049%', '36.0000%'],\n",
       " ['39.2000%', '39.4191%', '34.5693%', '39.2000%'],\n",
       " ['41.2000%', '39.0088%', '37.8111%', '41.2000%'],\n",
       " ['46.4000%', '44.3672%', '43.8871%', '46.4000%'],\n",
       " ['46.8000%', '46.1007%', '44.9111%', '46.8000%'],\n",
       " ['43.6000%', '41.1884%', '41.4358%', '43.6000%'],\n",
       " ['48.8000%', '49.5042%', '48.3883%', '48.8000%'],\n",
       " ['48.0000%', '46.9123%', '46.7131%', '48.0000%'],\n",
       " ['50.0000%', '49.4196%', '49.3280%', '50.0000%'],\n",
       " ['45.6000%', '45.6301%', '45.0942%', '45.6000%'],\n",
       " ['49.6000%', '49.5918%', '48.6704%', '49.6000%'],\n",
       " ['47.2000%', '46.6961%', '46.3017%', '47.2000%'],\n",
       " ['49.2000%', '49.0099%', '48.4165%', '49.2000%'],\n",
       " ['49.2000%', '48.2870%', '48.4486%', '49.2000%'],\n",
       " ['49.6000%', '49.1136%', '48.5967%', '49.6000%'],\n",
       " ['49.2000%', '48.9946%', '48.0279%', '49.2000%'],\n",
       " ['47.6000%', '47.4477%', '46.7696%', '47.6000%'],\n",
       " ['50.0000%', '48.5797%', '48.9836%', '50.0000%'],\n",
       " ['46.4000%', '45.1255%', '45.3327%', '46.4000%'],\n",
       " ['49.6000%', '49.2672%', '49.2953%', '49.6000%'],\n",
       " ['50.4000%', '49.3132%', '49.4188%', '50.4000%'],\n",
       " ['48.0000%', '47.4408%', '47.5560%', '48.0000%'],\n",
       " ['50.4000%', '49.6499%', '49.6083%', '50.4000%'],\n",
       " ['50.4000%', '49.8159%', '49.8863%', '50.4000%'],\n",
       " ['50.4000%', '49.9296%', '49.8942%', '50.4000%'],\n",
       " ['48.0000%', '47.5652%', '47.4742%', '48.0000%'],\n",
       " ['48.0000%', '47.7794%', '47.5603%', '48.0000%'],\n",
       " ['48.4000%', '48.3345%', '48.0535%', '48.4000%'],\n",
       " ['49.2000%', '49.0644%', '48.8296%', '49.2000%'],\n",
       " ['48.0000%', '47.6475%', '47.5321%', '48.0000%'],\n",
       " ['48.0000%', '47.5223%', '47.4410%', '48.0000%'],\n",
       " ['48.0000%', '47.8304%', '47.6725%', '48.0000%'],\n",
       " ['48.0000%', '47.8304%', '47.6725%', '48.0000%'],\n",
       " ['48.0000%', '47.8304%', '47.6725%', '48.0000%'],\n",
       " ['48.0000%', '47.8304%', '47.6725%', '48.0000%'],\n",
       " ['48.0000%', '47.8304%', '47.6725%', '48.0000%'],\n",
       " ['48.0000%', '47.8304%', '47.6725%', '48.0000%'],\n",
       " ['48.0000%', '47.8304%', '47.6725%', '48.0000%'],\n",
       " ['48.0000%', '47.8304%', '47.6725%', '48.0000%'],\n",
       " ['48.0000%', '47.8304%', '47.6725%', '48.0000%'],\n",
       " ['48.0000%', '47.8304%', '47.6725%', '48.0000%'],\n",
       " ['48.0000%', '47.8304%', '47.6725%', '48.0000%']]"
      ]
     },
     "execution_count": 11,
     "metadata": {},
     "output_type": "execute_result"
    }
   ],
   "source": [
    "from Models.MLAlgos import Rforest\n",
    "RFSipltResults = []\n",
    "sumtol = []\n",
    "count = 0\n",
    "for i in range(50):\n",
    "    Rforest_WRDenoise_Result = Rforest(X_LABSE_WR_Denoise_Embed_train, Y_train, X_LABSE_WR_Denoise_Embed_val, Y_val, deepth=i+1, split= 2)\n",
    "    RFSipltResults.append(Rforest_WRDenoise_Result)\n",
    "    if i>0:\n",
    "        if RFSipltResults[i] == RFSipltResults[i-1]:\n",
    "            count = count + 1\n",
    "\n",
    "    sumtemp = sum([float((RFSipltResults[i][0].strip('%')))/100 , float((RFSipltResults[i][1].strip('%')))/100 , float((RFSipltResults[i][2].strip('%')))/100 , float((RFSipltResults[i][3].strip('%')))/100])\n",
    "    sumtol.append(sumtemp)\n",
    "    if count == 10:\n",
    "        break\n",
    "indexu = sumtol.index(max(sumtol)) + 1\n",
    "print('index: ',indexu)\n",
    "print('BestResult:', RFSipltResults[sumtol.index(max(sumtol))])\n",
    "print(sumtol)\n",
    "RFSipltResults"
   ]
  },
  {
   "cell_type": "code",
   "execution_count": 24,
   "id": "0e8af873",
   "metadata": {
    "ExecuteTime": {
     "end_time": "2021-11-26T06:10:10.531563Z",
     "start_time": "2021-11-26T06:10:10.523530Z"
    },
    "hidden": true
   },
   "outputs": [
    {
     "data": {
      "text/plain": [
       "(25, 18)"
      ]
     },
     "execution_count": 24,
     "metadata": {},
     "output_type": "execute_result"
    }
   ],
   "source": [
    "indexu,sumtol.index(max(sumtol))+1"
   ]
  },
  {
   "cell_type": "code",
   "execution_count": 12,
   "id": "52816834",
   "metadata": {
    "ExecuteTime": {
     "end_time": "2021-11-26T06:00:37.773870Z",
     "start_time": "2021-11-26T05:58:04.276845Z"
    },
    "hidden": true,
    "scrolled": true
   },
   "outputs": [
    {
     "name": "stdout",
     "output_type": "stream",
     "text": [
      "index:  17\n",
      "BestResult: ['51.6000%', '51.5298%', '51.0691%', '51.6000%']\n",
      "[2.0062379999999997, 1.963879, 1.862278, 1.9699870000000002, 1.7386369999999998, 1.91082, 2.00094, 1.907433, 1.805256, 1.9895939999999999, 1.890331, 1.8819780000000002, 1.921442, 1.869846, 1.9493049999999998, 1.943887, 1.931937, 2.057989, 1.950919, 1.832214, 1.8632819999999999, 1.819453, 1.9524329999999999, 1.9240769999999998, 1.9099719999999998, 1.9012259999999999, 1.988178, 1.872158, 1.912569, 1.915351, 1.8316379999999999, 1.93562, 1.816497, 1.841017, 1.894977, 1.884389, 1.901506, 1.885812, 1.86754, 1.881119, 1.844246, 1.866228, 1.929309, 1.873212, 1.836083, 1.784268, 1.895236, 1.903365, 1.876752, 1.86336]\n"
     ]
    },
    {
     "data": {
      "text/plain": [
       "[['50.4000%', '49.9296%', '49.8942%', '50.4000%'],\n",
       " ['49.2000%', '49.3084%', '48.6795%', '49.2000%'],\n",
       " ['46.8000%', '46.5197%', '46.1081%', '46.8000%'],\n",
       " ['49.2000%', '49.8366%', '48.7621%', '49.2000%'],\n",
       " ['43.6000%', '43.4320%', '43.2317%', '43.6000%'],\n",
       " ['48.0000%', '47.8284%', '47.2536%', '48.0000%'],\n",
       " ['50.0000%', '50.4054%', '49.6886%', '50.0000%'],\n",
       " ['48.0000%', '47.5120%', '47.2313%', '48.0000%'],\n",
       " ['45.2000%', '45.4701%', '44.6555%', '45.2000%'],\n",
       " ['49.6000%', '50.5188%', '49.2406%', '49.6000%'],\n",
       " ['47.6000%', '47.0236%', '46.8095%', '47.6000%'],\n",
       " ['47.2000%', '47.1192%', '46.6786%', '47.2000%'],\n",
       " ['48.0000%', '48.4914%', '47.6528%', '48.0000%'],\n",
       " ['46.8000%', '46.9624%', '46.4222%', '46.8000%'],\n",
       " ['48.8000%', '48.8502%', '48.4803%', '48.8000%'],\n",
       " ['48.8000%', '48.9693%', '47.8194%', '48.8000%'],\n",
       " ['48.4000%', '48.5351%', '47.8586%', '48.4000%'],\n",
       " ['51.6000%', '51.5298%', '51.0691%', '51.6000%'],\n",
       " ['48.8000%', '48.8758%', '48.6161%', '48.8000%'],\n",
       " ['46.0000%', '45.8386%', '45.3828%', '46.0000%'],\n",
       " ['46.8000%', '46.6889%', '46.0393%', '46.8000%'],\n",
       " ['45.6000%', '45.6627%', '45.0826%', '45.6000%'],\n",
       " ['48.8000%', '49.3165%', '48.3268%', '48.8000%'],\n",
       " ['48.4000%', '48.0759%', '47.5318%', '48.4000%'],\n",
       " ['48.0000%', '47.7110%', '47.2862%', '48.0000%'],\n",
       " ['47.6000%', '48.0226%', '46.9000%', '47.6000%'],\n",
       " ['50.0000%', '49.5336%', '49.2842%', '50.0000%'],\n",
       " ['47.2000%', '46.5808%', '46.2350%', '47.2000%'],\n",
       " ['48.0000%', '47.9637%', '47.2932%', '48.0000%'],\n",
       " ['48.0000%', '48.0525%', '47.4826%', '48.0000%'],\n",
       " ['46.0000%', '45.8154%', '45.3484%', '46.0000%'],\n",
       " ['48.4000%', '49.0727%', '47.6893%', '48.4000%'],\n",
       " ['46.0000%', '45.0420%', '44.6077%', '46.0000%'],\n",
       " ['46.4000%', '45.6652%', '45.6365%', '46.4000%'],\n",
       " ['47.6000%', '47.4743%', '46.8234%', '47.6000%'],\n",
       " ['47.6000%', '46.7837%', '46.4552%', '47.6000%'],\n",
       " ['47.6000%', '47.9581%', '46.9925%', '47.6000%'],\n",
       " ['47.2000%', '47.5862%', '46.5950%', '47.2000%'],\n",
       " ['46.8000%', '46.8291%', '46.3249%', '46.8000%'],\n",
       " ['46.8000%', '48.0399%', '46.4720%', '46.8000%'],\n",
       " ['46.4000%', '45.9623%', '45.6623%', '46.4000%'],\n",
       " ['46.8000%', '46.9536%', '46.0692%', '46.8000%'],\n",
       " ['48.8000%', '48.0108%', '47.3201%', '48.8000%'],\n",
       " ['47.2000%', '46.9076%', '46.0136%', '47.2000%'],\n",
       " ['46.4000%', '45.6253%', '45.1830%', '46.4000%'],\n",
       " ['45.2000%', '44.1016%', '43.9252%', '45.2000%'],\n",
       " ['48.0000%', '46.8794%', '46.6442%', '48.0000%'],\n",
       " ['48.0000%', '47.3588%', '46.9777%', '48.0000%'],\n",
       " ['47.6000%', '46.3676%', '46.1076%', '47.6000%'],\n",
       " ['47.2000%', '46.0070%', '45.9290%', '47.2000%']]"
      ]
     },
     "execution_count": 12,
     "metadata": {},
     "output_type": "execute_result"
    }
   ],
   "source": [
    "from Models.MLAlgos import Rforest\n",
    "RFSipltResults = []\n",
    "sumtol = []\n",
    "count = 0\n",
    "for i in range(50):\n",
    "    Rforest_WRDenoise_Result = Rforest(X_LABSE_WR_Denoise_Embed_train, Y_train, X_LABSE_WR_Denoise_Embed_val, Y_val, deepth=indexu, split= i+2)\n",
    "    RFSipltResults.append(Rforest_WRDenoise_Result)\n",
    "    if i>0:\n",
    "        if RFSipltResults[i] == RFSipltResults[i-1]:\n",
    "            count = count + 1\n",
    "\n",
    "    sumtemp = sum([float((RFSipltResults[i][0].strip('%')))/100 , float((RFSipltResults[i][1].strip('%')))/100 , float((RFSipltResults[i][2].strip('%')))/100 , float((RFSipltResults[i][3].strip('%')))/100])\n",
    "    sumtol.append(sumtemp)\n",
    "    if count == 10:\n",
    "        break\n",
    "print('index: ',sumtol.index(max(sumtol)))\n",
    "print('BestResult:', RFSipltResults[sumtol.index(max(sumtol))])\n",
    "print(sumtol)\n",
    "RFSipltResults"
   ]
  },
  {
   "cell_type": "code",
   "execution_count": 32,
   "id": "7defaff5",
   "metadata": {
    "ExecuteTime": {
     "end_time": "2021-11-26T06:18:44.568818Z",
     "start_time": "2021-11-26T06:18:41.296818Z"
    },
    "hidden": true
   },
   "outputs": [
    {
     "data": {
      "text/plain": [
       "['51.6000%', '51.5298%', '51.0691%', '51.6000%']"
      ]
     },
     "execution_count": 32,
     "metadata": {},
     "output_type": "execute_result"
    }
   ],
   "source": [
    "from Models.MLAlgos import Rforest\n",
    "Rforest_WRDenoise_Result = Rforest(X_LABSE_WR_Denoise_Embed_train, Y_train, X_LABSE_WR_Denoise_Embed_val, Y_val, deepth=25, split= 19)\n",
    "Rforest_WRDenoise_Result"
   ]
  },
  {
   "cell_type": "code",
   "execution_count": null,
   "id": "c2a45e7a",
   "metadata": {
    "hidden": true
   },
   "outputs": [],
   "source": []
  },
  {
   "cell_type": "code",
   "execution_count": 26,
   "id": "073d2451",
   "metadata": {
    "ExecuteTime": {
     "end_time": "2021-11-26T06:13:20.065265Z",
     "start_time": "2021-11-26T06:12:45.513236Z"
    },
    "hidden": true
   },
   "outputs": [
    {
     "name": "stderr",
     "output_type": "stream",
     "text": [
      "C:\\Users\\phvpa\\anaconda3\\envs\\MuRIL\\lib\\site-packages\\sklearn\\metrics\\_classification.py:1308: UndefinedMetricWarning: Precision is ill-defined and being set to 0.0 in labels with no predicted samples. Use `zero_division` parameter to control this behavior.\n",
      "  _warn_prf(average, modifier, msg_start, len(result))\n",
      "C:\\Users\\phvpa\\anaconda3\\envs\\MuRIL\\lib\\site-packages\\sklearn\\metrics\\_classification.py:1308: UndefinedMetricWarning: Precision is ill-defined and being set to 0.0 in labels with no predicted samples. Use `zero_division` parameter to control this behavior.\n",
      "  _warn_prf(average, modifier, msg_start, len(result))\n",
      "C:\\Users\\phvpa\\anaconda3\\envs\\MuRIL\\lib\\site-packages\\sklearn\\metrics\\_classification.py:1308: UndefinedMetricWarning: Precision is ill-defined and being set to 0.0 in labels with no predicted samples. Use `zero_division` parameter to control this behavior.\n",
      "  _warn_prf(average, modifier, msg_start, len(result))\n"
     ]
    },
    {
     "name": "stdout",
     "output_type": "stream",
     "text": [
      "index:  8\n",
      "BestResult: ['44.4000%', '44.2324%', '44.0966%', '44.4000%']\n",
      "[0.987665, 1.4096220000000002, 1.4918750000000003, 1.5674849999999998, 1.4690729999999999, 1.5190009999999998, 1.5549779999999997, 1.4849910000000002, 1.77129, 1.5639559999999997, 1.5275720000000002, 1.595926, 1.5636919999999999, 1.471457, 1.422538, 1.410983, 1.4819330000000002, 1.5077380000000002, 1.5569959999999998, 1.5569959999999998, 1.5569959999999998, 1.5569959999999998, 1.5569959999999998, 1.5569959999999998, 1.5569959999999998, 1.5569959999999998, 1.5569959999999998, 1.5569959999999998, 1.5569959999999998]\n"
     ]
    },
    {
     "data": {
      "text/plain": [
       "[['33.2000%', '13.3449%', '19.0216%', '33.2000%'],\n",
       " ['37.6000%', '31.7131%', '34.0491%', '37.6000%'],\n",
       " ['40.0000%', '33.8061%', '35.3814%', '40.0000%'],\n",
       " ['38.8000%', '40.4641%', '38.6844%', '38.8000%'],\n",
       " ['36.8000%', '36.8689%', '36.4384%', '36.8000%'],\n",
       " ['38.0000%', '38.3868%', '37.5133%', '38.0000%'],\n",
       " ['38.8000%', '39.4449%', '38.4529%', '38.8000%'],\n",
       " ['37.2000%', '37.4717%', '36.6274%', '37.2000%'],\n",
       " ['44.4000%', '44.2324%', '44.0966%', '44.4000%'],\n",
       " ['39.2000%', '39.0166%', '38.9790%', '39.2000%'],\n",
       " ['38.4000%', '37.9869%', '37.9703%', '38.4000%'],\n",
       " ['39.6000%', '40.6229%', '39.7697%', '39.6000%'],\n",
       " ['38.8000%', '39.6943%', '39.0749%', '38.8000%'],\n",
       " ['36.8000%', '36.9407%', '36.6050%', '36.8000%'],\n",
       " ['35.6000%', '35.5312%', '35.5226%', '35.6000%'],\n",
       " ['35.2000%', '35.4397%', '35.2586%', '35.2000%'],\n",
       " ['37.2000%', '36.9807%', '36.8126%', '37.2000%'],\n",
       " ['37.6000%', '37.8642%', '37.7096%', '37.6000%'],\n",
       " ['38.8000%', '39.2199%', '38.8797%', '38.8000%'],\n",
       " ['38.8000%', '39.2199%', '38.8797%', '38.8000%'],\n",
       " ['38.8000%', '39.2199%', '38.8797%', '38.8000%'],\n",
       " ['38.8000%', '39.2199%', '38.8797%', '38.8000%'],\n",
       " ['38.8000%', '39.2199%', '38.8797%', '38.8000%'],\n",
       " ['38.8000%', '39.2199%', '38.8797%', '38.8000%'],\n",
       " ['38.8000%', '39.2199%', '38.8797%', '38.8000%'],\n",
       " ['38.8000%', '39.2199%', '38.8797%', '38.8000%'],\n",
       " ['38.8000%', '39.2199%', '38.8797%', '38.8000%'],\n",
       " ['38.8000%', '39.2199%', '38.8797%', '38.8000%'],\n",
       " ['38.8000%', '39.2199%', '38.8797%', '38.8000%']]"
      ]
     },
     "execution_count": 26,
     "metadata": {},
     "output_type": "execute_result"
    }
   ],
   "source": [
    "from Models.MLAlgos import SVectorMachine, Dtree\n",
    "\n",
    "DTSipltResults = []\n",
    "sumtol = []\n",
    "count = 0\n",
    "for i in range(50):\n",
    "    Dtree_WRDenoise_Result = Dtree(X_LABSE_WR_Denoise_Embed_train, Y_train, X_LABSE_WR_Denoise_Embed_val, Y_val, deepth=i+1, split= 2)\n",
    "    DTSipltResults.append(Dtree_WRDenoise_Result)\n",
    "    if i>0:\n",
    "        if DTSipltResults[i] == DTSipltResults[i-1]:\n",
    "            count = count + 1\n",
    "\n",
    "    sumtemp = sum([float((DTSipltResults[i][0].strip('%')))/100 , float((DTSipltResults[i][1].strip('%')))/100 , float((DTSipltResults[i][2].strip('%')))/100 , float((DTSipltResults[i][3].strip('%')))/100])\n",
    "    sumtol.append(sumtemp)\n",
    "    if count == 10:\n",
    "        break\n",
    "indexu2 = sumtol.index(max(sumtol)) + 1\n",
    "print('index: ',sumtol.index(max(sumtol)))\n",
    "print('BestResult:', DTSipltResults[sumtol.index(max(sumtol))])\n",
    "print(sumtol)\n",
    "DTSipltResults"
   ]
  },
  {
   "cell_type": "code",
   "execution_count": 27,
   "id": "ebdb189a",
   "metadata": {
    "ExecuteTime": {
     "end_time": "2021-11-26T06:14:19.580235Z",
     "start_time": "2021-11-26T06:13:20.067256Z"
    },
    "hidden": true,
    "scrolled": true
   },
   "outputs": [
    {
     "name": "stdout",
     "output_type": "stream",
     "text": [
      "index:  10\n",
      "BestResult: ['44.8000%', '44.9894%', '44.7362%', '44.8000%']\n",
      "[1.77129, 1.7601529999999999, 1.780605, 1.713563, 1.699132, 1.706758, 1.72324, 1.742324, 1.6805819999999998, 1.666178, 1.793256, 1.621467, 1.681502, 1.7123719999999998, 1.663007, 1.6668850000000002, 1.6481020000000002, 1.743778, 1.677387, 1.692189, 1.677082, 1.598163, 1.5678040000000002, 1.6631940000000003, 1.6011410000000001, 1.6039790000000003, 1.6039790000000003, 1.5534869999999998, 1.5534869999999998, 1.571148, 1.5560959999999997, 1.5710920000000002, 1.57112, 1.572432, 1.5556439999999998, 1.572415, 1.5742569999999998, 1.5742569999999998, 1.5742569999999998, 1.570408, 1.570408, 1.5532279999999998, 1.5532279999999998, 1.570408, 1.570408, 1.570408, 1.570408, 1.5705040000000001, 1.5379390000000002, 1.5379390000000002]\n"
     ]
    },
    {
     "data": {
      "text/plain": [
       "[['44.4000%', '44.2324%', '44.0966%', '44.4000%'],\n",
       " ['44.0000%', '44.1529%', '43.8624%', '44.0000%'],\n",
       " ['44.4000%', '44.8344%', '44.4261%', '44.4000%'],\n",
       " ['42.8000%', '43.0239%', '42.7324%', '42.8000%'],\n",
       " ['42.4000%', '42.7137%', '42.3995%', '42.4000%'],\n",
       " ['42.8000%', '42.6248%', '42.4510%', '42.8000%'],\n",
       " ['43.2000%', '43.0408%', '42.8832%', '43.2000%'],\n",
       " ['43.6000%', '43.6340%', '43.3984%', '43.6000%'],\n",
       " ['42.0000%', '42.1055%', '41.9527%', '42.0000%'],\n",
       " ['41.6000%', '41.8518%', '41.5660%', '41.6000%'],\n",
       " ['44.8000%', '44.9894%', '44.7362%', '44.8000%'],\n",
       " ['40.4000%', '40.8467%', '40.5000%', '40.4000%'],\n",
       " ['42.0000%', '42.1890%', '41.9612%', '42.0000%'],\n",
       " ['42.8000%', '42.9095%', '42.7277%', '42.8000%'],\n",
       " ['41.6000%', '41.5804%', '41.5203%', '41.6000%'],\n",
       " ['41.6000%', '41.8232%', '41.6653%', '41.6000%'],\n",
       " ['41.2000%', '41.3048%', '41.1054%', '41.2000%'],\n",
       " ['43.6000%', '43.6649%', '43.5129%', '43.6000%'],\n",
       " ['42.0000%', '41.8871%', '41.8516%', '42.0000%'],\n",
       " ['42.4000%', '42.2304%', '42.1885%', '42.4000%'],\n",
       " ['42.0000%', '41.8808%', '41.8274%', '42.0000%'],\n",
       " ['40.0000%', '39.9424%', '39.8739%', '40.0000%'],\n",
       " ['39.2000%', '39.2498%', '39.1306%', '39.2000%'],\n",
       " ['41.6000%', '41.6296%', '41.4898%', '41.6000%'],\n",
       " ['40.0000%', '40.1630%', '39.9511%', '40.0000%'],\n",
       " ['40.0000%', '40.3638%', '40.0341%', '40.0000%'],\n",
       " ['40.0000%', '40.3638%', '40.0341%', '40.0000%'],\n",
       " ['38.8000%', '38.9768%', '38.7719%', '38.8000%'],\n",
       " ['38.8000%', '38.9768%', '38.7719%', '38.8000%'],\n",
       " ['39.2000%', '39.4914%', '39.2234%', '39.2000%'],\n",
       " ['38.8000%', '39.1252%', '38.8844%', '38.8000%'],\n",
       " ['39.2000%', '39.4440%', '39.2652%', '39.2000%'],\n",
       " ['39.2000%', '39.4535%', '39.2585%', '39.2000%'],\n",
       " ['39.2000%', '39.5450%', '39.2982%', '39.2000%'],\n",
       " ['38.8000%', '39.0899%', '38.8745%', '38.8000%'],\n",
       " ['39.2000%', '39.5293%', '39.3122%', '39.2000%'],\n",
       " ['39.2000%', '39.6700%', '39.3557%', '39.2000%'],\n",
       " ['39.2000%', '39.6700%', '39.3557%', '39.2000%'],\n",
       " ['39.2000%', '39.6700%', '39.3557%', '39.2000%'],\n",
       " ['39.2000%', '39.3824%', '39.2584%', '39.2000%'],\n",
       " ['39.2000%', '39.3824%', '39.2584%', '39.2000%'],\n",
       " ['38.8000%', '38.9074%', '38.8154%', '38.8000%'],\n",
       " ['38.8000%', '38.9074%', '38.8154%', '38.8000%'],\n",
       " ['39.2000%', '39.3824%', '39.2584%', '39.2000%'],\n",
       " ['39.2000%', '39.3824%', '39.2584%', '39.2000%'],\n",
       " ['39.2000%', '39.3824%', '39.2584%', '39.2000%'],\n",
       " ['39.2000%', '39.3824%', '39.2584%', '39.2000%'],\n",
       " ['39.2000%', '39.3901%', '39.2603%', '39.2000%'],\n",
       " ['38.4000%', '38.5452%', '38.4487%', '38.4000%'],\n",
       " ['38.4000%', '38.5452%', '38.4487%', '38.4000%']]"
      ]
     },
     "execution_count": 27,
     "metadata": {},
     "output_type": "execute_result"
    }
   ],
   "source": [
    "from Models.MLAlgos import SVectorMachine, Dtree\n",
    "\n",
    "DTSipltResults = []\n",
    "sumtol = []\n",
    "count = 0\n",
    "for i in range(50):\n",
    "    Dtree_WRDenoise_Result = Dtree(X_LABSE_WR_Denoise_Embed_train, Y_train, X_LABSE_WR_Denoise_Embed_val, Y_val, deepth=indexu2, split= i+2)\n",
    "    DTSipltResults.append(Dtree_WRDenoise_Result)\n",
    "    if i>0:\n",
    "        if DTSipltResults[i] == DTSipltResults[i-1]:\n",
    "            count = count + 1\n",
    "\n",
    "    sumtemp = sum([float((DTSipltResults[i][0].strip('%')))/100 , float((DTSipltResults[i][1].strip('%')))/100 , float((DTSipltResults[i][2].strip('%')))/100 , float((DTSipltResults[i][3].strip('%')))/100])\n",
    "    sumtol.append(sumtemp)\n",
    "    if count == 10:\n",
    "        break\n",
    "print('index: ',sumtol.index(max(sumtol)))\n",
    "print('BestResult:', DTSipltResults[sumtol.index(max(sumtol))])\n",
    "print(sumtol)\n",
    "DTSipltResults"
   ]
  },
  {
   "cell_type": "code",
   "execution_count": 31,
   "id": "4a4015a6",
   "metadata": {
    "ExecuteTime": {
     "end_time": "2021-11-26T06:18:25.269275Z",
     "start_time": "2021-11-26T06:18:24.073264Z"
    },
    "hidden": true
   },
   "outputs": [
    {
     "data": {
      "text/plain": [
       "['44.8000%', '44.9894%', '44.7362%', '44.8000%']"
      ]
     },
     "execution_count": 31,
     "metadata": {},
     "output_type": "execute_result"
    }
   ],
   "source": [
    "Dtree_WRDenoise_Result = Dtree(X_LABSE_WR_Denoise_Embed_train, Y_train, X_LABSE_WR_Denoise_Embed_val, Y_val, deepth=9, split=12)\n",
    "Dtree_WRDenoise_Result\n"
   ]
  },
  {
   "cell_type": "code",
   "execution_count": 18,
   "id": "a97dd7d0",
   "metadata": {
    "ExecuteTime": {
     "end_time": "2021-11-26T06:06:54.516924Z",
     "start_time": "2021-11-26T06:06:54.507891Z"
    },
    "hidden": true
   },
   "outputs": [],
   "source": [
    "#RandomForest\n",
    "from sklearn.metrics import f1_score, precision_score, recall_score, accuracy_score\n",
    "from sklearn.ensemble import RandomForestClassifier\n",
    "\n",
    "def TestRforest(X_train, Y_train, X_test, Y_test,deepth=None, split = 2):\n",
    "    #RFC = RandomForestClassifier(criterion='entropy', random_state=10)\n",
    "    RFC = RandomForestClassifier(max_depth=deepth, random_state=10, min_samples_split = split)\n",
    "    RFC.fit(X_train,Y_train)\n",
    "    pred_RFC = RFC.predict(X_test)\n",
    "    acc = f'{100*accuracy_score(Y_test,pred_RFC):.4f}%'\n",
    "    prec = f'{100*precision_score(Y_test,pred_RFC, average=\"macro\"):.4f}%'\n",
    "    f1 = f'{100*f1_score(Y_test,pred_RFC, average=\"macro\"):.4f}%'\n",
    "    recall = f'{100*recall_score(Y_test,pred_RFC, average=\"macro\"):.4f}%'\n",
    "    Result3 = [acc, prec, f1, recall]\n",
    "    return Result3"
   ]
  },
  {
   "cell_type": "code",
   "execution_count": 8,
   "id": "b615cbd5",
   "metadata": {
    "ExecuteTime": {
     "end_time": "2021-11-26T05:51:17.153168Z",
     "start_time": "2021-11-26T05:47:26.705980Z"
    },
    "hidden": true
   },
   "outputs": [
    {
     "data": {
      "text/plain": [
       "RandomForestClassifier(max_depth=7, min_samples_split=5, n_estimators=16,\n",
       "                       random_state=10)"
      ]
     },
     "execution_count": 8,
     "metadata": {},
     "output_type": "execute_result"
    }
   ],
   "source": [
    "from sklearn.datasets import make_classification\n",
    "from sklearn.ensemble import RandomForestClassifier\n",
    "from sklearn.experimental import enable_halving_search_cv  # noqa\n",
    "from sklearn.model_selection import HalvingGridSearchCV\n",
    "import pandas as pd\n",
    "\n",
    "param_grid = {'max_depth': list(range(1,50,1)),'min_samples_split': list(range(2,10,1))}\n",
    "base_estimator = RandomForestClassifier(random_state=10)\n",
    "# X, y = make_classification(n_samples=1000, random_state=0)\n",
    "sh = HalvingGridSearchCV(base_estimator, param_grid, cv=5,\n",
    "                        factor=2, resource='n_estimators',\n",
    "                        max_resources=30).fit(X_LABSE_WR_Denoise_Embed_train, Y_train)\n",
    "sh.best_estimator_"
   ]
  },
  {
   "cell_type": "markdown",
   "id": "3a1296d8",
   "metadata": {
    "hidden": true
   },
   "source": [
    "## SVM Hyperparameter tunning"
   ]
  },
  {
   "cell_type": "code",
   "execution_count": 22,
   "id": "2cc55d8a",
   "metadata": {
    "ExecuteTime": {
     "end_time": "2021-11-25T22:10:17.349387Z",
     "start_time": "2021-11-25T22:10:17.338389Z"
    },
    "hidden": true
   },
   "outputs": [],
   "source": [
    "from sklearn.model_selection import GridSearchCV\n",
    "from sklearn.svm import SVC\n",
    "\n",
    "param_grid = { 'C':[0.1,1,100,1000],'kernel':['rbf','poly','sigmoid','linear'],'degree':[1,2,3,4,5,6]}"
   ]
  },
  {
   "cell_type": "code",
   "execution_count": 23,
   "id": "0786e21d",
   "metadata": {
    "ExecuteTime": {
     "end_time": "2021-11-25T22:24:33.508485Z",
     "start_time": "2021-11-25T22:10:22.154961Z"
    },
    "hidden": true
   },
   "outputs": [
    {
     "data": {
      "text/plain": [
       "GridSearchCV(estimator=SVC(random_state=10),\n",
       "             param_grid={'C': [0.1, 1, 100, 1000], 'degree': [1, 2, 3, 4, 5, 6],\n",
       "                         'kernel': ['rbf', 'poly', 'sigmoid', 'linear']})"
      ]
     },
     "execution_count": 23,
     "metadata": {},
     "output_type": "execute_result"
    }
   ],
   "source": [
    "grid = GridSearchCV(SVC(random_state=10),param_grid)\n",
    "grid.fit(X_WR_Denoise_Embed_train, Y_train)"
   ]
  },
  {
   "cell_type": "code",
   "execution_count": 24,
   "id": "43416b18",
   "metadata": {
    "ExecuteTime": {
     "end_time": "2021-11-25T22:24:33.876485Z",
     "start_time": "2021-11-25T22:24:33.510487Z"
    },
    "hidden": true
   },
   "outputs": [
    {
     "name": "stdout",
     "output_type": "stream",
     "text": [
      "{'C': 1000, 'degree': 1, 'kernel': 'rbf'}\n",
      "0.516\n"
     ]
    }
   ],
   "source": [
    "print(grid.best_params_)\n",
    "print(grid.score(X_WR_Denoise_Embed_val, Y_val))"
   ]
  },
  {
   "cell_type": "code",
   "execution_count": 39,
   "id": "514b0043",
   "metadata": {
    "ExecuteTime": {
     "end_time": "2021-11-25T22:37:57.297525Z",
     "start_time": "2021-11-25T22:37:57.278522Z"
    },
    "hidden": true
   },
   "outputs": [],
   "source": [
    "from sklearn.metrics import f1_score, precision_score, recall_score, accuracy_score\n",
    "\n",
    "def TestSVectorMachine(X_train, Y_train, X_test, Y_test):\n",
    "    svc = SVC( kernel='rbf',degree=1,decision_function_shape='ovo', C = 1000,random_state=10)\n",
    "    svc.fit(X_train,Y_train)\n",
    "    pred_svc = svc.predict(X_test)\n",
    "    acc = f'{100*accuracy_score(Y_test,pred_svc):.4f}%'\n",
    "    prec = f'{100*precision_score(Y_test,pred_svc, average=\"macro\"):.4f}%'\n",
    "    f1 = f'{100*f1_score(Y_test,pred_svc, average=\"macro\"):.4f}%'\n",
    "    recall = f'{100*recall_score(Y_test,pred_svc, average=\"macro\"):.4f}%'\n",
    "    Result1 = [acc, prec, f1, recall]\n",
    "    return Result1"
   ]
  },
  {
   "cell_type": "code",
   "execution_count": 40,
   "id": "a9aeda5d",
   "metadata": {
    "ExecuteTime": {
     "end_time": "2021-11-25T22:38:10.562445Z",
     "start_time": "2021-11-25T22:38:08.641444Z"
    },
    "hidden": true
   },
   "outputs": [
    {
     "data": {
      "text/plain": [
       "['51.6000%', '50.6186%', '50.8396%', '51.6000%']"
      ]
     },
     "execution_count": 40,
     "metadata": {},
     "output_type": "execute_result"
    }
   ],
   "source": [
    "TestSVectorMachine(X_WR_Denoise_Embed_train, Y_train, X_WR_Denoise_Embed_val, Y_val)"
   ]
  },
  {
   "cell_type": "code",
   "execution_count": 32,
   "id": "048cc042",
   "metadata": {
    "ExecuteTime": {
     "end_time": "2021-11-25T22:31:12.676794Z",
     "start_time": "2021-11-25T22:31:10.710794Z"
    },
    "hidden": true
   },
   "outputs": [
    {
     "data": {
      "text/plain": [
       "['51.6000%', '50.6186%', '50.8396%', '51.6000%']"
      ]
     },
     "execution_count": 32,
     "metadata": {},
     "output_type": "execute_result"
    }
   ],
   "source": [
    "TestSVectorMachine(X_WR_Denoise_Embed_train, Y_train, X_WR_Denoise_Embed_val, Y_val)"
   ]
  },
  {
   "cell_type": "code",
   "execution_count": 11,
   "id": "652a77f0",
   "metadata": {
    "ExecuteTime": {
     "end_time": "2021-11-25T21:43:55.740619Z",
     "start_time": "2021-11-25T21:43:55.454619Z"
    },
    "hidden": true
   },
   "outputs": [
    {
     "data": {
      "text/html": [
       "<div>\n",
       "<style scoped>\n",
       "    .dataframe tbody tr th:only-of-type {\n",
       "        vertical-align: middle;\n",
       "    }\n",
       "\n",
       "    .dataframe tbody tr th {\n",
       "        vertical-align: top;\n",
       "    }\n",
       "\n",
       "    .dataframe thead th {\n",
       "        text-align: right;\n",
       "    }\n",
       "</style>\n",
       "<table border=\"1\" class=\"dataframe\">\n",
       "  <thead>\n",
       "    <tr style=\"text-align: right;\">\n",
       "      <th></th>\n",
       "      <th>accuracy</th>\n",
       "      <th>precision</th>\n",
       "      <th>f1</th>\n",
       "      <th>recall</th>\n",
       "    </tr>\n",
       "  </thead>\n",
       "  <tbody>\n",
       "    <tr>\n",
       "      <th>SVM</th>\n",
       "      <td>41.6000%</td>\n",
       "      <td>42.3102%</td>\n",
       "      <td>39.5557%</td>\n",
       "      <td>41.6000%</td>\n",
       "    </tr>\n",
       "    <tr>\n",
       "      <th>DTree</th>\n",
       "      <td>36.8000%</td>\n",
       "      <td>38.2263%</td>\n",
       "      <td>37.2561%</td>\n",
       "      <td>36.8000%</td>\n",
       "    </tr>\n",
       "    <tr>\n",
       "      <th>Rforest</th>\n",
       "      <td>46.8000%</td>\n",
       "      <td>46.1033%</td>\n",
       "      <td>45.9376%</td>\n",
       "      <td>46.8000%</td>\n",
       "    </tr>\n",
       "    <tr>\n",
       "      <th>NB</th>\n",
       "      <td>38.0000%</td>\n",
       "      <td>32.6251%</td>\n",
       "      <td>34.0108%</td>\n",
       "      <td>38.0000%</td>\n",
       "    </tr>\n",
       "    <tr>\n",
       "      <th>KNN</th>\n",
       "      <td>49.2000%</td>\n",
       "      <td>50.7245%</td>\n",
       "      <td>48.4686%</td>\n",
       "      <td>49.2000%</td>\n",
       "    </tr>\n",
       "    <tr>\n",
       "      <th>DeepForest</th>\n",
       "      <td>47.6000%</td>\n",
       "      <td>45.8870%</td>\n",
       "      <td>45.6393%</td>\n",
       "      <td>47.6000%</td>\n",
       "    </tr>\n",
       "  </tbody>\n",
       "</table>\n",
       "</div>"
      ],
      "text/plain": [
       "            accuracy precision        f1    recall\n",
       "SVM         41.6000%  42.3102%  39.5557%  41.6000%\n",
       "DTree       36.8000%  38.2263%  37.2561%  36.8000%\n",
       "Rforest     46.8000%  46.1033%  45.9376%  46.8000%\n",
       "NB          38.0000%  32.6251%  34.0108%  38.0000%\n",
       "KNN         49.2000%  50.7245%  48.4686%  49.2000%\n",
       "DeepForest  47.6000%  45.8870%  45.6393%  47.6000%"
      ]
     },
     "execution_count": 11,
     "metadata": {},
     "output_type": "execute_result"
    }
   ],
   "source": [
    "import pandas as pd\n",
    "AFTR_WR_Denoising= pd.DataFrame({'SVM' : SVM_WRDenoise_Result, \n",
    "            'DTree' : Dtree_WRDenoise_Result,\n",
    "            'Rforest' : Rforest_WRDenoise_Result,\n",
    "            'NB' : NB_WRDenoise_Result,\n",
    "            'KNN' : KNN_WRDenoise_Result,\n",
    "            'DeepForest':Deep_WRDenoise_Result})\n",
    "AFTR_WR_Denoising.index = ['accuracy', 'precision', 'f1', 'recall']\n",
    "AFTR_WR_Denoising = AFTR_WR_Denoising.transpose()\n",
    "AFTR_WR_Denoising"
   ]
  },
  {
   "cell_type": "code",
   "execution_count": 43,
   "id": "96c0a4a9",
   "metadata": {
    "ExecuteTime": {
     "end_time": "2021-11-25T22:51:25.043039Z",
     "start_time": "2021-11-25T22:51:25.023039Z"
    },
    "hidden": true
   },
   "outputs": [],
   "source": [
    "from sklearn.ensemble import RandomForestClassifier\n",
    "\n",
    "def TestRforest(X_train, Y_train, X_test, Y_test,deepth=None, split = 2):\n",
    "    #RFC = RandomForestClassifier(criterion='entropy', random_state=10)\n",
    "    RFC = RandomForestClassifier(max_depth=deepth, random_state=10, min_samples_split = split)\n",
    "    RFC.fit(X_train,Y_train)\n",
    "    pred_RFC = RFC.predict(X_test)\n",
    "    acc = f'{100*accuracy_score(Y_test,pred_RFC):.4f}%'\n",
    "    prec = f'{100*precision_score(Y_test,pred_RFC, average=\"macro\"):.4f}%'\n",
    "    f1 = f'{100*f1_score(Y_test,pred_RFC, average=\"macro\"):.4f}%'\n",
    "    recall = f'{100*recall_score(Y_test,pred_RFC, average=\"macro\"):.4f}%'\n",
    "    Result3 = [acc, prec, f1, recall]\n",
    "    return Result3"
   ]
  },
  {
   "cell_type": "code",
   "execution_count": 49,
   "id": "00e23763",
   "metadata": {
    "ExecuteTime": {
     "end_time": "2021-11-25T23:03:43.281376Z",
     "start_time": "2021-11-25T23:03:39.884376Z"
    },
    "hidden": true
   },
   "outputs": [
    {
     "data": {
      "text/plain": [
       "['53.2000%', '52.9505%', '52.4795%', '53.2000%']"
      ]
     },
     "execution_count": 49,
     "metadata": {},
     "output_type": "execute_result"
    }
   ],
   "source": [
    "Rforest_WRDenoise_Result = TestRforest(X_WR_Denoise_Embed_train, Y_train, X_WR_Denoise_Embed_val, Y_val, deepth=19, split= 6)\n",
    "Rforest_WRDenoise_Result"
   ]
  },
  {
   "cell_type": "code",
   "execution_count": 47,
   "id": "e01eef35",
   "metadata": {
    "ExecuteTime": {
     "end_time": "2021-11-25T23:00:42.052415Z",
     "start_time": "2021-11-25T22:58:46.046407Z"
    },
    "hidden": true,
    "scrolled": true
   },
   "outputs": [
    {
     "name": "stdout",
     "output_type": "stream",
     "text": [
      "index:  18\n",
      "BestResult: ['53.2000%', '52.9505%', '52.4795%', '53.2000%']\n",
      "[1.4081259999999998, 1.5583629999999997, 1.722127, 1.696788, 1.820808, 1.975877, 1.935187, 1.9241469999999998, 1.876982, 1.811606, 1.8285989999999999, 1.845519, 1.797457, 1.9472960000000001, 1.929454, 1.833562, 1.8767310000000001, 1.973152, 2.1183, 1.880227, 1.989243, 2.013893, 2.0143519999999997, 1.996072, 1.997005, 2.006969, 1.979017, 1.996931, 2.010202, 2.010202, 2.010202, 2.010202, 2.010202, 2.010202, 2.010202, 2.010202, 2.010202, 2.010202, 2.010202]\n"
     ]
    },
    {
     "data": {
      "text/plain": [
       "[['36.0000%', '42.1727%', '26.6399%', '36.0000%'],\n",
       " ['40.4000%', '39.4755%', '35.5608%', '40.4000%'],\n",
       " ['44.4000%', '42.0805%', '41.3322%', '44.4000%'],\n",
       " ['43.6000%', '41.2508%', '41.2280%', '43.6000%'],\n",
       " ['46.4000%', '44.7312%', '44.5496%', '46.4000%'],\n",
       " ['49.6000%', '49.8250%', '48.5627%', '49.6000%'],\n",
       " ['48.8000%', '48.3555%', '47.5632%', '48.8000%'],\n",
       " ['48.4000%', '47.8762%', '47.7385%', '48.4000%'],\n",
       " ['47.6000%', '46.3900%', '46.1082%', '47.6000%'],\n",
       " ['46.0000%', '44.4559%', '44.7047%', '46.0000%'],\n",
       " ['46.0000%', '45.5657%', '45.2942%', '46.0000%'],\n",
       " ['46.8000%', '45.3194%', '45.6325%', '46.8000%'],\n",
       " ['46.0000%', '43.6314%', '44.1143%', '46.0000%'],\n",
       " ['49.2000%', '48.1470%', '48.1826%', '49.2000%'],\n",
       " ['48.8000%', '47.6657%', '47.6797%', '48.8000%'],\n",
       " ['46.4000%', '45.5138%', '45.0424%', '46.4000%'],\n",
       " ['47.2000%', '46.7356%', '46.5375%', '47.2000%'],\n",
       " ['49.6000%', '49.2371%', '48.8781%', '49.6000%'],\n",
       " ['53.2000%', '52.9505%', '52.4795%', '53.2000%'],\n",
       " ['47.2000%', '46.9550%', '46.6677%', '47.2000%'],\n",
       " ['50.0000%', '49.5987%', '49.3256%', '50.0000%'],\n",
       " ['50.4000%', '50.6205%', '49.9688%', '50.4000%'],\n",
       " ['50.4000%', '50.6525%', '49.9827%', '50.4000%'],\n",
       " ['50.0000%', '50.1074%', '49.4998%', '50.0000%'],\n",
       " ['50.0000%', '50.1714%', '49.5291%', '50.0000%'],\n",
       " ['50.4000%', '50.1895%', '49.7074%', '50.4000%'],\n",
       " ['49.6000%', '49.6019%', '49.0998%', '49.6000%'],\n",
       " ['50.0000%', '50.1877%', '49.5054%', '50.0000%'],\n",
       " ['50.4000%', '50.4343%', '49.7859%', '50.4000%'],\n",
       " ['50.4000%', '50.4343%', '49.7859%', '50.4000%'],\n",
       " ['50.4000%', '50.4343%', '49.7859%', '50.4000%'],\n",
       " ['50.4000%', '50.4343%', '49.7859%', '50.4000%'],\n",
       " ['50.4000%', '50.4343%', '49.7859%', '50.4000%'],\n",
       " ['50.4000%', '50.4343%', '49.7859%', '50.4000%'],\n",
       " ['50.4000%', '50.4343%', '49.7859%', '50.4000%'],\n",
       " ['50.4000%', '50.4343%', '49.7859%', '50.4000%'],\n",
       " ['50.4000%', '50.4343%', '49.7859%', '50.4000%'],\n",
       " ['50.4000%', '50.4343%', '49.7859%', '50.4000%'],\n",
       " ['50.4000%', '50.4343%', '49.7859%', '50.4000%']]"
      ]
     },
     "execution_count": 47,
     "metadata": {},
     "output_type": "execute_result"
    }
   ],
   "source": [
    "from Models.MLAlgos import Rforest\n",
    "RFSipltResults = []\n",
    "sumtol = []\n",
    "count = 0\n",
    "for i in range(50):\n",
    "    Rforest_WRDenoise_Result = TestRforest(X_WR_Denoise_Embed_train, Y_train, X_WR_Denoise_Embed_val, Y_val, deepth=i+1, split= 6)\n",
    "    RFSipltResults.append(Rforest_WRDenoise_Result)\n",
    "    if i>0:\n",
    "        if RFSipltResults[i] == RFSipltResults[i-1]:\n",
    "            count = count + 1\n",
    "\n",
    "    sumtemp = sum([float((RFSipltResults[i][0].strip('%')))/100 , float((RFSipltResults[i][1].strip('%')))/100 , float((RFSipltResults[i][2].strip('%')))/100 , float((RFSipltResults[i][3].strip('%')))/100])\n",
    "    sumtol.append(sumtemp)\n",
    "    if count == 10:\n",
    "        break\n",
    "print('index: ',sumtol.index(max(sumtol)))\n",
    "print('BestResult:', RFSipltResults[sumtol.index(max(sumtol))])\n",
    "print(sumtol)\n",
    "RFSipltResults"
   ]
  },
  {
   "cell_type": "code",
   "execution_count": 45,
   "id": "a7ddd87f",
   "metadata": {
    "ExecuteTime": {
     "end_time": "2021-11-25T22:54:25.581927Z",
     "start_time": "2021-11-25T22:51:59.029869Z"
    },
    "hidden": true,
    "scrolled": true
   },
   "outputs": [
    {
     "name": "stdout",
     "output_type": "stream",
     "text": [
      "index:  6\n",
      "[1.995144, 1.944309, 1.937141, 1.905095, 1.845519, 1.9020739999999998, 2.026623, 1.8938380000000001, 1.966139, 1.86593, 1.990014, 1.987004, 1.8587660000000001, 1.9024519999999998, 1.84795, 1.9792990000000001, 1.862096, 1.871804, 1.892638, 1.948174, 1.879961, 1.8777249999999999, 1.90659, 1.927658, 1.86439, 1.84362, 1.805242, 1.858949, 1.998351, 1.948254, 1.9252829999999999, 1.9443940000000002, 1.8637620000000001, 1.996206, 1.788037, 1.8357839999999999, 2.0009639999999997, 1.781314, 1.964429, 1.8543409999999998, 1.836641, 1.87142, 1.898799, 1.878334, 1.771766, 1.85682, 1.837565, 1.8730980000000002, 1.908661, 1.9084539999999999]\n"
     ]
    },
    {
     "data": {
      "text/plain": [
       "[['50.4000%', '49.4957%', '49.2187%', '50.4000%'],\n",
       " ['49.2000%', '47.9060%', '48.1249%', '49.2000%'],\n",
       " ['48.8000%', '48.3075%', '47.8066%', '48.8000%'],\n",
       " ['48.0000%', '47.4081%', '47.1014%', '48.0000%'],\n",
       " ['46.8000%', '45.3194%', '45.6325%', '46.8000%'],\n",
       " ['48.0000%', '47.2920%', '46.9154%', '48.0000%'],\n",
       " ['50.8000%', '50.9878%', '50.0745%', '50.8000%'],\n",
       " ['48.0000%', '46.8709%', '46.5129%', '48.0000%'],\n",
       " ['49.6000%', '48.7046%', '48.7093%', '49.6000%'],\n",
       " ['47.2000%', '45.9623%', '46.2307%', '47.2000%'],\n",
       " ['50.0000%', '49.7694%', '49.2320%', '50.0000%'],\n",
       " ['50.0000%', '49.5878%', '49.1126%', '50.0000%'],\n",
       " ['46.8000%', '46.3440%', '45.9326%', '46.8000%'],\n",
       " ['48.0000%', '47.2309%', '47.0143%', '48.0000%'],\n",
       " ['46.8000%', '45.6857%', '45.5093%', '46.8000%'],\n",
       " ['49.6000%', '49.9287%', '48.8012%', '49.6000%'],\n",
       " ['46.8000%', '46.3438%', '46.2658%', '46.8000%'],\n",
       " ['46.8000%', '47.3808%', '46.1996%', '46.8000%'],\n",
       " ['47.6000%', '47.2117%', '46.8521%', '47.6000%'],\n",
       " ['49.2000%', '48.2098%', '48.2076%', '49.2000%'],\n",
       " ['47.2000%', '47.0085%', '46.5876%', '47.2000%'],\n",
       " ['47.2000%', '46.9141%', '46.4584%', '47.2000%'],\n",
       " ['48.0000%', '47.6036%', '47.0554%', '48.0000%'],\n",
       " ['48.4000%', '48.1754%', '47.7904%', '48.4000%'],\n",
       " ['47.2000%', '46.1797%', '45.8593%', '47.2000%'],\n",
       " ['46.4000%', '46.1074%', '45.4546%', '46.4000%'],\n",
       " ['45.6000%', '44.9795%', '44.3447%', '45.6000%'],\n",
       " ['47.2000%', '46.0575%', '45.4374%', '47.2000%'],\n",
       " ['50.4000%', '49.6697%', '49.3654%', '50.4000%'],\n",
       " ['49.2000%', '48.5044%', '47.9210%', '49.2000%'],\n",
       " ['48.8000%', '47.4354%', '47.4929%', '48.8000%'],\n",
       " ['49.2000%', '48.0797%', '47.9597%', '49.2000%'],\n",
       " ['47.2000%', '46.0276%', '45.9486%', '47.2000%'],\n",
       " ['50.4000%', '49.2966%', '49.5240%', '50.4000%'],\n",
       " ['45.2000%', '44.4304%', '43.9733%', '45.2000%'],\n",
       " ['46.4000%', '45.6001%', '45.1783%', '46.4000%'],\n",
       " ['50.4000%', '49.8824%', '49.4140%', '50.4000%'],\n",
       " ['45.2000%', '44.1206%', '43.6108%', '45.2000%'],\n",
       " ['49.6000%', '48.7243%', '48.5186%', '49.6000%'],\n",
       " ['46.8000%', '46.3039%', '45.5302%', '46.8000%'],\n",
       " ['46.4000%', '45.5346%', '45.3295%', '46.4000%'],\n",
       " ['47.2000%', '46.5008%', '46.2412%', '47.2000%'],\n",
       " ['47.6000%', '47.6142%', '47.0657%', '47.6000%'],\n",
       " ['47.2000%', '47.0886%', '46.3448%', '47.2000%'],\n",
       " ['44.8000%', '43.9245%', '43.6521%', '44.8000%'],\n",
       " ['47.2000%', '45.6166%', '45.6654%', '47.2000%'],\n",
       " ['46.4000%', '45.6779%', '45.2786%', '46.4000%'],\n",
       " ['47.2000%', '46.7534%', '46.1564%', '47.2000%'],\n",
       " ['48.4000%', '47.4680%', '46.5981%', '48.4000%'],\n",
       " ['48.0000%', '47.7784%', '47.0670%', '48.0000%']]"
      ]
     },
     "execution_count": 45,
     "metadata": {},
     "output_type": "execute_result"
    }
   ],
   "source": [
    "from Models.MLAlgos import Rforest\n",
    "RFSipltResults = []\n",
    "sumtol = []\n",
    "count = 0\n",
    "for i in range(50):\n",
    "    Rforest_WRDenoise_Result = TestRforest(X_WR_Denoise_Embed_train, Y_train, X_WR_Denoise_Embed_val, Y_val, deepth=12, split= i+2)\n",
    "    RFSipltResults.append(Rforest_WRDenoise_Result)\n",
    "    if i>0:\n",
    "        if RFSipltResults[i] == RFSipltResults[i-1]:\n",
    "            count = count + 1\n",
    "\n",
    "    sumtemp = sum([float((RFSipltResults[i][0].strip('%')))/100 , float((RFSipltResults[i][1].strip('%')))/100 , float((RFSipltResults[i][2].strip('%')))/100 , float((RFSipltResults[i][3].strip('%')))/100])\n",
    "    sumtol.append(sumtemp)\n",
    "    if count == 10:\n",
    "        break\n",
    "print('index: ',sumtol.index(max(sumtol)))\n",
    "print('BestResult:', RFSipltResults[sumtol.index(max(sumtol))])\n",
    "print(sumtol)\n",
    "RFSipltResults"
   ]
  },
  {
   "cell_type": "code",
   "execution_count": 46,
   "id": "c27c8977",
   "metadata": {
    "ExecuteTime": {
     "end_time": "2021-11-25T22:58:11.707787Z",
     "start_time": "2021-11-25T22:58:11.692787Z"
    },
    "hidden": true
   },
   "outputs": [
    {
     "name": "stdout",
     "output_type": "stream",
     "text": [
      "BestResult: ['50.8000%', '50.9878%', '50.0745%', '50.8000%']\n"
     ]
    }
   ],
   "source": [
    "print('BestResult:', RFSipltResults[sumtol.index(max(sumtol))])"
   ]
  },
  {
   "cell_type": "code",
   "execution_count": 21,
   "id": "12b221d7",
   "metadata": {
    "ExecuteTime": {
     "end_time": "2021-11-25T22:00:51.284597Z",
     "start_time": "2021-11-25T22:00:51.271603Z"
    },
    "hidden": true
   },
   "outputs": [
    {
     "data": {
      "text/plain": [
       "1.4081259999999998"
      ]
     },
     "execution_count": 21,
     "metadata": {},
     "output_type": "execute_result"
    }
   ],
   "source": [
    "sum([float((RFResults[0][0].strip('%')))/100 , float((RFResults[0][1].strip('%')))/100 , float((RFResults[0][2].strip('%')))/100 , float((RFResults[0][3].strip('%')))/100])"
   ]
  },
  {
   "cell_type": "code",
   "execution_count": 11,
   "id": "a6f54192",
   "metadata": {
    "ExecuteTime": {
     "end_time": "2021-11-25T21:38:42.024372Z",
     "start_time": "2021-11-25T21:38:41.739374Z"
    },
    "hidden": true
   },
   "outputs": [
    {
     "data": {
      "text/html": [
       "<div>\n",
       "<style scoped>\n",
       "    .dataframe tbody tr th:only-of-type {\n",
       "        vertical-align: middle;\n",
       "    }\n",
       "\n",
       "    .dataframe tbody tr th {\n",
       "        vertical-align: top;\n",
       "    }\n",
       "\n",
       "    .dataframe thead th {\n",
       "        text-align: right;\n",
       "    }\n",
       "</style>\n",
       "<table border=\"1\" class=\"dataframe\">\n",
       "  <thead>\n",
       "    <tr style=\"text-align: right;\">\n",
       "      <th></th>\n",
       "      <th>accuracy</th>\n",
       "      <th>precision</th>\n",
       "      <th>f1</th>\n",
       "      <th>recall</th>\n",
       "    </tr>\n",
       "  </thead>\n",
       "  <tbody>\n",
       "    <tr>\n",
       "      <th>SVM</th>\n",
       "      <td>41.6000%</td>\n",
       "      <td>42.3541%</td>\n",
       "      <td>39.4522%</td>\n",
       "      <td>41.6000%</td>\n",
       "    </tr>\n",
       "    <tr>\n",
       "      <th>DTree</th>\n",
       "      <td>36.4000%</td>\n",
       "      <td>37.2357%</td>\n",
       "      <td>36.5907%</td>\n",
       "      <td>36.4000%</td>\n",
       "    </tr>\n",
       "    <tr>\n",
       "      <th>Rforest</th>\n",
       "      <td>46.8000%</td>\n",
       "      <td>46.7763%</td>\n",
       "      <td>46.3538%</td>\n",
       "      <td>46.8000%</td>\n",
       "    </tr>\n",
       "    <tr>\n",
       "      <th>NB</th>\n",
       "      <td>38.4000%</td>\n",
       "      <td>33.9298%</td>\n",
       "      <td>34.7093%</td>\n",
       "      <td>38.4000%</td>\n",
       "    </tr>\n",
       "    <tr>\n",
       "      <th>KNN</th>\n",
       "      <td>49.2000%</td>\n",
       "      <td>50.4044%</td>\n",
       "      <td>48.4685%</td>\n",
       "      <td>49.2000%</td>\n",
       "    </tr>\n",
       "    <tr>\n",
       "      <th>DeepForest</th>\n",
       "      <td>49.2000%</td>\n",
       "      <td>47.7643%</td>\n",
       "      <td>47.3841%</td>\n",
       "      <td>49.2000%</td>\n",
       "    </tr>\n",
       "  </tbody>\n",
       "</table>\n",
       "</div>"
      ],
      "text/plain": [
       "            accuracy precision        f1    recall\n",
       "SVM         41.6000%  42.3541%  39.4522%  41.6000%\n",
       "DTree       36.4000%  37.2357%  36.5907%  36.4000%\n",
       "Rforest     46.8000%  46.7763%  46.3538%  46.8000%\n",
       "NB          38.4000%  33.9298%  34.7093%  38.4000%\n",
       "KNN         49.2000%  50.4044%  48.4685%  49.2000%\n",
       "DeepForest  49.2000%  47.7643%  47.3841%  49.2000%"
      ]
     },
     "execution_count": 11,
     "metadata": {},
     "output_type": "execute_result"
    }
   ],
   "source": [
    "#For lambda = 0.01\n",
    "AFTR_WR_Denoising"
   ]
  }
 ],
 "metadata": {
  "kernelspec": {
   "display_name": "Python 3 (ipykernel)",
   "language": "python",
   "name": "python3"
  },
  "language_info": {
   "codemirror_mode": {
    "name": "ipython",
    "version": 3
   },
   "file_extension": ".py",
   "mimetype": "text/x-python",
   "name": "python",
   "nbconvert_exporter": "python",
   "pygments_lexer": "ipython3",
   "version": "3.8.11"
  },
  "latex_envs": {
   "LaTeX_envs_menu_present": true,
   "autoclose": false,
   "autocomplete": true,
   "bibliofile": "biblio.bib",
   "cite_by": "apalike",
   "current_citInitial": 1,
   "eqLabelWithNumbers": true,
   "eqNumInitial": 1,
   "hotkeys": {
    "equation": "Ctrl-E",
    "itemize": "Ctrl-I"
   },
   "labels_anchors": false,
   "latex_user_defs": false,
   "report_style_numbering": false,
   "user_envs_cfg": false
  },
  "toc": {
   "base_numbering": 1,
   "nav_menu": {},
   "number_sections": false,
   "sideBar": true,
   "skip_h1_title": false,
   "title_cell": "Table of Contents",
   "title_sidebar": "Contents",
   "toc_cell": false,
   "toc_position": {},
   "toc_section_display": true,
   "toc_window_display": false
  }
 },
 "nbformat": 4,
 "nbformat_minor": 5
}
