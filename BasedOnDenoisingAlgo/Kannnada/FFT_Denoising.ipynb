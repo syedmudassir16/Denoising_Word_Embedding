{
 "cells": [
  {
   "cell_type": "markdown",
   "id": "40efc252",
   "metadata": {},
   "source": [
    "# MuRIL "
   ]
  },
  {
   "cell_type": "code",
   "execution_count": 1,
   "id": "19685c4c",
   "metadata": {
    "ExecuteTime": {
     "end_time": "2021-11-26T14:25:57.555305Z",
     "start_time": "2021-11-26T14:25:57.373300Z"
    }
   },
   "outputs": [],
   "source": [
    "from scipy.fft import fft, ifft"
   ]
  },
  {
   "cell_type": "code",
   "execution_count": 2,
   "id": "02fdfc15",
   "metadata": {
    "ExecuteTime": {
     "end_time": "2021-11-26T14:25:57.587337Z",
     "start_time": "2021-11-26T14:25:57.570300Z"
    }
   },
   "outputs": [],
   "source": [
    "import numpy as np\n",
    "X_MuRIL_Embed_train = np.load('Embeddings/Kan_MuRIL_train.npy')\n",
    "X_MuRIL_Embed_val = np.load('Embeddings/Kan_MuRIL_val.npy')"
   ]
  },
  {
   "cell_type": "code",
   "execution_count": 3,
   "id": "dbdab5ef",
   "metadata": {
    "ExecuteTime": {
     "end_time": "2021-11-26T14:25:57.747298Z",
     "start_time": "2021-11-26T14:25:57.734299Z"
    }
   },
   "outputs": [],
   "source": [
    "Y_raw_train = np.load(\"Embeddings/Kan/Split2750and250/Kan_Train_label_2750.npy\")\n",
    "Y_raw_val = np.load(\"Embeddings/Kan/Split2750and250/Kan_val_label_250.npy\")"
   ]
  },
  {
   "cell_type": "code",
   "execution_count": 4,
   "id": "20444755",
   "metadata": {
    "ExecuteTime": {
     "end_time": "2021-11-26T14:25:58.337334Z",
     "start_time": "2021-11-26T14:25:57.945298Z"
    }
   },
   "outputs": [
    {
     "data": {
      "text/plain": [
       "((2750,), (250,))"
      ]
     },
     "execution_count": 4,
     "metadata": {},
     "output_type": "execute_result"
    }
   ],
   "source": [
    "from sklearn.preprocessing import LabelEncoder\n",
    "le = LabelEncoder()\n",
    "Y_train = le.fit_transform(Y_raw_train)\n",
    "Y_val = le.fit_transform(Y_raw_val)\n",
    "Y_train.shape, Y_val.shape"
   ]
  },
  {
   "cell_type": "code",
   "execution_count": 5,
   "id": "f459d06f",
   "metadata": {
    "ExecuteTime": {
     "end_time": "2021-11-26T14:25:58.448337Z",
     "start_time": "2021-11-26T14:25:58.339300Z"
    }
   },
   "outputs": [],
   "source": [
    "#k1 = 4300\n",
    "trainlist = []\n",
    "for i in range(len(X_MuRIL_Embed_train)):\n",
    "    temp_fft = fft(X_MuRIL_Embed_train[i])\n",
    " #   temp_fft[k1:-1] = 0\n",
    "    temp_fft = temp_fft.real\n",
    "    temp_inverse = ifft(temp_fft)\n",
    "    temp_final = temp_inverse.real\n",
    "    trainlist.append(temp_final)\n",
    "\n",
    "#k2 = 480\n",
    "vallist = []\n",
    "for i in range(len(X_MuRIL_Embed_val)):\n",
    "    temp_fft = fft(X_MuRIL_Embed_val[i])\n",
    "    temp_fft = temp_fft.real\n",
    "#    temp_fft[k2:-1] = 0\n",
    "    temp_inverse = ifft(temp_fft)\n",
    "    temp_final = temp_inverse.real\n",
    "    vallist.append(temp_final)"
   ]
  },
  {
   "cell_type": "code",
   "execution_count": 6,
   "id": "aae1c2f4",
   "metadata": {
    "ExecuteTime": {
     "end_time": "2021-11-26T14:25:58.830299Z",
     "start_time": "2021-11-26T14:25:58.804299Z"
    }
   },
   "outputs": [],
   "source": [
    "X_MuRIL_FFT_Denoise_Embed_train = np.asarray(trainlist)\n",
    "X_MuRIL_FFT_Denoise_Embed_val = np.asarray(vallist)       "
   ]
  },
  {
   "cell_type": "code",
   "execution_count": 7,
   "id": "2d0d6dcc",
   "metadata": {
    "ExecuteTime": {
     "end_time": "2021-11-26T14:26:48.407300Z",
     "start_time": "2021-11-26T14:25:59.494300Z"
    }
   },
   "outputs": [
    {
     "name": "stdout",
     "output_type": "stream",
     "text": [
      "[2021-11-26 14:26:08.540] Start to fit the model:\n",
      "[2021-11-26 14:26:08.540] Fitting cascade layer = 0 \n",
      "[2021-11-26 14:26:17.076] layer = 0  | Val Acc = 46.545 % | Elapsed = 8.536 s\n",
      "[2021-11-26 14:26:17.090] Fitting cascade layer = 1 \n",
      "[2021-11-26 14:26:24.776] layer = 1  | Val Acc = 47.200 % | Elapsed = 7.686 s\n",
      "[2021-11-26 14:26:24.787] Fitting cascade layer = 2 \n",
      "[2021-11-26 14:26:32.567] layer = 2  | Val Acc = 48.436 % | Elapsed = 7.779 s\n",
      "[2021-11-26 14:26:32.578] Fitting cascade layer = 3 \n",
      "[2021-11-26 14:26:40.507] layer = 3  | Val Acc = 47.091 % | Elapsed = 7.929 s\n",
      "[2021-11-26 14:26:40.507] Early stopping counter: 1 out of 2\n",
      "[2021-11-26 14:26:40.519] Fitting cascade layer = 4 \n",
      "[2021-11-26 14:26:48.226] layer = 4  | Val Acc = 48.218 % | Elapsed = 7.707 s\n",
      "[2021-11-26 14:26:48.226] Early stopping counter: 2 out of 2\n",
      "[2021-11-26 14:26:48.226] Handling early stopping\n",
      "[2021-11-26 14:26:48.229] The optimal number of layers: 3\n",
      "[2021-11-26 14:26:48.234] Start to evalute the model:\n",
      "[2021-11-26 14:26:48.245] Evaluating cascade layer = 0 \n",
      "[2021-11-26 14:26:48.290] Evaluating cascade layer = 1 \n",
      "[2021-11-26 14:26:48.331] Evaluating cascade layer = 2 \n"
     ]
    }
   ],
   "source": [
    "from Models.MLAlgos import SVectorMachine, Dtree, Rforest, NB, KNN, DeepForest\n",
    "\n",
    "SVM_MuRIL_IFDenoise_Result = SVectorMachine(X_MuRIL_FFT_Denoise_Embed_train, Y_train, X_MuRIL_FFT_Denoise_Embed_val, Y_val, kernelu = 'sigmoid', Cval = 1000, deguree = 1)\n",
    "Dtree_MuRIL_IFDenoise_Result = Dtree(X_MuRIL_FFT_Denoise_Embed_train, Y_train, X_MuRIL_FFT_Denoise_Embed_val, Y_val,deepth=3, split=2)\n",
    "Rforest_MuRIL_IFDenoise_Result = Rforest(X_MuRIL_FFT_Denoise_Embed_train, Y_train, X_MuRIL_FFT_Denoise_Embed_val, Y_val, deepth=20, split= 13)\n",
    "NB_MuRIL_IFDenoiseIF_Result = NB(X_MuRIL_FFT_Denoise_Embed_train, Y_train, X_MuRIL_FFT_Denoise_Embed_val, Y_val)\n",
    "KNN_MuRIL_IFDenoise_Result = KNN(X_MuRIL_FFT_Denoise_Embed_train, Y_train, X_MuRIL_FFT_Denoise_Embed_val, Y_val)\n",
    "Deep_MuRIL_IFDenoise_Result = DeepForest(X_MuRIL_FFT_Denoise_Embed_train, Y_train, X_MuRIL_FFT_Denoise_Embed_val, Y_val)"
   ]
  },
  {
   "cell_type": "code",
   "execution_count": 8,
   "id": "2b922c35",
   "metadata": {
    "ExecuteTime": {
     "end_time": "2021-11-26T14:26:48.802299Z",
     "start_time": "2021-11-26T14:26:48.409300Z"
    }
   },
   "outputs": [
    {
     "data": {
      "text/html": [
       "<div>\n",
       "<style scoped>\n",
       "    .dataframe tbody tr th:only-of-type {\n",
       "        vertical-align: middle;\n",
       "    }\n",
       "\n",
       "    .dataframe tbody tr th {\n",
       "        vertical-align: top;\n",
       "    }\n",
       "\n",
       "    .dataframe thead th {\n",
       "        text-align: right;\n",
       "    }\n",
       "</style>\n",
       "<table border=\"1\" class=\"dataframe\">\n",
       "  <thead>\n",
       "    <tr style=\"text-align: right;\">\n",
       "      <th></th>\n",
       "      <th>accuracy</th>\n",
       "      <th>precision</th>\n",
       "      <th>f1</th>\n",
       "      <th>recall</th>\n",
       "    </tr>\n",
       "  </thead>\n",
       "  <tbody>\n",
       "    <tr>\n",
       "      <th>SVM</th>\n",
       "      <td>48.8000%</td>\n",
       "      <td>47.4343%</td>\n",
       "      <td>47.6013%</td>\n",
       "      <td>48.8000%</td>\n",
       "    </tr>\n",
       "    <tr>\n",
       "      <th>DTree</th>\n",
       "      <td>41.2000%</td>\n",
       "      <td>41.3700%</td>\n",
       "      <td>39.7599%</td>\n",
       "      <td>41.2000%</td>\n",
       "    </tr>\n",
       "    <tr>\n",
       "      <th>Rforest</th>\n",
       "      <td>51.2000%</td>\n",
       "      <td>51.1675%</td>\n",
       "      <td>50.5226%</td>\n",
       "      <td>51.2000%</td>\n",
       "    </tr>\n",
       "    <tr>\n",
       "      <th>NB</th>\n",
       "      <td>38.8000%</td>\n",
       "      <td>33.5265%</td>\n",
       "      <td>34.6396%</td>\n",
       "      <td>38.8000%</td>\n",
       "    </tr>\n",
       "    <tr>\n",
       "      <th>KNN</th>\n",
       "      <td>50.0000%</td>\n",
       "      <td>51.7681%</td>\n",
       "      <td>49.1978%</td>\n",
       "      <td>50.0000%</td>\n",
       "    </tr>\n",
       "    <tr>\n",
       "      <th>DeepForest</th>\n",
       "      <td>48.8000%</td>\n",
       "      <td>47.5887%</td>\n",
       "      <td>47.0492%</td>\n",
       "      <td>48.8000%</td>\n",
       "    </tr>\n",
       "  </tbody>\n",
       "</table>\n",
       "</div>"
      ],
      "text/plain": [
       "            accuracy precision        f1    recall\n",
       "SVM         48.8000%  47.4343%  47.6013%  48.8000%\n",
       "DTree       41.2000%  41.3700%  39.7599%  41.2000%\n",
       "Rforest     51.2000%  51.1675%  50.5226%  51.2000%\n",
       "NB          38.8000%  33.5265%  34.6396%  38.8000%\n",
       "KNN         50.0000%  51.7681%  49.1978%  50.0000%\n",
       "DeepForest  48.8000%  47.5887%  47.0492%  48.8000%"
      ]
     },
     "execution_count": 8,
     "metadata": {},
     "output_type": "execute_result"
    }
   ],
   "source": [
    "import pandas as pd\n",
    "MuRIL_AFTR_FFT_Denoising= pd.DataFrame({'SVM' : SVM_MuRIL_IFDenoise_Result, \n",
    "            'DTree' : Dtree_MuRIL_IFDenoise_Result,\n",
    "            'Rforest' : Rforest_MuRIL_IFDenoise_Result,\n",
    "            'NB' : NB_MuRIL_IFDenoiseIF_Result,\n",
    "            'KNN' : KNN_MuRIL_IFDenoise_Result,\n",
    "            'DeepForest':Deep_MuRIL_IFDenoise_Result})\n",
    "MuRIL_AFTR_FFT_Denoising.index = ['accuracy', 'precision', 'f1', 'recall']\n",
    "MuRIL_AFTR_FFT_Denoising = MuRIL_AFTR_FFT_Denoising.transpose()\n",
    "MuRIL_AFTR_FFT_Denoising"
   ]
  },
  {
   "cell_type": "code",
   "execution_count": null,
   "id": "a3572a80",
   "metadata": {},
   "outputs": [],
   "source": []
  },
  {
   "cell_type": "code",
   "execution_count": null,
   "id": "f7c9b15d",
   "metadata": {},
   "outputs": [],
   "source": []
  },
  {
   "cell_type": "code",
   "execution_count": null,
   "id": "2661981c",
   "metadata": {},
   "outputs": [],
   "source": []
  },
  {
   "cell_type": "markdown",
   "id": "f4eb63db",
   "metadata": {},
   "source": [
    "# LABSE"
   ]
  },
  {
   "cell_type": "code",
   "execution_count": 1,
   "id": "5926e974",
   "metadata": {
    "ExecuteTime": {
     "end_time": "2021-11-26T14:28:36.061043Z",
     "start_time": "2021-11-26T14:28:35.870072Z"
    }
   },
   "outputs": [],
   "source": [
    "import random \n",
    "random.seed(10)\n",
    "from scipy.fft import fft, ifft"
   ]
  },
  {
   "cell_type": "code",
   "execution_count": 2,
   "id": "cf7229a9",
   "metadata": {
    "ExecuteTime": {
     "end_time": "2021-11-26T14:28:37.001039Z",
     "start_time": "2021-11-26T14:28:36.987042Z"
    }
   },
   "outputs": [],
   "source": [
    "import numpy as np\n",
    "X_LaSBE_Embed_train = np.load('Embeddings/Kan_MuRIL_train.npy')\n",
    "X_LaSBE_Embed_val = np.load('Embeddings/Kan_MuRIL_val.npy')"
   ]
  },
  {
   "cell_type": "code",
   "execution_count": 3,
   "id": "b83aaa45",
   "metadata": {
    "ExecuteTime": {
     "end_time": "2021-11-26T14:28:38.066041Z",
     "start_time": "2021-11-26T14:28:38.048037Z"
    }
   },
   "outputs": [],
   "source": [
    "Y_raw_train = np.load(\"Embeddings/Kan/Split2750and250/Kan_Train_label_2750.npy\")\n",
    "Y_raw_val = np.load(\"Embeddings/Kan/Split2750and250/Kan_val_label_250.npy\")"
   ]
  },
  {
   "cell_type": "code",
   "execution_count": 4,
   "id": "566bb20b",
   "metadata": {
    "ExecuteTime": {
     "end_time": "2021-11-26T14:28:40.265044Z",
     "start_time": "2021-11-26T14:28:39.898045Z"
    }
   },
   "outputs": [
    {
     "data": {
      "text/plain": [
       "((2750,), (250,))"
      ]
     },
     "execution_count": 4,
     "metadata": {},
     "output_type": "execute_result"
    }
   ],
   "source": [
    "from sklearn.preprocessing import LabelEncoder\n",
    "le = LabelEncoder()\n",
    "Y_train = le.fit_transform(Y_raw_train)\n",
    "Y_val = le.fit_transform(Y_raw_val)\n",
    "Y_train.shape, Y_val.shape"
   ]
  },
  {
   "cell_type": "code",
   "execution_count": 6,
   "id": "4ea2d692",
   "metadata": {
    "ExecuteTime": {
     "end_time": "2021-11-26T14:28:51.759079Z",
     "start_time": "2021-11-26T14:28:51.651037Z"
    }
   },
   "outputs": [],
   "source": [
    "#k1 = 4300\n",
    "trainlist = []\n",
    "for i in range(len(X_LaSBE_Embed_train)):\n",
    "    temp_fft = fft(X_LaSBE_Embed_train[i])\n",
    " #   temp_fft[k1:-1] = 0\n",
    "    temp_fft = temp_fft.real\n",
    "    temp_inverse = ifft(temp_fft)\n",
    "    temp_final = temp_inverse.real\n",
    "    trainlist.append(temp_final)\n",
    "\n",
    "#k2 = 480\n",
    "vallist = []\n",
    "for i in range(len(X_LaSBE_Embed_val)):\n",
    "    temp_fft = fft(X_LaSBE_Embed_val[i])\n",
    "    temp_fft = temp_fft.real\n",
    "#    temp_fft[k2:-1] = 0\n",
    "    temp_inverse = ifft(temp_fft)\n",
    "    temp_final = temp_inverse.real\n",
    "    vallist.append(temp_final)"
   ]
  },
  {
   "cell_type": "code",
   "execution_count": 7,
   "id": "7e4c5da7",
   "metadata": {
    "ExecuteTime": {
     "end_time": "2021-11-26T14:28:52.936054Z",
     "start_time": "2021-11-26T14:28:52.914077Z"
    }
   },
   "outputs": [],
   "source": [
    "X_LaBSE_FFT_Denoise_Embed_train = np.asarray(trainlist)\n",
    "X_LaBSE_FFT_Denoise_Embed_val = np.asarray(vallist)"
   ]
  },
  {
   "cell_type": "code",
   "execution_count": 8,
   "id": "c3a09f10",
   "metadata": {
    "ExecuteTime": {
     "end_time": "2021-11-26T14:29:56.342044Z",
     "start_time": "2021-11-26T14:29:04.599040Z"
    }
   },
   "outputs": [
    {
     "name": "stdout",
     "output_type": "stream",
     "text": [
      "[2021-11-26 14:29:16.268] Start to fit the model:\n",
      "[2021-11-26 14:29:16.268] Fitting cascade layer = 0 \n",
      "[2021-11-26 14:29:24.507] layer = 0  | Val Acc = 46.545 % | Elapsed = 8.239 s\n",
      "[2021-11-26 14:29:24.521] Fitting cascade layer = 1 \n",
      "[2021-11-26 14:29:32.459] layer = 1  | Val Acc = 47.200 % | Elapsed = 7.938 s\n",
      "[2021-11-26 14:29:32.471] Fitting cascade layer = 2 \n",
      "[2021-11-26 14:29:40.369] layer = 2  | Val Acc = 48.436 % | Elapsed = 7.898 s\n",
      "[2021-11-26 14:29:40.386] Fitting cascade layer = 3 \n",
      "[2021-11-26 14:29:48.297] layer = 3  | Val Acc = 47.091 % | Elapsed = 7.910 s\n",
      "[2021-11-26 14:29:48.297] Early stopping counter: 1 out of 2\n",
      "[2021-11-26 14:29:48.310] Fitting cascade layer = 4 \n",
      "[2021-11-26 14:29:56.162] layer = 4  | Val Acc = 48.218 % | Elapsed = 7.852 s\n",
      "[2021-11-26 14:29:56.162] Early stopping counter: 2 out of 2\n",
      "[2021-11-26 14:29:56.162] Handling early stopping\n",
      "[2021-11-26 14:29:56.164] The optimal number of layers: 3\n",
      "[2021-11-26 14:29:56.169] Start to evalute the model:\n",
      "[2021-11-26 14:29:56.179] Evaluating cascade layer = 0 \n",
      "[2021-11-26 14:29:56.217] Evaluating cascade layer = 1 \n",
      "[2021-11-26 14:29:56.267] Evaluating cascade layer = 2 \n"
     ]
    }
   ],
   "source": [
    "import random\n",
    "random.seed(10)\n",
    "\n",
    "from Models.MLAlgos import SVectorMachine, Dtree, Rforest, NB, KNN, DeepForest\n",
    "\n",
    "SVM_LaBSE_IFDenoise_Result = SVectorMachine(X_LaBSE_FFT_Denoise_Embed_train, Y_train, X_LaBSE_FFT_Denoise_Embed_val, Y_val)\n",
    "Dtree_LaBSE_IFDenoise_Result = Dtree(X_LaBSE_FFT_Denoise_Embed_train, Y_train, X_LaBSE_FFT_Denoise_Embed_val, Y_val,deepth=13)\n",
    "Rforest_LaBSE_IFDenoise_Result = Rforest(X_LaBSE_FFT_Denoise_Embed_train, Y_train, X_LaBSE_FFT_Denoise_Embed_val, Y_val,deepth=15)\n",
    "NB_LaBSE_IFDenoiseIF_Result = NB(X_LaBSE_FFT_Denoise_Embed_train, Y_train, X_LaBSE_FFT_Denoise_Embed_val, Y_val)\n",
    "KNN_LaBSE_IFDenoise_Result = KNN(X_LaBSE_FFT_Denoise_Embed_train, Y_train, X_LaBSE_FFT_Denoise_Embed_val, Y_val)\n",
    "Deep_LaBSE_IFDenoise_Result = DeepForest(X_LaBSE_FFT_Denoise_Embed_train, Y_train, X_LaBSE_FFT_Denoise_Embed_val, Y_val)"
   ]
  },
  {
   "cell_type": "code",
   "execution_count": 9,
   "id": "020a1c2f",
   "metadata": {
    "ExecuteTime": {
     "end_time": "2021-11-26T14:29:56.725038Z",
     "start_time": "2021-11-26T14:29:56.345043Z"
    }
   },
   "outputs": [
    {
     "data": {
      "text/html": [
       "<div>\n",
       "<style scoped>\n",
       "    .dataframe tbody tr th:only-of-type {\n",
       "        vertical-align: middle;\n",
       "    }\n",
       "\n",
       "    .dataframe tbody tr th {\n",
       "        vertical-align: top;\n",
       "    }\n",
       "\n",
       "    .dataframe thead th {\n",
       "        text-align: right;\n",
       "    }\n",
       "</style>\n",
       "<table border=\"1\" class=\"dataframe\">\n",
       "  <thead>\n",
       "    <tr style=\"text-align: right;\">\n",
       "      <th></th>\n",
       "      <th>accuracy</th>\n",
       "      <th>precision</th>\n",
       "      <th>f1</th>\n",
       "      <th>recall</th>\n",
       "    </tr>\n",
       "  </thead>\n",
       "  <tbody>\n",
       "    <tr>\n",
       "      <th>SVM</th>\n",
       "      <td>39.2000%</td>\n",
       "      <td>34.3110%</td>\n",
       "      <td>35.1400%</td>\n",
       "      <td>39.2000%</td>\n",
       "    </tr>\n",
       "    <tr>\n",
       "      <th>DTree</th>\n",
       "      <td>36.4000%</td>\n",
       "      <td>37.2428%</td>\n",
       "      <td>36.6302%</td>\n",
       "      <td>36.4000%</td>\n",
       "    </tr>\n",
       "    <tr>\n",
       "      <th>Rforest</th>\n",
       "      <td>46.4000%</td>\n",
       "      <td>45.8831%</td>\n",
       "      <td>45.9165%</td>\n",
       "      <td>46.4000%</td>\n",
       "    </tr>\n",
       "    <tr>\n",
       "      <th>NB</th>\n",
       "      <td>38.8000%</td>\n",
       "      <td>33.5265%</td>\n",
       "      <td>34.6396%</td>\n",
       "      <td>38.8000%</td>\n",
       "    </tr>\n",
       "    <tr>\n",
       "      <th>KNN</th>\n",
       "      <td>50.0000%</td>\n",
       "      <td>51.7681%</td>\n",
       "      <td>49.1978%</td>\n",
       "      <td>50.0000%</td>\n",
       "    </tr>\n",
       "    <tr>\n",
       "      <th>DeepForest</th>\n",
       "      <td>48.8000%</td>\n",
       "      <td>47.5887%</td>\n",
       "      <td>47.0492%</td>\n",
       "      <td>48.8000%</td>\n",
       "    </tr>\n",
       "  </tbody>\n",
       "</table>\n",
       "</div>"
      ],
      "text/plain": [
       "            accuracy precision        f1    recall\n",
       "SVM         39.2000%  34.3110%  35.1400%  39.2000%\n",
       "DTree       36.4000%  37.2428%  36.6302%  36.4000%\n",
       "Rforest     46.4000%  45.8831%  45.9165%  46.4000%\n",
       "NB          38.8000%  33.5265%  34.6396%  38.8000%\n",
       "KNN         50.0000%  51.7681%  49.1978%  50.0000%\n",
       "DeepForest  48.8000%  47.5887%  47.0492%  48.8000%"
      ]
     },
     "execution_count": 9,
     "metadata": {},
     "output_type": "execute_result"
    }
   ],
   "source": [
    "import pandas as pd\n",
    "AFTR_LaBSE_FFT_Denoising= pd.DataFrame({'SVM' : SVM_LaBSE_IFDenoise_Result, \n",
    "            'DTree' : Dtree_LaBSE_IFDenoise_Result,\n",
    "            'Rforest' : Rforest_LaBSE_IFDenoise_Result,\n",
    "            'NB' : NB_LaBSE_IFDenoiseIF_Result,\n",
    "            'KNN' : KNN_LaBSE_IFDenoise_Result,\n",
    "            'DeepForest':Deep_LaBSE_IFDenoise_Result})\n",
    "AFTR_LaBSE_FFT_Denoising.index = ['accuracy', 'precision', 'f1', 'recall']\n",
    "AFTR_LaBSE_FFT_Denoising = AFTR_LaBSE_FFT_Denoising.transpose()\n",
    "AFTR_LaBSE_FFT_Denoising"
   ]
  },
  {
   "cell_type": "code",
   "execution_count": 10,
   "id": "8530f2e6",
   "metadata": {
    "ExecuteTime": {
     "end_time": "2021-11-26T14:31:52.057373Z",
     "start_time": "2021-11-26T14:31:52.052409Z"
    }
   },
   "outputs": [],
   "source": [
    "from sklearn.model_selection import GridSearchCV\n",
    "from sklearn.svm import SVC\n",
    "\n",
    "param_grid = { 'C':[0.1,1,100,1000],'kernel':['rbf','poly','sigmoid','linear'],'degree':[1,2,3,4,5,6]}"
   ]
  },
  {
   "cell_type": "code",
   "execution_count": 11,
   "id": "afa394ba",
   "metadata": {
    "ExecuteTime": {
     "end_time": "2021-11-26T14:49:25.882694Z",
     "start_time": "2021-11-26T14:32:15.287367Z"
    }
   },
   "outputs": [
    {
     "data": {
      "text/plain": [
       "GridSearchCV(estimator=SVC(random_state=10),\n",
       "             param_grid={'C': [0.1, 1, 100, 1000], 'degree': [1, 2, 3, 4, 5, 6],\n",
       "                         'kernel': ['rbf', 'poly', 'sigmoid', 'linear']})"
      ]
     },
     "execution_count": 11,
     "metadata": {},
     "output_type": "execute_result"
    }
   ],
   "source": [
    "grid = GridSearchCV(SVC(random_state=10),param_grid)\n",
    "grid.fit(X_LaBSE_FFT_Denoise_Embed_train, Y_train)"
   ]
  },
  {
   "cell_type": "code",
   "execution_count": 12,
   "id": "4e58d20e",
   "metadata": {
    "ExecuteTime": {
     "end_time": "2021-11-26T14:49:26.334694Z",
     "start_time": "2021-11-26T14:49:25.884694Z"
    }
   },
   "outputs": [
    {
     "name": "stdout",
     "output_type": "stream",
     "text": [
      "{'C': 1000, 'degree': 1, 'kernel': 'sigmoid'}\n",
      "0.488\n"
     ]
    }
   ],
   "source": [
    "print(grid.best_params_)\n",
    "print(grid.score(X_LaBSE_FFT_Denoise_Embed_val, Y_val))"
   ]
  },
  {
   "cell_type": "code",
   "execution_count": null,
   "id": "251e57b2",
   "metadata": {},
   "outputs": [],
   "source": []
  },
  {
   "cell_type": "code",
   "execution_count": 18,
   "id": "71c5d267",
   "metadata": {
    "ExecuteTime": {
     "end_time": "2021-11-26T14:55:29.615360Z",
     "start_time": "2021-11-26T14:55:26.992358Z"
    }
   },
   "outputs": [],
   "source": [
    "SVM_LaBSE_IFDenoise_Result = SVectorMachine(X_LaBSE_FFT_Denoise_Embed_train, Y_train, X_LaBSE_FFT_Denoise_Embed_val, Y_val,Cval=grid.best_params_['C'], deguree=1, kernelu ='sigmoid')"
   ]
  },
  {
   "cell_type": "code",
   "execution_count": 19,
   "id": "533213db",
   "metadata": {
    "ExecuteTime": {
     "end_time": "2021-11-26T14:55:29.631332Z",
     "start_time": "2021-11-26T14:55:29.616341Z"
    }
   },
   "outputs": [
    {
     "data": {
      "text/plain": [
       "['48.8000%', '47.4343%', '47.6013%', '48.8000%']"
      ]
     },
     "execution_count": 19,
     "metadata": {},
     "output_type": "execute_result"
    }
   ],
   "source": [
    "SVM_LaBSE_IFDenoise_Result"
   ]
  },
  {
   "cell_type": "code",
   "execution_count": 13,
   "id": "2b1aae5f",
   "metadata": {
    "ExecuteTime": {
     "end_time": "2021-11-26T14:50:02.736695Z",
     "start_time": "2021-11-26T14:49:26.335694Z"
    },
    "scrolled": true
   },
   "outputs": [
    {
     "name": "stderr",
     "output_type": "stream",
     "text": [
      "C:\\Users\\phvpa\\anaconda3\\envs\\MuRIL\\lib\\site-packages\\sklearn\\metrics\\_classification.py:1308: UndefinedMetricWarning: Precision is ill-defined and being set to 0.0 in labels with no predicted samples. Use `zero_division` parameter to control this behavior.\n",
      "  _warn_prf(average, modifier, msg_start, len(result))\n",
      "C:\\Users\\phvpa\\anaconda3\\envs\\MuRIL\\lib\\site-packages\\sklearn\\metrics\\_classification.py:1308: UndefinedMetricWarning: Precision is ill-defined and being set to 0.0 in labels with no predicted samples. Use `zero_division` parameter to control this behavior.\n",
      "  _warn_prf(average, modifier, msg_start, len(result))\n"
     ]
    },
    {
     "name": "stdout",
     "output_type": "stream",
     "text": [
      "index:  3\n",
      "BestResult: ['41.2000%', '41.3700%', '39.7599%', '41.2000%']\n",
      "[0.9388730000000001, 1.2830750000000002, 1.6352989999999998, 1.3884910000000001, 1.4441129999999998, 1.5214279999999998, 1.6155439999999999, 1.5338649999999998, 1.400852, 1.4640339999999998, 1.4386410000000003, 1.31419, 1.46673, 1.394327, 1.4079880000000002, 1.4656630000000002, 1.266376, 1.3649570000000002, 1.4050689999999997, 1.4050689999999997, 1.4050689999999997, 1.4050689999999997, 1.4050689999999997, 1.4050689999999997, 1.4050689999999997, 1.4050689999999997, 1.4050689999999997, 1.4050689999999997, 1.4050689999999997]\n"
     ]
    },
    {
     "data": {
      "text/plain": [
       "[['31.6000%', '12.6356%', '18.0517%', '31.6000%'],\n",
       " ['37.6000%', '24.4740%', '28.6335%', '37.6000%'],\n",
       " ['41.2000%', '41.3700%', '39.7599%', '41.2000%'],\n",
       " ['35.6000%', '35.2014%', '32.4477%', '35.6000%'],\n",
       " ['36.8000%', '35.6240%', '35.1873%', '36.8000%'],\n",
       " ['37.6000%', '39.2098%', '37.7330%', '37.6000%'],\n",
       " ['40.0000%', '41.4268%', '40.1276%', '40.0000%'],\n",
       " ['38.8000%', '37.9577%', '37.8288%', '38.8000%'],\n",
       " ['34.8000%', '35.4264%', '35.0588%', '34.8000%'],\n",
       " ['36.4000%', '37.0023%', '36.6011%', '36.4000%'],\n",
       " ['35.6000%', '36.7413%', '35.9228%', '35.6000%'],\n",
       " ['32.8000%', '33.0218%', '32.7972%', '32.8000%'],\n",
       " ['36.4000%', '37.2428%', '36.6302%', '36.4000%'],\n",
       " ['34.8000%', '35.0620%', '34.7707%', '34.8000%'],\n",
       " ['35.2000%', '35.3787%', '35.0201%', '35.2000%'],\n",
       " ['36.4000%', '37.1392%', '36.6271%', '36.4000%'],\n",
       " ['31.6000%', '31.8158%', '31.6218%', '31.6000%'],\n",
       " ['34.0000%', '34.3710%', '34.1247%', '34.0000%'],\n",
       " ['34.8000%', '35.8076%', '35.0993%', '34.8000%'],\n",
       " ['34.8000%', '35.8076%', '35.0993%', '34.8000%'],\n",
       " ['34.8000%', '35.8076%', '35.0993%', '34.8000%'],\n",
       " ['34.8000%', '35.8076%', '35.0993%', '34.8000%'],\n",
       " ['34.8000%', '35.8076%', '35.0993%', '34.8000%'],\n",
       " ['34.8000%', '35.8076%', '35.0993%', '34.8000%'],\n",
       " ['34.8000%', '35.8076%', '35.0993%', '34.8000%'],\n",
       " ['34.8000%', '35.8076%', '35.0993%', '34.8000%'],\n",
       " ['34.8000%', '35.8076%', '35.0993%', '34.8000%'],\n",
       " ['34.8000%', '35.8076%', '35.0993%', '34.8000%'],\n",
       " ['34.8000%', '35.8076%', '35.0993%', '34.8000%']]"
      ]
     },
     "execution_count": 13,
     "metadata": {},
     "output_type": "execute_result"
    }
   ],
   "source": [
    "from Models.MLAlgos import Dtree\n",
    "\n",
    "DTSipltResults = []\n",
    "sumtol = []\n",
    "count = 0\n",
    "for i in range(50):\n",
    "    Dtree_WRDenoise_Result = Dtree(X_LaBSE_FFT_Denoise_Embed_train, Y_train, X_LaBSE_FFT_Denoise_Embed_val, Y_val, deepth=i+1, split= 2)\n",
    "    DTSipltResults.append(Dtree_WRDenoise_Result)\n",
    "    if i>0:\n",
    "        if DTSipltResults[i] == DTSipltResults[i-1]:\n",
    "            count = count + 1\n",
    "\n",
    "    sumtemp = sum([float((DTSipltResults[i][0].strip('%')))/100 , float((DTSipltResults[i][1].strip('%')))/100 , float((DTSipltResults[i][2].strip('%')))/100 , float((DTSipltResults[i][3].strip('%')))/100])\n",
    "    sumtol.append(sumtemp)\n",
    "    if count == 10:\n",
    "        break\n",
    "indexu2 = sumtol.index(max(sumtol)) + 1\n",
    "print('index: ',indexu2)\n",
    "print('BestResult:', DTSipltResults[sumtol.index(max(sumtol))])\n",
    "print(sumtol)\n",
    "DTSipltResults"
   ]
  },
  {
   "cell_type": "code",
   "execution_count": 14,
   "id": "a9c5242c",
   "metadata": {
    "ExecuteTime": {
     "end_time": "2021-11-26T14:50:08.550694Z",
     "start_time": "2021-11-26T14:50:02.739673Z"
    },
    "scrolled": false
   },
   "outputs": [
    {
     "name": "stdout",
     "output_type": "stream",
     "text": [
      "index:  0\n",
      "BestResult: ['41.2000%', '41.3700%', '39.7599%', '41.2000%']\n",
      "[1.6352989999999998, 1.6352989999999998, 1.6352989999999998, 1.6352989999999998, 1.6352989999999998, 1.6352989999999998, 1.6352989999999998, 1.6352989999999998, 1.6352989999999998, 1.6352989999999998, 1.6352989999999998]\n"
     ]
    },
    {
     "data": {
      "text/plain": [
       "[['41.2000%', '41.3700%', '39.7599%', '41.2000%'],\n",
       " ['41.2000%', '41.3700%', '39.7599%', '41.2000%'],\n",
       " ['41.2000%', '41.3700%', '39.7599%', '41.2000%'],\n",
       " ['41.2000%', '41.3700%', '39.7599%', '41.2000%'],\n",
       " ['41.2000%', '41.3700%', '39.7599%', '41.2000%'],\n",
       " ['41.2000%', '41.3700%', '39.7599%', '41.2000%'],\n",
       " ['41.2000%', '41.3700%', '39.7599%', '41.2000%'],\n",
       " ['41.2000%', '41.3700%', '39.7599%', '41.2000%'],\n",
       " ['41.2000%', '41.3700%', '39.7599%', '41.2000%'],\n",
       " ['41.2000%', '41.3700%', '39.7599%', '41.2000%'],\n",
       " ['41.2000%', '41.3700%', '39.7599%', '41.2000%']]"
      ]
     },
     "execution_count": 14,
     "metadata": {},
     "output_type": "execute_result"
    }
   ],
   "source": [
    "from Models.MLAlgos import SVectorMachine, Dtree\n",
    "\n",
    "DTSipltResults = []\n",
    "sumtol = []\n",
    "count = 0\n",
    "for i in range(50):\n",
    "    Dtree_WRDenoise_Result = Dtree(X_LaBSE_FFT_Denoise_Embed_train, Y_train, X_LaBSE_FFT_Denoise_Embed_val, Y_val, deepth=indexu2, split= i+2)\n",
    "    DTSipltResults.append(Dtree_WRDenoise_Result)\n",
    "    if i>0:\n",
    "        if DTSipltResults[i] == DTSipltResults[i-1]:\n",
    "            count = count + 1\n",
    "\n",
    "    sumtemp = sum([float((DTSipltResults[i][0].strip('%')))/100 , float((DTSipltResults[i][1].strip('%')))/100 , float((DTSipltResults[i][2].strip('%')))/100 , float((DTSipltResults[i][3].strip('%')))/100])\n",
    "    sumtol.append(sumtemp)\n",
    "    if count == 10:\n",
    "        break\n",
    "print('index: ',sumtol.index(max(sumtol)))\n",
    "print('BestResult:', DTSipltResults[sumtol.index(max(sumtol))])\n",
    "print(sumtol)\n",
    "DTSipltResults"
   ]
  },
  {
   "cell_type": "code",
   "execution_count": null,
   "id": "02ce81af",
   "metadata": {},
   "outputs": [],
   "source": []
  },
  {
   "cell_type": "code",
   "execution_count": 15,
   "id": "027e45c5",
   "metadata": {
    "ExecuteTime": {
     "end_time": "2021-11-26T14:52:07.472678Z",
     "start_time": "2021-11-26T14:50:08.551694Z"
    },
    "scrolled": true
   },
   "outputs": [
    {
     "name": "stdout",
     "output_type": "stream",
     "text": [
      "index:  20\n",
      "BestResult: ['50.0000%', '49.9667%', '49.7287%', '50.0000%']\n",
      "[1.297922, 1.5646039999999997, 1.5838580000000002, 1.642088, 1.663392, 1.6622439999999998, 1.98022, 1.9277469999999999, 1.878853, 1.853116, 1.932881, 1.8913039999999999, 1.7927119999999999, 1.736183, 1.845996, 1.7444559999999998, 1.863889, 1.9773070000000001, 1.904796, 1.9969540000000001, 1.991171, 1.8306019999999998, 1.8605079999999998, 1.7954029999999999, 1.8457379999999999, 1.841212, 1.841212, 1.841212, 1.841212, 1.841212, 1.841212, 1.841212, 1.841212, 1.841212, 1.841212, 1.841212]\n"
     ]
    },
    {
     "data": {
      "text/plain": [
       "[['35.6000%', '33.1060%', '25.4862%', '35.6000%'],\n",
       " ['40.8000%', '38.8393%', '36.0211%', '40.8000%'],\n",
       " ['41.2000%', '38.0668%', '37.9190%', '41.2000%'],\n",
       " ['42.4000%', '39.7147%', '39.6941%', '42.4000%'],\n",
       " ['42.8000%', '40.3441%', '40.3951%', '42.8000%'],\n",
       " ['42.4000%', '40.6542%', '40.7702%', '42.4000%'],\n",
       " ['49.6000%', '49.7309%', '49.0911%', '49.6000%'],\n",
       " ['48.8000%', '47.7201%', '47.4546%', '48.8000%'],\n",
       " ['47.6000%', '46.2657%', '46.4196%', '47.6000%'],\n",
       " ['46.8000%', '45.8960%', '45.8156%', '46.8000%'],\n",
       " ['48.8000%', '47.9066%', '47.7815%', '48.8000%'],\n",
       " ['48.0000%', '46.4799%', '46.6505%', '48.0000%'],\n",
       " ['45.2000%', '44.4537%', '44.4175%', '45.2000%'],\n",
       " ['44.0000%', '42.7998%', '42.8185%', '44.0000%'],\n",
       " ['46.4000%', '45.8831%', '45.9165%', '46.4000%'],\n",
       " ['44.0000%', '43.4537%', '42.9919%', '44.0000%'],\n",
       " ['46.8000%', '46.5467%', '46.2422%', '46.8000%'],\n",
       " ['49.6000%', '49.4560%', '49.0747%', '49.6000%'],\n",
       " ['47.6000%', '47.9329%', '47.3467%', '47.6000%'],\n",
       " ['50.0000%', '49.9667%', '49.7287%', '50.0000%'],\n",
       " ['50.0000%', '49.7379%', '49.3792%', '50.0000%'],\n",
       " ['46.0000%', '45.6747%', '45.3855%', '46.0000%'],\n",
       " ['46.8000%', '46.4025%', '46.0483%', '46.8000%'],\n",
       " ['45.2000%', '44.6901%', '44.4502%', '45.2000%'],\n",
       " ['46.4000%', '46.0200%', '45.7538%', '46.4000%'],\n",
       " ['46.4000%', '45.7246%', '45.5966%', '46.4000%'],\n",
       " ['46.4000%', '45.7246%', '45.5966%', '46.4000%'],\n",
       " ['46.4000%', '45.7246%', '45.5966%', '46.4000%'],\n",
       " ['46.4000%', '45.7246%', '45.5966%', '46.4000%'],\n",
       " ['46.4000%', '45.7246%', '45.5966%', '46.4000%'],\n",
       " ['46.4000%', '45.7246%', '45.5966%', '46.4000%'],\n",
       " ['46.4000%', '45.7246%', '45.5966%', '46.4000%'],\n",
       " ['46.4000%', '45.7246%', '45.5966%', '46.4000%'],\n",
       " ['46.4000%', '45.7246%', '45.5966%', '46.4000%'],\n",
       " ['46.4000%', '45.7246%', '45.5966%', '46.4000%'],\n",
       " ['46.4000%', '45.7246%', '45.5966%', '46.4000%']]"
      ]
     },
     "execution_count": 15,
     "metadata": {},
     "output_type": "execute_result"
    }
   ],
   "source": [
    "from Models.MLAlgos import Rforest\n",
    "RFSipltResults = []\n",
    "sumtol = []\n",
    "count = 0\n",
    "for i in range(50):\n",
    "    Rforest_WRDenoise_Result = Rforest(X_LaBSE_FFT_Denoise_Embed_train, Y_train, X_LaBSE_FFT_Denoise_Embed_val, Y_val, deepth=i+1, split= 2)\n",
    "    RFSipltResults.append(Rforest_WRDenoise_Result)\n",
    "    if i>0:\n",
    "        if RFSipltResults[i] == RFSipltResults[i-1]:\n",
    "            count = count + 1\n",
    "\n",
    "    sumtemp = sum([float((RFSipltResults[i][0].strip('%')))/100 , float((RFSipltResults[i][1].strip('%')))/100 , float((RFSipltResults[i][2].strip('%')))/100 , float((RFSipltResults[i][3].strip('%')))/100])\n",
    "    sumtol.append(sumtemp)\n",
    "    if count == 10:\n",
    "        break\n",
    "indexu = sumtol.index(max(sumtol)) + 1\n",
    "print('index: ',indexu)\n",
    "print('BestResult:', RFSipltResults[sumtol.index(max(sumtol))])\n",
    "print(sumtol)\n",
    "RFSipltResults"
   ]
  },
  {
   "cell_type": "code",
   "execution_count": 17,
   "id": "d389a0b7",
   "metadata": {
    "ExecuteTime": {
     "end_time": "2021-11-26T14:55:26.991363Z",
     "start_time": "2021-11-26T14:52:39.168668Z"
    },
    "scrolled": true
   },
   "outputs": [
    {
     "name": "stdout",
     "output_type": "stream",
     "text": [
      "index:  11\n",
      "BestResult: ['51.2000%', '51.1675%', '50.5226%', '51.2000%']\n",
      "[1.9969540000000001, 1.94146, 1.9106459999999998, 1.849197, 2.016566, 1.900072, 1.8235000000000001, 1.905019, 1.7790249999999999, 1.921186, 1.9340220000000001, 2.040901, 1.8288459999999997, 1.944774, 1.917592, 1.919601, 1.888666, 1.837896, 1.830649, 1.946345, 1.950275, 1.9258769999999998, 1.984137, 1.975436, 1.863171, 1.948738, 1.912329, 1.9873980000000002, 1.976512, 1.838936, 1.9644220000000001, 1.893265, 1.789049, 1.981438, 1.935742, 2.000263, 1.918047, 1.832329, 1.932061, 1.8272249999999999, 1.904198, 1.83971, 1.810106, 1.8351549999999999, 1.842881, 1.923052, 1.963441, 1.911633, 1.9095149999999999, 1.8391440000000001]\n"
     ]
    },
    {
     "data": {
      "text/plain": [
       "[['50.0000%', '49.9667%', '49.7287%', '50.0000%'],\n",
       " ['48.8000%', '48.4462%', '48.0998%', '48.8000%'],\n",
       " ['48.0000%', '47.6462%', '47.4184%', '48.0000%'],\n",
       " ['46.4000%', '46.0290%', '46.0907%', '46.4000%'],\n",
       " ['50.4000%', '50.7136%', '50.1430%', '50.4000%'],\n",
       " ['47.6000%', '47.5963%', '47.2109%', '47.6000%'],\n",
       " ['45.6000%', '45.8568%', '45.2932%', '45.6000%'],\n",
       " ['48.0000%', '47.2654%', '47.2365%', '48.0000%'],\n",
       " ['44.8000%', '44.2821%', '44.0204%', '44.8000%'],\n",
       " ['48.4000%', '47.9278%', '47.3908%', '48.4000%'],\n",
       " ['48.4000%', '48.5623%', '48.0399%', '48.4000%'],\n",
       " ['51.2000%', '51.1675%', '50.5226%', '51.2000%'],\n",
       " ['46.4000%', '44.9582%', '45.1264%', '46.4000%'],\n",
       " ['48.8000%', '48.5417%', '48.3357%', '48.8000%'],\n",
       " ['48.4000%', '47.5670%', '47.3922%', '48.4000%'],\n",
       " ['48.0000%', '48.4460%', '47.5141%', '48.0000%'],\n",
       " ['47.6000%', '46.9994%', '46.6672%', '47.6000%'],\n",
       " ['46.4000%', '45.7160%', '45.2736%', '46.4000%'],\n",
       " ['46.0000%', '45.6957%', '45.3692%', '46.0000%'],\n",
       " ['48.8000%', '48.8388%', '48.1957%', '48.8000%'],\n",
       " ['49.2000%', '48.5556%', '48.0719%', '49.2000%'],\n",
       " ['48.4000%', '48.2575%', '47.5302%', '48.4000%'],\n",
       " ['49.6000%', '50.1245%', '49.0892%', '49.6000%'],\n",
       " ['49.2000%', '50.4197%', '48.7239%', '49.2000%'],\n",
       " ['46.8000%', '46.8742%', '45.8429%', '46.8000%'],\n",
       " ['48.8000%', '49.0094%', '48.2644%', '48.8000%'],\n",
       " ['48.0000%', '48.1048%', '47.1281%', '48.0000%'],\n",
       " ['50.0000%', '49.6342%', '49.1056%', '50.0000%'],\n",
       " ['49.6000%', '49.4709%', '48.9803%', '49.6000%'],\n",
       " ['46.4000%', '45.5152%', '45.5784%', '46.4000%'],\n",
       " ['49.2000%', '49.5526%', '48.4896%', '49.2000%'],\n",
       " ['47.2000%', '48.2556%', '46.6709%', '47.2000%'],\n",
       " ['44.8000%', '45.0981%', '44.2068%', '44.8000%'],\n",
       " ['49.6000%', '50.0464%', '48.8974%', '49.6000%'],\n",
       " ['48.8000%', '48.2680%', '47.7062%', '48.8000%'],\n",
       " ['50.0000%', '50.4397%', '49.5866%', '50.0000%'],\n",
       " ['48.0000%', '48.3117%', '47.4930%', '48.0000%'],\n",
       " ['46.0000%', '45.8730%', '45.3599%', '46.0000%'],\n",
       " ['48.8000%', '48.0047%', '47.6014%', '48.8000%'],\n",
       " ['46.0000%', '45.4577%', '45.2648%', '46.0000%'],\n",
       " ['48.0000%', '47.3123%', '47.1075%', '48.0000%'],\n",
       " ['46.4000%', '45.8505%', '45.3205%', '46.4000%'],\n",
       " ['45.6000%', '45.2603%', '44.5503%', '45.6000%'],\n",
       " ['46.0000%', '46.2002%', '45.3153%', '46.0000%'],\n",
       " ['46.4000%', '45.9295%', '45.5586%', '46.4000%'],\n",
       " ['48.8000%', '47.3961%', '47.3091%', '48.8000%'],\n",
       " ['49.6000%', '48.6277%', '48.5164%', '49.6000%'],\n",
       " ['48.0000%', '47.9088%', '47.2545%', '48.0000%'],\n",
       " ['48.0000%', '47.7287%', '47.2228%', '48.0000%'],\n",
       " ['46.4000%', '45.8898%', '45.2246%', '46.4000%']]"
      ]
     },
     "execution_count": 17,
     "metadata": {},
     "output_type": "execute_result"
    }
   ],
   "source": [
    "from Models.MLAlgos import Rforest\n",
    "RFSipltResults = []\n",
    "sumtol = []\n",
    "count = 0\n",
    "for i in range(50):\n",
    "    Rforest_WRDenoise_Result = Rforest(X_LaBSE_FFT_Denoise_Embed_train, Y_train, X_LaBSE_FFT_Denoise_Embed_val, Y_val, deepth=indexu, split= i+2)\n",
    "    RFSipltResults.append(Rforest_WRDenoise_Result)\n",
    "    if i>0:\n",
    "        if RFSipltResults[i] == RFSipltResults[i-1]:\n",
    "            count = count + 1\n",
    "\n",
    "    sumtemp = sum([float((RFSipltResults[i][0].strip('%')))/100 , float((RFSipltResults[i][1].strip('%')))/100 , float((RFSipltResults[i][2].strip('%')))/100 , float((RFSipltResults[i][3].strip('%')))/100])\n",
    "    sumtol.append(sumtemp)\n",
    "    if count == 10:\n",
    "        break\n",
    "print('index: ',sumtol.index(max(sumtol)))\n",
    "print('BestResult:', RFSipltResults[sumtol.index(max(sumtol))])\n",
    "print(sumtol)\n",
    "RFSipltResults"
   ]
  },
  {
   "cell_type": "code",
   "execution_count": null,
   "id": "fef04079",
   "metadata": {},
   "outputs": [],
   "source": []
  },
  {
   "cell_type": "code",
   "execution_count": null,
   "id": "150dec04",
   "metadata": {},
   "outputs": [],
   "source": []
  },
  {
   "cell_type": "code",
   "execution_count": null,
   "id": "52bd7b05",
   "metadata": {},
   "outputs": [],
   "source": []
  },
  {
   "cell_type": "code",
   "execution_count": null,
   "id": "eaf74db0",
   "metadata": {},
   "outputs": [],
   "source": []
  },
  {
   "cell_type": "markdown",
   "id": "16e84a33",
   "metadata": {
    "heading_collapsed": true
   },
   "source": [
    "# Rough Work"
   ]
  },
  {
   "cell_type": "code",
   "execution_count": 21,
   "id": "5d2cb8b4",
   "metadata": {
    "ExecuteTime": {
     "end_time": "2021-11-26T14:19:00.589274Z",
     "start_time": "2021-11-26T14:18:22.455239Z"
    },
    "hidden": true,
    "scrolled": true
   },
   "outputs": [
    {
     "name": "stderr",
     "output_type": "stream",
     "text": [
      "C:\\Users\\phvpa\\anaconda3\\envs\\MuRIL\\lib\\site-packages\\sklearn\\metrics\\_classification.py:1308: UndefinedMetricWarning: Precision is ill-defined and being set to 0.0 in labels with no predicted samples. Use `zero_division` parameter to control this behavior.\n",
      "  _warn_prf(average, modifier, msg_start, len(result))\n",
      "C:\\Users\\phvpa\\anaconda3\\envs\\MuRIL\\lib\\site-packages\\sklearn\\metrics\\_classification.py:1308: UndefinedMetricWarning: Precision is ill-defined and being set to 0.0 in labels with no predicted samples. Use `zero_division` parameter to control this behavior.\n",
      "  _warn_prf(average, modifier, msg_start, len(result))\n"
     ]
    },
    {
     "name": "stdout",
     "output_type": "stream",
     "text": [
      "index:  3\n",
      "BestResult: ['41.2000%', '41.3700%', '39.7599%', '41.2000%']\n",
      "[0.9388730000000001, 1.2830750000000002, 1.6352989999999998, 1.3884910000000001, 1.4441129999999998, 1.5214279999999998, 1.6155439999999999, 1.5338649999999998, 1.400852, 1.4640339999999998, 1.4386410000000003, 1.31419, 1.46673, 1.394327, 1.4079880000000002, 1.4656630000000002, 1.266376, 1.3649570000000002, 1.4050689999999997, 1.4050689999999997, 1.4050689999999997, 1.4050689999999997, 1.4050689999999997, 1.4050689999999997, 1.4050689999999997, 1.4050689999999997, 1.4050689999999997, 1.4050689999999997, 1.4050689999999997]\n"
     ]
    },
    {
     "data": {
      "text/plain": [
       "[['31.6000%', '12.6356%', '18.0517%', '31.6000%'],\n",
       " ['37.6000%', '24.4740%', '28.6335%', '37.6000%'],\n",
       " ['41.2000%', '41.3700%', '39.7599%', '41.2000%'],\n",
       " ['35.6000%', '35.2014%', '32.4477%', '35.6000%'],\n",
       " ['36.8000%', '35.6240%', '35.1873%', '36.8000%'],\n",
       " ['37.6000%', '39.2098%', '37.7330%', '37.6000%'],\n",
       " ['40.0000%', '41.4268%', '40.1276%', '40.0000%'],\n",
       " ['38.8000%', '37.9577%', '37.8288%', '38.8000%'],\n",
       " ['34.8000%', '35.4264%', '35.0588%', '34.8000%'],\n",
       " ['36.4000%', '37.0023%', '36.6011%', '36.4000%'],\n",
       " ['35.6000%', '36.7413%', '35.9228%', '35.6000%'],\n",
       " ['32.8000%', '33.0218%', '32.7972%', '32.8000%'],\n",
       " ['36.4000%', '37.2428%', '36.6302%', '36.4000%'],\n",
       " ['34.8000%', '35.0620%', '34.7707%', '34.8000%'],\n",
       " ['35.2000%', '35.3787%', '35.0201%', '35.2000%'],\n",
       " ['36.4000%', '37.1392%', '36.6271%', '36.4000%'],\n",
       " ['31.6000%', '31.8158%', '31.6218%', '31.6000%'],\n",
       " ['34.0000%', '34.3710%', '34.1247%', '34.0000%'],\n",
       " ['34.8000%', '35.8076%', '35.0993%', '34.8000%'],\n",
       " ['34.8000%', '35.8076%', '35.0993%', '34.8000%'],\n",
       " ['34.8000%', '35.8076%', '35.0993%', '34.8000%'],\n",
       " ['34.8000%', '35.8076%', '35.0993%', '34.8000%'],\n",
       " ['34.8000%', '35.8076%', '35.0993%', '34.8000%'],\n",
       " ['34.8000%', '35.8076%', '35.0993%', '34.8000%'],\n",
       " ['34.8000%', '35.8076%', '35.0993%', '34.8000%'],\n",
       " ['34.8000%', '35.8076%', '35.0993%', '34.8000%'],\n",
       " ['34.8000%', '35.8076%', '35.0993%', '34.8000%'],\n",
       " ['34.8000%', '35.8076%', '35.0993%', '34.8000%'],\n",
       " ['34.8000%', '35.8076%', '35.0993%', '34.8000%']]"
      ]
     },
     "execution_count": 21,
     "metadata": {},
     "output_type": "execute_result"
    }
   ],
   "source": [
    "from Models.MLAlgos import Dtree\n",
    "\n",
    "DTSipltResults = []\n",
    "sumtol = []\n",
    "count = 0\n",
    "for i in range(50):\n",
    "    Dtree_WRDenoise_Result = Dtree(X_MuRIL_FFT_Denoise_Embed_train, Y_train, X_MuRIL_FFT_Denoise_Embed_val, Y_val, deepth=i+1, split= 2)\n",
    "    DTSipltResults.append(Dtree_WRDenoise_Result)\n",
    "    if i>0:\n",
    "        if DTSipltResults[i] == DTSipltResults[i-1]:\n",
    "            count = count + 1\n",
    "\n",
    "    sumtemp = sum([float((DTSipltResults[i][0].strip('%')))/100 , float((DTSipltResults[i][1].strip('%')))/100 , float((DTSipltResults[i][2].strip('%')))/100 , float((DTSipltResults[i][3].strip('%')))/100])\n",
    "    sumtol.append(sumtemp)\n",
    "    if count == 10:\n",
    "        break\n",
    "indexu2 = sumtol.index(max(sumtol)) + 1\n",
    "print('index: ',indexu2)\n",
    "print('BestResult:', DTSipltResults[sumtol.index(max(sumtol))])\n",
    "print(sumtol)\n",
    "DTSipltResults"
   ]
  },
  {
   "cell_type": "code",
   "execution_count": 22,
   "id": "e93d0a57",
   "metadata": {
    "ExecuteTime": {
     "end_time": "2021-11-26T14:19:06.666273Z",
     "start_time": "2021-11-26T14:19:00.592247Z"
    },
    "hidden": true
   },
   "outputs": [
    {
     "name": "stdout",
     "output_type": "stream",
     "text": [
      "index:  0\n",
      "BestResult: ['41.2000%', '41.3700%', '39.7599%', '41.2000%']\n",
      "[1.6352989999999998, 1.6352989999999998, 1.6352989999999998, 1.6352989999999998, 1.6352989999999998, 1.6352989999999998, 1.6352989999999998, 1.6352989999999998, 1.6352989999999998, 1.6352989999999998, 1.6352989999999998]\n"
     ]
    },
    {
     "data": {
      "text/plain": [
       "[['41.2000%', '41.3700%', '39.7599%', '41.2000%'],\n",
       " ['41.2000%', '41.3700%', '39.7599%', '41.2000%'],\n",
       " ['41.2000%', '41.3700%', '39.7599%', '41.2000%'],\n",
       " ['41.2000%', '41.3700%', '39.7599%', '41.2000%'],\n",
       " ['41.2000%', '41.3700%', '39.7599%', '41.2000%'],\n",
       " ['41.2000%', '41.3700%', '39.7599%', '41.2000%'],\n",
       " ['41.2000%', '41.3700%', '39.7599%', '41.2000%'],\n",
       " ['41.2000%', '41.3700%', '39.7599%', '41.2000%'],\n",
       " ['41.2000%', '41.3700%', '39.7599%', '41.2000%'],\n",
       " ['41.2000%', '41.3700%', '39.7599%', '41.2000%'],\n",
       " ['41.2000%', '41.3700%', '39.7599%', '41.2000%']]"
      ]
     },
     "execution_count": 22,
     "metadata": {},
     "output_type": "execute_result"
    }
   ],
   "source": [
    "from Models.MLAlgos import SVectorMachine, Dtree\n",
    "\n",
    "DTSipltResults = []\n",
    "sumtol = []\n",
    "count = 0\n",
    "for i in range(50):\n",
    "    Dtree_WRDenoise_Result = Dtree(X_MuRIL_FFT_Denoise_Embed_train, Y_train, X_MuRIL_FFT_Denoise_Embed_val, Y_val, deepth=indexu2, split= i+2)\n",
    "    DTSipltResults.append(Dtree_WRDenoise_Result)\n",
    "    if i>0:\n",
    "        if DTSipltResults[i] == DTSipltResults[i-1]:\n",
    "            count = count + 1\n",
    "\n",
    "    sumtemp = sum([float((DTSipltResults[i][0].strip('%')))/100 , float((DTSipltResults[i][1].strip('%')))/100 , float((DTSipltResults[i][2].strip('%')))/100 , float((DTSipltResults[i][3].strip('%')))/100])\n",
    "    sumtol.append(sumtemp)\n",
    "    if count == 10:\n",
    "        break\n",
    "print('index: ',sumtol.index(max(sumtol)))\n",
    "print('BestResult:', DTSipltResults[sumtol.index(max(sumtol))])\n",
    "print(sumtol)\n",
    "DTSipltResults"
   ]
  },
  {
   "cell_type": "code",
   "execution_count": 23,
   "id": "765ab7ca",
   "metadata": {
    "ExecuteTime": {
     "end_time": "2021-11-26T14:20:56.449493Z",
     "start_time": "2021-11-26T14:20:55.873508Z"
    },
    "hidden": true
   },
   "outputs": [
    {
     "data": {
      "text/plain": [
       "['41.2000%', '41.3700%', '39.7599%', '41.2000%']"
      ]
     },
     "execution_count": 23,
     "metadata": {},
     "output_type": "execute_result"
    }
   ],
   "source": [
    "Dtree_MuRIL_IFDenoise_Result = Dtree(X_MuRIL_FFT_Denoise_Embed_train, Y_train, X_MuRIL_FFT_Denoise_Embed_val, Y_val,deepth=3, split=2)\n",
    "Dtree_MuRIL_IFDenoise_Result\n"
   ]
  },
  {
   "cell_type": "code",
   "execution_count": null,
   "id": "0b24f895",
   "metadata": {
    "hidden": true
   },
   "outputs": [],
   "source": []
  },
  {
   "cell_type": "code",
   "execution_count": null,
   "id": "22ec5626",
   "metadata": {
    "hidden": true
   },
   "outputs": [],
   "source": []
  },
  {
   "cell_type": "code",
   "execution_count": null,
   "id": "e13617f7",
   "metadata": {
    "hidden": true
   },
   "outputs": [],
   "source": []
  },
  {
   "cell_type": "code",
   "execution_count": 15,
   "id": "2271eb3c",
   "metadata": {
    "ExecuteTime": {
     "end_time": "2021-11-26T14:10:46.422989Z",
     "start_time": "2021-11-26T14:08:41.204363Z"
    },
    "hidden": true,
    "scrolled": true
   },
   "outputs": [
    {
     "name": "stdout",
     "output_type": "stream",
     "text": [
      "index:  20\n",
      "BestResult: ['50.0000%', '49.9667%', '49.7287%', '50.0000%']\n",
      "[1.297922, 1.5646039999999997, 1.5838580000000002, 1.642088, 1.663392, 1.6622439999999998, 1.98022, 1.9277469999999999, 1.878853, 1.853116, 1.932881, 1.8913039999999999, 1.7927119999999999, 1.736183, 1.845996, 1.7444559999999998, 1.863889, 1.9773070000000001, 1.904796, 1.9969540000000001, 1.991171, 1.8306019999999998, 1.8605079999999998, 1.7954029999999999, 1.8457379999999999, 1.841212, 1.841212, 1.841212, 1.841212, 1.841212, 1.841212, 1.841212, 1.841212, 1.841212, 1.841212, 1.841212]\n"
     ]
    },
    {
     "data": {
      "text/plain": [
       "[['35.6000%', '33.1060%', '25.4862%', '35.6000%'],\n",
       " ['40.8000%', '38.8393%', '36.0211%', '40.8000%'],\n",
       " ['41.2000%', '38.0668%', '37.9190%', '41.2000%'],\n",
       " ['42.4000%', '39.7147%', '39.6941%', '42.4000%'],\n",
       " ['42.8000%', '40.3441%', '40.3951%', '42.8000%'],\n",
       " ['42.4000%', '40.6542%', '40.7702%', '42.4000%'],\n",
       " ['49.6000%', '49.7309%', '49.0911%', '49.6000%'],\n",
       " ['48.8000%', '47.7201%', '47.4546%', '48.8000%'],\n",
       " ['47.6000%', '46.2657%', '46.4196%', '47.6000%'],\n",
       " ['46.8000%', '45.8960%', '45.8156%', '46.8000%'],\n",
       " ['48.8000%', '47.9066%', '47.7815%', '48.8000%'],\n",
       " ['48.0000%', '46.4799%', '46.6505%', '48.0000%'],\n",
       " ['45.2000%', '44.4537%', '44.4175%', '45.2000%'],\n",
       " ['44.0000%', '42.7998%', '42.8185%', '44.0000%'],\n",
       " ['46.4000%', '45.8831%', '45.9165%', '46.4000%'],\n",
       " ['44.0000%', '43.4537%', '42.9919%', '44.0000%'],\n",
       " ['46.8000%', '46.5467%', '46.2422%', '46.8000%'],\n",
       " ['49.6000%', '49.4560%', '49.0747%', '49.6000%'],\n",
       " ['47.6000%', '47.9329%', '47.3467%', '47.6000%'],\n",
       " ['50.0000%', '49.9667%', '49.7287%', '50.0000%'],\n",
       " ['50.0000%', '49.7379%', '49.3792%', '50.0000%'],\n",
       " ['46.0000%', '45.6747%', '45.3855%', '46.0000%'],\n",
       " ['46.8000%', '46.4025%', '46.0483%', '46.8000%'],\n",
       " ['45.2000%', '44.6901%', '44.4502%', '45.2000%'],\n",
       " ['46.4000%', '46.0200%', '45.7538%', '46.4000%'],\n",
       " ['46.4000%', '45.7246%', '45.5966%', '46.4000%'],\n",
       " ['46.4000%', '45.7246%', '45.5966%', '46.4000%'],\n",
       " ['46.4000%', '45.7246%', '45.5966%', '46.4000%'],\n",
       " ['46.4000%', '45.7246%', '45.5966%', '46.4000%'],\n",
       " ['46.4000%', '45.7246%', '45.5966%', '46.4000%'],\n",
       " ['46.4000%', '45.7246%', '45.5966%', '46.4000%'],\n",
       " ['46.4000%', '45.7246%', '45.5966%', '46.4000%'],\n",
       " ['46.4000%', '45.7246%', '45.5966%', '46.4000%'],\n",
       " ['46.4000%', '45.7246%', '45.5966%', '46.4000%'],\n",
       " ['46.4000%', '45.7246%', '45.5966%', '46.4000%'],\n",
       " ['46.4000%', '45.7246%', '45.5966%', '46.4000%']]"
      ]
     },
     "execution_count": 15,
     "metadata": {},
     "output_type": "execute_result"
    }
   ],
   "source": [
    "from Models.MLAlgos import Rforest\n",
    "RFSipltResults = []\n",
    "sumtol = []\n",
    "count = 0\n",
    "for i in range(50):\n",
    "    Rforest_WRDenoise_Result = Rforest(X_MuRIL_FFT_Denoise_Embed_train, Y_train, X_MuRIL_FFT_Denoise_Embed_val, Y_val, deepth=i+1, split= 2)\n",
    "    RFSipltResults.append(Rforest_WRDenoise_Result)\n",
    "    if i>0:\n",
    "        if RFSipltResults[i] == RFSipltResults[i-1]:\n",
    "            count = count + 1\n",
    "\n",
    "    sumtemp = sum([float((RFSipltResults[i][0].strip('%')))/100 , float((RFSipltResults[i][1].strip('%')))/100 , float((RFSipltResults[i][2].strip('%')))/100 , float((RFSipltResults[i][3].strip('%')))/100])\n",
    "    sumtol.append(sumtemp)\n",
    "    if count == 10:\n",
    "        break\n",
    "indexu = sumtol.index(max(sumtol)) + 1\n",
    "print('index: ',indexu)\n",
    "print('BestResult:', RFSipltResults[sumtol.index(max(sumtol))])\n",
    "print(sumtol)\n",
    "RFSipltResults"
   ]
  },
  {
   "cell_type": "code",
   "execution_count": 16,
   "id": "259dc73c",
   "metadata": {
    "ExecuteTime": {
     "end_time": "2021-11-26T14:13:45.246239Z",
     "start_time": "2021-11-26T14:10:46.425990Z"
    },
    "hidden": true,
    "scrolled": true
   },
   "outputs": [
    {
     "name": "stdout",
     "output_type": "stream",
     "text": [
      "index:  11\n",
      "BestResult: ['51.2000%', '51.1675%', '50.5226%', '51.2000%']\n",
      "[1.9969540000000001, 1.94146, 1.9106459999999998, 1.849197, 2.016566, 1.900072, 1.8235000000000001, 1.905019, 1.7790249999999999, 1.921186, 1.9340220000000001, 2.040901, 1.8288459999999997, 1.944774, 1.917592, 1.919601, 1.888666, 1.837896, 1.830649, 1.946345, 1.950275, 1.9258769999999998, 1.984137, 1.975436, 1.863171, 1.948738, 1.912329, 1.9873980000000002, 1.976512, 1.838936, 1.9644220000000001, 1.893265, 1.789049, 1.981438, 1.935742, 2.000263, 1.918047, 1.832329, 1.932061, 1.8272249999999999, 1.904198, 1.83971, 1.810106, 1.8351549999999999, 1.842881, 1.923052, 1.963441, 1.911633, 1.9095149999999999, 1.8391440000000001]\n"
     ]
    },
    {
     "data": {
      "text/plain": [
       "[['50.0000%', '49.9667%', '49.7287%', '50.0000%'],\n",
       " ['48.8000%', '48.4462%', '48.0998%', '48.8000%'],\n",
       " ['48.0000%', '47.6462%', '47.4184%', '48.0000%'],\n",
       " ['46.4000%', '46.0290%', '46.0907%', '46.4000%'],\n",
       " ['50.4000%', '50.7136%', '50.1430%', '50.4000%'],\n",
       " ['47.6000%', '47.5963%', '47.2109%', '47.6000%'],\n",
       " ['45.6000%', '45.8568%', '45.2932%', '45.6000%'],\n",
       " ['48.0000%', '47.2654%', '47.2365%', '48.0000%'],\n",
       " ['44.8000%', '44.2821%', '44.0204%', '44.8000%'],\n",
       " ['48.4000%', '47.9278%', '47.3908%', '48.4000%'],\n",
       " ['48.4000%', '48.5623%', '48.0399%', '48.4000%'],\n",
       " ['51.2000%', '51.1675%', '50.5226%', '51.2000%'],\n",
       " ['46.4000%', '44.9582%', '45.1264%', '46.4000%'],\n",
       " ['48.8000%', '48.5417%', '48.3357%', '48.8000%'],\n",
       " ['48.4000%', '47.5670%', '47.3922%', '48.4000%'],\n",
       " ['48.0000%', '48.4460%', '47.5141%', '48.0000%'],\n",
       " ['47.6000%', '46.9994%', '46.6672%', '47.6000%'],\n",
       " ['46.4000%', '45.7160%', '45.2736%', '46.4000%'],\n",
       " ['46.0000%', '45.6957%', '45.3692%', '46.0000%'],\n",
       " ['48.8000%', '48.8388%', '48.1957%', '48.8000%'],\n",
       " ['49.2000%', '48.5556%', '48.0719%', '49.2000%'],\n",
       " ['48.4000%', '48.2575%', '47.5302%', '48.4000%'],\n",
       " ['49.6000%', '50.1245%', '49.0892%', '49.6000%'],\n",
       " ['49.2000%', '50.4197%', '48.7239%', '49.2000%'],\n",
       " ['46.8000%', '46.8742%', '45.8429%', '46.8000%'],\n",
       " ['48.8000%', '49.0094%', '48.2644%', '48.8000%'],\n",
       " ['48.0000%', '48.1048%', '47.1281%', '48.0000%'],\n",
       " ['50.0000%', '49.6342%', '49.1056%', '50.0000%'],\n",
       " ['49.6000%', '49.4709%', '48.9803%', '49.6000%'],\n",
       " ['46.4000%', '45.5152%', '45.5784%', '46.4000%'],\n",
       " ['49.2000%', '49.5526%', '48.4896%', '49.2000%'],\n",
       " ['47.2000%', '48.2556%', '46.6709%', '47.2000%'],\n",
       " ['44.8000%', '45.0981%', '44.2068%', '44.8000%'],\n",
       " ['49.6000%', '50.0464%', '48.8974%', '49.6000%'],\n",
       " ['48.8000%', '48.2680%', '47.7062%', '48.8000%'],\n",
       " ['50.0000%', '50.4397%', '49.5866%', '50.0000%'],\n",
       " ['48.0000%', '48.3117%', '47.4930%', '48.0000%'],\n",
       " ['46.0000%', '45.8730%', '45.3599%', '46.0000%'],\n",
       " ['48.8000%', '48.0047%', '47.6014%', '48.8000%'],\n",
       " ['46.0000%', '45.4577%', '45.2648%', '46.0000%'],\n",
       " ['48.0000%', '47.3123%', '47.1075%', '48.0000%'],\n",
       " ['46.4000%', '45.8505%', '45.3205%', '46.4000%'],\n",
       " ['45.6000%', '45.2603%', '44.5503%', '45.6000%'],\n",
       " ['46.0000%', '46.2002%', '45.3153%', '46.0000%'],\n",
       " ['46.4000%', '45.9295%', '45.5586%', '46.4000%'],\n",
       " ['48.8000%', '47.3961%', '47.3091%', '48.8000%'],\n",
       " ['49.6000%', '48.6277%', '48.5164%', '49.6000%'],\n",
       " ['48.0000%', '47.9088%', '47.2545%', '48.0000%'],\n",
       " ['48.0000%', '47.7287%', '47.2228%', '48.0000%'],\n",
       " ['46.4000%', '45.8898%', '45.2246%', '46.4000%']]"
      ]
     },
     "execution_count": 16,
     "metadata": {},
     "output_type": "execute_result"
    }
   ],
   "source": [
    "from Models.MLAlgos import Rforest\n",
    "RFSipltResults = []\n",
    "sumtol = []\n",
    "count = 0\n",
    "for i in range(50):\n",
    "    Rforest_WRDenoise_Result = Rforest(X_MuRIL_FFT_Denoise_Embed_train, Y_train, X_MuRIL_FFT_Denoise_Embed_val, Y_val, deepth=indexu, split= i+2)\n",
    "    RFSipltResults.append(Rforest_WRDenoise_Result)\n",
    "    if i>0:\n",
    "        if RFSipltResults[i] == RFSipltResults[i-1]:\n",
    "            count = count + 1\n",
    "\n",
    "    sumtemp = sum([float((RFSipltResults[i][0].strip('%')))/100 , float((RFSipltResults[i][1].strip('%')))/100 , float((RFSipltResults[i][2].strip('%')))/100 , float((RFSipltResults[i][3].strip('%')))/100])\n",
    "    sumtol.append(sumtemp)\n",
    "    if count == 10:\n",
    "        break\n",
    "print('index: ',sumtol.index(max(sumtol)))\n",
    "print('BestResult:', RFSipltResults[sumtol.index(max(sumtol))])\n",
    "print(sumtol)\n",
    "RFSipltResults"
   ]
  },
  {
   "cell_type": "code",
   "execution_count": 17,
   "id": "bb5bf361",
   "metadata": {
    "ExecuteTime": {
     "end_time": "2021-11-26T14:15:15.490272Z",
     "start_time": "2021-11-26T14:15:11.782252Z"
    },
    "hidden": true
   },
   "outputs": [
    {
     "data": {
      "text/plain": [
       "['51.2000%', '51.1675%', '50.5226%', '51.2000%']"
      ]
     },
     "execution_count": 17,
     "metadata": {},
     "output_type": "execute_result"
    }
   ],
   "source": [
    "Rforest_WRDenoise_Result = Rforest(X_MuRIL_FFT_Denoise_Embed_train, Y_train, X_MuRIL_FFT_Denoise_Embed_val, Y_val, deepth=20, split= 13)\n",
    "Rforest_WRDenoise_Result"
   ]
  },
  {
   "cell_type": "code",
   "execution_count": null,
   "id": "019eb38b",
   "metadata": {
    "hidden": true
   },
   "outputs": [],
   "source": []
  },
  {
   "cell_type": "code",
   "execution_count": 10,
   "id": "baa5015e",
   "metadata": {
    "ExecuteTime": {
     "end_time": "2021-11-26T12:20:19.212480Z",
     "start_time": "2021-11-26T12:20:19.198500Z"
    },
    "hidden": true
   },
   "outputs": [],
   "source": [
    "from sklearn.model_selection import GridSearchCV\n",
    "from sklearn.svm import SVC\n",
    "\n",
    "param_grid = { 'C':[0.1,1,10,100,1000],'kernel':['rbf','poly','sigmoid','linear'],'degree':[1,2,3,4,5,6]}"
   ]
  },
  {
   "cell_type": "code",
   "execution_count": 11,
   "id": "c4bb2128",
   "metadata": {
    "ExecuteTime": {
     "end_time": "2021-11-26T12:55:45.567999Z",
     "start_time": "2021-11-26T12:20:19.900467Z"
    },
    "hidden": true
   },
   "outputs": [
    {
     "data": {
      "text/plain": [
       "GridSearchCV(estimator=SVC(random_state=10),\n",
       "             param_grid={'C': [0.1, 1, 10, 100, 1000],\n",
       "                         'degree': [1, 2, 3, 4, 5, 6],\n",
       "                         'kernel': ['rbf', 'poly', 'sigmoid', 'linear']})"
      ]
     },
     "execution_count": 11,
     "metadata": {},
     "output_type": "execute_result"
    }
   ],
   "source": [
    "grid = GridSearchCV(SVC(random_state=10),param_grid)\n",
    "grid.fit(X_MuRIL_FFT_Denoise_Embed_train, Y_train)"
   ]
  },
  {
   "cell_type": "code",
   "execution_count": 12,
   "id": "c916c33c",
   "metadata": {
    "ExecuteTime": {
     "end_time": "2021-11-26T12:55:45.968038Z",
     "start_time": "2021-11-26T12:55:45.571998Z"
    },
    "hidden": true
   },
   "outputs": [
    {
     "name": "stdout",
     "output_type": "stream",
     "text": [
      "{'C': 1000, 'degree': 1, 'kernel': 'sigmoid'}\n",
      "0.488\n"
     ]
    }
   ],
   "source": [
    "print(grid.best_params_)\n",
    "print(grid.score(X_MuRIL_FFT_Denoise_Embed_val, Y_val))"
   ]
  },
  {
   "cell_type": "code",
   "execution_count": 13,
   "id": "8f6470c7",
   "metadata": {
    "ExecuteTime": {
     "end_time": "2021-11-26T13:01:28.483673Z",
     "start_time": "2021-11-26T13:01:24.931685Z"
    },
    "hidden": true
   },
   "outputs": [
    {
     "data": {
      "text/plain": [
       "['48.8000%', '47.4343%', '47.6013%', '48.8000%']"
      ]
     },
     "execution_count": 13,
     "metadata": {},
     "output_type": "execute_result"
    }
   ],
   "source": [
    "SVM_MuRIL_IFDenoise_Result = SVectorMachine(X_MuRIL_FFT_Denoise_Embed_train, Y_train, X_MuRIL_FFT_Denoise_Embed_val, Y_val, kernelu = 'sigmoid', Cval = 1000, deguree = 1)\n",
    "SVM_MuRIL_IFDenoise_Result"
   ]
  },
  {
   "cell_type": "code",
   "execution_count": null,
   "id": "3cdadc15",
   "metadata": {
    "hidden": true
   },
   "outputs": [],
   "source": []
  },
  {
   "cell_type": "code",
   "execution_count": null,
   "id": "f6c7bdfa",
   "metadata": {
    "hidden": true
   },
   "outputs": [],
   "source": []
  },
  {
   "cell_type": "code",
   "execution_count": null,
   "id": "c0184e0c",
   "metadata": {
    "ExecuteTime": {
     "start_time": "2021-11-24T14:26:48.553Z"
    },
    "hidden": true
   },
   "outputs": [],
   "source": [
    "import random \n",
    "random.seed(10)\n",
    "\n",
    "from deepforest import CascadeForestClassifier\n",
    "from sklearn.svm import SVC\n",
    "from sklearn.tree import DecisionTreeClassifier\n",
    "from sklearn.ensemble import RandomForestClassifier\n",
    "from sklearn.metrics import f1_score, precision_score, recall_score, accuracy_score\n",
    "\n",
    "#SVM\n",
    "def SVectorMachine(X_train, Y_train, X_test, Y_test):\n",
    "    svc = SVC( kernel='rbf',max_iter=1000,decision_function_shape='ovo',random_state=10)\n",
    "    svc.fit(X_train,Y_train)\n",
    "    pred_svc = svc.predict(X_test)\n",
    "    acc = f'{100*accuracy_score(Y_test,pred_svc):.4f}%'\n",
    "    prec = f'{100*precision_score(Y_test,pred_svc, average=\"macro\"):.4f}%'\n",
    "    f1 = f'{100*f1_score(Y_test,pred_svc, average=\"macro\"):.4f}%'\n",
    "    recall = f'{100*recall_score(Y_test,pred_svc, average=\"macro\"):.4f}%'\n",
    "    Result1 = [acc, prec, f1, recall]\n",
    "    return Result1\n",
    "\n",
    "#DecisionTree\n",
    "def Dtree(X_train, Y_train, X_test, Y_test):\n",
    "    #Dtree = DecisionTreeClassifier(criterion='entropy', random_state=10)\n",
    "    Dtree = DecisionTreeClassifier(max_depth=14, random_state=10)\n",
    "    Dtree.fit(X_train,Y_train)\n",
    "    pred_Dtree = Dtree.predict(X_test)\n",
    "    acc = f'{100*accuracy_score(Y_test,pred_Dtree):.4f}%'\n",
    "    prec = f'{100*precision_score(Y_test,pred_Dtree, average=\"macro\"):.4f}%'\n",
    "    f1 = f'{100*f1_score(Y_test,pred_Dtree, average=\"macro\"):.4f}%'\n",
    "    recall = f'{100*recall_score(Y_test,pred_Dtree, average=\"macro\"):.4f}%'\n",
    "    Result2 = [acc, prec, f1, recall]\n",
    "    return Result2\n",
    "\n",
    "#RandomForest\n",
    "def Rforest(X_train, Y_train, X_test, Y_test):\n",
    "    #RFC = RandomForestClassifier(criterion='entropy', random_state=10)\n",
    "    RFC = RandomForestClassifier(random_state=10)\n",
    "    RFC.fit(X_train,Y_train)\n",
    "    pred_RFC = RFC.predict(X_test)\n",
    "    acc = f'{100*accuracy_score(Y_test,pred_RFC):.4f}%'\n",
    "    prec = f'{100*precision_score(Y_test,pred_RFC, average=\"macro\"):.4f}%'\n",
    "    f1 = f'{100*f1_score(Y_test,pred_RFC, average=\"macro\"):.4f}%'\n",
    "    recall = f'{100*recall_score(Y_test,pred_RFC, average=\"macro\"):.4f}%'\n",
    "    Result3 = [acc, prec, f1, recall]\n",
    "    return Result3"
   ]
  },
  {
   "cell_type": "code",
   "execution_count": null,
   "id": "06a28abd",
   "metadata": {
    "ExecuteTime": {
     "start_time": "2021-11-24T14:26:49.203Z"
    },
    "hidden": true
   },
   "outputs": [],
   "source": [
    "# # Temp_SVM_MuRIL_IFDenoise_Result = SVectorMachine(X_MuRIL_FFT_Denoise_Embed_train, Y_train, X_MuRIL_FFT_Denoise_Embed_val, Y_val)\n",
    "# Temp_Dtree_MuRIL_IFDenoise_Result = Dtree(X_MuRIL_FFT_Denoise_Embed_train, Y_train, X_MuRIL_FFT_Denoise_Embed_val, Y_val)\n",
    "# # Temp_Rforest_MuRIL_IFDenoise_Result = Rforest(X_MuRIL_FFT_Denoise_Embed_train, Y_train, X_MuRIL_FFT_Denoise_Embed_val, Y_val)"
   ]
  },
  {
   "cell_type": "code",
   "execution_count": null,
   "id": "1f459a9d",
   "metadata": {
    "ExecuteTime": {
     "start_time": "2021-11-24T14:26:49.892Z"
    },
    "hidden": true
   },
   "outputs": [],
   "source": [
    "# # Temp_SVM_MuRIL_IFDenoise_Result, \n",
    "# Temp_Dtree_MuRIL_IFDenoise_Result#, \n",
    "# # Temp_Rforest_MuRIL_IFDenoise_Result"
   ]
  },
  {
   "cell_type": "code",
   "execution_count": 29,
   "id": "4cbf0e2f",
   "metadata": {
    "ExecuteTime": {
     "end_time": "2021-11-24T13:26:36.769690Z",
     "start_time": "2021-11-24T13:26:36.746656Z"
    },
    "hidden": true
   },
   "outputs": [],
   "source": [
    "import random \n",
    "random.seed(10)\n",
    "from sklearn.metrics import f1_score, precision_score, recall_score, accuracy_score\n",
    "from sklearn.ensemble import RandomForestClassifier\n",
    "from deepforest import CascadeForestClassifier\n",
    "\n",
    "#RandomForest\n",
    "def Rforest(X_train, Y_train, X_test, Y_test,deepth):\n",
    "    #RFC = RandomForestClassifier(criterion='entropy', random_state=10)\n",
    "    RFC = RandomForestClassifier(max_depth=deepth, random_state=10)\n",
    "    RFC.fit(X_train,Y_train)\n",
    "    pred_RFC = RFC.predict(X_test)\n",
    "    acc = f'{100*accuracy_score(Y_test,pred_RFC):.4f}%'\n",
    "    prec = f'{100*precision_score(Y_test,pred_RFC, average=\"macro\"):.4f}%'\n",
    "    f1 = f'{100*f1_score(Y_test,pred_RFC, average=\"macro\"):.4f}%'\n",
    "    recall = f'{100*recall_score(Y_test,pred_RFC, average=\"macro\"):.4f}%'\n",
    "    Result3 = [acc, prec, f1, recall]\n",
    "    return Result3"
   ]
  },
  {
   "cell_type": "code",
   "execution_count": 32,
   "id": "28bb2723",
   "metadata": {
    "ExecuteTime": {
     "end_time": "2021-11-24T13:48:59.720400Z",
     "start_time": "2021-11-24T13:48:52.902360Z"
    },
    "hidden": true
   },
   "outputs": [
    {
     "data": {
      "text/plain": [
       "['51.8000%', '50.9249%', '51.0985%', '51.8000%']"
      ]
     },
     "execution_count": 32,
     "metadata": {},
     "output_type": "execute_result"
    }
   ],
   "source": [
    "temp_RF_LaBSE_IFDenoise_Result = Rforest(X_LaBSE_FFT_Denoise_Embed_train, Y_train, X_LaBSE_FFT_Denoise_Embed_val, Y_val,deepth=15)\n",
    "temp_RF_LaBSE_IFDenoise_Result"
   ]
  },
  {
   "cell_type": "code",
   "execution_count": null,
   "id": "8dcc30bd",
   "metadata": {
    "hidden": true
   },
   "outputs": [],
   "source": []
  },
  {
   "cell_type": "code",
   "execution_count": 11,
   "id": "96ddde79",
   "metadata": {
    "ExecuteTime": {
     "end_time": "2021-11-24T14:53:20.828205Z",
     "start_time": "2021-11-24T14:48:32.478837Z"
    },
    "hidden": true
   },
   "outputs": [],
   "source": [
    "RFResults = []\n",
    "for i in range(40):\n",
    "    from Models.MLAlgos import Rforest\n",
    "    temp_RF_LaBSE_IFDenoise_Result = Rforest(X_LaBSE_FFT_Denoise_Embed_train, Y_train, X_LaBSE_FFT_Denoise_Embed_val, Y_val,deepth=i+1)\n",
    "    RFResults.append(temp_RF_LaBSE_IFDenoise_Result)"
   ]
  },
  {
   "cell_type": "code",
   "execution_count": 12,
   "id": "b96f296d",
   "metadata": {
    "ExecuteTime": {
     "end_time": "2021-11-24T14:53:20.844033Z",
     "start_time": "2021-11-24T14:53:20.829035Z"
    },
    "hidden": true
   },
   "outputs": [
    {
     "data": {
      "text/plain": [
       "[['48.6000%', '47.9295%', '47.8128%', '48.6000%'],\n",
       " ['48.6000%', '47.9295%', '47.8128%', '48.6000%'],\n",
       " ['48.6000%', '47.9295%', '47.8128%', '48.6000%'],\n",
       " ['48.6000%', '47.9295%', '47.8128%', '48.6000%'],\n",
       " ['48.6000%', '47.9295%', '47.8128%', '48.6000%'],\n",
       " ['48.6000%', '47.9295%', '47.8128%', '48.6000%'],\n",
       " ['48.6000%', '47.9295%', '47.8128%', '48.6000%'],\n",
       " ['48.6000%', '47.9295%', '47.8128%', '48.6000%'],\n",
       " ['48.6000%', '47.9295%', '47.8128%', '48.6000%'],\n",
       " ['48.6000%', '47.9295%', '47.8128%', '48.6000%'],\n",
       " ['48.6000%', '47.9295%', '47.8128%', '48.6000%'],\n",
       " ['48.6000%', '47.9295%', '47.8128%', '48.6000%'],\n",
       " ['48.6000%', '47.9295%', '47.8128%', '48.6000%'],\n",
       " ['48.6000%', '47.9295%', '47.8128%', '48.6000%'],\n",
       " ['48.6000%', '47.9295%', '47.8128%', '48.6000%'],\n",
       " ['48.6000%', '47.9295%', '47.8128%', '48.6000%'],\n",
       " ['48.6000%', '47.9295%', '47.8128%', '48.6000%'],\n",
       " ['48.6000%', '47.9295%', '47.8128%', '48.6000%'],\n",
       " ['48.6000%', '47.9295%', '47.8128%', '48.6000%'],\n",
       " ['48.6000%', '47.9295%', '47.8128%', '48.6000%'],\n",
       " ['48.6000%', '47.9295%', '47.8128%', '48.6000%'],\n",
       " ['48.6000%', '47.9295%', '47.8128%', '48.6000%'],\n",
       " ['48.6000%', '47.9295%', '47.8128%', '48.6000%'],\n",
       " ['48.6000%', '47.9295%', '47.8128%', '48.6000%'],\n",
       " ['48.6000%', '47.9295%', '47.8128%', '48.6000%'],\n",
       " ['48.6000%', '47.9295%', '47.8128%', '48.6000%'],\n",
       " ['48.6000%', '47.9295%', '47.8128%', '48.6000%'],\n",
       " ['48.6000%', '47.9295%', '47.8128%', '48.6000%'],\n",
       " ['48.6000%', '47.9295%', '47.8128%', '48.6000%'],\n",
       " ['48.6000%', '47.9295%', '47.8128%', '48.6000%'],\n",
       " ['48.6000%', '47.9295%', '47.8128%', '48.6000%'],\n",
       " ['48.6000%', '47.9295%', '47.8128%', '48.6000%'],\n",
       " ['48.6000%', '47.9295%', '47.8128%', '48.6000%'],\n",
       " ['48.6000%', '47.9295%', '47.8128%', '48.6000%'],\n",
       " ['48.6000%', '47.9295%', '47.8128%', '48.6000%'],\n",
       " ['48.6000%', '47.9295%', '47.8128%', '48.6000%'],\n",
       " ['48.6000%', '47.9295%', '47.8128%', '48.6000%'],\n",
       " ['48.6000%', '47.9295%', '47.8128%', '48.6000%'],\n",
       " ['48.6000%', '47.9295%', '47.8128%', '48.6000%'],\n",
       " ['48.6000%', '47.9295%', '47.8128%', '48.6000%']]"
      ]
     },
     "execution_count": 12,
     "metadata": {},
     "output_type": "execute_result"
    }
   ],
   "source": [
    "RFResults"
   ]
  },
  {
   "cell_type": "code",
   "execution_count": null,
   "id": "3b0491f5",
   "metadata": {
    "hidden": true
   },
   "outputs": [],
   "source": []
  },
  {
   "cell_type": "code",
   "execution_count": 31,
   "id": "561e12e2",
   "metadata": {
    "ExecuteTime": {
     "end_time": "2021-11-24T13:35:33.847459Z",
     "start_time": "2021-11-24T13:35:33.833391Z"
    },
    "hidden": true
   },
   "outputs": [
    {
     "data": {
      "text/plain": [
       "[['31.8000%', '31.5639%', '24.3181%', '31.8000%'],\n",
       " ['35.2000%', '32.5828%', '29.7142%', '35.2000%'],\n",
       " ['40.2000%', '38.5551%', '36.1568%', '40.2000%'],\n",
       " ['41.2000%', '38.6785%', '38.1432%', '41.2000%'],\n",
       " ['44.2000%', '42.8430%', '41.9577%', '44.2000%'],\n",
       " ['46.6000%', '45.6081%', '45.2889%', '46.6000%'],\n",
       " ['48.6000%', '47.4026%', '47.1659%', '48.6000%'],\n",
       " ['49.4000%', '48.5979%', '48.3864%', '49.4000%'],\n",
       " ['49.2000%', '48.7011%', '48.2848%', '49.2000%'],\n",
       " ['49.2000%', '48.5893%', '48.5433%', '49.2000%'],\n",
       " ['48.8000%', '47.9668%', '47.9876%', '48.8000%'],\n",
       " ['48.0000%', '47.6849%', '47.4037%', '48.0000%'],\n",
       " ['47.2000%', '46.3591%', '46.4568%', '47.2000%'],\n",
       " ['47.6000%', '46.4943%', '46.8162%', '47.6000%'],\n",
       " ['51.8000%', '50.9249%', '51.0985%', '51.8000%'],\n",
       " ['49.4000%', '48.6517%', '48.7543%', '49.4000%'],\n",
       " ['48.6000%', '48.0739%', '48.1108%', '48.6000%'],\n",
       " ['47.4000%', '46.4390%', '46.5471%', '47.4000%'],\n",
       " ['47.4000%', '46.3468%', '46.5540%', '47.4000%'],\n",
       " ['46.8000%', '45.6711%', '45.7624%', '46.8000%'],\n",
       " ['46.8000%', '45.7105%', '45.8425%', '46.8000%'],\n",
       " ['46.8000%', '45.9398%', '46.0025%', '46.8000%'],\n",
       " ['48.4000%', '47.6645%', '47.7496%', '48.4000%'],\n",
       " ['48.2000%', '47.1410%', '47.1180%', '48.2000%'],\n",
       " ['47.4000%', '46.1557%', '46.3980%', '47.4000%'],\n",
       " ['46.4000%', '45.6767%', '45.5675%', '46.4000%'],\n",
       " ['47.4000%', '46.5298%', '46.5520%', '47.4000%'],\n",
       " ['47.2000%', '46.4591%', '46.4171%', '47.2000%'],\n",
       " ['48.4000%', '47.5969%', '47.5584%', '48.4000%'],\n",
       " ['48.4000%', '47.6313%', '47.5882%', '48.4000%'],\n",
       " ['48.4000%', '47.6504%', '47.5518%', '48.4000%'],\n",
       " ['48.8000%', '48.1171%', '48.0107%', '48.8000%'],\n",
       " ['48.8000%', '48.1171%', '48.0107%', '48.8000%'],\n",
       " ['48.6000%', '47.8327%', '47.7792%', '48.6000%'],\n",
       " ['48.6000%', '47.9607%', '47.8086%', '48.6000%'],\n",
       " ['48.8000%', '48.1531%', '47.9686%', '48.8000%'],\n",
       " ['48.2000%', '47.5058%', '47.3869%', '48.2000%'],\n",
       " ['48.2000%', '47.4818%', '47.3827%', '48.2000%'],\n",
       " ['49.0000%', '48.3413%', '48.1735%', '49.0000%'],\n",
       " ['48.8000%', '48.0850%', '48.0011%', '48.8000%'],\n",
       " ['48.6000%', '47.9295%', '47.8128%', '48.6000%'],\n",
       " ['48.6000%', '47.9295%', '47.8128%', '48.6000%'],\n",
       " ['48.6000%', '47.9295%', '47.8128%', '48.6000%'],\n",
       " ['48.6000%', '47.9295%', '47.8128%', '48.6000%'],\n",
       " ['48.6000%', '47.9295%', '47.8128%', '48.6000%'],\n",
       " ['48.6000%', '47.9295%', '47.8128%', '48.6000%'],\n",
       " ['48.6000%', '47.9295%', '47.8128%', '48.6000%'],\n",
       " ['48.6000%', '47.9295%', '47.8128%', '48.6000%'],\n",
       " ['48.6000%', '47.9295%', '47.8128%', '48.6000%'],\n",
       " ['48.6000%', '47.9295%', '47.8128%', '48.6000%'],\n",
       " ['48.6000%', '47.9295%', '47.8128%', '48.6000%'],\n",
       " ['48.6000%', '47.9295%', '47.8128%', '48.6000%'],\n",
       " ['48.6000%', '47.9295%', '47.8128%', '48.6000%'],\n",
       " ['48.6000%', '47.9295%', '47.8128%', '48.6000%'],\n",
       " ['48.6000%', '47.9295%', '47.8128%', '48.6000%'],\n",
       " ['48.6000%', '47.9295%', '47.8128%', '48.6000%'],\n",
       " ['48.6000%', '47.9295%', '47.8128%', '48.6000%'],\n",
       " ['48.6000%', '47.9295%', '47.8128%', '48.6000%'],\n",
       " ['48.6000%', '47.9295%', '47.8128%', '48.6000%'],\n",
       " ['48.6000%', '47.9295%', '47.8128%', '48.6000%'],\n",
       " ['48.6000%', '47.9295%', '47.8128%', '48.6000%'],\n",
       " ['48.6000%', '47.9295%', '47.8128%', '48.6000%'],\n",
       " ['48.6000%', '47.9295%', '47.8128%', '48.6000%'],\n",
       " ['48.6000%', '47.9295%', '47.8128%', '48.6000%'],\n",
       " ['48.6000%', '47.9295%', '47.8128%', '48.6000%'],\n",
       " ['48.6000%', '47.9295%', '47.8128%', '48.6000%'],\n",
       " ['48.6000%', '47.9295%', '47.8128%', '48.6000%'],\n",
       " ['48.6000%', '47.9295%', '47.8128%', '48.6000%'],\n",
       " ['48.6000%', '47.9295%', '47.8128%', '48.6000%'],\n",
       " ['48.6000%', '47.9295%', '47.8128%', '48.6000%'],\n",
       " ['48.6000%', '47.9295%', '47.8128%', '48.6000%'],\n",
       " ['48.6000%', '47.9295%', '47.8128%', '48.6000%'],\n",
       " ['48.6000%', '47.9295%', '47.8128%', '48.6000%'],\n",
       " ['48.6000%', '47.9295%', '47.8128%', '48.6000%'],\n",
       " ['48.6000%', '47.9295%', '47.8128%', '48.6000%'],\n",
       " ['48.6000%', '47.9295%', '47.8128%', '48.6000%'],\n",
       " ['48.6000%', '47.9295%', '47.8128%', '48.6000%'],\n",
       " ['48.6000%', '47.9295%', '47.8128%', '48.6000%'],\n",
       " ['48.6000%', '47.9295%', '47.8128%', '48.6000%'],\n",
       " ['48.6000%', '47.9295%', '47.8128%', '48.6000%']]"
      ]
     },
     "execution_count": 31,
     "metadata": {},
     "output_type": "execute_result"
    }
   ],
   "source": [
    "RFResults"
   ]
  },
  {
   "cell_type": "code",
   "execution_count": 26,
   "id": "aab39471",
   "metadata": {
    "ExecuteTime": {
     "end_time": "2021-11-24T11:20:03.030187Z",
     "start_time": "2021-11-24T11:15:12.896446Z"
    },
    "hidden": true
   },
   "outputs": [],
   "source": []
  },
  {
   "cell_type": "code",
   "execution_count": null,
   "id": "44d2029a",
   "metadata": {
    "hidden": true
   },
   "outputs": [],
   "source": []
  }
 ],
 "metadata": {
  "kernelspec": {
   "display_name": "Python 3 (ipykernel)",
   "language": "python",
   "name": "python3"
  },
  "language_info": {
   "codemirror_mode": {
    "name": "ipython",
    "version": 3
   },
   "file_extension": ".py",
   "mimetype": "text/x-python",
   "name": "python",
   "nbconvert_exporter": "python",
   "pygments_lexer": "ipython3",
   "version": "3.8.11"
  },
  "latex_envs": {
   "LaTeX_envs_menu_present": true,
   "autoclose": false,
   "autocomplete": true,
   "bibliofile": "biblio.bib",
   "cite_by": "apalike",
   "current_citInitial": 1,
   "eqLabelWithNumbers": true,
   "eqNumInitial": 1,
   "hotkeys": {
    "equation": "Ctrl-E",
    "itemize": "Ctrl-I"
   },
   "labels_anchors": false,
   "latex_user_defs": false,
   "report_style_numbering": false,
   "user_envs_cfg": false
  },
  "toc": {
   "base_numbering": 1,
   "nav_menu": {},
   "number_sections": true,
   "sideBar": true,
   "skip_h1_title": false,
   "title_cell": "Table of Contents",
   "title_sidebar": "Contents",
   "toc_cell": false,
   "toc_position": {},
   "toc_section_display": true,
   "toc_window_display": true
  }
 },
 "nbformat": 4,
 "nbformat_minor": 5
}
