{
 "cells": [
  {
   "cell_type": "markdown",
   "id": "97a6350c",
   "metadata": {
    "heading_collapsed": true
   },
   "source": [
    "# MuRIL"
   ]
  },
  {
   "cell_type": "code",
   "execution_count": 1,
   "id": "1ae794ba",
   "metadata": {
    "ExecuteTime": {
     "end_time": "2021-11-26T13:54:42.976115Z",
     "start_time": "2021-11-26T13:54:42.848117Z"
    },
    "hidden": true
   },
   "outputs": [],
   "source": [
    "import random\n",
    "random.seed(10)\n",
    "\n",
    "import numpy as np\n",
    "X_Embed_train = np.load('Embeddings/Kan_MuRIL_train.npy')\n",
    "X_Embed_val = np.load('Embeddings/Kan_MuRIL_val.npy')"
   ]
  },
  {
   "cell_type": "code",
   "execution_count": 2,
   "id": "1256f633",
   "metadata": {
    "ExecuteTime": {
     "end_time": "2021-11-26T13:54:43.167116Z",
     "start_time": "2021-11-26T13:54:43.148115Z"
    },
    "hidden": true
   },
   "outputs": [],
   "source": [
    "Y_raw_train = np.load(\"Embeddings/Kan/Split2750and250/Kan_Train_label_2750.npy\")\n",
    "Y_raw_val = np.load(\"Embeddings/Kan/Split2750and250/Kan_val_label_250.npy\")"
   ]
  },
  {
   "cell_type": "code",
   "execution_count": 3,
   "id": "bfa99638",
   "metadata": {
    "ExecuteTime": {
     "end_time": "2021-11-26T13:54:43.978117Z",
     "start_time": "2021-11-26T13:54:43.524114Z"
    },
    "hidden": true
   },
   "outputs": [
    {
     "data": {
      "text/plain": [
       "((2750,), (250,))"
      ]
     },
     "execution_count": 3,
     "metadata": {},
     "output_type": "execute_result"
    }
   ],
   "source": [
    "from sklearn.preprocessing import LabelEncoder\n",
    "le = LabelEncoder()\n",
    "Y_train = le.fit_transform(Y_raw_train)\n",
    "Y_val = le.fit_transform(Y_raw_val)\n",
    "Y_train.shape, Y_val.shape"
   ]
  },
  {
   "cell_type": "code",
   "execution_count": 4,
   "id": "c23bbeee",
   "metadata": {
    "ExecuteTime": {
     "end_time": "2021-11-26T13:54:44.057114Z",
     "start_time": "2021-11-26T13:54:44.042114Z"
    },
    "hidden": true
   },
   "outputs": [],
   "source": [
    "def WR_Wavelet(signal, sigma):\n",
    "    (cA, cD) = pywt.dwt(signal,'haar')\n",
    "    t=2*sigma  \n",
    "    wt=(np.abs(cD))>t                     #only the coefficient values greater than the threshold values are taken\n",
    "    #print(cA.shape , wt.shape ,'\\n')\n",
    "    p = np.multiply(cD,wt)\n",
    "    rw=pywt.idwt(cA, p,'haar')\n",
    "    return rw"
   ]
  },
  {
   "cell_type": "code",
   "execution_count": 5,
   "id": "b2baa520",
   "metadata": {
    "ExecuteTime": {
     "end_time": "2021-11-26T13:54:44.789154Z",
     "start_time": "2021-11-26T13:54:44.654115Z"
    },
    "hidden": true
   },
   "outputs": [],
   "source": [
    "import pywt\n",
    "sigma = 0.1\n",
    "\n",
    "MuRIL_train_list = []\n",
    "for i in range(len(X_Embed_train)):\n",
    "    temp = WR_Wavelet(X_Embed_train[i], sigma)\n",
    "    MuRIL_train_list.append(temp)\n",
    "    \n",
    "MuRIL_val_list = []\n",
    "for i in range(len(X_Embed_val)):\n",
    "    temp = WR_Wavelet(X_Embed_val[i],sigma)\n",
    "    MuRIL_val_list.append(temp)"
   ]
  },
  {
   "cell_type": "code",
   "execution_count": 6,
   "id": "26652e19",
   "metadata": {
    "ExecuteTime": {
     "end_time": "2021-11-26T13:54:45.188115Z",
     "start_time": "2021-11-26T13:54:45.170148Z"
    },
    "hidden": true
   },
   "outputs": [],
   "source": [
    "X_MuRIL_Wavlet_Denoise_Embed_train = np.asarray(MuRIL_train_list)\n",
    "X_MuRIL_Wavlet_Denoise_Embed_val = np.asarray(MuRIL_val_list)"
   ]
  },
  {
   "cell_type": "code",
   "execution_count": 7,
   "id": "c93438ea",
   "metadata": {
    "ExecuteTime": {
     "end_time": "2021-11-26T13:55:41.676556Z",
     "start_time": "2021-11-26T13:54:46.011154Z"
    },
    "hidden": true
   },
   "outputs": [
    {
     "name": "stdout",
     "output_type": "stream",
     "text": [
      "[2021-11-26 13:54:54.582] Start to fit the model:\n",
      "[2021-11-26 13:54:54.583] Fitting cascade layer = 0 \n",
      "[2021-11-26 13:55:03.644] layer = 0  | Val Acc = 46.618 % | Elapsed = 9.061 s\n",
      "[2021-11-26 13:55:03.659] Fitting cascade layer = 1 \n",
      "[2021-11-26 13:55:11.343] layer = 1  | Val Acc = 47.673 % | Elapsed = 7.683 s\n",
      "[2021-11-26 13:55:11.354] Fitting cascade layer = 2 \n",
      "[2021-11-26 13:55:18.739] layer = 2  | Val Acc = 47.745 % | Elapsed = 7.385 s\n",
      "[2021-11-26 13:55:18.751] Fitting cascade layer = 3 \n",
      "[2021-11-26 13:55:26.718] layer = 3  | Val Acc = 47.964 % | Elapsed = 7.967 s\n",
      "[2021-11-26 13:55:26.729] Fitting cascade layer = 4 \n",
      "[2021-11-26 13:55:34.050] layer = 4  | Val Acc = 46.982 % | Elapsed = 7.321 s\n",
      "[2021-11-26 13:55:34.050] Early stopping counter: 1 out of 2\n",
      "[2021-11-26 13:55:34.063] Fitting cascade layer = 5 \n",
      "[2021-11-26 13:55:41.478] layer = 5  | Val Acc = 46.982 % | Elapsed = 7.415 s\n",
      "[2021-11-26 13:55:41.478] Early stopping counter: 2 out of 2\n",
      "[2021-11-26 13:55:41.478] Handling early stopping\n",
      "[2021-11-26 13:55:41.481] The optimal number of layers: 4\n",
      "[2021-11-26 13:55:41.487] Start to evalute the model:\n",
      "[2021-11-26 13:55:41.498] Evaluating cascade layer = 0 \n",
      "[2021-11-26 13:55:41.538] Evaluating cascade layer = 1 \n",
      "[2021-11-26 13:55:41.577] Evaluating cascade layer = 2 \n",
      "[2021-11-26 13:55:41.615] Evaluating cascade layer = 3 \n"
     ]
    }
   ],
   "source": [
    "from Models.MLAlgos import SVectorMachine, Dtree, Rforest, NB, KNN, DeepForest\n",
    "\n",
    "SVM_MuRIL_WL_Denoise_Result = SVectorMachine(X_MuRIL_Wavlet_Denoise_Embed_train, Y_train, X_MuRIL_Wavlet_Denoise_Embed_val, Y_val, Cval = 1000, deguree = 1)\n",
    "Dtree_MuRIL_WL_Denoise_Result = Dtree(X_MuRIL_Wavlet_Denoise_Embed_train, Y_train, X_MuRIL_Wavlet_Denoise_Embed_val, Y_val, deepth=5, split=2)\n",
    "Rforest_MuRIL_WL_Denoise_Result = Rforest(X_MuRIL_Wavlet_Denoise_Embed_train, Y_train, X_MuRIL_Wavlet_Denoise_Embed_val, Y_val, deepth=10, split= 26)\n",
    "NB_MuRIL_WL_Denoise_Result = NB(X_MuRIL_Wavlet_Denoise_Embed_train, Y_train, X_MuRIL_Wavlet_Denoise_Embed_val, Y_val)\n",
    "KNN_MuRIL_WL_Denoise_Result = KNN(X_MuRIL_Wavlet_Denoise_Embed_train, Y_train, X_MuRIL_Wavlet_Denoise_Embed_val, Y_val)\n",
    "Deep_MuRIL_WL_Denoise_Result = DeepForest(X_MuRIL_Wavlet_Denoise_Embed_train, Y_train, X_MuRIL_Wavlet_Denoise_Embed_val, Y_val)"
   ]
  },
  {
   "cell_type": "code",
   "execution_count": 8,
   "id": "73832bed",
   "metadata": {
    "ExecuteTime": {
     "end_time": "2021-11-26T13:55:42.023559Z",
     "start_time": "2021-11-26T13:55:41.679527Z"
    },
    "hidden": true
   },
   "outputs": [
    {
     "data": {
      "text/html": [
       "<div>\n",
       "<style scoped>\n",
       "    .dataframe tbody tr th:only-of-type {\n",
       "        vertical-align: middle;\n",
       "    }\n",
       "\n",
       "    .dataframe tbody tr th {\n",
       "        vertical-align: top;\n",
       "    }\n",
       "\n",
       "    .dataframe thead th {\n",
       "        text-align: right;\n",
       "    }\n",
       "</style>\n",
       "<table border=\"1\" class=\"dataframe\">\n",
       "  <thead>\n",
       "    <tr style=\"text-align: right;\">\n",
       "      <th></th>\n",
       "      <th>accuracy</th>\n",
       "      <th>precision</th>\n",
       "      <th>f1</th>\n",
       "      <th>recall</th>\n",
       "    </tr>\n",
       "  </thead>\n",
       "  <tbody>\n",
       "    <tr>\n",
       "      <th>SVM</th>\n",
       "      <td>46.4000%</td>\n",
       "      <td>45.2095%</td>\n",
       "      <td>45.6054%</td>\n",
       "      <td>46.4000%</td>\n",
       "    </tr>\n",
       "    <tr>\n",
       "      <th>DTree</th>\n",
       "      <td>42.4000%</td>\n",
       "      <td>40.7652%</td>\n",
       "      <td>40.3683%</td>\n",
       "      <td>42.4000%</td>\n",
       "    </tr>\n",
       "    <tr>\n",
       "      <th>Rforest</th>\n",
       "      <td>51.2000%</td>\n",
       "      <td>51.3668%</td>\n",
       "      <td>50.1676%</td>\n",
       "      <td>51.2000%</td>\n",
       "    </tr>\n",
       "    <tr>\n",
       "      <th>NB</th>\n",
       "      <td>37.6000%</td>\n",
       "      <td>33.0762%</td>\n",
       "      <td>34.0614%</td>\n",
       "      <td>37.6000%</td>\n",
       "    </tr>\n",
       "    <tr>\n",
       "      <th>KNN</th>\n",
       "      <td>45.6000%</td>\n",
       "      <td>46.2718%</td>\n",
       "      <td>44.4498%</td>\n",
       "      <td>45.6000%</td>\n",
       "    </tr>\n",
       "    <tr>\n",
       "      <th>DeepForest</th>\n",
       "      <td>50.0000%</td>\n",
       "      <td>49.0178%</td>\n",
       "      <td>47.9370%</td>\n",
       "      <td>50.0000%</td>\n",
       "    </tr>\n",
       "  </tbody>\n",
       "</table>\n",
       "</div>"
      ],
      "text/plain": [
       "            accuracy precision        f1    recall\n",
       "SVM         46.4000%  45.2095%  45.6054%  46.4000%\n",
       "DTree       42.4000%  40.7652%  40.3683%  42.4000%\n",
       "Rforest     51.2000%  51.3668%  50.1676%  51.2000%\n",
       "NB          37.6000%  33.0762%  34.0614%  37.6000%\n",
       "KNN         45.6000%  46.2718%  44.4498%  45.6000%\n",
       "DeepForest  50.0000%  49.0178%  47.9370%  50.0000%"
      ]
     },
     "execution_count": 8,
     "metadata": {},
     "output_type": "execute_result"
    }
   ],
   "source": [
    "import pandas as pd\n",
    "MuRIL_WaveFilter_AFTR_Denoising= pd.DataFrame({'SVM' : SVM_MuRIL_WL_Denoise_Result, \n",
    "            'DTree' : Dtree_MuRIL_WL_Denoise_Result,\n",
    "            'Rforest' : Rforest_MuRIL_WL_Denoise_Result,\n",
    "            'NB' : NB_MuRIL_WL_Denoise_Result,\n",
    "            'KNN' : KNN_MuRIL_WL_Denoise_Result,\n",
    "            'DeepForest': Deep_MuRIL_WL_Denoise_Result})\n",
    "MuRIL_WaveFilter_AFTR_Denoising.index = ['accuracy', 'precision', 'f1', 'recall']\n",
    "MuRIL_WaveFilter_AFTR_Denoising = MuRIL_WaveFilter_AFTR_Denoising.transpose()\n",
    "MuRIL_WaveFilter_AFTR_Denoising"
   ]
  },
  {
   "cell_type": "code",
   "execution_count": null,
   "id": "ede597b3",
   "metadata": {
    "hidden": true
   },
   "outputs": [],
   "source": []
  },
  {
   "cell_type": "markdown",
   "id": "4204b346",
   "metadata": {
    "heading_collapsed": true
   },
   "source": [
    "# LABSE"
   ]
  },
  {
   "cell_type": "code",
   "execution_count": 1,
   "id": "ce1d7c17",
   "metadata": {
    "ExecuteTime": {
     "end_time": "2021-11-26T18:51:38.515137Z",
     "start_time": "2021-11-26T18:51:38.505139Z"
    },
    "hidden": true
   },
   "outputs": [],
   "source": [
    "import random \n",
    "random.seed(10)"
   ]
  },
  {
   "cell_type": "code",
   "execution_count": 2,
   "id": "d8029e86",
   "metadata": {
    "ExecuteTime": {
     "end_time": "2021-11-26T18:51:39.097565Z",
     "start_time": "2021-11-26T18:51:38.995569Z"
    },
    "hidden": true
   },
   "outputs": [],
   "source": [
    "import numpy as np\n",
    "X_Embed_train = np.load('Embeddings/Kan_MuRIL_train.npy')\n",
    "X_Embed_val = np.load('Embeddings/Kan_MuRIL_val.npy')"
   ]
  },
  {
   "cell_type": "code",
   "execution_count": 3,
   "id": "3a076ee0",
   "metadata": {
    "ExecuteTime": {
     "end_time": "2021-11-26T18:51:39.337531Z",
     "start_time": "2021-11-26T18:51:39.324533Z"
    },
    "hidden": true
   },
   "outputs": [],
   "source": [
    "Y_raw_train = np.load(\"Embeddings/Kan/Split2750and250/Kan_Train_label_2750.npy\")\n",
    "Y_raw_val = np.load(\"Embeddings/Kan/Split2750and250/Kan_val_label_250.npy\")"
   ]
  },
  {
   "cell_type": "code",
   "execution_count": 4,
   "id": "a028cdd1",
   "metadata": {
    "ExecuteTime": {
     "end_time": "2021-11-26T18:51:40.190531Z",
     "start_time": "2021-11-26T18:51:39.724531Z"
    },
    "hidden": true
   },
   "outputs": [
    {
     "data": {
      "text/plain": [
       "((2750,), (250,))"
      ]
     },
     "execution_count": 4,
     "metadata": {},
     "output_type": "execute_result"
    }
   ],
   "source": [
    "from sklearn.preprocessing import LabelEncoder\n",
    "le = LabelEncoder()\n",
    "Y_train = le.fit_transform(Y_raw_train)\n",
    "Y_val = le.fit_transform(Y_raw_val)\n",
    "Y_train.shape, Y_val.shape"
   ]
  },
  {
   "cell_type": "code",
   "execution_count": null,
   "id": "30fc54f4",
   "metadata": {
    "hidden": true
   },
   "outputs": [],
   "source": []
  },
  {
   "cell_type": "code",
   "execution_count": 5,
   "id": "1984ca9c",
   "metadata": {
    "ExecuteTime": {
     "end_time": "2021-11-26T18:51:42.216278Z",
     "start_time": "2021-11-26T18:51:42.170259Z"
    },
    "hidden": true
   },
   "outputs": [],
   "source": [
    "import pywt\n",
    "def WR_Wavelet(signal, sigma):\n",
    "    (cA, cD) = pywt.dwt(signal,'haar')\n",
    "    t=4*sigma  \n",
    "    wt=(np.abs(cD))>t                     #only the coefficient values greater than the threshold values are taken\n",
    "    #print(cA.shape , wt.shape ,'\\n')\n",
    "    p = np.multiply(cD,wt)\n",
    "    rw=pywt.idwt(cA, p,'haar')\n",
    "    return rw"
   ]
  },
  {
   "cell_type": "code",
   "execution_count": 6,
   "id": "b544dacf",
   "metadata": {
    "ExecuteTime": {
     "end_time": "2021-11-26T18:51:43.422566Z",
     "start_time": "2021-11-26T18:51:43.326394Z"
    },
    "hidden": true
   },
   "outputs": [],
   "source": [
    "sigma = 0.2\n",
    "\n",
    "train_list = []\n",
    "for i in range(len(X_Embed_train)):\n",
    "    temp = WR_Wavelet(X_Embed_train[i], sigma)\n",
    "    train_list.append(temp)\n",
    "    \n",
    "val_list = []\n",
    "for i in range(len(X_Embed_val)):\n",
    "    temp = WR_Wavelet(X_Embed_val[i],sigma)\n",
    "    val_list.append(temp)"
   ]
  },
  {
   "cell_type": "code",
   "execution_count": 7,
   "id": "a60b9ad6",
   "metadata": {
    "ExecuteTime": {
     "end_time": "2021-11-26T18:52:28.027105Z",
     "start_time": "2021-11-26T18:51:47.015255Z"
    },
    "hidden": true
   },
   "outputs": [
    {
     "name": "stdout",
     "output_type": "stream",
     "text": [
      "[2021-11-26 18:51:53.562] Start to fit the model:\n",
      "[2021-11-26 18:51:53.562] Fitting cascade layer = 0 \n",
      "[2021-11-26 18:52:00.385] layer = 0  | Val Acc = 46.582 % | Elapsed = 6.823 s\n",
      "[2021-11-26 18:52:00.398] Fitting cascade layer = 1 \n",
      "[2021-11-26 18:52:07.226] layer = 1  | Val Acc = 47.818 % | Elapsed = 6.828 s\n",
      "[2021-11-26 18:52:07.237] Fitting cascade layer = 2 \n",
      "[2021-11-26 18:52:13.995] layer = 2  | Val Acc = 48.255 % | Elapsed = 6.758 s\n",
      "[2021-11-26 18:52:14.005] Fitting cascade layer = 3 \n",
      "[2021-11-26 18:52:20.774] layer = 3  | Val Acc = 47.491 % | Elapsed = 6.769 s\n",
      "[2021-11-26 18:52:20.774] Early stopping counter: 1 out of 2\n",
      "[2021-11-26 18:52:20.784] Fitting cascade layer = 4 \n",
      "[2021-11-26 18:52:27.890] layer = 4  | Val Acc = 48.073 % | Elapsed = 7.106 s\n",
      "[2021-11-26 18:52:27.890] Early stopping counter: 2 out of 2\n",
      "[2021-11-26 18:52:27.890] Handling early stopping\n",
      "[2021-11-26 18:52:27.892] The optimal number of layers: 3\n",
      "[2021-11-26 18:52:27.895] Start to evalute the model:\n",
      "[2021-11-26 18:52:27.903] Evaluating cascade layer = 0 \n",
      "[2021-11-26 18:52:27.937] Evaluating cascade layer = 1 \n",
      "[2021-11-26 18:52:27.972] Evaluating cascade layer = 2 \n"
     ]
    }
   ],
   "source": [
    "X_Wavlet_Denoise_Embed_train = np.asarray(train_list)\n",
    "X_Wavlet_Denoise_Embed_val = np.asarray(val_list)\n",
    "\n",
    "from Models.MLAlgos import SVectorMachine, Dtree, Rforest, NB, KNN, DeepForest\n",
    "SVM_WL_Denoise_Result = SVectorMachine(X_Wavlet_Denoise_Embed_train, Y_train, X_Wavlet_Denoise_Embed_val, Y_val,Cval=1000, deguree=1, kernelu ='rbf')\n",
    "Dtree_WL_Denoise_Result = Dtree(X_Wavlet_Denoise_Embed_train, Y_train, X_Wavlet_Denoise_Embed_val, Y_val,deepth =5 ,split=2)\n",
    "Rforest_WL_Denoise_Result = Rforest(X_Wavlet_Denoise_Embed_train, Y_train, X_Wavlet_Denoise_Embed_val, Y_val,deepth =10 ,split=26)\n",
    "NB_WL_Denoise_Result = NB(X_Wavlet_Denoise_Embed_train, Y_train, X_Wavlet_Denoise_Embed_val, Y_val)\n",
    "KNN_WL_Denoise_Result = KNN(X_Wavlet_Denoise_Embed_train, Y_train, X_Wavlet_Denoise_Embed_val, Y_val)\n",
    "Deep_WL_Denoise_Result = DeepForest(X_Embed_train, Y_train, X_Embed_val, Y_val)"
   ]
  },
  {
   "cell_type": "code",
   "execution_count": 8,
   "id": "a0b3db0d",
   "metadata": {
    "ExecuteTime": {
     "end_time": "2021-11-26T18:52:28.327105Z",
     "start_time": "2021-11-26T18:52:28.028099Z"
    },
    "hidden": true
   },
   "outputs": [
    {
     "data": {
      "text/html": [
       "<div>\n",
       "<style scoped>\n",
       "    .dataframe tbody tr th:only-of-type {\n",
       "        vertical-align: middle;\n",
       "    }\n",
       "\n",
       "    .dataframe tbody tr th {\n",
       "        vertical-align: top;\n",
       "    }\n",
       "\n",
       "    .dataframe thead th {\n",
       "        text-align: right;\n",
       "    }\n",
       "</style>\n",
       "<table border=\"1\" class=\"dataframe\">\n",
       "  <thead>\n",
       "    <tr style=\"text-align: right;\">\n",
       "      <th></th>\n",
       "      <th>accuracy</th>\n",
       "      <th>precision</th>\n",
       "      <th>f1</th>\n",
       "      <th>recall</th>\n",
       "    </tr>\n",
       "  </thead>\n",
       "  <tbody>\n",
       "    <tr>\n",
       "      <th>SVM</th>\n",
       "      <td>46.4000%</td>\n",
       "      <td>45.2095%</td>\n",
       "      <td>45.6054%</td>\n",
       "      <td>46.4000%</td>\n",
       "    </tr>\n",
       "    <tr>\n",
       "      <th>DTree</th>\n",
       "      <td>42.4000%</td>\n",
       "      <td>40.7652%</td>\n",
       "      <td>40.3683%</td>\n",
       "      <td>42.4000%</td>\n",
       "    </tr>\n",
       "    <tr>\n",
       "      <th>Rforest</th>\n",
       "      <td>51.2000%</td>\n",
       "      <td>51.3668%</td>\n",
       "      <td>50.1676%</td>\n",
       "      <td>51.2000%</td>\n",
       "    </tr>\n",
       "    <tr>\n",
       "      <th>NB</th>\n",
       "      <td>37.6000%</td>\n",
       "      <td>33.0762%</td>\n",
       "      <td>34.0614%</td>\n",
       "      <td>37.6000%</td>\n",
       "    </tr>\n",
       "    <tr>\n",
       "      <th>KNN</th>\n",
       "      <td>45.6000%</td>\n",
       "      <td>46.2718%</td>\n",
       "      <td>44.4498%</td>\n",
       "      <td>45.6000%</td>\n",
       "    </tr>\n",
       "    <tr>\n",
       "      <th>DeepForest</th>\n",
       "      <td>50.8000%</td>\n",
       "      <td>50.1233%</td>\n",
       "      <td>48.8680%</td>\n",
       "      <td>50.8000%</td>\n",
       "    </tr>\n",
       "  </tbody>\n",
       "</table>\n",
       "</div>"
      ],
      "text/plain": [
       "            accuracy precision        f1    recall\n",
       "SVM         46.4000%  45.2095%  45.6054%  46.4000%\n",
       "DTree       42.4000%  40.7652%  40.3683%  42.4000%\n",
       "Rforest     51.2000%  51.3668%  50.1676%  51.2000%\n",
       "NB          37.6000%  33.0762%  34.0614%  37.6000%\n",
       "KNN         45.6000%  46.2718%  44.4498%  45.6000%\n",
       "DeepForest  50.8000%  50.1233%  48.8680%  50.8000%"
      ]
     },
     "execution_count": 8,
     "metadata": {},
     "output_type": "execute_result"
    }
   ],
   "source": [
    "import pandas as pd\n",
    "WaveFilter_AFTR_Denoising= pd.DataFrame({'SVM' : SVM_WL_Denoise_Result, \n",
    "            'DTree' : Dtree_WL_Denoise_Result,\n",
    "            'Rforest' : Rforest_WL_Denoise_Result,\n",
    "            'NB' : NB_WL_Denoise_Result,\n",
    "            'KNN' : KNN_WL_Denoise_Result,\n",
    "            'DeepForest': Deep_WL_Denoise_Result})\n",
    "WaveFilter_AFTR_Denoising.index = ['accuracy', 'precision', 'f1', 'recall']\n",
    "WaveFilter_AFTR_Denoising = WaveFilter_AFTR_Denoising.transpose()\n",
    "WaveFilter_AFTR_Denoising"
   ]
  },
  {
   "cell_type": "markdown",
   "id": "091afbac",
   "metadata": {},
   "source": [
    "# Rough Work"
   ]
  },
  {
   "cell_type": "code",
   "execution_count": 21,
   "id": "b6322dc8",
   "metadata": {
    "ExecuteTime": {
     "end_time": "2021-11-26T15:37:29.786817Z",
     "start_time": "2021-11-26T15:36:33.157567Z"
    },
    "scrolled": true
   },
   "outputs": [
    {
     "name": "stderr",
     "output_type": "stream",
     "text": [
      "C:\\Users\\phvpa\\anaconda3\\envs\\MuRIL\\lib\\site-packages\\sklearn\\metrics\\_classification.py:1308: UndefinedMetricWarning: Precision is ill-defined and being set to 0.0 in labels with no predicted samples. Use `zero_division` parameter to control this behavior.\n",
      "  _warn_prf(average, modifier, msg_start, len(result))\n",
      "C:\\Users\\phvpa\\anaconda3\\envs\\MuRIL\\lib\\site-packages\\sklearn\\metrics\\_classification.py:1308: UndefinedMetricWarning: Precision is ill-defined and being set to 0.0 in labels with no predicted samples. Use `zero_division` parameter to control this behavior.\n",
      "  _warn_prf(average, modifier, msg_start, len(result))\n"
     ]
    },
    {
     "name": "stdout",
     "output_type": "stream",
     "text": [
      "index:  5\n",
      "BestResult: ['42.4000%', '40.7652%', '40.3683%', '42.4000%']\n",
      "[0.8821670000000001, 1.1947340000000002, 1.581381, 1.5857869999999998, 1.659335, 1.5822850000000002, 1.6471179999999999, 1.572362, 1.62801, 1.6073499999999998, 1.627444, 1.5496969999999999, 1.4469250000000002, 1.4178430000000002, 1.4197490000000001, 1.492222, 1.4310169999999998, 1.3788010000000002, 1.3649969999999998, 1.4018560000000002, 1.367375, 1.399751, 1.3986770000000002, 1.3468440000000002, 1.3819879999999998, 1.371785, 1.402319, 1.365923, 1.32324, 1.32324, 1.32324, 1.32324, 1.32324, 1.32324, 1.32324, 1.32324, 1.32324, 1.32324, 1.32324]\n"
     ]
    },
    {
     "data": {
      "text/plain": [
       "[['29.6000%', '12.0747%', '16.9420%', '29.6000%'],\n",
       " ['32.0000%', '28.1045%', '27.3689%', '32.0000%'],\n",
       " ['38.8000%', '42.6378%', '37.9003%', '38.8000%'],\n",
       " ['40.0000%', '40.1824%', '38.3963%', '40.0000%'],\n",
       " ['42.4000%', '40.7652%', '40.3683%', '42.4000%'],\n",
       " ['40.0000%', '39.1045%', '39.1240%', '40.0000%'],\n",
       " ['41.6000%', '40.6133%', '40.8985%', '41.6000%'],\n",
       " ['39.6000%', '38.9128%', '39.1234%', '39.6000%'],\n",
       " ['40.8000%', '40.7170%', '40.4840%', '40.8000%'],\n",
       " ['40.4000%', '39.9354%', '39.9996%', '40.4000%'],\n",
       " ['40.8000%', '40.6946%', '40.4498%', '40.8000%'],\n",
       " ['38.8000%', '38.7958%', '38.5739%', '38.8000%'],\n",
       " ['36.4000%', '35.9532%', '35.9393%', '36.4000%'],\n",
       " ['35.6000%', '35.3494%', '35.2349%', '35.6000%'],\n",
       " ['35.6000%', '35.4614%', '35.3135%', '35.6000%'],\n",
       " ['37.6000%', '36.9767%', '37.0455%', '37.6000%'],\n",
       " ['36.0000%', '35.4781%', '35.6236%', '36.0000%'],\n",
       " ['34.8000%', '33.9742%', '34.3059%', '34.8000%'],\n",
       " ['34.4000%', '33.7328%', '33.9669%', '34.4000%'],\n",
       " ['35.2000%', '34.9118%', '34.8738%', '35.2000%'],\n",
       " ['34.4000%', '33.8689%', '34.0686%', '34.4000%'],\n",
       " ['35.2000%', '34.6837%', '34.8914%', '35.2000%'],\n",
       " ['35.2000%', '34.6120%', '34.8557%', '35.2000%'],\n",
       " ['34.0000%', '33.1735%', '33.5109%', '34.0000%'],\n",
       " ['34.8000%', '34.2009%', '34.3979%', '34.8000%'],\n",
       " ['34.4000%', '34.1521%', '34.2264%', '34.4000%'],\n",
       " ['35.2000%', '34.8381%', '34.9938%', '35.2000%'],\n",
       " ['34.4000%', '33.7547%', '34.0376%', '34.4000%'],\n",
       " ['33.2000%', '32.8957%', '33.0283%', '33.2000%'],\n",
       " ['33.2000%', '32.8957%', '33.0283%', '33.2000%'],\n",
       " ['33.2000%', '32.8957%', '33.0283%', '33.2000%'],\n",
       " ['33.2000%', '32.8957%', '33.0283%', '33.2000%'],\n",
       " ['33.2000%', '32.8957%', '33.0283%', '33.2000%'],\n",
       " ['33.2000%', '32.8957%', '33.0283%', '33.2000%'],\n",
       " ['33.2000%', '32.8957%', '33.0283%', '33.2000%'],\n",
       " ['33.2000%', '32.8957%', '33.0283%', '33.2000%'],\n",
       " ['33.2000%', '32.8957%', '33.0283%', '33.2000%'],\n",
       " ['33.2000%', '32.8957%', '33.0283%', '33.2000%'],\n",
       " ['33.2000%', '32.8957%', '33.0283%', '33.2000%']]"
      ]
     },
     "execution_count": 21,
     "metadata": {},
     "output_type": "execute_result"
    }
   ],
   "source": [
    "from Models.MLAlgos import Dtree\n",
    "\n",
    "DTSipltResults = []\n",
    "sumtol = []\n",
    "count = 0\n",
    "for i in range(50):\n",
    "    Dtree_WRDenoise_Result = Dtree(X_Wavlet_Denoise_Embed_train, Y_train, X_Wavlet_Denoise_Embed_val, Y_val, deepth=i+1, split= 2)\n",
    "    DTSipltResults.append(Dtree_WRDenoise_Result)\n",
    "    if i>0:\n",
    "        if DTSipltResults[i] == DTSipltResults[i-1]:\n",
    "            count = count + 1\n",
    "\n",
    "    sumtemp = sum([float((DTSipltResults[i][0].strip('%')))/100 , float((DTSipltResults[i][1].strip('%')))/100 , float((DTSipltResults[i][2].strip('%')))/100 , float((DTSipltResults[i][3].strip('%')))/100])\n",
    "    sumtol.append(sumtemp)\n",
    "    if count == 10:\n",
    "        break\n",
    "indexu2 = sumtol.index(max(sumtol)) + 1\n",
    "print('index: ',indexu2)\n",
    "print('BestResult:', DTSipltResults[sumtol.index(max(sumtol))])\n",
    "print(sumtol)\n",
    "DTSipltResults"
   ]
  },
  {
   "cell_type": "code",
   "execution_count": 22,
   "id": "88951c53",
   "metadata": {
    "ExecuteTime": {
     "end_time": "2021-11-26T15:37:39.626817Z",
     "start_time": "2021-11-26T15:37:29.789816Z"
    }
   },
   "outputs": [
    {
     "name": "stdout",
     "output_type": "stream",
     "text": [
      "index:  0\n",
      "BestResult: ['42.4000%', '40.7652%', '40.3683%', '42.4000%']\n",
      "[1.659335, 1.659335, 1.659335, 1.659335, 1.659335, 1.659335, 1.659335, 1.659335, 1.659335, 1.659335, 1.659335]\n"
     ]
    },
    {
     "data": {
      "text/plain": [
       "[['42.4000%', '40.7652%', '40.3683%', '42.4000%'],\n",
       " ['42.4000%', '40.7652%', '40.3683%', '42.4000%'],\n",
       " ['42.4000%', '40.7652%', '40.3683%', '42.4000%'],\n",
       " ['42.4000%', '40.7652%', '40.3683%', '42.4000%'],\n",
       " ['42.4000%', '40.7652%', '40.3683%', '42.4000%'],\n",
       " ['42.4000%', '40.7652%', '40.3683%', '42.4000%'],\n",
       " ['42.4000%', '40.7652%', '40.3683%', '42.4000%'],\n",
       " ['42.4000%', '40.7652%', '40.3683%', '42.4000%'],\n",
       " ['42.4000%', '40.7652%', '40.3683%', '42.4000%'],\n",
       " ['42.4000%', '40.7652%', '40.3683%', '42.4000%'],\n",
       " ['42.4000%', '40.7652%', '40.3683%', '42.4000%']]"
      ]
     },
     "execution_count": 22,
     "metadata": {},
     "output_type": "execute_result"
    }
   ],
   "source": [
    "from Models.MLAlgos import SVectorMachine, Dtree\n",
    "\n",
    "DTSipltResults = []\n",
    "sumtol = []\n",
    "count = 0\n",
    "for i in range(50):\n",
    "    Dtree_WRDenoise_Result = Dtree(X_Wavlet_Denoise_Embed_train, Y_train, X_Wavlet_Denoise_Embed_val, Y_val, deepth=indexu2, split= i+2)\n",
    "    DTSipltResults.append(Dtree_WRDenoise_Result)\n",
    "    if i>0:\n",
    "        if DTSipltResults[i] == DTSipltResults[i-1]:\n",
    "            count = count + 1\n",
    "\n",
    "    sumtemp = sum([float((DTSipltResults[i][0].strip('%')))/100 , float((DTSipltResults[i][1].strip('%')))/100 , float((DTSipltResults[i][2].strip('%')))/100 , float((DTSipltResults[i][3].strip('%')))/100])\n",
    "    sumtol.append(sumtemp)\n",
    "    if count == 10:\n",
    "        break\n",
    "print('index: ',sumtol.index(max(sumtol)))\n",
    "print('BestResult:', DTSipltResults[sumtol.index(max(sumtol))])\n",
    "print(sumtol)\n",
    "DTSipltResults"
   ]
  },
  {
   "cell_type": "code",
   "execution_count": 23,
   "id": "7ac66d77",
   "metadata": {
    "ExecuteTime": {
     "end_time": "2021-11-26T15:39:53.823126Z",
     "start_time": "2021-11-26T15:37:39.628815Z"
    },
    "scrolled": true
   },
   "outputs": [
    {
     "name": "stdout",
     "output_type": "stream",
     "text": [
      "index:  10\n",
      "BestResult: ['51.2000%', '50.9178%', '50.0204%', '51.2000%']\n",
      "[1.13232, 1.3984010000000002, 1.7051589999999999, 1.6506729999999998, 1.8506719999999999, 1.81574, 1.79608, 1.7036950000000002, 1.8765619999999998, 2.033382, 1.814002, 1.862044, 1.853728, 1.831882, 1.8916680000000001, 1.757235, 1.808194, 1.910738, 1.899544, 1.996605, 1.950023, 2.0129900000000003, 1.93683, 1.970352, 1.9979900000000002, 1.981997, 2.032146, 2.017865, 2.030658, 2.030658, 2.030658, 2.030658, 2.030658, 2.030658, 2.030658, 2.030658, 2.030658, 2.030658, 2.030658]\n"
     ]
    },
    {
     "data": {
      "text/plain": [
       "[['33.2000%', '24.2860%', '22.5460%', '33.2000%'],\n",
       " ['37.2000%', '33.2911%', '32.1490%', '37.2000%'],\n",
       " ['43.6000%', '42.0776%', '41.2383%', '43.6000%'],\n",
       " ['42.0000%', '41.0833%', '39.9840%', '42.0000%'],\n",
       " ['46.8000%', '46.2338%', '45.2334%', '46.8000%'],\n",
       " ['46.4000%', '44.4753%', '44.2987%', '46.4000%'],\n",
       " ['45.2000%', '45.4089%', '43.7991%', '45.2000%'],\n",
       " ['43.2000%', '42.0419%', '41.9276%', '43.2000%'],\n",
       " ['47.2000%', '47.1862%', '46.0700%', '47.2000%'],\n",
       " ['51.2000%', '50.9178%', '50.0204%', '51.2000%'],\n",
       " ['46.0000%', '44.5525%', '44.8477%', '46.0000%'],\n",
       " ['47.2000%', '45.8734%', '45.9310%', '47.2000%'],\n",
       " ['46.4000%', '46.4924%', '46.0804%', '46.4000%'],\n",
       " ['46.8000%', '44.5819%', '45.0063%', '46.8000%'],\n",
       " ['47.6000%', '47.1008%', '46.8660%', '47.6000%'],\n",
       " ['44.4000%', '43.4724%', '43.4511%', '44.4000%'],\n",
       " ['45.6000%', '44.8970%', '44.7224%', '45.6000%'],\n",
       " ['48.4000%', '47.0293%', '47.2445%', '48.4000%'],\n",
       " ['48.0000%', '46.9885%', '46.9659%', '48.0000%'],\n",
       " ['50.4000%', '49.4688%', '49.3917%', '50.4000%'],\n",
       " ['49.2000%', '48.3905%', '48.2118%', '49.2000%'],\n",
       " ['50.8000%', '49.9290%', '49.7700%', '50.8000%'],\n",
       " ['48.8000%', '48.0483%', '48.0347%', '48.8000%'],\n",
       " ['49.6000%', '48.9535%', '48.8817%', '49.6000%'],\n",
       " ['50.4000%', '49.4496%', '49.5494%', '50.4000%'],\n",
       " ['50.0000%', '49.0772%', '49.1225%', '50.0000%'],\n",
       " ['51.2000%', '50.3507%', '50.4639%', '51.2000%'],\n",
       " ['50.8000%', '50.0433%', '50.1432%', '50.8000%'],\n",
       " ['51.2000%', '50.2773%', '50.3885%', '51.2000%'],\n",
       " ['51.2000%', '50.2773%', '50.3885%', '51.2000%'],\n",
       " ['51.2000%', '50.2773%', '50.3885%', '51.2000%'],\n",
       " ['51.2000%', '50.2773%', '50.3885%', '51.2000%'],\n",
       " ['51.2000%', '50.2773%', '50.3885%', '51.2000%'],\n",
       " ['51.2000%', '50.2773%', '50.3885%', '51.2000%'],\n",
       " ['51.2000%', '50.2773%', '50.3885%', '51.2000%'],\n",
       " ['51.2000%', '50.2773%', '50.3885%', '51.2000%'],\n",
       " ['51.2000%', '50.2773%', '50.3885%', '51.2000%'],\n",
       " ['51.2000%', '50.2773%', '50.3885%', '51.2000%'],\n",
       " ['51.2000%', '50.2773%', '50.3885%', '51.2000%']]"
      ]
     },
     "execution_count": 23,
     "metadata": {},
     "output_type": "execute_result"
    }
   ],
   "source": [
    "from Models.MLAlgos import Rforest\n",
    "RFSipltResults = []\n",
    "sumtol = []\n",
    "count = 0\n",
    "for i in range(50):\n",
    "    Rforest_WRDenoise_Result = Rforest(X_Wavlet_Denoise_Embed_train, Y_train, X_Wavlet_Denoise_Embed_val, Y_val, deepth=i+1, split= 2)\n",
    "    RFSipltResults.append(Rforest_WRDenoise_Result)\n",
    "    if i>0:\n",
    "        if RFSipltResults[i] == RFSipltResults[i-1]:\n",
    "            count = count + 1\n",
    "\n",
    "    sumtemp = sum([float((RFSipltResults[i][0].strip('%')))/100 , float((RFSipltResults[i][1].strip('%')))/100 , float((RFSipltResults[i][2].strip('%')))/100 , float((RFSipltResults[i][3].strip('%')))/100])\n",
    "    sumtol.append(sumtemp)\n",
    "    if count == 10:\n",
    "        break\n",
    "indexu = sumtol.index(max(sumtol)) + 1\n",
    "print('index: ',indexu)\n",
    "print('BestResult:', RFSipltResults[sumtol.index(max(sumtol))])\n",
    "print(sumtol)\n",
    "RFSipltResults"
   ]
  },
  {
   "cell_type": "code",
   "execution_count": 24,
   "id": "992ffb5c",
   "metadata": {
    "ExecuteTime": {
     "end_time": "2021-11-26T15:42:24.572160Z",
     "start_time": "2021-11-26T15:39:53.826131Z"
    },
    "scrolled": true
   },
   "outputs": [
    {
     "name": "stdout",
     "output_type": "stream",
     "text": [
      "index:  24\n",
      "BestResult: ['51.2000%', '51.3668%', '50.1676%', '51.2000%']\n",
      "[2.033382, 1.948746, 1.843778, 1.940435, 1.917601, 1.9110399999999998, 1.935161, 1.967788, 1.973826, 1.692222, 1.826684, 1.8214099999999998, 1.863004, 1.785274, 1.8358839999999998, 1.744238, 1.985206, 1.878082, 1.8720690000000002, 1.861179, 1.870384, 1.8983750000000001, 1.8529399999999998, 2.039177, 2.039344, 1.8497979999999998, 2.0046310000000003, 1.797906, 1.833192, 1.875213, 1.869775, 1.8793060000000001, 1.872906, 1.822461, 1.825398, 1.8149829999999998, 1.805987, 1.777297, 1.849055, 1.829976, 1.895251, 1.8920970000000001, 1.901371, 1.855384, 1.8380169999999998, 1.811537, 1.847176, 1.7685309999999999, 1.86825, 1.780754]\n"
     ]
    },
    {
     "data": {
      "text/plain": [
       "[['51.2000%', '50.9178%', '50.0204%', '51.2000%'],\n",
       " ['49.2000%', '48.3905%', '48.0841%', '49.2000%'],\n",
       " ['46.8000%', '45.4299%', '45.3479%', '46.8000%'],\n",
       " ['48.8000%', '48.5263%', '47.9172%', '48.8000%'],\n",
       " ['48.4000%', '47.5713%', '47.3888%', '48.4000%'],\n",
       " ['48.4000%', '47.1966%', '47.1074%', '48.4000%'],\n",
       " ['48.8000%', '48.1970%', '47.7191%', '48.8000%'],\n",
       " ['49.6000%', '48.9800%', '48.5988%', '49.6000%'],\n",
       " ['49.6000%', '49.6718%', '48.5108%', '49.6000%'],\n",
       " ['42.8000%', '42.0938%', '41.5284%', '42.8000%'],\n",
       " ['46.0000%', '45.4276%', '45.2408%', '46.0000%'],\n",
       " ['46.0000%', '45.3155%', '44.8255%', '46.0000%'],\n",
       " ['47.2000%', '46.0446%', '45.8558%', '47.2000%'],\n",
       " ['45.2000%', '44.2369%', '43.8905%', '45.2000%'],\n",
       " ['46.4000%', '45.7621%', '45.0263%', '46.4000%'],\n",
       " ['44.0000%', '43.3034%', '43.1204%', '44.0000%'],\n",
       " ['50.0000%', '49.4069%', '49.1137%', '50.0000%'],\n",
       " ['47.2000%', '46.9458%', '46.4624%', '47.2000%'],\n",
       " ['47.2000%', '46.6910%', '46.1159%', '47.2000%'],\n",
       " ['46.8000%', '46.5625%', '45.9554%', '46.8000%'],\n",
       " ['47.2000%', '46.5424%', '46.0960%', '47.2000%'],\n",
       " ['47.6000%', '47.8900%', '46.7475%', '47.6000%'],\n",
       " ['46.8000%', '46.1874%', '45.5066%', '46.8000%'],\n",
       " ['51.2000%', '51.1574%', '50.3603%', '51.2000%'],\n",
       " ['51.2000%', '51.3668%', '50.1676%', '51.2000%'],\n",
       " ['46.4000%', '46.5385%', '45.6413%', '46.4000%'],\n",
       " ['50.4000%', '50.1113%', '49.5518%', '50.4000%'],\n",
       " ['45.6000%', '44.5799%', '44.0107%', '45.6000%'],\n",
       " ['46.4000%', '45.5338%', '44.9854%', '46.4000%'],\n",
       " ['47.2000%', '47.1446%', '45.9767%', '47.2000%'],\n",
       " ['47.2000%', '46.5305%', '46.0470%', '47.2000%'],\n",
       " ['47.6000%', '46.5670%', '46.1636%', '47.6000%'],\n",
       " ['47.2000%', '46.6193%', '46.2713%', '47.2000%'],\n",
       " ['46.0000%', '45.2560%', '44.9901%', '46.0000%'],\n",
       " ['46.0000%', '45.5820%', '44.9578%', '46.0000%'],\n",
       " ['46.0000%', '45.0561%', '44.4422%', '46.0000%'],\n",
       " ['45.6000%', '45.0248%', '44.3739%', '45.6000%'],\n",
       " ['45.2000%', '43.7515%', '43.5782%', '45.2000%'],\n",
       " ['46.8000%', '45.8967%', '45.4088%', '46.8000%'],\n",
       " ['46.4000%', '45.3526%', '44.8450%', '46.4000%'],\n",
       " ['48.0000%', '47.1955%', '46.3296%', '48.0000%'],\n",
       " ['47.6000%', '47.8523%', '46.1574%', '47.6000%'],\n",
       " ['48.0000%', '47.5026%', '46.6345%', '48.0000%'],\n",
       " ['46.8000%', '46.5454%', '45.3930%', '46.8000%'],\n",
       " ['46.4000%', '45.8926%', '45.1091%', '46.4000%'],\n",
       " ['46.0000%', '44.7743%', '44.3794%', '46.0000%'],\n",
       " ['46.8000%', '45.7318%', '45.3858%', '46.8000%'],\n",
       " ['45.2000%', '43.0984%', '43.3547%', '45.2000%'],\n",
       " ['47.2000%', '46.4990%', '45.9260%', '47.2000%'],\n",
       " ['45.6000%', '43.7139%', '43.1615%', '45.6000%']]"
      ]
     },
     "execution_count": 24,
     "metadata": {},
     "output_type": "execute_result"
    }
   ],
   "source": [
    "from Models.MLAlgos import Rforest\n",
    "RFSipltResults = []\n",
    "sumtol = []\n",
    "count = 0\n",
    "for i in range(50):\n",
    "    Rforest_WRDenoise_Result = Rforest(X_Wavlet_Denoise_Embed_train, Y_train, X_Wavlet_Denoise_Embed_val, Y_val, deepth=indexu, split= i+2)\n",
    "    RFSipltResults.append(Rforest_WRDenoise_Result)\n",
    "    if i>0:\n",
    "        if RFSipltResults[i] == RFSipltResults[i-1]:\n",
    "            count = count + 1\n",
    "\n",
    "    sumtemp = sum([float((RFSipltResults[i][0].strip('%')))/100 , float((RFSipltResults[i][1].strip('%')))/100 , float((RFSipltResults[i][2].strip('%')))/100 , float((RFSipltResults[i][3].strip('%')))/100])\n",
    "    sumtol.append(sumtemp)\n",
    "    if count == 10:\n",
    "        break\n",
    "print('index: ',sumtol.index(max(sumtol)))\n",
    "print('BestResult:', RFSipltResults[sumtol.index(max(sumtol))])\n",
    "print(sumtol)\n",
    "RFSipltResults"
   ]
  },
  {
   "cell_type": "code",
   "execution_count": 32,
   "id": "434b3596",
   "metadata": {
    "ExecuteTime": {
     "end_time": "2021-11-26T18:48:41.106581Z",
     "start_time": "2021-11-26T18:48:37.546550Z"
    }
   },
   "outputs": [],
   "source": [
    "Dtree_WL_Denoise_Result = Dtree(X_Wavlet_Denoise_Embed_train, Y_train, X_Wavlet_Denoise_Embed_val, Y_val,deepth =5 ,split=2)\n",
    "Rforest_WL_Denoise_Result = Rforest(X_Wavlet_Denoise_Embed_train, Y_train, X_Wavlet_Denoise_Embed_val, Y_val,deepth =10 ,split=26)"
   ]
  },
  {
   "cell_type": "code",
   "execution_count": 33,
   "id": "7bbbd397",
   "metadata": {
    "ExecuteTime": {
     "end_time": "2021-11-26T18:48:41.122550Z",
     "start_time": "2021-11-26T18:48:41.107549Z"
    }
   },
   "outputs": [
    {
     "data": {
      "text/plain": [
       "(['42.4000%', '40.7652%', '40.3683%', '42.4000%'],\n",
       " ['51.2000%', '51.3668%', '50.1676%', '51.2000%'])"
      ]
     },
     "execution_count": 33,
     "metadata": {},
     "output_type": "execute_result"
    }
   ],
   "source": [
    "Dtree_WL_Denoise_Result, Rforest_WL_Denoise_Result"
   ]
  },
  {
   "cell_type": "code",
   "execution_count": 25,
   "id": "c15319ee",
   "metadata": {
    "ExecuteTime": {
     "end_time": "2021-11-26T15:42:24.589127Z",
     "start_time": "2021-11-26T15:42:24.574160Z"
    }
   },
   "outputs": [],
   "source": [
    "from sklearn.model_selection import GridSearchCV\n",
    "from sklearn.svm import SVC\n",
    "\n",
    "param_grid = { 'C':[0.1,1,100,1000],'kernel':['rbf','poly','sigmoid','linear'],'degree':[1,2,3,4,5,6]}"
   ]
  },
  {
   "cell_type": "code",
   "execution_count": 26,
   "id": "7d076c3b",
   "metadata": {
    "ExecuteTime": {
     "end_time": "2021-11-26T15:59:25.946646Z",
     "start_time": "2021-11-26T15:42:24.592152Z"
    },
    "scrolled": true
   },
   "outputs": [
    {
     "data": {
      "text/plain": [
       "GridSearchCV(estimator=SVC(random_state=10),\n",
       "             param_grid={'C': [0.1, 1, 100, 1000], 'degree': [1, 2, 3, 4, 5, 6],\n",
       "                         'kernel': ['rbf', 'poly', 'sigmoid', 'linear']})"
      ]
     },
     "execution_count": 26,
     "metadata": {},
     "output_type": "execute_result"
    }
   ],
   "source": [
    "grid = GridSearchCV(SVC(random_state=10),param_grid)\n",
    "grid.fit(X_Wavlet_Denoise_Embed_train, Y_train)"
   ]
  },
  {
   "cell_type": "code",
   "execution_count": 27,
   "id": "8117c0b4",
   "metadata": {
    "ExecuteTime": {
     "end_time": "2021-11-26T15:59:26.565682Z",
     "start_time": "2021-11-26T15:59:25.949656Z"
    },
    "scrolled": true
   },
   "outputs": [
    {
     "name": "stdout",
     "output_type": "stream",
     "text": [
      "{'C': 1000, 'degree': 1, 'kernel': 'rbf'}\n",
      "0.464\n"
     ]
    }
   ],
   "source": [
    "print(grid.best_params_)\n",
    "print(grid.score(X_Wavlet_Denoise_Embed_val, Y_val))"
   ]
  },
  {
   "cell_type": "code",
   "execution_count": 35,
   "id": "98ba6272",
   "metadata": {
    "ExecuteTime": {
     "end_time": "2021-11-26T18:50:49.364716Z",
     "start_time": "2021-11-26T18:50:47.480715Z"
    }
   },
   "outputs": [
    {
     "data": {
      "text/plain": [
       "['46.4000%', '45.2095%', '45.6054%', '46.4000%']"
      ]
     },
     "execution_count": 35,
     "metadata": {},
     "output_type": "execute_result"
    }
   ],
   "source": [
    "SVM_WL_Denoise_Result = SVectorMachine(X_Wavlet_Denoise_Embed_train, Y_train, X_Wavlet_Denoise_Embed_val, Y_val,Cval=1000, deguree=1, kernelu ='rbf')\n",
    "SVM_WL_Denoise_Result"
   ]
  },
  {
   "cell_type": "code",
   "execution_count": 30,
   "id": "fdc1f760",
   "metadata": {
    "ExecuteTime": {
     "end_time": "2021-11-26T18:38:50.829004Z",
     "start_time": "2021-11-26T18:38:48.881892Z"
    }
   },
   "outputs": [],
   "source": [
    "SVM_WL_Denoise_Result = SVectorMachine(X_Wavlet_Denoise_Embed_train, Y_train, X_Wavlet_Denoise_Embed_val, Y_val,Cval=grid.best_params_['C'], deguree=grid.best_params_['degree'], kernelu =grid.best_params_['kernel'])"
   ]
  },
  {
   "cell_type": "code",
   "execution_count": 31,
   "id": "224d8224",
   "metadata": {
    "ExecuteTime": {
     "end_time": "2021-11-26T18:38:58.511438Z",
     "start_time": "2021-11-26T18:38:58.504438Z"
    }
   },
   "outputs": [
    {
     "data": {
      "text/plain": [
       "['46.4000%', '45.2095%', '45.6054%', '46.4000%']"
      ]
     },
     "execution_count": 31,
     "metadata": {},
     "output_type": "execute_result"
    }
   ],
   "source": [
    "SVM_WL_Denoise_Result"
   ]
  },
  {
   "cell_type": "code",
   "execution_count": 37,
   "id": "edf7ed03",
   "metadata": {
    "ExecuteTime": {
     "end_time": "2021-11-26T13:30:51.501353Z",
     "start_time": "2021-11-26T13:29:51.591345Z"
    },
    "scrolled": true
   },
   "outputs": [
    {
     "name": "stderr",
     "output_type": "stream",
     "text": [
      "C:\\Users\\phvpa\\anaconda3\\envs\\MuRIL\\lib\\site-packages\\sklearn\\metrics\\_classification.py:1308: UndefinedMetricWarning: Precision is ill-defined and being set to 0.0 in labels with no predicted samples. Use `zero_division` parameter to control this behavior.\n",
      "  _warn_prf(average, modifier, msg_start, len(result))\n",
      "C:\\Users\\phvpa\\anaconda3\\envs\\MuRIL\\lib\\site-packages\\sklearn\\metrics\\_classification.py:1308: UndefinedMetricWarning: Precision is ill-defined and being set to 0.0 in labels with no predicted samples. Use `zero_division` parameter to control this behavior.\n",
      "  _warn_prf(average, modifier, msg_start, len(result))\n"
     ]
    },
    {
     "name": "stdout",
     "output_type": "stream",
     "text": [
      "index:  4\n",
      "BestResult: ['42.4000%', '40.7652%', '40.3683%', '42.4000%']\n",
      "[0.8821670000000001, 1.1947340000000002, 1.581381, 1.5857869999999998, 1.659335, 1.5822850000000002, 1.6471179999999999, 1.572362, 1.62801, 1.6073499999999998, 1.627444, 1.5496969999999999, 1.4469250000000002, 1.4178430000000002, 1.4197490000000001, 1.492222, 1.4310169999999998, 1.3788010000000002, 1.3649969999999998, 1.4018560000000002, 1.367375, 1.399751, 1.3986770000000002, 1.3468440000000002, 1.3819879999999998, 1.371785, 1.402319, 1.365923, 1.32324, 1.32324, 1.32324, 1.32324, 1.32324, 1.32324, 1.32324, 1.32324, 1.32324, 1.32324, 1.32324]\n"
     ]
    },
    {
     "data": {
      "text/plain": [
       "[['29.6000%', '12.0747%', '16.9420%', '29.6000%'],\n",
       " ['32.0000%', '28.1045%', '27.3689%', '32.0000%'],\n",
       " ['38.8000%', '42.6378%', '37.9003%', '38.8000%'],\n",
       " ['40.0000%', '40.1824%', '38.3963%', '40.0000%'],\n",
       " ['42.4000%', '40.7652%', '40.3683%', '42.4000%'],\n",
       " ['40.0000%', '39.1045%', '39.1240%', '40.0000%'],\n",
       " ['41.6000%', '40.6133%', '40.8985%', '41.6000%'],\n",
       " ['39.6000%', '38.9128%', '39.1234%', '39.6000%'],\n",
       " ['40.8000%', '40.7170%', '40.4840%', '40.8000%'],\n",
       " ['40.4000%', '39.9354%', '39.9996%', '40.4000%'],\n",
       " ['40.8000%', '40.6946%', '40.4498%', '40.8000%'],\n",
       " ['38.8000%', '38.7958%', '38.5739%', '38.8000%'],\n",
       " ['36.4000%', '35.9532%', '35.9393%', '36.4000%'],\n",
       " ['35.6000%', '35.3494%', '35.2349%', '35.6000%'],\n",
       " ['35.6000%', '35.4614%', '35.3135%', '35.6000%'],\n",
       " ['37.6000%', '36.9767%', '37.0455%', '37.6000%'],\n",
       " ['36.0000%', '35.4781%', '35.6236%', '36.0000%'],\n",
       " ['34.8000%', '33.9742%', '34.3059%', '34.8000%'],\n",
       " ['34.4000%', '33.7328%', '33.9669%', '34.4000%'],\n",
       " ['35.2000%', '34.9118%', '34.8738%', '35.2000%'],\n",
       " ['34.4000%', '33.8689%', '34.0686%', '34.4000%'],\n",
       " ['35.2000%', '34.6837%', '34.8914%', '35.2000%'],\n",
       " ['35.2000%', '34.6120%', '34.8557%', '35.2000%'],\n",
       " ['34.0000%', '33.1735%', '33.5109%', '34.0000%'],\n",
       " ['34.8000%', '34.2009%', '34.3979%', '34.8000%'],\n",
       " ['34.4000%', '34.1521%', '34.2264%', '34.4000%'],\n",
       " ['35.2000%', '34.8381%', '34.9938%', '35.2000%'],\n",
       " ['34.4000%', '33.7547%', '34.0376%', '34.4000%'],\n",
       " ['33.2000%', '32.8957%', '33.0283%', '33.2000%'],\n",
       " ['33.2000%', '32.8957%', '33.0283%', '33.2000%'],\n",
       " ['33.2000%', '32.8957%', '33.0283%', '33.2000%'],\n",
       " ['33.2000%', '32.8957%', '33.0283%', '33.2000%'],\n",
       " ['33.2000%', '32.8957%', '33.0283%', '33.2000%'],\n",
       " ['33.2000%', '32.8957%', '33.0283%', '33.2000%'],\n",
       " ['33.2000%', '32.8957%', '33.0283%', '33.2000%'],\n",
       " ['33.2000%', '32.8957%', '33.0283%', '33.2000%'],\n",
       " ['33.2000%', '32.8957%', '33.0283%', '33.2000%'],\n",
       " ['33.2000%', '32.8957%', '33.0283%', '33.2000%'],\n",
       " ['33.2000%', '32.8957%', '33.0283%', '33.2000%']]"
      ]
     },
     "execution_count": 37,
     "metadata": {},
     "output_type": "execute_result"
    }
   ],
   "source": [
    "from Models.MLAlgos import Dtree\n",
    "\n",
    "DTSipltResults = []\n",
    "sumtol = []\n",
    "count = 0\n",
    "for i in range(50):\n",
    "    Dtree_WRDenoise_Result = Dtree(X_MuRIL_Wavlet_Denoise_Embed_train, Y_train, X_MuRIL_Wavlet_Denoise_Embed_val, Y_val, deepth=i+1, split= 2)\n",
    "    DTSipltResults.append(Dtree_WRDenoise_Result)\n",
    "    if i>0:\n",
    "        if DTSipltResults[i] == DTSipltResults[i-1]:\n",
    "            count = count + 1\n",
    "\n",
    "    sumtemp = sum([float((DTSipltResults[i][0].strip('%')))/100 , float((DTSipltResults[i][1].strip('%')))/100 , float((DTSipltResults[i][2].strip('%')))/100 , float((DTSipltResults[i][3].strip('%')))/100])\n",
    "    sumtol.append(sumtemp)\n",
    "    if count == 10:\n",
    "        break\n",
    "indexu2 = sumtol.index(max(sumtol)) + 1\n",
    "print('index: ',sumtol.index(max(sumtol)))\n",
    "print('BestResult:', DTSipltResults[sumtol.index(max(sumtol))])\n",
    "print(sumtol)\n",
    "DTSipltResults"
   ]
  },
  {
   "cell_type": "code",
   "execution_count": 39,
   "id": "b9f7030e",
   "metadata": {
    "ExecuteTime": {
     "end_time": "2021-11-26T13:31:39.180348Z",
     "start_time": "2021-11-26T13:31:29.663371Z"
    }
   },
   "outputs": [
    {
     "name": "stdout",
     "output_type": "stream",
     "text": [
      "index:  0\n",
      "BestResult: ['42.4000%', '40.7652%', '40.3683%', '42.4000%']\n",
      "[1.659335, 1.659335, 1.659335, 1.659335, 1.659335, 1.659335, 1.659335, 1.659335, 1.659335, 1.659335, 1.659335]\n"
     ]
    },
    {
     "data": {
      "text/plain": [
       "[['42.4000%', '40.7652%', '40.3683%', '42.4000%'],\n",
       " ['42.4000%', '40.7652%', '40.3683%', '42.4000%'],\n",
       " ['42.4000%', '40.7652%', '40.3683%', '42.4000%'],\n",
       " ['42.4000%', '40.7652%', '40.3683%', '42.4000%'],\n",
       " ['42.4000%', '40.7652%', '40.3683%', '42.4000%'],\n",
       " ['42.4000%', '40.7652%', '40.3683%', '42.4000%'],\n",
       " ['42.4000%', '40.7652%', '40.3683%', '42.4000%'],\n",
       " ['42.4000%', '40.7652%', '40.3683%', '42.4000%'],\n",
       " ['42.4000%', '40.7652%', '40.3683%', '42.4000%'],\n",
       " ['42.4000%', '40.7652%', '40.3683%', '42.4000%'],\n",
       " ['42.4000%', '40.7652%', '40.3683%', '42.4000%']]"
      ]
     },
     "execution_count": 39,
     "metadata": {},
     "output_type": "execute_result"
    }
   ],
   "source": [
    "from Models.MLAlgos import SVectorMachine, Dtree\n",
    "\n",
    "DTSipltResults = []\n",
    "sumtol = []\n",
    "count = 0\n",
    "for i in range(50):\n",
    "    Dtree_WRDenoise_Result = Dtree(X_MuRIL_Wavlet_Denoise_Embed_train, Y_train, X_MuRIL_Wavlet_Denoise_Embed_val, Y_val, deepth=indexu2, split= i+2)\n",
    "    DTSipltResults.append(Dtree_WRDenoise_Result)\n",
    "    if i>0:\n",
    "        if DTSipltResults[i] == DTSipltResults[i-1]:\n",
    "            count = count + 1\n",
    "\n",
    "    sumtemp = sum([float((DTSipltResults[i][0].strip('%')))/100 , float((DTSipltResults[i][1].strip('%')))/100 , float((DTSipltResults[i][2].strip('%')))/100 , float((DTSipltResults[i][3].strip('%')))/100])\n",
    "    sumtol.append(sumtemp)\n",
    "    if count == 10:\n",
    "        break\n",
    "print('index: ',sumtol.index(max(sumtol)))\n",
    "print('BestResult:', DTSipltResults[sumtol.index(max(sumtol))])\n",
    "print(sumtol)\n",
    "DTSipltResults"
   ]
  },
  {
   "cell_type": "code",
   "execution_count": 41,
   "id": "3a09a1d4",
   "metadata": {
    "ExecuteTime": {
     "end_time": "2021-11-26T13:45:07.267034Z",
     "start_time": "2021-11-26T13:45:06.384992Z"
    }
   },
   "outputs": [
    {
     "data": {
      "text/plain": [
       "['42.4000%', '40.7652%', '40.3683%', '42.4000%']"
      ]
     },
     "execution_count": 41,
     "metadata": {},
     "output_type": "execute_result"
    }
   ],
   "source": [
    "Dtree_MuRIL_WL_Denoise_Result = Dtree(X_MuRIL_Wavlet_Denoise_Embed_train, Y_train, X_MuRIL_Wavlet_Denoise_Embed_val, Y_val, deepth=5, split=2)\n",
    "Dtree_MuRIL_WL_Denoise_Result"
   ]
  },
  {
   "cell_type": "code",
   "execution_count": null,
   "id": "104c7008",
   "metadata": {},
   "outputs": [],
   "source": []
  },
  {
   "cell_type": "code",
   "execution_count": null,
   "id": "956f0ac3",
   "metadata": {},
   "outputs": [],
   "source": []
  },
  {
   "cell_type": "code",
   "execution_count": null,
   "id": "b0f1d177",
   "metadata": {},
   "outputs": [],
   "source": []
  },
  {
   "cell_type": "code",
   "execution_count": 30,
   "id": "309f1cd7",
   "metadata": {
    "ExecuteTime": {
     "end_time": "2021-11-26T13:14:48.244970Z",
     "start_time": "2021-11-26T13:12:24.732960Z"
    },
    "scrolled": true
   },
   "outputs": [
    {
     "name": "stdout",
     "output_type": "stream",
     "text": [
      "index:  10\n",
      "BestResult: ['51.2000%', '50.9178%', '50.0204%', '51.2000%']\n",
      "[1.13232, 1.3984010000000002, 1.7051589999999999, 1.6506729999999998, 1.8506719999999999, 1.81574, 1.79608, 1.7036950000000002, 1.8765619999999998, 2.033382, 1.814002, 1.862044, 1.853728, 1.831882, 1.8916680000000001, 1.757235, 1.808194, 1.910738, 1.899544, 1.996605, 1.950023, 2.0129900000000003, 1.93683, 1.970352, 1.9979900000000002, 1.981997, 2.032146, 2.017865, 2.030658, 2.030658, 2.030658, 2.030658, 2.030658, 2.030658, 2.030658, 2.030658, 2.030658, 2.030658, 2.030658]\n"
     ]
    },
    {
     "data": {
      "text/plain": [
       "[['33.2000%', '24.2860%', '22.5460%', '33.2000%'],\n",
       " ['37.2000%', '33.2911%', '32.1490%', '37.2000%'],\n",
       " ['43.6000%', '42.0776%', '41.2383%', '43.6000%'],\n",
       " ['42.0000%', '41.0833%', '39.9840%', '42.0000%'],\n",
       " ['46.8000%', '46.2338%', '45.2334%', '46.8000%'],\n",
       " ['46.4000%', '44.4753%', '44.2987%', '46.4000%'],\n",
       " ['45.2000%', '45.4089%', '43.7991%', '45.2000%'],\n",
       " ['43.2000%', '42.0419%', '41.9276%', '43.2000%'],\n",
       " ['47.2000%', '47.1862%', '46.0700%', '47.2000%'],\n",
       " ['51.2000%', '50.9178%', '50.0204%', '51.2000%'],\n",
       " ['46.0000%', '44.5525%', '44.8477%', '46.0000%'],\n",
       " ['47.2000%', '45.8734%', '45.9310%', '47.2000%'],\n",
       " ['46.4000%', '46.4924%', '46.0804%', '46.4000%'],\n",
       " ['46.8000%', '44.5819%', '45.0063%', '46.8000%'],\n",
       " ['47.6000%', '47.1008%', '46.8660%', '47.6000%'],\n",
       " ['44.4000%', '43.4724%', '43.4511%', '44.4000%'],\n",
       " ['45.6000%', '44.8970%', '44.7224%', '45.6000%'],\n",
       " ['48.4000%', '47.0293%', '47.2445%', '48.4000%'],\n",
       " ['48.0000%', '46.9885%', '46.9659%', '48.0000%'],\n",
       " ['50.4000%', '49.4688%', '49.3917%', '50.4000%'],\n",
       " ['49.2000%', '48.3905%', '48.2118%', '49.2000%'],\n",
       " ['50.8000%', '49.9290%', '49.7700%', '50.8000%'],\n",
       " ['48.8000%', '48.0483%', '48.0347%', '48.8000%'],\n",
       " ['49.6000%', '48.9535%', '48.8817%', '49.6000%'],\n",
       " ['50.4000%', '49.4496%', '49.5494%', '50.4000%'],\n",
       " ['50.0000%', '49.0772%', '49.1225%', '50.0000%'],\n",
       " ['51.2000%', '50.3507%', '50.4639%', '51.2000%'],\n",
       " ['50.8000%', '50.0433%', '50.1432%', '50.8000%'],\n",
       " ['51.2000%', '50.2773%', '50.3885%', '51.2000%'],\n",
       " ['51.2000%', '50.2773%', '50.3885%', '51.2000%'],\n",
       " ['51.2000%', '50.2773%', '50.3885%', '51.2000%'],\n",
       " ['51.2000%', '50.2773%', '50.3885%', '51.2000%'],\n",
       " ['51.2000%', '50.2773%', '50.3885%', '51.2000%'],\n",
       " ['51.2000%', '50.2773%', '50.3885%', '51.2000%'],\n",
       " ['51.2000%', '50.2773%', '50.3885%', '51.2000%'],\n",
       " ['51.2000%', '50.2773%', '50.3885%', '51.2000%'],\n",
       " ['51.2000%', '50.2773%', '50.3885%', '51.2000%'],\n",
       " ['51.2000%', '50.2773%', '50.3885%', '51.2000%'],\n",
       " ['51.2000%', '50.2773%', '50.3885%', '51.2000%']]"
      ]
     },
     "execution_count": 30,
     "metadata": {},
     "output_type": "execute_result"
    }
   ],
   "source": [
    "from Models.MLAlgos import Rforest\n",
    "RFSipltResults = []\n",
    "sumtol = []\n",
    "count = 0\n",
    "for i in range(50):\n",
    "    Rforest_WRDenoise_Result = Rforest(X_MuRIL_Wavlet_Denoise_Embed_train, Y_train, X_MuRIL_Wavlet_Denoise_Embed_val, Y_val, deepth=i+1, split= 2)\n",
    "    RFSipltResults.append(Rforest_WRDenoise_Result)\n",
    "    if i>0:\n",
    "        if RFSipltResults[i] == RFSipltResults[i-1]:\n",
    "            count = count + 1\n",
    "\n",
    "    sumtemp = sum([float((RFSipltResults[i][0].strip('%')))/100 , float((RFSipltResults[i][1].strip('%')))/100 , float((RFSipltResults[i][2].strip('%')))/100 , float((RFSipltResults[i][3].strip('%')))/100])\n",
    "    sumtol.append(sumtemp)\n",
    "    if count == 10:\n",
    "        break\n",
    "indexu = sumtol.index(max(sumtol)) + 1\n",
    "print('index: ',indexu)\n",
    "print('BestResult:', RFSipltResults[sumtol.index(max(sumtol))])\n",
    "print(sumtol)\n",
    "RFSipltResults"
   ]
  },
  {
   "cell_type": "code",
   "execution_count": 31,
   "id": "aed39302",
   "metadata": {
    "ExecuteTime": {
     "end_time": "2021-11-26T13:17:31.538900Z",
     "start_time": "2021-11-26T13:14:48.247948Z"
    },
    "scrolled": true
   },
   "outputs": [
    {
     "name": "stdout",
     "output_type": "stream",
     "text": [
      "index:  24\n",
      "BestResult: ['51.2000%', '51.3668%', '50.1676%', '51.2000%']\n",
      "[2.033382, 1.948746, 1.843778, 1.940435, 1.917601, 1.9110399999999998, 1.935161, 1.967788, 1.973826, 1.692222, 1.826684, 1.8214099999999998, 1.863004, 1.785274, 1.8358839999999998, 1.744238, 1.985206, 1.878082, 1.8720690000000002, 1.861179, 1.870384, 1.8983750000000001, 1.8529399999999998, 2.039177, 2.039344, 1.8497979999999998, 2.0046310000000003, 1.797906, 1.833192, 1.875213, 1.869775, 1.8793060000000001, 1.872906, 1.822461, 1.825398, 1.8149829999999998, 1.805987, 1.777297, 1.849055, 1.829976, 1.895251, 1.8920970000000001, 1.901371, 1.855384, 1.8380169999999998, 1.811537, 1.847176, 1.7685309999999999, 1.86825, 1.780754]\n"
     ]
    },
    {
     "data": {
      "text/plain": [
       "[['51.2000%', '50.9178%', '50.0204%', '51.2000%'],\n",
       " ['49.2000%', '48.3905%', '48.0841%', '49.2000%'],\n",
       " ['46.8000%', '45.4299%', '45.3479%', '46.8000%'],\n",
       " ['48.8000%', '48.5263%', '47.9172%', '48.8000%'],\n",
       " ['48.4000%', '47.5713%', '47.3888%', '48.4000%'],\n",
       " ['48.4000%', '47.1966%', '47.1074%', '48.4000%'],\n",
       " ['48.8000%', '48.1970%', '47.7191%', '48.8000%'],\n",
       " ['49.6000%', '48.9800%', '48.5988%', '49.6000%'],\n",
       " ['49.6000%', '49.6718%', '48.5108%', '49.6000%'],\n",
       " ['42.8000%', '42.0938%', '41.5284%', '42.8000%'],\n",
       " ['46.0000%', '45.4276%', '45.2408%', '46.0000%'],\n",
       " ['46.0000%', '45.3155%', '44.8255%', '46.0000%'],\n",
       " ['47.2000%', '46.0446%', '45.8558%', '47.2000%'],\n",
       " ['45.2000%', '44.2369%', '43.8905%', '45.2000%'],\n",
       " ['46.4000%', '45.7621%', '45.0263%', '46.4000%'],\n",
       " ['44.0000%', '43.3034%', '43.1204%', '44.0000%'],\n",
       " ['50.0000%', '49.4069%', '49.1137%', '50.0000%'],\n",
       " ['47.2000%', '46.9458%', '46.4624%', '47.2000%'],\n",
       " ['47.2000%', '46.6910%', '46.1159%', '47.2000%'],\n",
       " ['46.8000%', '46.5625%', '45.9554%', '46.8000%'],\n",
       " ['47.2000%', '46.5424%', '46.0960%', '47.2000%'],\n",
       " ['47.6000%', '47.8900%', '46.7475%', '47.6000%'],\n",
       " ['46.8000%', '46.1874%', '45.5066%', '46.8000%'],\n",
       " ['51.2000%', '51.1574%', '50.3603%', '51.2000%'],\n",
       " ['51.2000%', '51.3668%', '50.1676%', '51.2000%'],\n",
       " ['46.4000%', '46.5385%', '45.6413%', '46.4000%'],\n",
       " ['50.4000%', '50.1113%', '49.5518%', '50.4000%'],\n",
       " ['45.6000%', '44.5799%', '44.0107%', '45.6000%'],\n",
       " ['46.4000%', '45.5338%', '44.9854%', '46.4000%'],\n",
       " ['47.2000%', '47.1446%', '45.9767%', '47.2000%'],\n",
       " ['47.2000%', '46.5305%', '46.0470%', '47.2000%'],\n",
       " ['47.6000%', '46.5670%', '46.1636%', '47.6000%'],\n",
       " ['47.2000%', '46.6193%', '46.2713%', '47.2000%'],\n",
       " ['46.0000%', '45.2560%', '44.9901%', '46.0000%'],\n",
       " ['46.0000%', '45.5820%', '44.9578%', '46.0000%'],\n",
       " ['46.0000%', '45.0561%', '44.4422%', '46.0000%'],\n",
       " ['45.6000%', '45.0248%', '44.3739%', '45.6000%'],\n",
       " ['45.2000%', '43.7515%', '43.5782%', '45.2000%'],\n",
       " ['46.8000%', '45.8967%', '45.4088%', '46.8000%'],\n",
       " ['46.4000%', '45.3526%', '44.8450%', '46.4000%'],\n",
       " ['48.0000%', '47.1955%', '46.3296%', '48.0000%'],\n",
       " ['47.6000%', '47.8523%', '46.1574%', '47.6000%'],\n",
       " ['48.0000%', '47.5026%', '46.6345%', '48.0000%'],\n",
       " ['46.8000%', '46.5454%', '45.3930%', '46.8000%'],\n",
       " ['46.4000%', '45.8926%', '45.1091%', '46.4000%'],\n",
       " ['46.0000%', '44.7743%', '44.3794%', '46.0000%'],\n",
       " ['46.8000%', '45.7318%', '45.3858%', '46.8000%'],\n",
       " ['45.2000%', '43.0984%', '43.3547%', '45.2000%'],\n",
       " ['47.2000%', '46.4990%', '45.9260%', '47.2000%'],\n",
       " ['45.6000%', '43.7139%', '43.1615%', '45.6000%']]"
      ]
     },
     "execution_count": 31,
     "metadata": {},
     "output_type": "execute_result"
    }
   ],
   "source": [
    "from Models.MLAlgos import Rforest\n",
    "RFSipltResults = []\n",
    "sumtol = []\n",
    "count = 0\n",
    "for i in range(50):\n",
    "    Rforest_WRDenoise_Result = Rforest(X_MuRIL_Wavlet_Denoise_Embed_train, Y_train, X_MuRIL_Wavlet_Denoise_Embed_val, Y_val, deepth=indexu, split= i+2)\n",
    "    RFSipltResults.append(Rforest_WRDenoise_Result)\n",
    "    if i>0:\n",
    "        if RFSipltResults[i] == RFSipltResults[i-1]:\n",
    "            count = count + 1\n",
    "\n",
    "    sumtemp = sum([float((RFSipltResults[i][0].strip('%')))/100 , float((RFSipltResults[i][1].strip('%')))/100 , float((RFSipltResults[i][2].strip('%')))/100 , float((RFSipltResults[i][3].strip('%')))/100])\n",
    "    sumtol.append(sumtemp)\n",
    "    if count == 10:\n",
    "        break\n",
    "print('index: ',sumtol.index(max(sumtol)))\n",
    "print('BestResult:', RFSipltResults[sumtol.index(max(sumtol))])\n",
    "print(sumtol)\n",
    "RFSipltResults"
   ]
  },
  {
   "cell_type": "code",
   "execution_count": 32,
   "id": "f5f5ca4e",
   "metadata": {
    "ExecuteTime": {
     "end_time": "2021-11-26T13:24:16.249674Z",
     "start_time": "2021-11-26T13:24:13.023672Z"
    }
   },
   "outputs": [
    {
     "data": {
      "text/plain": [
       "['51.2000%', '51.3668%', '50.1676%', '51.2000%']"
      ]
     },
     "execution_count": 32,
     "metadata": {},
     "output_type": "execute_result"
    }
   ],
   "source": [
    "Rforest_WRDenoise_Result = Rforest(X_MuRIL_Wavlet_Denoise_Embed_train, Y_train, X_MuRIL_Wavlet_Denoise_Embed_val, Y_val, deepth=10, split= 26)\n",
    "Rforest_WRDenoise_Result"
   ]
  },
  {
   "cell_type": "code",
   "execution_count": null,
   "id": "95176747",
   "metadata": {},
   "outputs": [],
   "source": []
  },
  {
   "cell_type": "code",
   "execution_count": null,
   "id": "5cb8fe85",
   "metadata": {},
   "outputs": [],
   "source": []
  },
  {
   "cell_type": "code",
   "execution_count": null,
   "id": "3701b11c",
   "metadata": {},
   "outputs": [],
   "source": []
  },
  {
   "cell_type": "code",
   "execution_count": null,
   "id": "4dfb8fda",
   "metadata": {},
   "outputs": [],
   "source": []
  },
  {
   "cell_type": "code",
   "execution_count": 10,
   "id": "b54c2c94",
   "metadata": {
    "ExecuteTime": {
     "end_time": "2021-11-26T12:18:17.388305Z",
     "start_time": "2021-11-26T12:18:17.375304Z"
    }
   },
   "outputs": [],
   "source": [
    "from sklearn.model_selection import GridSearchCV\n",
    "from sklearn.svm import SVC\n",
    "\n",
    "param_grid = { 'C':[0.1,1,10,100,1000],'kernel':['rbf','poly','sigmoid','linear'],'degree':[1,2,3,4,5,6]}"
   ]
  },
  {
   "cell_type": "code",
   "execution_count": 11,
   "id": "ea355f8d",
   "metadata": {
    "ExecuteTime": {
     "end_time": "2021-11-26T12:53:35.708553Z",
     "start_time": "2021-11-26T12:18:18.361465Z"
    }
   },
   "outputs": [
    {
     "data": {
      "text/plain": [
       "GridSearchCV(estimator=SVC(random_state=10),\n",
       "             param_grid={'C': [0.1, 1, 10, 100, 1000],\n",
       "                         'degree': [1, 2, 3, 4, 5, 6],\n",
       "                         'kernel': ['rbf', 'poly', 'sigmoid', 'linear']})"
      ]
     },
     "execution_count": 11,
     "metadata": {},
     "output_type": "execute_result"
    }
   ],
   "source": [
    "grid = GridSearchCV(SVC(random_state=10),param_grid)\n",
    "grid.fit(X_MuRIL_Wavlet_Denoise_Embed_train, Y_train)"
   ]
  },
  {
   "cell_type": "code",
   "execution_count": 13,
   "id": "475f684e",
   "metadata": {
    "ExecuteTime": {
     "end_time": "2021-11-26T12:54:31.519338Z",
     "start_time": "2021-11-26T12:54:30.819341Z"
    }
   },
   "outputs": [
    {
     "name": "stdout",
     "output_type": "stream",
     "text": [
      "{'C': 1000, 'degree': 1, 'kernel': 'rbf'}\n",
      "0.464\n"
     ]
    }
   ],
   "source": [
    "print(grid.best_params_)\n",
    "print(grid.score(X_MuRIL_Wavlet_Denoise_Embed_val, Y_val))"
   ]
  },
  {
   "cell_type": "code",
   "execution_count": 28,
   "id": "d3c72589",
   "metadata": {
    "ExecuteTime": {
     "end_time": "2021-11-26T13:07:19.488653Z",
     "start_time": "2021-11-26T13:07:15.584656Z"
    }
   },
   "outputs": [
    {
     "data": {
      "text/plain": [
       "['46.4000%', '45.2095%', '45.6054%', '46.4000%']"
      ]
     },
     "execution_count": 28,
     "metadata": {},
     "output_type": "execute_result"
    }
   ],
   "source": [
    "SVM_MuRIL_WL_Denoise_Result = SVectorMachine(X_MuRIL_Wavlet_Denoise_Embed_train, Y_train, X_MuRIL_Wavlet_Denoise_Embed_val, Y_val, Cval = 1000, deguree = 1)\n",
    "SVM_MuRIL_WL_Denoise_Result"
   ]
  },
  {
   "cell_type": "code",
   "execution_count": 9,
   "id": "db2d0060",
   "metadata": {
    "ExecuteTime": {
     "end_time": "2021-11-24T18:15:26.073854Z",
     "start_time": "2021-11-24T18:07:57.816503Z"
    }
   },
   "outputs": [
    {
     "name": "stderr",
     "output_type": "stream",
     "text": [
      "C:\\Users\\phvpa\\anaconda3\\envs\\MuRIL\\lib\\site-packages\\sklearn\\metrics\\_classification.py:1308: UndefinedMetricWarning: Precision is ill-defined and being set to 0.0 in labels with no predicted samples. Use `zero_division` parameter to control this behavior.\n",
      "  _warn_prf(average, modifier, msg_start, len(result))\n",
      "C:\\Users\\phvpa\\anaconda3\\envs\\MuRIL\\lib\\site-packages\\sklearn\\metrics\\_classification.py:1308: UndefinedMetricWarning: Precision is ill-defined and being set to 0.0 in labels with no predicted samples. Use `zero_division` parameter to control this behavior.\n",
      "  _warn_prf(average, modifier, msg_start, len(result))\n",
      "C:\\Users\\phvpa\\anaconda3\\envs\\MuRIL\\lib\\site-packages\\sklearn\\metrics\\_classification.py:1308: UndefinedMetricWarning: Precision is ill-defined and being set to 0.0 in labels with no predicted samples. Use `zero_division` parameter to control this behavior.\n",
      "  _warn_prf(average, modifier, msg_start, len(result))\n"
     ]
    }
   ],
   "source": [
    "import random\n",
    "random.seed(10)\n",
    "\n",
    "from Models.MLAlgos import Dtree, Rforest\n",
    "\n",
    "DT_Results = []\n",
    "RF_Results = []\n",
    "\n",
    "for i in range(50):\n",
    "    Dtree_MuRIL_WL_Denoise_Result = Dtree(X_MuRIL_Wavlet_Denoise_Embed_train, Y_train, X_MuRIL_Wavlet_Denoise_Embed_val, Y_val, deepth=i+1)\n",
    "    DT_Results.append(Dtree_MuRIL_WL_Denoise_Result)\n",
    "    Rforest_MuRIL_WL_Denoise_Result = Rforest(X_MuRIL_Wavlet_Denoise_Embed_train, Y_train, X_MuRIL_Wavlet_Denoise_Embed_val, Y_val, deepth=i+1)\n",
    "    RF_Results.append(Rforest_MuRIL_WL_Denoise_Result)"
   ]
  },
  {
   "cell_type": "code",
   "execution_count": 10,
   "id": "79bf79f8",
   "metadata": {
    "ExecuteTime": {
     "end_time": "2021-11-24T18:15:26.089888Z",
     "start_time": "2021-11-24T18:15:26.074854Z"
    },
    "scrolled": true
   },
   "outputs": [
    {
     "data": {
      "text/plain": [
       "[['31.8000%', '13.9674%', '18.9383%', '31.8000%'],\n",
       " ['32.4000%', '19.6857%', '23.0952%', '32.4000%'],\n",
       " ['35.4000%', '30.9388%', '26.7417%', '35.4000%'],\n",
       " ['37.4000%', '36.0342%', '34.7707%', '37.4000%'],\n",
       " ['34.8000%', '35.7545%', '34.2306%', '34.8000%'],\n",
       " ['33.8000%', '33.5469%', '32.9029%', '33.8000%'],\n",
       " ['34.0000%', '37.5902%', '34.6368%', '34.0000%'],\n",
       " ['32.8000%', '34.7466%', '33.2292%', '32.8000%'],\n",
       " ['36.8000%', '37.7867%', '37.1605%', '36.8000%'],\n",
       " ['35.6000%', '36.3158%', '35.7602%', '35.6000%'],\n",
       " ['33.8000%', '34.6525%', '34.0054%', '33.8000%'],\n",
       " ['33.6000%', '33.8872%', '33.6499%', '33.6000%'],\n",
       " ['33.6000%', '34.3251%', '33.7534%', '33.6000%'],\n",
       " ['34.6000%', '34.7104%', '34.5550%', '34.6000%'],\n",
       " ['34.4000%', '34.5759%', '34.4595%', '34.4000%'],\n",
       " ['32.8000%', '32.8596%', '32.8033%', '32.8000%'],\n",
       " ['34.0000%', '34.4985%', '34.1858%', '34.0000%'],\n",
       " ['32.2000%', '32.3071%', '32.2096%', '32.2000%'],\n",
       " ['33.0000%', '33.5627%', '33.2331%', '33.0000%'],\n",
       " ['31.6000%', '32.1457%', '31.8016%', '31.6000%'],\n",
       " ['33.0000%', '32.9581%', '32.8569%', '33.0000%'],\n",
       " ['32.6000%', '32.5639%', '32.5314%', '32.6000%'],\n",
       " ['33.6000%', '33.3827%', '33.4383%', '33.6000%'],\n",
       " ['33.8000%', '33.7233%', '33.7036%', '33.8000%'],\n",
       " ['32.4000%', '32.3918%', '32.3594%', '32.4000%'],\n",
       " ['32.8000%', '32.6614%', '32.6747%', '32.8000%'],\n",
       " ['31.6000%', '31.4890%', '31.4973%', '31.6000%'],\n",
       " ['33.2000%', '33.0979%', '33.1103%', '33.2000%'],\n",
       " ['32.6000%', '32.4849%', '32.4999%', '32.6000%'],\n",
       " ['32.6000%', '32.4849%', '32.4999%', '32.6000%'],\n",
       " ['32.6000%', '32.4849%', '32.4999%', '32.6000%'],\n",
       " ['32.6000%', '32.4849%', '32.4999%', '32.6000%'],\n",
       " ['32.6000%', '32.4849%', '32.4999%', '32.6000%'],\n",
       " ['32.6000%', '32.4849%', '32.4999%', '32.6000%'],\n",
       " ['32.6000%', '32.4849%', '32.4999%', '32.6000%'],\n",
       " ['32.6000%', '32.4849%', '32.4999%', '32.6000%'],\n",
       " ['32.6000%', '32.4849%', '32.4999%', '32.6000%'],\n",
       " ['32.6000%', '32.4849%', '32.4999%', '32.6000%'],\n",
       " ['32.6000%', '32.4849%', '32.4999%', '32.6000%'],\n",
       " ['32.6000%', '32.4849%', '32.4999%', '32.6000%'],\n",
       " ['32.6000%', '32.4849%', '32.4999%', '32.6000%'],\n",
       " ['32.6000%', '32.4849%', '32.4999%', '32.6000%'],\n",
       " ['32.6000%', '32.4849%', '32.4999%', '32.6000%'],\n",
       " ['32.6000%', '32.4849%', '32.4999%', '32.6000%'],\n",
       " ['32.6000%', '32.4849%', '32.4999%', '32.6000%'],\n",
       " ['32.6000%', '32.4849%', '32.4999%', '32.6000%'],\n",
       " ['32.6000%', '32.4849%', '32.4999%', '32.6000%'],\n",
       " ['32.6000%', '32.4849%', '32.4999%', '32.6000%'],\n",
       " ['32.6000%', '32.4849%', '32.4999%', '32.6000%'],\n",
       " ['32.6000%', '32.4849%', '32.4999%', '32.6000%']]"
      ]
     },
     "execution_count": 10,
     "metadata": {},
     "output_type": "execute_result"
    }
   ],
   "source": [
    "DT_Results"
   ]
  },
  {
   "cell_type": "code",
   "execution_count": 11,
   "id": "d60d8ed3",
   "metadata": {
    "ExecuteTime": {
     "end_time": "2021-11-24T18:15:26.105174Z",
     "start_time": "2021-11-24T18:15:26.092230Z"
    },
    "scrolled": true
   },
   "outputs": [
    {
     "data": {
      "text/plain": [
       "[['36.8000%', '30.8401%', '28.8544%', '36.8000%'],\n",
       " ['38.6000%', '34.8776%', '31.9249%', '38.6000%'],\n",
       " ['41.4000%', '40.6474%', '36.7837%', '41.4000%'],\n",
       " ['42.0000%', '40.7901%', '39.0335%', '42.0000%'],\n",
       " ['44.0000%', '41.2179%', '41.0346%', '44.0000%'],\n",
       " ['45.0000%', '42.5812%', '43.0802%', '45.0000%'],\n",
       " ['47.4000%', '45.3046%', '45.2885%', '47.4000%'],\n",
       " ['49.0000%', '48.0650%', '47.4266%', '49.0000%'],\n",
       " ['48.6000%', '47.1690%', '47.2431%', '48.6000%'],\n",
       " ['46.8000%', '45.0440%', '45.5459%', '46.8000%'],\n",
       " ['46.6000%', '44.5130%', '45.1482%', '46.6000%'],\n",
       " ['45.2000%', '43.5205%', '44.1146%', '45.2000%'],\n",
       " ['48.2000%', '46.8562%', '46.9857%', '48.2000%'],\n",
       " ['45.4000%', '43.3812%', '44.0522%', '45.4000%'],\n",
       " ['47.6000%', '46.2118%', '46.5490%', '47.6000%'],\n",
       " ['48.6000%', '46.5654%', '47.1710%', '48.6000%'],\n",
       " ['45.8000%', '44.3541%', '44.8308%', '45.8000%'],\n",
       " ['46.0000%', '44.2141%', '44.6897%', '46.0000%'],\n",
       " ['45.4000%', '43.5645%', '44.1245%', '45.4000%'],\n",
       " ['45.4000%', '43.5667%', '44.1292%', '45.4000%'],\n",
       " ['45.0000%', '43.4427%', '44.0293%', '45.0000%'],\n",
       " ['47.0000%', '45.5411%', '45.8248%', '47.0000%'],\n",
       " ['46.4000%', '44.6806%', '45.1556%', '46.4000%'],\n",
       " ['47.6000%', '45.9667%', '46.4625%', '47.6000%'],\n",
       " ['47.6000%', '45.7324%', '46.3246%', '47.6000%'],\n",
       " ['48.2000%', '46.3488%', '46.8542%', '48.2000%'],\n",
       " ['47.6000%', '45.8818%', '46.2546%', '47.6000%'],\n",
       " ['47.6000%', '45.9534%', '46.3241%', '47.6000%'],\n",
       " ['47.6000%', '45.8788%', '46.2395%', '47.6000%'],\n",
       " ['47.6000%', '45.9213%', '46.2660%', '47.6000%'],\n",
       " ['47.8000%', '46.1659%', '46.4833%', '47.8000%'],\n",
       " ['47.6000%', '45.9690%', '46.3272%', '47.6000%'],\n",
       " ['48.0000%', '46.3520%', '46.6594%', '48.0000%'],\n",
       " ['48.4000%', '46.7529%', '47.0752%', '48.4000%'],\n",
       " ['47.8000%', '46.1299%', '46.4354%', '47.8000%'],\n",
       " ['47.6000%', '45.8562%', '46.2029%', '47.6000%'],\n",
       " ['47.8000%', '46.1678%', '46.4934%', '47.8000%'],\n",
       " ['47.4000%', '45.7327%', '46.0459%', '47.4000%'],\n",
       " ['47.4000%', '45.7327%', '46.0459%', '47.4000%'],\n",
       " ['47.4000%', '45.7327%', '46.0459%', '47.4000%'],\n",
       " ['47.4000%', '45.7327%', '46.0459%', '47.4000%'],\n",
       " ['47.4000%', '45.7327%', '46.0459%', '47.4000%'],\n",
       " ['47.4000%', '45.7327%', '46.0459%', '47.4000%'],\n",
       " ['47.4000%', '45.7327%', '46.0459%', '47.4000%'],\n",
       " ['47.4000%', '45.7327%', '46.0459%', '47.4000%'],\n",
       " ['47.4000%', '45.7327%', '46.0459%', '47.4000%'],\n",
       " ['47.4000%', '45.7327%', '46.0459%', '47.4000%'],\n",
       " ['47.4000%', '45.7327%', '46.0459%', '47.4000%'],\n",
       " ['47.4000%', '45.7327%', '46.0459%', '47.4000%'],\n",
       " ['47.4000%', '45.7327%', '46.0459%', '47.4000%']]"
      ]
     },
     "execution_count": 11,
     "metadata": {},
     "output_type": "execute_result"
    }
   ],
   "source": [
    "RF_Results"
   ]
  },
  {
   "cell_type": "code",
   "execution_count": 9,
   "id": "14f0eb0e",
   "metadata": {
    "ExecuteTime": {
     "end_time": "2021-11-24T18:22:56.445661Z",
     "start_time": "2021-11-24T18:22:48.393010Z"
    }
   },
   "outputs": [
    {
     "data": {
      "text/plain": [
       "(['36.8000%', '37.7867%', '37.1605%', '36.8000%'],\n",
       " ['49.0000%', '48.0650%', '47.4266%', '49.0000%'])"
      ]
     },
     "execution_count": 9,
     "metadata": {},
     "output_type": "execute_result"
    }
   ],
   "source": [
    "import random\n",
    "random.seed(10)\n",
    "# When sigma= 0.1 then deepth is 9(DT),8(RF)\n",
    "\n",
    "from Models.MLAlgos import Dtree, Rforest\n",
    "\n",
    "Dtree_MuRIL_WL_Denoise_Result = Dtree(X_MuRIL_Wavlet_Denoise_Embed_train, Y_train, X_MuRIL_Wavlet_Denoise_Embed_val, Y_val, deepth=9)\n",
    "Rforest_MuRIL_WL_Denoise_Result = Rforest(X_MuRIL_Wavlet_Denoise_Embed_train, Y_train, X_MuRIL_Wavlet_Denoise_Embed_val, Y_val, deepth=8)\n",
    "\n",
    "Dtree_MuRIL_WL_Denoise_Result,Rforest_MuRIL_WL_Denoise_Result"
   ]
  }
 ],
 "metadata": {
  "kernelspec": {
   "display_name": "Python 3 (ipykernel)",
   "language": "python",
   "name": "python3"
  },
  "language_info": {
   "codemirror_mode": {
    "name": "ipython",
    "version": 3
   },
   "file_extension": ".py",
   "mimetype": "text/x-python",
   "name": "python",
   "nbconvert_exporter": "python",
   "pygments_lexer": "ipython3",
   "version": "3.8.11"
  },
  "latex_envs": {
   "LaTeX_envs_menu_present": true,
   "autoclose": false,
   "autocomplete": true,
   "bibliofile": "biblio.bib",
   "cite_by": "apalike",
   "current_citInitial": 1,
   "eqLabelWithNumbers": true,
   "eqNumInitial": 1,
   "hotkeys": {
    "equation": "Ctrl-E",
    "itemize": "Ctrl-I"
   },
   "labels_anchors": false,
   "latex_user_defs": false,
   "report_style_numbering": false,
   "user_envs_cfg": false
  },
  "toc": {
   "base_numbering": 1,
   "nav_menu": {},
   "number_sections": true,
   "sideBar": true,
   "skip_h1_title": false,
   "title_cell": "Table of Contents",
   "title_sidebar": "Contents",
   "toc_cell": false,
   "toc_position": {},
   "toc_section_display": true,
   "toc_window_display": false
  }
 },
 "nbformat": 4,
 "nbformat_minor": 5
}
