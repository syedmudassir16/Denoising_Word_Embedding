{
 "cells": [
  {
   "cell_type": "markdown",
   "id": "97a6350c",
   "metadata": {},
   "source": [
    "# MuRIL"
   ]
  },
  {
   "cell_type": "code",
   "execution_count": 1,
   "id": "1ae794ba",
   "metadata": {
    "ExecuteTime": {
     "end_time": "2021-11-24T18:26:33.177440Z",
     "start_time": "2021-11-24T18:26:33.062437Z"
    }
   },
   "outputs": [],
   "source": [
    "import random\n",
    "random.seed(10)\n",
    "\n",
    "import numpy as np\n",
    "X_Embed_train = np.load('MuRIL_train.npy')\n",
    "X_Embed_val = np.load('MuRIL_val.npy')"
   ]
  },
  {
   "cell_type": "code",
   "execution_count": 2,
   "id": "1256f633",
   "metadata": {
    "ExecuteTime": {
     "end_time": "2021-11-24T18:26:33.193427Z",
     "start_time": "2021-11-24T18:26:33.178426Z"
    }
   },
   "outputs": [],
   "source": [
    "Y_raw_train = np.load(\"C:/Users/phvpa/Desktop/Denoising_Experimants/ModifiedCode/DataSets/NumpyFiles/Mal/Split4500and500/Mal_Train_label_5000.npy\")\n",
    "Y_raw_val = np.load(\"C:/Users/phvpa/Desktop/Denoising_Experimants/ModifiedCode/DataSets/NumpyFiles/Mal/Split4500and500/Mal_val_label_500.npy\")"
   ]
  },
  {
   "cell_type": "code",
   "execution_count": 3,
   "id": "bfa99638",
   "metadata": {
    "ExecuteTime": {
     "end_time": "2021-11-24T18:26:33.557437Z",
     "start_time": "2021-11-24T18:26:33.194425Z"
    }
   },
   "outputs": [
    {
     "data": {
      "text/plain": [
       "((4500,), (500,))"
      ]
     },
     "execution_count": 3,
     "metadata": {},
     "output_type": "execute_result"
    }
   ],
   "source": [
    "from sklearn.preprocessing import LabelEncoder\n",
    "le = LabelEncoder()\n",
    "Y_train = le.fit_transform(Y_raw_train)\n",
    "Y_val = le.fit_transform(Y_raw_val)\n",
    "Y_train.shape, Y_val.shape"
   ]
  },
  {
   "cell_type": "code",
   "execution_count": 4,
   "id": "c23bbeee",
   "metadata": {
    "ExecuteTime": {
     "end_time": "2021-11-24T18:26:34.023736Z",
     "start_time": "2021-11-24T18:26:34.009735Z"
    }
   },
   "outputs": [],
   "source": [
    "def WR_Wavelet(signal, sigma):\n",
    "    (cA, cD) = pywt.dwt(signal,'haar')\n",
    "    t=2*sigma  \n",
    "    wt=(np.abs(cD))>t                     #only the coefficient values greater than the threshold values are taken\n",
    "    #print(cA.shape , wt.shape ,'\\n')\n",
    "    p = np.multiply(cD,wt)\n",
    "    rw=pywt.idwt(cA, p,'haar')\n",
    "    return rw"
   ]
  },
  {
   "cell_type": "code",
   "execution_count": 5,
   "id": "b2baa520",
   "metadata": {
    "ExecuteTime": {
     "end_time": "2021-11-24T18:26:35.160652Z",
     "start_time": "2021-11-24T18:26:34.962493Z"
    }
   },
   "outputs": [],
   "source": [
    "import pywt\n",
    "sigma = 0.1\n",
    "\n",
    "MuRIL_train_list = []\n",
    "for i in range(len(X_Embed_train)):\n",
    "    temp = WR_Wavelet(X_Embed_train[i], sigma)\n",
    "    MuRIL_train_list.append(temp)\n",
    "    \n",
    "MuRIL_val_list = []\n",
    "for i in range(len(X_Embed_val)):\n",
    "    temp = WR_Wavelet(X_Embed_val[i],sigma)\n",
    "    MuRIL_val_list.append(temp)"
   ]
  },
  {
   "cell_type": "code",
   "execution_count": 6,
   "id": "bde7e2bf",
   "metadata": {
    "ExecuteTime": {
     "end_time": "2021-11-24T18:26:37.377036Z",
     "start_time": "2021-11-24T18:26:37.364036Z"
    }
   },
   "outputs": [],
   "source": [
    "X_MuRIL_Wavlet_Denoise_Embed_train = np.asarray(MuRIL_train_list)\n",
    "X_MuRIL_Wavlet_Denoise_Embed_val = np.asarray(MuRIL_val_list)"
   ]
  },
  {
   "cell_type": "code",
   "execution_count": 7,
   "id": "c93438ea",
   "metadata": {
    "ExecuteTime": {
     "end_time": "2021-11-24T18:28:23.322911Z",
     "start_time": "2021-11-24T18:26:48.190407Z"
    }
   },
   "outputs": [
    {
     "name": "stderr",
     "output_type": "stream",
     "text": [
      "C:\\Users\\phvpa\\anaconda3\\envs\\MuRIL\\lib\\site-packages\\sklearn\\metrics\\_classification.py:1308: UndefinedMetricWarning: Precision is ill-defined and being set to 0.0 in labels with no predicted samples. Use `zero_division` parameter to control this behavior.\n",
      "  _warn_prf(average, modifier, msg_start, len(result))\n"
     ]
    },
    {
     "name": "stdout",
     "output_type": "stream",
     "text": [
      "[2021-11-24 18:27:17.447] Start to fit the model:\n",
      "[2021-11-24 18:27:17.447] Fitting cascade layer = 0 \n",
      "[2021-11-24 18:27:30.358] layer = 0  | Val Acc = 48.867 % | Elapsed = 12.910 s\n",
      "[2021-11-24 18:27:30.378] Fitting cascade layer = 1 \n",
      "[2021-11-24 18:27:43.432] layer = 1  | Val Acc = 49.289 % | Elapsed = 13.054 s\n",
      "[2021-11-24 18:27:43.446] Fitting cascade layer = 2 \n",
      "[2021-11-24 18:27:56.618] layer = 2  | Val Acc = 50.556 % | Elapsed = 13.172 s\n",
      "[2021-11-24 18:27:56.636] Fitting cascade layer = 3 \n",
      "[2021-11-24 18:28:09.563] layer = 3  | Val Acc = 50.222 % | Elapsed = 12.926 s\n",
      "[2021-11-24 18:28:09.564] Early stopping counter: 1 out of 2\n",
      "[2021-11-24 18:28:09.583] Fitting cascade layer = 4 \n",
      "[2021-11-24 18:28:23.109] layer = 4  | Val Acc = 50.422 % | Elapsed = 13.526 s\n",
      "[2021-11-24 18:28:23.109] Early stopping counter: 2 out of 2\n",
      "[2021-11-24 18:28:23.109] Handling early stopping\n",
      "[2021-11-24 18:28:23.112] The optimal number of layers: 3\n",
      "[2021-11-24 18:28:23.119] Start to evalute the model:\n",
      "[2021-11-24 18:28:23.137] Evaluating cascade layer = 0 \n",
      "[2021-11-24 18:28:23.187] Evaluating cascade layer = 1 \n",
      "[2021-11-24 18:28:23.241] Evaluating cascade layer = 2 \n"
     ]
    }
   ],
   "source": [
    "from Models.MLAlgos import SVectorMachine, Dtree, Rforest, NB, KNN, DeepForest\n",
    "\n",
    "SVM_MuRIL_WL_Denoise_Result = SVectorMachine(X_MuRIL_Wavlet_Denoise_Embed_train, Y_train, X_MuRIL_Wavlet_Denoise_Embed_val, Y_val)\n",
    "Dtree_MuRIL_WL_Denoise_Result = Dtree(X_MuRIL_Wavlet_Denoise_Embed_train, Y_train, X_MuRIL_Wavlet_Denoise_Embed_val, Y_val, deepth=9)\n",
    "Rforest_MuRIL_WL_Denoise_Result = Rforest(X_MuRIL_Wavlet_Denoise_Embed_train, Y_train, X_MuRIL_Wavlet_Denoise_Embed_val, Y_val, deepth=8)\n",
    "NB_MuRIL_WL_Denoise_Result = NB(X_MuRIL_Wavlet_Denoise_Embed_train, Y_train, X_MuRIL_Wavlet_Denoise_Embed_val, Y_val)\n",
    "KNN_MuRIL_WL_Denoise_Result = KNN(X_MuRIL_Wavlet_Denoise_Embed_train, Y_train, X_MuRIL_Wavlet_Denoise_Embed_val, Y_val)\n",
    "Deep_MuRIL_WL_Denoise_Result = DeepForest(X_MuRIL_Wavlet_Denoise_Embed_train, Y_train, X_MuRIL_Wavlet_Denoise_Embed_val, Y_val)"
   ]
  },
  {
   "cell_type": "code",
   "execution_count": 8,
   "id": "73832bed",
   "metadata": {
    "ExecuteTime": {
     "end_time": "2021-11-24T18:28:23.607059Z",
     "start_time": "2021-11-24T18:28:23.324902Z"
    }
   },
   "outputs": [
    {
     "data": {
      "text/html": [
       "<div>\n",
       "<style scoped>\n",
       "    .dataframe tbody tr th:only-of-type {\n",
       "        vertical-align: middle;\n",
       "    }\n",
       "\n",
       "    .dataframe tbody tr th {\n",
       "        vertical-align: top;\n",
       "    }\n",
       "\n",
       "    .dataframe thead th {\n",
       "        text-align: right;\n",
       "    }\n",
       "</style>\n",
       "<table border=\"1\" class=\"dataframe\">\n",
       "  <thead>\n",
       "    <tr style=\"text-align: right;\">\n",
       "      <th></th>\n",
       "      <th>accuracy</th>\n",
       "      <th>precision</th>\n",
       "      <th>f1</th>\n",
       "      <th>recall</th>\n",
       "    </tr>\n",
       "  </thead>\n",
       "  <tbody>\n",
       "    <tr>\n",
       "      <th>SVM</th>\n",
       "      <td>34.4000%</td>\n",
       "      <td>20.3137%</td>\n",
       "      <td>23.2730%</td>\n",
       "      <td>34.4000%</td>\n",
       "    </tr>\n",
       "    <tr>\n",
       "      <th>DTree</th>\n",
       "      <td>36.8000%</td>\n",
       "      <td>37.7867%</td>\n",
       "      <td>37.1605%</td>\n",
       "      <td>36.8000%</td>\n",
       "    </tr>\n",
       "    <tr>\n",
       "      <th>Rforest</th>\n",
       "      <td>49.0000%</td>\n",
       "      <td>48.0650%</td>\n",
       "      <td>47.4266%</td>\n",
       "      <td>49.0000%</td>\n",
       "    </tr>\n",
       "    <tr>\n",
       "      <th>NB</th>\n",
       "      <td>38.8000%</td>\n",
       "      <td>36.1638%</td>\n",
       "      <td>34.5479%</td>\n",
       "      <td>38.8000%</td>\n",
       "    </tr>\n",
       "    <tr>\n",
       "      <th>KNN</th>\n",
       "      <td>48.4000%</td>\n",
       "      <td>48.1966%</td>\n",
       "      <td>47.3980%</td>\n",
       "      <td>48.4000%</td>\n",
       "    </tr>\n",
       "    <tr>\n",
       "      <th>DeepForest</th>\n",
       "      <td>50.0000%</td>\n",
       "      <td>48.7292%</td>\n",
       "      <td>49.1304%</td>\n",
       "      <td>50.0000%</td>\n",
       "    </tr>\n",
       "  </tbody>\n",
       "</table>\n",
       "</div>"
      ],
      "text/plain": [
       "            accuracy precision        f1    recall\n",
       "SVM         34.4000%  20.3137%  23.2730%  34.4000%\n",
       "DTree       36.8000%  37.7867%  37.1605%  36.8000%\n",
       "Rforest     49.0000%  48.0650%  47.4266%  49.0000%\n",
       "NB          38.8000%  36.1638%  34.5479%  38.8000%\n",
       "KNN         48.4000%  48.1966%  47.3980%  48.4000%\n",
       "DeepForest  50.0000%  48.7292%  49.1304%  50.0000%"
      ]
     },
     "execution_count": 8,
     "metadata": {},
     "output_type": "execute_result"
    }
   ],
   "source": [
    "import pandas as pd\n",
    "MuRIL_WaveFilter_AFTR_Denoising= pd.DataFrame({'SVM' : SVM_MuRIL_WL_Denoise_Result, \n",
    "            'DTree' : Dtree_MuRIL_WL_Denoise_Result,\n",
    "            'Rforest' : Rforest_MuRIL_WL_Denoise_Result,\n",
    "            'NB' : NB_MuRIL_WL_Denoise_Result,\n",
    "            'KNN' : KNN_MuRIL_WL_Denoise_Result,\n",
    "            'DeepForest': Deep_MuRIL_WL_Denoise_Result})\n",
    "MuRIL_WaveFilter_AFTR_Denoising.index = ['accuracy', 'precision', 'f1', 'recall']\n",
    "MuRIL_WaveFilter_AFTR_Denoising = MuRIL_WaveFilter_AFTR_Denoising.transpose()\n",
    "MuRIL_WaveFilter_AFTR_Denoising"
   ]
  },
  {
   "cell_type": "markdown",
   "id": "4204b346",
   "metadata": {},
   "source": [
    "# LABSE"
   ]
  },
  {
   "cell_type": "code",
   "execution_count": null,
   "id": "ce1d7c17",
   "metadata": {},
   "outputs": [],
   "source": [
    "import random \n",
    "random.seed(10)"
   ]
  },
  {
   "cell_type": "code",
   "execution_count": null,
   "id": "d8029e86",
   "metadata": {},
   "outputs": [],
   "source": [
    "import numpy as np\n",
    "X_Embed_train = np.load('LaBSE_train.npy')\n",
    "X_Embed_val = np.load('LaBSE_val.npy')"
   ]
  },
  {
   "cell_type": "code",
   "execution_count": null,
   "id": "3a076ee0",
   "metadata": {},
   "outputs": [],
   "source": [
    "Y_raw_train = np.load(\"C:/Users/phvpa/Desktop/Denoising_Experimants/ModifiedCode/DataSets/NumpyFiles/Mal/Split4500and500/Mal_Train_label_5000.npy\")\n",
    "Y_raw_val = np.load(\"C:/Users/phvpa/Desktop/Denoising_Experimants/ModifiedCode/DataSets/NumpyFiles/Mal/Split4500and500/Mal_val_label_500.npy\")"
   ]
  },
  {
   "cell_type": "code",
   "execution_count": null,
   "id": "a028cdd1",
   "metadata": {},
   "outputs": [],
   "source": [
    "from sklearn.preprocessing import LabelEncoder\n",
    "le = LabelEncoder()\n",
    "Y_train = le.fit_transform(Y_raw_train)\n",
    "Y_val = le.fit_transform(Y_raw_val)\n",
    "Y_train.shape, Y_val.shape"
   ]
  },
  {
   "cell_type": "code",
   "execution_count": null,
   "id": "30fc54f4",
   "metadata": {},
   "outputs": [],
   "source": []
  },
  {
   "cell_type": "code",
   "execution_count": null,
   "id": "1984ca9c",
   "metadata": {},
   "outputs": [],
   "source": [
    "import pywt\n",
    "def WR_Wavelet(signal, sigma):\n",
    "    (cA, cD) = pywt.dwt(signal,'haar')\n",
    "    t=2*sigma  \n",
    "    wt=(np.abs(cD))>t                     #only the coefficient values greater than the threshold values are taken\n",
    "    #print(cA.shape , wt.shape ,'\\n')\n",
    "    p = np.multiply(cD,wt)\n",
    "    rw=pywt.idwt(cA, p,'haar')\n",
    "    return rw"
   ]
  },
  {
   "cell_type": "code",
   "execution_count": null,
   "id": "b544dacf",
   "metadata": {},
   "outputs": [],
   "source": [
    "sigma = 0.01\n",
    "\n",
    "train_list = []\n",
    "for i in range(len(X_Embed_train)):\n",
    "    temp = WR_Wavelet(X_Embed_train[i], sigma)\n",
    "    train_list.append(temp)\n",
    "    \n",
    "val_list = []\n",
    "for i in range(len(X_Embed_val)):\n",
    "    temp = WR_Wavelet(X_Embed_val[i],sigma)\n",
    "    val_list.append(temp)"
   ]
  },
  {
   "cell_type": "code",
   "execution_count": null,
   "id": "a60b9ad6",
   "metadata": {},
   "outputs": [],
   "source": [
    "X_Wavlet_Denoise_Embed_train = np.asarray(train_list)\n",
    "X_Wavlet_Denoise_Embed_val = np.asarray(val_list)\n",
    "\n",
    "from Models.MLAlgos import SVectorMachine, Dtree, Rforest, NB, KNN, DeepForest\n",
    "SVM_WL_Denoise_Result = SVectorMachine(X_Wavlet_Denoise_Embed_train, Y_train, X_Wavlet_Denoise_Embed_val, Y_val)\n",
    "Dtree_WL_Denoise_Result = Dtree(X_Wavlet_Denoise_Embed_train, Y_train, X_Wavlet_Denoise_Embed_val, Y_val)\n",
    "Rforest_WL_Denoise_Result = Rforest(X_Wavlet_Denoise_Embed_train, Y_train, X_Wavlet_Denoise_Embed_val, Y_val)\n",
    "NB_WL_Denoise_Result = NB(X_Wavlet_Denoise_Embed_train, Y_train, X_Wavlet_Denoise_Embed_val, Y_val)\n",
    "KNN_WL_Denoise_Result = KNN(X_Wavlet_Denoise_Embed_train, Y_train, X_Wavlet_Denoise_Embed_val, Y_val)\n",
    "Deep_WL_Denoise_Result = DeepForest(X_Embed_train, Y_train, X_Embed_val, Y_val)"
   ]
  },
  {
   "cell_type": "code",
   "execution_count": null,
   "id": "8d199482",
   "metadata": {},
   "outputs": [],
   "source": [
    "import pandas as pd\n",
    "WaveFilter_AFTR_Denoising= pd.DataFrame({'SVM' : SVM_WL_Denoise_Result, \n",
    "            'DTree' : Dtree_WL_Denoise_Result,\n",
    "            'Rforest' : Rforest_WL_Denoise_Result,\n",
    "            'NB' : NB_WL_Denoise_Result,\n",
    "            'KNN' : KNN_WL_Denoise_Result,\n",
    "            'DeepForest': Deep_WL_Denoise_Result})\n",
    "WaveFilter_AFTR_Denoising.index = ['accuracy', 'precision', 'f1', 'recall']\n",
    "WaveFilter_AFTR_Denoising = WaveFilter_AFTR_Denoising.transpose()\n",
    "WaveFilter_AFTR_Denoising"
   ]
  },
  {
   "cell_type": "code",
   "execution_count": null,
   "id": "7ac66d77",
   "metadata": {},
   "outputs": [],
   "source": []
  },
  {
   "cell_type": "markdown",
   "id": "1debf3ca",
   "metadata": {
    "heading_collapsed": true
   },
   "source": [
    "# Rough Work"
   ]
  },
  {
   "cell_type": "code",
   "execution_count": 9,
   "id": "bfe62d4a",
   "metadata": {
    "ExecuteTime": {
     "end_time": "2021-11-24T18:15:26.073854Z",
     "start_time": "2021-11-24T18:07:57.816503Z"
    },
    "hidden": true
   },
   "outputs": [
    {
     "name": "stderr",
     "output_type": "stream",
     "text": [
      "C:\\Users\\phvpa\\anaconda3\\envs\\MuRIL\\lib\\site-packages\\sklearn\\metrics\\_classification.py:1308: UndefinedMetricWarning: Precision is ill-defined and being set to 0.0 in labels with no predicted samples. Use `zero_division` parameter to control this behavior.\n",
      "  _warn_prf(average, modifier, msg_start, len(result))\n",
      "C:\\Users\\phvpa\\anaconda3\\envs\\MuRIL\\lib\\site-packages\\sklearn\\metrics\\_classification.py:1308: UndefinedMetricWarning: Precision is ill-defined and being set to 0.0 in labels with no predicted samples. Use `zero_division` parameter to control this behavior.\n",
      "  _warn_prf(average, modifier, msg_start, len(result))\n",
      "C:\\Users\\phvpa\\anaconda3\\envs\\MuRIL\\lib\\site-packages\\sklearn\\metrics\\_classification.py:1308: UndefinedMetricWarning: Precision is ill-defined and being set to 0.0 in labels with no predicted samples. Use `zero_division` parameter to control this behavior.\n",
      "  _warn_prf(average, modifier, msg_start, len(result))\n"
     ]
    }
   ],
   "source": [
    "import random\n",
    "random.seed(10)\n",
    "\n",
    "from Models.MLAlgos import Dtree, Rforest\n",
    "\n",
    "DT_Results = []\n",
    "RF_Results = []\n",
    "\n",
    "for i in range(50):\n",
    "    Dtree_MuRIL_WL_Denoise_Result = Dtree(X_MuRIL_Wavlet_Denoise_Embed_train, Y_train, X_MuRIL_Wavlet_Denoise_Embed_val, Y_val, deepth=i+1)\n",
    "    DT_Results.append(Dtree_MuRIL_WL_Denoise_Result)\n",
    "    Rforest_MuRIL_WL_Denoise_Result = Rforest(X_MuRIL_Wavlet_Denoise_Embed_train, Y_train, X_MuRIL_Wavlet_Denoise_Embed_val, Y_val, deepth=i+1)\n",
    "    RF_Results.append(Rforest_MuRIL_WL_Denoise_Result)"
   ]
  },
  {
   "cell_type": "code",
   "execution_count": 10,
   "id": "b568694e",
   "metadata": {
    "ExecuteTime": {
     "end_time": "2021-11-24T18:15:26.089888Z",
     "start_time": "2021-11-24T18:15:26.074854Z"
    },
    "hidden": true
   },
   "outputs": [
    {
     "data": {
      "text/plain": [
       "[['31.8000%', '13.9674%', '18.9383%', '31.8000%'],\n",
       " ['32.4000%', '19.6857%', '23.0952%', '32.4000%'],\n",
       " ['35.4000%', '30.9388%', '26.7417%', '35.4000%'],\n",
       " ['37.4000%', '36.0342%', '34.7707%', '37.4000%'],\n",
       " ['34.8000%', '35.7545%', '34.2306%', '34.8000%'],\n",
       " ['33.8000%', '33.5469%', '32.9029%', '33.8000%'],\n",
       " ['34.0000%', '37.5902%', '34.6368%', '34.0000%'],\n",
       " ['32.8000%', '34.7466%', '33.2292%', '32.8000%'],\n",
       " ['36.8000%', '37.7867%', '37.1605%', '36.8000%'],\n",
       " ['35.6000%', '36.3158%', '35.7602%', '35.6000%'],\n",
       " ['33.8000%', '34.6525%', '34.0054%', '33.8000%'],\n",
       " ['33.6000%', '33.8872%', '33.6499%', '33.6000%'],\n",
       " ['33.6000%', '34.3251%', '33.7534%', '33.6000%'],\n",
       " ['34.6000%', '34.7104%', '34.5550%', '34.6000%'],\n",
       " ['34.4000%', '34.5759%', '34.4595%', '34.4000%'],\n",
       " ['32.8000%', '32.8596%', '32.8033%', '32.8000%'],\n",
       " ['34.0000%', '34.4985%', '34.1858%', '34.0000%'],\n",
       " ['32.2000%', '32.3071%', '32.2096%', '32.2000%'],\n",
       " ['33.0000%', '33.5627%', '33.2331%', '33.0000%'],\n",
       " ['31.6000%', '32.1457%', '31.8016%', '31.6000%'],\n",
       " ['33.0000%', '32.9581%', '32.8569%', '33.0000%'],\n",
       " ['32.6000%', '32.5639%', '32.5314%', '32.6000%'],\n",
       " ['33.6000%', '33.3827%', '33.4383%', '33.6000%'],\n",
       " ['33.8000%', '33.7233%', '33.7036%', '33.8000%'],\n",
       " ['32.4000%', '32.3918%', '32.3594%', '32.4000%'],\n",
       " ['32.8000%', '32.6614%', '32.6747%', '32.8000%'],\n",
       " ['31.6000%', '31.4890%', '31.4973%', '31.6000%'],\n",
       " ['33.2000%', '33.0979%', '33.1103%', '33.2000%'],\n",
       " ['32.6000%', '32.4849%', '32.4999%', '32.6000%'],\n",
       " ['32.6000%', '32.4849%', '32.4999%', '32.6000%'],\n",
       " ['32.6000%', '32.4849%', '32.4999%', '32.6000%'],\n",
       " ['32.6000%', '32.4849%', '32.4999%', '32.6000%'],\n",
       " ['32.6000%', '32.4849%', '32.4999%', '32.6000%'],\n",
       " ['32.6000%', '32.4849%', '32.4999%', '32.6000%'],\n",
       " ['32.6000%', '32.4849%', '32.4999%', '32.6000%'],\n",
       " ['32.6000%', '32.4849%', '32.4999%', '32.6000%'],\n",
       " ['32.6000%', '32.4849%', '32.4999%', '32.6000%'],\n",
       " ['32.6000%', '32.4849%', '32.4999%', '32.6000%'],\n",
       " ['32.6000%', '32.4849%', '32.4999%', '32.6000%'],\n",
       " ['32.6000%', '32.4849%', '32.4999%', '32.6000%'],\n",
       " ['32.6000%', '32.4849%', '32.4999%', '32.6000%'],\n",
       " ['32.6000%', '32.4849%', '32.4999%', '32.6000%'],\n",
       " ['32.6000%', '32.4849%', '32.4999%', '32.6000%'],\n",
       " ['32.6000%', '32.4849%', '32.4999%', '32.6000%'],\n",
       " ['32.6000%', '32.4849%', '32.4999%', '32.6000%'],\n",
       " ['32.6000%', '32.4849%', '32.4999%', '32.6000%'],\n",
       " ['32.6000%', '32.4849%', '32.4999%', '32.6000%'],\n",
       " ['32.6000%', '32.4849%', '32.4999%', '32.6000%'],\n",
       " ['32.6000%', '32.4849%', '32.4999%', '32.6000%'],\n",
       " ['32.6000%', '32.4849%', '32.4999%', '32.6000%']]"
      ]
     },
     "execution_count": 10,
     "metadata": {},
     "output_type": "execute_result"
    }
   ],
   "source": [
    "DT_Results"
   ]
  },
  {
   "cell_type": "code",
   "execution_count": 11,
   "id": "97f2a4a6",
   "metadata": {
    "ExecuteTime": {
     "end_time": "2021-11-24T18:15:26.105174Z",
     "start_time": "2021-11-24T18:15:26.092230Z"
    },
    "hidden": true
   },
   "outputs": [
    {
     "data": {
      "text/plain": [
       "[['36.8000%', '30.8401%', '28.8544%', '36.8000%'],\n",
       " ['38.6000%', '34.8776%', '31.9249%', '38.6000%'],\n",
       " ['41.4000%', '40.6474%', '36.7837%', '41.4000%'],\n",
       " ['42.0000%', '40.7901%', '39.0335%', '42.0000%'],\n",
       " ['44.0000%', '41.2179%', '41.0346%', '44.0000%'],\n",
       " ['45.0000%', '42.5812%', '43.0802%', '45.0000%'],\n",
       " ['47.4000%', '45.3046%', '45.2885%', '47.4000%'],\n",
       " ['49.0000%', '48.0650%', '47.4266%', '49.0000%'],\n",
       " ['48.6000%', '47.1690%', '47.2431%', '48.6000%'],\n",
       " ['46.8000%', '45.0440%', '45.5459%', '46.8000%'],\n",
       " ['46.6000%', '44.5130%', '45.1482%', '46.6000%'],\n",
       " ['45.2000%', '43.5205%', '44.1146%', '45.2000%'],\n",
       " ['48.2000%', '46.8562%', '46.9857%', '48.2000%'],\n",
       " ['45.4000%', '43.3812%', '44.0522%', '45.4000%'],\n",
       " ['47.6000%', '46.2118%', '46.5490%', '47.6000%'],\n",
       " ['48.6000%', '46.5654%', '47.1710%', '48.6000%'],\n",
       " ['45.8000%', '44.3541%', '44.8308%', '45.8000%'],\n",
       " ['46.0000%', '44.2141%', '44.6897%', '46.0000%'],\n",
       " ['45.4000%', '43.5645%', '44.1245%', '45.4000%'],\n",
       " ['45.4000%', '43.5667%', '44.1292%', '45.4000%'],\n",
       " ['45.0000%', '43.4427%', '44.0293%', '45.0000%'],\n",
       " ['47.0000%', '45.5411%', '45.8248%', '47.0000%'],\n",
       " ['46.4000%', '44.6806%', '45.1556%', '46.4000%'],\n",
       " ['47.6000%', '45.9667%', '46.4625%', '47.6000%'],\n",
       " ['47.6000%', '45.7324%', '46.3246%', '47.6000%'],\n",
       " ['48.2000%', '46.3488%', '46.8542%', '48.2000%'],\n",
       " ['47.6000%', '45.8818%', '46.2546%', '47.6000%'],\n",
       " ['47.6000%', '45.9534%', '46.3241%', '47.6000%'],\n",
       " ['47.6000%', '45.8788%', '46.2395%', '47.6000%'],\n",
       " ['47.6000%', '45.9213%', '46.2660%', '47.6000%'],\n",
       " ['47.8000%', '46.1659%', '46.4833%', '47.8000%'],\n",
       " ['47.6000%', '45.9690%', '46.3272%', '47.6000%'],\n",
       " ['48.0000%', '46.3520%', '46.6594%', '48.0000%'],\n",
       " ['48.4000%', '46.7529%', '47.0752%', '48.4000%'],\n",
       " ['47.8000%', '46.1299%', '46.4354%', '47.8000%'],\n",
       " ['47.6000%', '45.8562%', '46.2029%', '47.6000%'],\n",
       " ['47.8000%', '46.1678%', '46.4934%', '47.8000%'],\n",
       " ['47.4000%', '45.7327%', '46.0459%', '47.4000%'],\n",
       " ['47.4000%', '45.7327%', '46.0459%', '47.4000%'],\n",
       " ['47.4000%', '45.7327%', '46.0459%', '47.4000%'],\n",
       " ['47.4000%', '45.7327%', '46.0459%', '47.4000%'],\n",
       " ['47.4000%', '45.7327%', '46.0459%', '47.4000%'],\n",
       " ['47.4000%', '45.7327%', '46.0459%', '47.4000%'],\n",
       " ['47.4000%', '45.7327%', '46.0459%', '47.4000%'],\n",
       " ['47.4000%', '45.7327%', '46.0459%', '47.4000%'],\n",
       " ['47.4000%', '45.7327%', '46.0459%', '47.4000%'],\n",
       " ['47.4000%', '45.7327%', '46.0459%', '47.4000%'],\n",
       " ['47.4000%', '45.7327%', '46.0459%', '47.4000%'],\n",
       " ['47.4000%', '45.7327%', '46.0459%', '47.4000%'],\n",
       " ['47.4000%', '45.7327%', '46.0459%', '47.4000%']]"
      ]
     },
     "execution_count": 11,
     "metadata": {},
     "output_type": "execute_result"
    }
   ],
   "source": [
    "RF_Results"
   ]
  },
  {
   "cell_type": "code",
   "execution_count": 9,
   "id": "7c37052b",
   "metadata": {
    "ExecuteTime": {
     "end_time": "2021-11-24T18:22:56.445661Z",
     "start_time": "2021-11-24T18:22:48.393010Z"
    },
    "hidden": true
   },
   "outputs": [
    {
     "data": {
      "text/plain": [
       "(['36.8000%', '37.7867%', '37.1605%', '36.8000%'],\n",
       " ['49.0000%', '48.0650%', '47.4266%', '49.0000%'])"
      ]
     },
     "execution_count": 9,
     "metadata": {},
     "output_type": "execute_result"
    }
   ],
   "source": [
    "import random\n",
    "random.seed(10)\n",
    "# When sigma= 0.1 then deepth is 9(DT),8(RF)\n",
    "\n",
    "from Models.MLAlgos import Dtree, Rforest\n",
    "\n",
    "Dtree_MuRIL_WL_Denoise_Result = Dtree(X_MuRIL_Wavlet_Denoise_Embed_train, Y_train, X_MuRIL_Wavlet_Denoise_Embed_val, Y_val, deepth=9)\n",
    "Rforest_MuRIL_WL_Denoise_Result = Rforest(X_MuRIL_Wavlet_Denoise_Embed_train, Y_train, X_MuRIL_Wavlet_Denoise_Embed_val, Y_val, deepth=8)\n",
    "\n",
    "Dtree_MuRIL_WL_Denoise_Result,Rforest_MuRIL_WL_Denoise_Result"
   ]
  }
 ],
 "metadata": {
  "kernelspec": {
   "display_name": "Python 3 (ipykernel)",
   "language": "python",
   "name": "python3"
  },
  "language_info": {
   "codemirror_mode": {
    "name": "ipython",
    "version": 3
   },
   "file_extension": ".py",
   "mimetype": "text/x-python",
   "name": "python",
   "nbconvert_exporter": "python",
   "pygments_lexer": "ipython3",
   "version": "3.8.11"
  },
  "latex_envs": {
   "LaTeX_envs_menu_present": true,
   "autoclose": false,
   "autocomplete": true,
   "bibliofile": "biblio.bib",
   "cite_by": "apalike",
   "current_citInitial": 1,
   "eqLabelWithNumbers": true,
   "eqNumInitial": 1,
   "hotkeys": {
    "equation": "Ctrl-E",
    "itemize": "Ctrl-I"
   },
   "labels_anchors": false,
   "latex_user_defs": false,
   "report_style_numbering": false,
   "user_envs_cfg": false
  },
  "toc": {
   "base_numbering": 1,
   "nav_menu": {},
   "number_sections": true,
   "sideBar": true,
   "skip_h1_title": false,
   "title_cell": "Table of Contents",
   "title_sidebar": "Contents",
   "toc_cell": false,
   "toc_position": {},
   "toc_section_display": true,
   "toc_window_display": false
  }
 },
 "nbformat": 4,
 "nbformat_minor": 5
}
