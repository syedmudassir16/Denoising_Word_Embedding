{
 "cells": [
  {
   "cell_type": "code",
   "execution_count": 1,
   "id": "4c75a642",
   "metadata": {
    "ExecuteTime": {
     "end_time": "2021-11-14T06:14:23.479339Z",
     "start_time": "2021-11-14T06:14:22.831175Z"
    },
    "colab": {
     "base_uri": "https://localhost:8080/"
    },
    "id": "NPsBVUt4CPFK",
    "outputId": "953cf603-64ba-45e3-85be-bc007232150e"
   },
   "outputs": [],
   "source": [
    "import math\n",
    "import pandas as pd\n",
    "import re\n",
    "import numpy as np\n",
    "import itertools\n",
    "import collections\n",
    "from collections import defaultdict, Counter\n",
    "import string\n",
    "from sklearn.preprocessing import LabelEncoder"
   ]
  },
  {
   "cell_type": "markdown",
   "id": "29c3f545",
   "metadata": {},
   "source": [
    "# Fulldata"
   ]
  },
  {
   "cell_type": "code",
   "execution_count": 2,
   "id": "c7975274",
   "metadata": {
    "ExecuteTime": {
     "end_time": "2021-11-14T06:14:23.511211Z",
     "start_time": "2021-11-14T06:14:23.480324Z"
    },
    "colab": {
     "base_uri": "https://localhost:8080/"
    },
    "id": "6GV9JIe0CO2b",
    "outputId": "27988521-db2e-4bcf-fbf0-4116cd5497e0"
   },
   "outputs": [
    {
     "name": "stdout",
     "output_type": "stream",
     "text": [
      " Volume in drive C is Acer\n",
      " Volume Serial Number is 3818-7542\n",
      "\n",
      " Directory of C:\\Users\\phvpa\\Desktop\\Denoising_Experimants\\ModifiedCode\n",
      "\n",
      "14-11-2021  11:43    <DIR>          .\n",
      "14-11-2021  11:38    <DIR>          ..\n",
      "14-11-2021  11:37    <DIR>          .ipynb_checkpoints\n",
      "01-11-2021  20:19    <DIR>          DataSets\n",
      "30-10-2021  16:09            42,127 Kan_Preprocessing _and_spliting_2750and250.ipynb\n",
      "14-11-2021  11:43            20,867 Mal_Preprocessing _and_spliting_250and50.ipynb\n",
      "14-11-2021  11:36            43,263 Mal_Preprocessing _and_spliting_4500and500.ipynb\n",
      "06-11-2021  11:14            44,233 Tamil_Preprocessing _and_spliting_1600and150.ipynb\n",
      "               4 File(s)        150,490 bytes\n",
      "               4 Dir(s)  379,389,767,680 bytes free\n"
     ]
    }
   ],
   "source": [
    "ls"
   ]
  },
  {
   "cell_type": "code",
   "execution_count": 3,
   "id": "36949d52",
   "metadata": {
    "ExecuteTime": {
     "end_time": "2021-11-14T06:14:23.589021Z",
     "start_time": "2021-11-14T06:14:23.512209Z"
    },
    "colab": {
     "base_uri": "https://localhost:8080/"
    },
    "id": "b6f18C1DCRRT",
    "outputId": "4982a2f2-ca5a-42a8-80b8-35ae41d71c0b"
   },
   "outputs": [
    {
     "name": "stdout",
     "output_type": "stream",
     "text": [
      "15888\n",
      "1766\n"
     ]
    },
    {
     "data": {
      "text/plain": [
       "1962"
      ]
     },
     "execution_count": 3,
     "metadata": {},
     "output_type": "execute_result"
    }
   ],
   "source": [
    "train_df = pd.read_csv(\"DataSets\\Malyalam\\Mal_sentiment_full_train.tsv\", sep='\\t')\n",
    "print(len(train_df))\n",
    "\n",
    "#test_df = pd.read_csv(\"Mal_sentiment_full_dev.tsv\", header=None, sep='\\t')\n",
    "valid_df = pd.read_csv(\"DataSets\\Malyalam\\Mal_sentiment_full_dev.tsv\", sep='\\t')\n",
    "print(len(valid_df))\n",
    "\n",
    "test_df = pd.read_csv(\"DataSets\\Malyalam\\Mal_sentiment_full_test_withoutlabels.tsv\", sep='\\t')\n",
    "len(test_df)"
   ]
  },
  {
   "cell_type": "code",
   "execution_count": 4,
   "id": "ffc8b4d0",
   "metadata": {
    "ExecuteTime": {
     "end_time": "2021-11-14T06:14:23.603964Z",
     "start_time": "2021-11-14T06:14:23.591008Z"
    }
   },
   "outputs": [],
   "source": [
    "# train_df"
   ]
  },
  {
   "cell_type": "code",
   "execution_count": 5,
   "id": "008088af",
   "metadata": {
    "ExecuteTime": {
     "end_time": "2021-11-14T06:14:23.618923Z",
     "start_time": "2021-11-14T06:14:23.604987Z"
    },
    "scrolled": true
   },
   "outputs": [],
   "source": [
    "# train_df['category']"
   ]
  },
  {
   "cell_type": "code",
   "execution_count": 6,
   "id": "3fea4be7",
   "metadata": {
    "ExecuteTime": {
     "end_time": "2021-11-14T06:14:25.388223Z",
     "start_time": "2021-11-14T06:14:23.619921Z"
    },
    "id": "5M7bMSkdAhbS"
   },
   "outputs": [],
   "source": [
    "#removing all the emoji from the given data\n",
    "\n",
    "def deEmojify(text):\n",
    "    regrex_pattern = re.compile(pattern = \"[\"\n",
    "        u\"\\U0001F600-\\U0001F64F\"  # emoticons\n",
    "        u\"\\U0001F300-\\U0001F5FF\"  # symbols & pictographs\n",
    "        u\"\\U0001F680-\\U0001F6FF\"  # transport & map symbols\n",
    "        u\"\\U0001F1E0-\\U0001F1FF\"  # flags (iOS)\n",
    "        u\"\\U00002500-\\U00002BEF\"  # chinese char\n",
    "        u\"\\U00002702-\\U000027B0\"\n",
    "        u\"\\U00002702-\\U000027B0\"\n",
    "        u\"\\U000024C2-\\U0001F251\"\n",
    "        u\"\\U0001f926-\\U0001f937\"\n",
    "        u\"\\U00010000-\\U0010ffff\"\n",
    "        u\"\\u2640-\\u2642\"\n",
    "        u\"\\u2600-\\u2B55\"\n",
    "        u\"\\u200d\"\n",
    "        u\"\\u23cf\"\n",
    "        u\"\\u23e9\"\n",
    "        u\"\\u231a\"\n",
    "        u\"\\ufe0f\"  # dingbats\n",
    "        u\"\\u3030\"\n",
    "        \"]+\", flags = re.UNICODE)\n",
    "    return regrex_pattern.sub(r'',text)\n",
    "\n",
    "\n",
    "for i in range(len(train_df)):\n",
    "    temp1 = deEmojify(train_df['text'][i])\n",
    "    train_df['text'][i] = temp1\n",
    "\n",
    "for j in range(len(valid_df)):\n",
    "    temp2 = deEmojify(valid_df['text'][j])\n",
    "    valid_df['text'][j] = temp2\n",
    "\n",
    "for k in range(len(test_df)):\n",
    "    temp3 = deEmojify(test_df['text'][k])\n",
    "    test_df['text'][k]=temp3"
   ]
  },
  {
   "cell_type": "code",
   "execution_count": 7,
   "id": "b0ac983b",
   "metadata": {
    "ExecuteTime": {
     "end_time": "2021-11-14T06:14:25.404162Z",
     "start_time": "2021-11-14T06:14:25.389189Z"
    },
    "id": "kvZOI__qZ7zd"
   },
   "outputs": [],
   "source": [
    "def preprocess_data(text):\n",
    "  user_name = '@[A-Za-z0-9]+' # Pattern for matching the user names in the tweet\n",
    "  has_tag = '#[A-Za-z0-9]+' # Pattern for matching the hasgtags in the tweer\n",
    "  url = 'https?:\\/\\/[A-Za-z0-9\\.\\/\\-]+' # Pattern for matching the URLs in the tweet\n",
    "  #emoji_pattern = r'/[x{1F600}-x{1F64F}]/u'\n",
    "  \n",
    "  x = text.lower()  # Lower casing all the characters\n",
    "  x = re.sub(user_name, '', x) # Replace the username with an empty characrer\n",
    "  x = re.sub(has_tag,'',x) # Replace the hashtags with an empty characrer\n",
    "  x = re.sub(url, '', x) # Replace the URLs with an empty characrer\n",
    "  #x = re.sub(emoji_pattern, '', x)\n",
    "  x = x.translate(str.maketrans('', '', string.punctuation)) # Replace all the characters except alphabets and digits from the tweet\n",
    "\n",
    "  return x"
   ]
  },
  {
   "cell_type": "code",
   "execution_count": 8,
   "id": "dbff7146",
   "metadata": {
    "ExecuteTime": {
     "end_time": "2021-11-14T06:14:25.589684Z",
     "start_time": "2021-11-14T06:14:25.405147Z"
    },
    "id": "kXmiAchmcPq_"
   },
   "outputs": [],
   "source": [
    "train_df['text'] = train_df['text'].apply(lambda x: preprocess_data(x)) # Apply the clean_data() to all the entries in the dataframe\n",
    "valid_df['text'] = valid_df['text'].apply(lambda x: preprocess_data(x)) # Apply the clean_data() to all the entries in the dataframe\n",
    "test_df['text'] = test_df['text'].apply(lambda x: preprocess_data(x)) # Apply the clean_data() to all the entries in the dataframe"
   ]
  },
  {
   "cell_type": "code",
   "execution_count": 9,
   "id": "708876ea",
   "metadata": {
    "ExecuteTime": {
     "end_time": "2021-11-14T06:14:25.605610Z",
     "start_time": "2021-11-14T06:14:25.591646Z"
    }
   },
   "outputs": [
    {
     "data": {
      "text/plain": [
       "Counter({'unknown_state': 5279,\n",
       "         'Positive': 6421,\n",
       "         'Negative': 2105,\n",
       "         'Mixed_feelings': 926,\n",
       "         'not-malayalam': 1157})"
      ]
     },
     "execution_count": 9,
     "metadata": {},
     "output_type": "execute_result"
    }
   ],
   "source": [
    "Counter(train_df['category'])"
   ]
  },
  {
   "cell_type": "code",
   "execution_count": 10,
   "id": "622bb075",
   "metadata": {
    "ExecuteTime": {
     "end_time": "2021-11-14T06:14:25.621567Z",
     "start_time": "2021-11-14T06:14:25.606607Z"
    }
   },
   "outputs": [
    {
     "data": {
      "text/plain": [
       "Counter({'Positive': 706,\n",
       "         'not-malayalam': 141,\n",
       "         'unknown_state': 580,\n",
       "         'Negative': 237,\n",
       "         'Mixed_feelings': 102})"
      ]
     },
     "execution_count": 10,
     "metadata": {},
     "output_type": "execute_result"
    }
   ],
   "source": [
    "Counter(valid_df['category'])"
   ]
  },
  {
   "cell_type": "code",
   "execution_count": 11,
   "id": "488a71eb",
   "metadata": {
    "ExecuteTime": {
     "end_time": "2021-11-14T06:14:25.637524Z",
     "start_time": "2021-11-14T06:14:25.622580Z"
    }
   },
   "outputs": [],
   "source": [
    "# np.save('DataSets\\NumpyFiles\\Mal\\Fulldata\\Mal_Train_Full_data.npy',list(train_df['text']))\n",
    "# np.save('DataSets\\NumpyFiles\\Mal\\Fulldata\\Mal_Train_Full_labels.npy',list(train_df['category']))\n",
    "# np.save('DataSets\\NumpyFiles\\Mal\\Fulldata\\Mal_Val_Full_data.npy',list(valid_df['text']))\n",
    "# np.save('DataSets\\NumpyFiles\\Mal\\Fulldata\\Mal_Val_Full_labels.npy',list(valid_df['category']))\n",
    "# np.save('DataSets\\NumpyFiles\\Mal\\Fulldata\\Mal_Test_Full_data.npy',list(valid_df['text']))"
   ]
  },
  {
   "cell_type": "code",
   "execution_count": 12,
   "id": "dff03348",
   "metadata": {
    "ExecuteTime": {
     "end_time": "2021-11-14T06:14:25.653481Z",
     "start_time": "2021-11-14T06:14:25.638521Z"
    }
   },
   "outputs": [],
   "source": [
    "# temp1 = np.load('NumpyFiles\\Mal\\Fulldata\\Mal_Train_Full_data.npy')\n",
    "# temp2 = np.load('NumpyFiles\\Mal\\Fulldata\\Mal_Train_Full_labels.npy')\n",
    "# temp3 = np.load('NumpyFiles\\Mal\\Fulldata\\Mal_Val_Full_data.npy')\n",
    "# temp4 = np.load('NumpyFiles\\Mal\\Fulldata\\Mal_Val_Full_labels.npy')\n",
    "# temp5 = np.load('NumpyFiles\\Mal\\Fulldata\\Mal_Test_Full_data.npy')"
   ]
  },
  {
   "cell_type": "code",
   "execution_count": 13,
   "id": "56146dd0",
   "metadata": {
    "ExecuteTime": {
     "end_time": "2021-11-14T06:14:25.669453Z",
     "start_time": "2021-11-14T06:14:25.656473Z"
    }
   },
   "outputs": [
    {
     "name": "stdout",
     "output_type": "stream",
     "text": [
      "oru panipalal manakunnu again mr jr \n",
      "ende ponno 68 vayasaya oraluda body thanneyano ith  namichu ponnikkaaaa\n",
      "fdfs trailer kandu ithu vareyum njanithu paranjittilla\n",
      "degraders step back   മമ്മൂക്ക\n",
      "ഈ പാട്ട് ഡിസ്‌ലൈക് ചെയ്തവരുടെ വീട്ടുകാരെ സമ്മതിക്കണം big salute\n",
      "ഇത് ഏത് ഭാഷ ശിവനെ ഏത് ജില്ല \n",
      "ഇതൊക്കെ മമ്മുക്ക പറഞ്ഞാൽ പൊളിക്കും   \n",
      "108 st pius x kuttikanam        uyir\n",
      "ente ponno heavy bgm ikka pinne parayanilla2 looks kidilosky  overall kidukkachi aahn mone\n",
      "song dislike adicha 90 perum phycho singles akum\n",
      "അഭ്യർത്ഥന  മാമാങ്കം പലകുറി കൊണ്ടാടും  എന്ന ഗാനം ടൈറ്റിൽ സോങ്ങ് ആയി ഉൾപ്പെടുത്താമോ  album vasantha geethangal singer k j yesudas\n"
     ]
    }
   ],
   "source": [
    "print(test_df['text'][279])\n",
    "print(test_df['text'][516])\n",
    "print(test_df['text'][546])\n",
    "print(test_df['text'][555])\n",
    "print(test_df['text'][559])\n",
    "print(test_df['text'][570])\n",
    "print(test_df['text'][825])\n",
    "print(test_df['text'][838])\n",
    "print(test_df['text'][860])\n",
    "print(test_df['text'][890])\n",
    "print(test_df['text'][1234])"
   ]
  },
  {
   "cell_type": "code",
   "execution_count": 14,
   "id": "9b67b994",
   "metadata": {
    "ExecuteTime": {
     "end_time": "2021-11-14T06:14:25.685410Z",
     "start_time": "2021-11-14T06:14:25.670450Z"
    },
    "colab": {
     "base_uri": "https://localhost:8080/",
     "height": 35
    },
    "id": "ZaxBiC7ByJJH",
    "outputId": "309d6739-c912-43f9-d1f8-f5f88d0cef7b"
   },
   "outputs": [
    {
     "data": {
      "text/plain": [
       "'mammooka ninghal mass aa pwoli item'"
      ]
     },
     "execution_count": 14,
     "metadata": {},
     "output_type": "execute_result"
    }
   ],
   "source": [
    "valid_df['text'][0]"
   ]
  },
  {
   "cell_type": "markdown",
   "id": "18f236a6",
   "metadata": {},
   "source": [
    "# Dividing train and valid separatly:"
   ]
  },
  {
   "cell_type": "markdown",
   "id": "fb3c35a2",
   "metadata": {},
   "source": [
    "### Val data"
   ]
  },
  {
   "cell_type": "code",
   "execution_count": 15,
   "id": "a9aa1472",
   "metadata": {
    "ExecuteTime": {
     "end_time": "2021-11-14T06:14:25.701368Z",
     "start_time": "2021-11-14T06:14:25.687405Z"
    },
    "scrolled": true
   },
   "outputs": [
    {
     "data": {
      "text/html": [
       "<div>\n",
       "<style scoped>\n",
       "    .dataframe tbody tr th:only-of-type {\n",
       "        vertical-align: middle;\n",
       "    }\n",
       "\n",
       "    .dataframe tbody tr th {\n",
       "        vertical-align: top;\n",
       "    }\n",
       "\n",
       "    .dataframe thead th {\n",
       "        text-align: right;\n",
       "    }\n",
       "</style>\n",
       "<table border=\"1\" class=\"dataframe\">\n",
       "  <thead>\n",
       "    <tr style=\"text-align: right;\">\n",
       "      <th></th>\n",
       "      <th>text</th>\n",
       "      <th>category</th>\n",
       "    </tr>\n",
       "  </thead>\n",
       "  <tbody>\n",
       "    <tr>\n",
       "      <th>974</th>\n",
       "      <td>tovinok pakaram unni mukundan mathiyarunnu</td>\n",
       "      <td>Mixed_feelings</td>\n",
       "    </tr>\n",
       "    <tr>\n",
       "      <th>166</th>\n",
       "      <td>puthanpanam movie pole thonniyath enikk maathr...</td>\n",
       "      <td>Mixed_feelings</td>\n",
       "    </tr>\n",
       "    <tr>\n",
       "      <th>536</th>\n",
       "      <td>richie orma vanathu eniku mathram ano</td>\n",
       "      <td>Mixed_feelings</td>\n",
       "    </tr>\n",
       "    <tr>\n",
       "      <th>700</th>\n",
       "      <td>friendship dayikk oru cake medichu kodukk  fresh</td>\n",
       "      <td>Mixed_feelings</td>\n",
       "    </tr>\n",
       "    <tr>\n",
       "      <th>1363</th>\n",
       "      <td>pulimurugan copy adi pole ind stund seen ellam</td>\n",
       "      <td>Mixed_feelings</td>\n",
       "    </tr>\n",
       "    <tr>\n",
       "      <th>...</th>\n",
       "      <td>...</td>\n",
       "      <td>...</td>\n",
       "    </tr>\n",
       "    <tr>\n",
       "      <th>436</th>\n",
       "      <td>tesla code um കണ്ടിട്ട് ഇറങ്ങിയിട്ടുണ്ട് കുറേ</td>\n",
       "      <td>unknown_state</td>\n",
       "    </tr>\n",
       "    <tr>\n",
       "      <th>1180</th>\n",
       "      <td>കമന്റ്‌ വായിക്കുന്ന ലാലേട്ടൻ ഫാൻസിന് ലൈക് അടിക...</td>\n",
       "      <td>unknown_state</td>\n",
       "    </tr>\n",
       "    <tr>\n",
       "      <th>1182</th>\n",
       "      <td>eth sajiv pillai visuals ane  alle</td>\n",
       "      <td>unknown_state</td>\n",
       "    </tr>\n",
       "    <tr>\n",
       "      <th>1186</th>\n",
       "      <td>katha manasilay tv il varambam kanam</td>\n",
       "      <td>unknown_state</td>\n",
       "    </tr>\n",
       "    <tr>\n",
       "      <th>882</th>\n",
       "      <td>pazhaya standbaker junction and aakasapatha id...</td>\n",
       "      <td>unknown_state</td>\n",
       "    </tr>\n",
       "  </tbody>\n",
       "</table>\n",
       "<p>1766 rows × 2 columns</p>\n",
       "</div>"
      ],
      "text/plain": [
       "                                                   text        category\n",
       "974          tovinok pakaram unni mukundan mathiyarunnu  Mixed_feelings\n",
       "166   puthanpanam movie pole thonniyath enikk maathr...  Mixed_feelings\n",
       "536               richie orma vanathu eniku mathram ano  Mixed_feelings\n",
       "700    friendship dayikk oru cake medichu kodukk  fresh  Mixed_feelings\n",
       "1363     pulimurugan copy adi pole ind stund seen ellam  Mixed_feelings\n",
       "...                                                 ...             ...\n",
       "436       tesla code um കണ്ടിട്ട് ഇറങ്ങിയിട്ടുണ്ട് കുറേ   unknown_state\n",
       "1180  കമന്റ്‌ വായിക്കുന്ന ലാലേട്ടൻ ഫാൻസിന് ലൈക് അടിക...   unknown_state\n",
       "1182                 eth sajiv pillai visuals ane  alle   unknown_state\n",
       "1186               katha manasilay tv il varambam kanam   unknown_state\n",
       "882   pazhaya standbaker junction and aakasapatha id...   unknown_state\n",
       "\n",
       "[1766 rows x 2 columns]"
      ]
     },
     "execution_count": 15,
     "metadata": {},
     "output_type": "execute_result"
    }
   ],
   "source": [
    "df_temp2 = valid_df.sort_values('category')\n",
    "df_temp2"
   ]
  },
  {
   "cell_type": "code",
   "execution_count": 16,
   "id": "ff36ba38",
   "metadata": {
    "ExecuteTime": {
     "end_time": "2021-11-14T06:14:25.716327Z",
     "start_time": "2021-11-14T06:14:25.702365Z"
    }
   },
   "outputs": [
    {
     "name": "stdout",
     "output_type": "stream",
     "text": [
      "\n",
      "validdf:\n",
      " {'Mixed_feelings': 102, 'Negative': 237, 'Positive': 706, 'not-malayalam': 141, 'unknown_state': 580} \n",
      "\n",
      "Mixed_feelings starts from:  0\n",
      "Negative starts from:  102\n",
      "Positive starts from:  339\n",
      "not-malayalam starts from:  1045\n",
      "unknown_state starts from:  1186\n",
      "unknown_state ends at:  1766\n"
     ]
    }
   ],
   "source": [
    "val = Counter(valid_df['category'])\n",
    "val_sort = dict(sorted(val.items(), key=lambda item: item[0]))\n",
    "\n",
    "print('\\nvaliddf:\\n',val_sort,'\\n')\n",
    "temp = 0\n",
    "for key in val_sort:\n",
    "    print(key,'starts from: ', temp)\n",
    "    temp = temp + int(val_sort[key])\n",
    "\n",
    "print(key,'ends at: ', temp)"
   ]
  },
  {
   "cell_type": "code",
   "execution_count": 17,
   "id": "6adcc132",
   "metadata": {
    "ExecuteTime": {
     "end_time": "2021-11-14T06:14:25.731287Z",
     "start_time": "2021-11-14T06:14:25.718323Z"
    }
   },
   "outputs": [],
   "source": [
    "count2 = 10\n",
    "val_Mixed_feelings = df_temp2[:count2]\n",
    "val_Negative = df_temp2[110:110+count2]\n",
    "val_Positive=df_temp2[350:350+count2]\n",
    "val_not_malayalam = df_temp2[1060:1060+count2]\n",
    "val_unknown_state = df_temp2[1190:1190+count2]"
   ]
  },
  {
   "cell_type": "code",
   "execution_count": 18,
   "id": "522f6e68",
   "metadata": {
    "ExecuteTime": {
     "end_time": "2021-11-14T06:14:25.747245Z",
     "start_time": "2021-11-14T06:14:25.732285Z"
    }
   },
   "outputs": [],
   "source": [
    "Val_frames = [val_Mixed_feelings, val_Negative, val_Positive, val_not_malayalam, val_unknown_state ]\n",
    "Val_results = pd.concat(Val_frames)"
   ]
  },
  {
   "cell_type": "code",
   "execution_count": 19,
   "id": "f0548ab7",
   "metadata": {
    "ExecuteTime": {
     "end_time": "2021-11-14T06:14:25.763202Z",
     "start_time": "2021-11-14T06:14:25.748243Z"
    }
   },
   "outputs": [
    {
     "data": {
      "text/plain": [
       "Counter({'Mixed_feelings': 10,\n",
       "         'Negative': 10,\n",
       "         'Positive': 10,\n",
       "         'not-malayalam': 10,\n",
       "         'unknown_state': 10})"
      ]
     },
     "execution_count": 19,
     "metadata": {},
     "output_type": "execute_result"
    }
   ],
   "source": [
    "Counter(Val_results['category'])"
   ]
  },
  {
   "cell_type": "code",
   "execution_count": 20,
   "id": "7de2eb09",
   "metadata": {
    "ExecuteTime": {
     "end_time": "2021-11-14T06:14:25.779159Z",
     "start_time": "2021-11-14T06:14:25.764199Z"
    }
   },
   "outputs": [],
   "source": [
    "Sub_val = Val_results.sample(frac = 1)"
   ]
  },
  {
   "cell_type": "code",
   "execution_count": 21,
   "id": "a99c9eaf",
   "metadata": {
    "ExecuteTime": {
     "end_time": "2021-11-14T06:14:25.795154Z",
     "start_time": "2021-11-14T06:14:25.780156Z"
    }
   },
   "outputs": [],
   "source": [
    "Sub_val_list = Sub_val['text'].tolist()\n",
    "Sub_val_labels_list = Sub_val['category'].tolist()"
   ]
  },
  {
   "cell_type": "markdown",
   "id": "951b3df6",
   "metadata": {},
   "source": [
    "### Train Data"
   ]
  },
  {
   "cell_type": "code",
   "execution_count": 22,
   "id": "89bb0e8f",
   "metadata": {
    "ExecuteTime": {
     "end_time": "2021-11-14T06:14:25.811074Z",
     "start_time": "2021-11-14T06:14:25.796114Z"
    }
   },
   "outputs": [
    {
     "name": "stdout",
     "output_type": "stream",
     "text": [
      "Traindf: \n",
      " {'Mixed_feelings': 926, 'Negative': 2105, 'Positive': 6421, 'not-malayalam': 1157, 'unknown_state': 5279} \n",
      "\n",
      "Mixed_feelings starts from:  0\n",
      "Negative starts from:  926\n",
      "Positive starts from:  3031\n",
      "not-malayalam starts from:  9452\n",
      "unknown_state starts from:  10609\n",
      "unknown_state ends at:  15888\n"
     ]
    }
   ],
   "source": [
    "train = Counter(train_df['category'])\n",
    "train_sort = dict(sorted(train.items(), key=lambda item: item[0]))\n",
    "\n",
    "print('Traindf: \\n',train_sort,'\\n')\n",
    "temp = 0\n",
    "for key in train_sort:\n",
    "    print(key,'starts from: ', temp)\n",
    "    temp = temp + int(train_sort[key])\n",
    "print(key,'ends at: ', temp)"
   ]
  },
  {
   "cell_type": "code",
   "execution_count": 23,
   "id": "9d9d271b",
   "metadata": {
    "ExecuteTime": {
     "end_time": "2021-11-14T06:14:25.827031Z",
     "start_time": "2021-11-14T06:14:25.813085Z"
    }
   },
   "outputs": [],
   "source": [
    "df_temp = train_df.sort_values('category')\n",
    "count = 50\n",
    "Mixed_feelings = df_temp[:count]\n",
    "Negative = df_temp[930:930+count]\n",
    "Positive=df_temp[3040:3040+count]\n",
    "not_malayalam = df_temp[9460:9460+count]\n",
    "unknown_state = df_temp[10620:10620+count]"
   ]
  },
  {
   "cell_type": "code",
   "execution_count": 24,
   "id": "1ca430f5",
   "metadata": {
    "ExecuteTime": {
     "end_time": "2021-11-14T06:14:25.842989Z",
     "start_time": "2021-11-14T06:14:25.829026Z"
    },
    "scrolled": true
   },
   "outputs": [],
   "source": [
    "train_frames = [Mixed_feelings, Negative, Positive, not_malayalam, unknown_state ]\n",
    "\n",
    "train_result = pd.concat(train_frames) #concat"
   ]
  },
  {
   "cell_type": "code",
   "execution_count": 25,
   "id": "03d029b3",
   "metadata": {
    "ExecuteTime": {
     "end_time": "2021-11-14T06:14:25.858946Z",
     "start_time": "2021-11-14T06:14:25.845003Z"
    }
   },
   "outputs": [
    {
     "data": {
      "text/plain": [
       "Counter({'Mixed_feelings': 50,\n",
       "         'Negative': 50,\n",
       "         'Positive': 50,\n",
       "         'not-malayalam': 50,\n",
       "         'unknown_state': 50})"
      ]
     },
     "execution_count": 25,
     "metadata": {},
     "output_type": "execute_result"
    }
   ],
   "source": [
    "Counter(train_result['category'])"
   ]
  },
  {
   "cell_type": "code",
   "execution_count": 26,
   "id": "3c9035ac",
   "metadata": {
    "ExecuteTime": {
     "end_time": "2021-11-14T06:14:25.874907Z",
     "start_time": "2021-11-14T06:14:25.860942Z"
    }
   },
   "outputs": [],
   "source": [
    "Sub_train = train_result.sample(frac = 1) #shuffle"
   ]
  },
  {
   "cell_type": "code",
   "execution_count": 27,
   "id": "97e0daf1",
   "metadata": {
    "ExecuteTime": {
     "end_time": "2021-11-14T06:14:25.890861Z",
     "start_time": "2021-11-14T06:14:25.876908Z"
    }
   },
   "outputs": [],
   "source": [
    "Sub_train_list = Sub_train['text'].tolist()\n",
    "Sub_labels_list = Sub_train['category'].tolist()"
   ]
  },
  {
   "cell_type": "markdown",
   "id": "0958ab5e",
   "metadata": {},
   "source": [
    "# Saving Choosen data into numpy files"
   ]
  },
  {
   "cell_type": "code",
   "execution_count": 29,
   "id": "bfaac0c9",
   "metadata": {
    "ExecuteTime": {
     "end_time": "2021-11-14T06:16:01.917389Z",
     "start_time": "2021-11-14T06:16:01.891460Z"
    }
   },
   "outputs": [],
   "source": [
    "Mal_val = np.array(Sub_val_list)\n",
    "np.save(\"DataSets/NumpyFiles/Mal/Split250and50/Mal_Val_data_50.npy\",Mal_val)\n",
    "Mal_val_label = np.array(Sub_val_labels_list)\n",
    "np.save(\"DataSets/NumpyFiles/Mal/Split250and50/Mal_val_label_50.npy\",Mal_val_label)"
   ]
  },
  {
   "cell_type": "code",
   "execution_count": 30,
   "id": "f55c3d41",
   "metadata": {
    "ExecuteTime": {
     "end_time": "2021-11-14T06:16:02.181321Z",
     "start_time": "2021-11-14T06:16:02.174340Z"
    }
   },
   "outputs": [
    {
     "name": "stdout",
     "output_type": "stream",
     "text": [
      "(50,)\n",
      "(50,)\n"
     ]
    }
   ],
   "source": [
    "temp11 =np.load('DataSets/NumpyFiles/Mal/Split250and50/Mal_Val_data_50.npy')\n",
    "print(temp11.shape)\n",
    "temp12 =np.load('DataSets/NumpyFiles/Mal/Split250and50/Mal_val_label_50.npy')\n",
    "print(temp12.shape)"
   ]
  },
  {
   "cell_type": "code",
   "execution_count": 31,
   "id": "ea502a6c",
   "metadata": {
    "ExecuteTime": {
     "end_time": "2021-11-14T06:16:02.414502Z",
     "start_time": "2021-11-14T06:16:02.395554Z"
    }
   },
   "outputs": [],
   "source": [
    "Mal_train = np.array(Sub_train_list)\n",
    "np.save('DataSets/NumpyFiles/Mal/Split250and50/Mal_Train_data_250.npy',Mal_train)\n",
    "Mal_train_label = np.array(Sub_labels_list)\n",
    "np.save('DataSets/NumpyFiles/Mal/Split250and50/Mal_Train_label_250.npy',Mal_train_label)"
   ]
  },
  {
   "cell_type": "code",
   "execution_count": 32,
   "id": "b31a3f84",
   "metadata": {
    "ExecuteTime": {
     "end_time": "2021-11-14T06:16:02.598666Z",
     "start_time": "2021-11-14T06:16:02.577689Z"
    }
   },
   "outputs": [
    {
     "name": "stdout",
     "output_type": "stream",
     "text": [
      "(250,)\n",
      "(250,)\n"
     ]
    }
   ],
   "source": [
    "temp21 =np.load('DataSets/NumpyFiles/Mal/Split250and50/Mal_Train_data_250.npy')\n",
    "print(temp21.shape)\n",
    "temp22 =np.load('DataSets/NumpyFiles/Mal/Split250and50/Mal_Train_label_250.npy')\n",
    "print(temp22.shape)"
   ]
  },
  {
   "cell_type": "code",
   "execution_count": 33,
   "id": "35ab564b",
   "metadata": {
    "ExecuteTime": {
     "end_time": "2021-11-14T06:16:03.111673Z",
     "start_time": "2021-11-14T06:16:03.096716Z"
    }
   },
   "outputs": [
    {
     "data": {
      "text/html": [
       "<div>\n",
       "<style scoped>\n",
       "    .dataframe tbody tr th:only-of-type {\n",
       "        vertical-align: middle;\n",
       "    }\n",
       "\n",
       "    .dataframe tbody tr th {\n",
       "        vertical-align: top;\n",
       "    }\n",
       "\n",
       "    .dataframe thead th {\n",
       "        text-align: right;\n",
       "    }\n",
       "</style>\n",
       "<table border=\"1\" class=\"dataframe\">\n",
       "  <thead>\n",
       "    <tr style=\"text-align: right;\">\n",
       "      <th></th>\n",
       "      <th>Data</th>\n",
       "      <th>label</th>\n",
       "    </tr>\n",
       "  </thead>\n",
       "  <tbody>\n",
       "    <tr>\n",
       "      <th>0</th>\n",
       "      <td>ente chunkum ingane thanne ee video phonil kan...</td>\n",
       "      <td>unknown_state</td>\n",
       "    </tr>\n",
       "    <tr>\n",
       "      <th>1</th>\n",
       "      <td>മൂക്കുത്തി കണ്ടുപിടിക്കാൻ നമുക്കവരെ സഹായിക്കാം...</td>\n",
       "      <td>unknown_state</td>\n",
       "    </tr>\n",
       "    <tr>\n",
       "      <th>2</th>\n",
       "      <td>kannondu chollanu mindandu mindanu  aaaa oru f...</td>\n",
       "      <td>Mixed_feelings</td>\n",
       "    </tr>\n",
       "    <tr>\n",
       "      <th>3</th>\n",
       "      <td>hukoo for rajinikanth sir hukku hu hu for moha...</td>\n",
       "      <td>not-malayalam</td>\n",
       "    </tr>\n",
       "    <tr>\n",
       "      <th>4</th>\n",
       "      <td>ijjathi trailer uff ponnooo oru raksha illaa p...</td>\n",
       "      <td>Positive</td>\n",
       "    </tr>\n",
       "    <tr>\n",
       "      <th>...</th>\n",
       "      <td>...</td>\n",
       "      <td>...</td>\n",
       "    </tr>\n",
       "    <tr>\n",
       "      <th>245</th>\n",
       "      <td>മാമാങ്കം എന്ന് കേൾക്കുമ്പോൾ ഞങ്ങൾ വള്ളുവനാട്ടു...</td>\n",
       "      <td>Negative</td>\n",
       "    </tr>\n",
       "    <tr>\n",
       "      <th>246</th>\n",
       "      <td>nammude ravi annante directionil oru padam kaa...</td>\n",
       "      <td>unknown_state</td>\n",
       "    </tr>\n",
       "    <tr>\n",
       "      <th>247</th>\n",
       "      <td>all kerala thalapathy bloods wishes mohan lal</td>\n",
       "      <td>unknown_state</td>\n",
       "    </tr>\n",
       "    <tr>\n",
       "      <th>248</th>\n",
       "      <td>ഇതിന്റെ തലക്ക് വല്ല ഓളവും ഉണ്ടോ പിന്നെ പാദസരം ...</td>\n",
       "      <td>Negative</td>\n",
       "    </tr>\n",
       "    <tr>\n",
       "      <th>249</th>\n",
       "      <td>visuals ഒക്കെ കിടു പക്ഷേ പാട്ട് ഒരു സുഖമില്ലല്ലോ</td>\n",
       "      <td>Mixed_feelings</td>\n",
       "    </tr>\n",
       "  </tbody>\n",
       "</table>\n",
       "<p>250 rows × 2 columns</p>\n",
       "</div>"
      ],
      "text/plain": [
       "                                                  Data           label\n",
       "0    ente chunkum ingane thanne ee video phonil kan...   unknown_state\n",
       "1    മൂക്കുത്തി കണ്ടുപിടിക്കാൻ നമുക്കവരെ സഹായിക്കാം...   unknown_state\n",
       "2    kannondu chollanu mindandu mindanu  aaaa oru f...  Mixed_feelings\n",
       "3    hukoo for rajinikanth sir hukku hu hu for moha...   not-malayalam\n",
       "4    ijjathi trailer uff ponnooo oru raksha illaa p...        Positive\n",
       "..                                                 ...             ...\n",
       "245  മാമാങ്കം എന്ന് കേൾക്കുമ്പോൾ ഞങ്ങൾ വള്ളുവനാട്ടു...        Negative\n",
       "246  nammude ravi annante directionil oru padam kaa...   unknown_state\n",
       "247      all kerala thalapathy bloods wishes mohan lal   unknown_state\n",
       "248  ഇതിന്റെ തലക്ക് വല്ല ഓളവും ഉണ്ടോ പിന്നെ പാദസരം ...        Negative\n",
       "249   visuals ഒക്കെ കിടു പക്ഷേ പാട്ട് ഒരു സുഖമില്ലല്ലോ  Mixed_feelings\n",
       "\n",
       "[250 rows x 2 columns]"
      ]
     },
     "execution_count": 33,
     "metadata": {},
     "output_type": "execute_result"
    }
   ],
   "source": [
    "Traindf = pd.DataFrame({'Data' : temp21,'label' : temp22}, columns=['Data', 'label'])\n",
    "Traindf"
   ]
  },
  {
   "cell_type": "code",
   "execution_count": 34,
   "id": "0e4e51c5",
   "metadata": {
    "ExecuteTime": {
     "end_time": "2021-11-14T06:16:04.621430Z",
     "start_time": "2021-11-14T06:16:04.595893Z"
    }
   },
   "outputs": [
    {
     "data": {
      "text/html": [
       "<div>\n",
       "<style scoped>\n",
       "    .dataframe tbody tr th:only-of-type {\n",
       "        vertical-align: middle;\n",
       "    }\n",
       "\n",
       "    .dataframe tbody tr th {\n",
       "        vertical-align: top;\n",
       "    }\n",
       "\n",
       "    .dataframe thead th {\n",
       "        text-align: right;\n",
       "    }\n",
       "</style>\n",
       "<table border=\"1\" class=\"dataframe\">\n",
       "  <thead>\n",
       "    <tr style=\"text-align: right;\">\n",
       "      <th></th>\n",
       "      <th>Data</th>\n",
       "      <th>label</th>\n",
       "    </tr>\n",
       "  </thead>\n",
       "  <tbody>\n",
       "    <tr>\n",
       "      <th>0</th>\n",
       "      <td>ഇച്ചാപ്പി ഹസീബ് combo pinneyum kaaanan patyeel...</td>\n",
       "      <td>Positive</td>\n",
       "    </tr>\n",
       "    <tr>\n",
       "      <th>1</th>\n",
       "      <td>ampampo enna mathiri siripp ithu sirippille at...</td>\n",
       "      <td>not-malayalam</td>\n",
       "    </tr>\n",
       "    <tr>\n",
       "      <th>2</th>\n",
       "      <td>besttrailer adipoli ayal parayum ithu kanditu ...</td>\n",
       "      <td>Mixed_feelings</td>\n",
       "    </tr>\n",
       "    <tr>\n",
       "      <th>3</th>\n",
       "      <td>srk ടെ fan പോലെ ആവാതെ ഇരുന്നാ മതി</td>\n",
       "      <td>Mixed_feelings</td>\n",
       "    </tr>\n",
       "    <tr>\n",
       "      <th>4</th>\n",
       "      <td>oru mookuthhi kanathathinu dance kalikunnath i...</td>\n",
       "      <td>unknown_state</td>\n",
       "    </tr>\n",
       "    <tr>\n",
       "      <th>5</th>\n",
       "      <td>ithu oronnonnara allaaaa athukum mele  mammook...</td>\n",
       "      <td>Positive</td>\n",
       "    </tr>\n",
       "    <tr>\n",
       "      <th>6</th>\n",
       "      <td>romanjification enta ponnikka nigal vere leval...</td>\n",
       "      <td>Positive</td>\n",
       "    </tr>\n",
       "    <tr>\n",
       "      <th>7</th>\n",
       "      <td>richie orma vanathu eniku mathram ano</td>\n",
       "      <td>Mixed_feelings</td>\n",
       "    </tr>\n",
       "    <tr>\n",
       "      <th>8</th>\n",
       "      <td>ആ നഴ്സറിക്ടാവിന്റെ മുമ്പിൽ വച്ച് ഇമ്മാതിരി കാബ...</td>\n",
       "      <td>unknown_state</td>\n",
       "    </tr>\n",
       "    <tr>\n",
       "      <th>9</th>\n",
       "      <td>bgm poaraaa goapi aanel maanthittaanelum bgm g...</td>\n",
       "      <td>Negative</td>\n",
       "    </tr>\n",
       "    <tr>\n",
       "      <th>10</th>\n",
       "      <td>petta  movie copy dialogue ozhichal bakki ella...</td>\n",
       "      <td>Mixed_feelings</td>\n",
       "    </tr>\n",
       "    <tr>\n",
       "      <th>11</th>\n",
       "      <td>192k views</td>\n",
       "      <td>not-malayalam</td>\n",
       "    </tr>\n",
       "    <tr>\n",
       "      <th>12</th>\n",
       "      <td>tovinok pakaram unni mukundan mathiyarunnu</td>\n",
       "      <td>Mixed_feelings</td>\n",
       "    </tr>\n",
       "    <tr>\n",
       "      <th>13</th>\n",
       "      <td>tamil fans die mohan lal fans</td>\n",
       "      <td>not-malayalam</td>\n",
       "    </tr>\n",
       "    <tr>\n",
       "      <th>14</th>\n",
       "      <td>puthanpanam movie pole thonniyath enikk maathr...</td>\n",
       "      <td>Mixed_feelings</td>\n",
       "    </tr>\n",
       "    <tr>\n",
       "      <th>15</th>\n",
       "      <td>ട്രൈലെർ ഒരു ഗുമ്മ്  ഇല്ലാതെ പോലെ എനിക്ക് മാത്ര...</td>\n",
       "      <td>Mixed_feelings</td>\n",
       "    </tr>\n",
       "    <tr>\n",
       "      <th>16</th>\n",
       "      <td>ikka sooper but ittimani ley eetante margam ka...</td>\n",
       "      <td>Mixed_feelings</td>\n",
       "    </tr>\n",
       "    <tr>\n",
       "      <th>17</th>\n",
       "      <td>pulimurugan copy adi pole ind stund seen ellam</td>\n",
       "      <td>Mixed_feelings</td>\n",
       "    </tr>\n",
       "    <tr>\n",
       "      <th>18</th>\n",
       "      <td>friendship dayikk oru cake medichu kodukk  fresh</td>\n",
       "      <td>Mixed_feelings</td>\n",
       "    </tr>\n",
       "    <tr>\n",
       "      <th>19</th>\n",
       "      <td>ettan fan aaanu but nallathu kandal nallathanu...</td>\n",
       "      <td>Positive</td>\n",
       "    </tr>\n",
       "    <tr>\n",
       "      <th>20</th>\n",
       "      <td>lalettan polippichengil  adik oru big like</td>\n",
       "      <td>Positive</td>\n",
       "    </tr>\n",
       "    <tr>\n",
       "      <th>21</th>\n",
       "      <td>waiting for malayalam movie  for tamil paiyan</td>\n",
       "      <td>not-malayalam</td>\n",
       "    </tr>\n",
       "    <tr>\n",
       "      <th>22</th>\n",
       "      <td>mammooty fansavm dislike adiche poi madhurajak...</td>\n",
       "      <td>Negative</td>\n",
       "    </tr>\n",
       "    <tr>\n",
       "      <th>23</th>\n",
       "      <td>ഇതുമാതിരി മൂഞ്ചിയ സിനിമ കാണുന്നത് ആദ്യമായി ആണ്...</td>\n",
       "      <td>Negative</td>\n",
       "    </tr>\n",
       "    <tr>\n",
       "      <th>24</th>\n",
       "      <td>sanni chechiye konddu vannelengilum mammuckayu...</td>\n",
       "      <td>Negative</td>\n",
       "    </tr>\n",
       "    <tr>\n",
       "      <th>25</th>\n",
       "      <td>e vineeth sreenivasan paat padi irunnal poreve...</td>\n",
       "      <td>Negative</td>\n",
       "    </tr>\n",
       "    <tr>\n",
       "      <th>26</th>\n",
       "      <td>ഇത് അടുത്ത ബ്ലോക്ക്‌ ബസ്റ്റർ ആവും എന്ന് ഉറപ്പു...</td>\n",
       "      <td>unknown_state</td>\n",
       "    </tr>\n",
       "    <tr>\n",
       "      <th>27</th>\n",
       "      <td>ദയ ദേവിക ശേഖർ ആരതി ഭാനു ഭദ്ര ഉണ്ണിമായ അഭിരാമി ...</td>\n",
       "      <td>Positive</td>\n",
       "    </tr>\n",
       "    <tr>\n",
       "      <th>28</th>\n",
       "      <td>സംഭവം അവാർഡ്‌ ആണ് എങ്കിലും മാസ്സ് ആണ് പടം  അച്...</td>\n",
       "      <td>Positive</td>\n",
       "    </tr>\n",
       "    <tr>\n",
       "      <th>29</th>\n",
       "      <td>107   climax scene</td>\n",
       "      <td>not-malayalam</td>\n",
       "    </tr>\n",
       "    <tr>\n",
       "      <th>30</th>\n",
       "      <td>ടീസർ ഇറങ്ങുന്നതിന് മുന്നേ dislike അടിച്ച മഹാന്...</td>\n",
       "      <td>Negative</td>\n",
       "    </tr>\n",
       "    <tr>\n",
       "      <th>31</th>\n",
       "      <td>aatttttt 104  mohanlal sir  wating from ntr fan</td>\n",
       "      <td>not-malayalam</td>\n",
       "    </tr>\n",
       "    <tr>\n",
       "      <th>32</th>\n",
       "      <td>042 grand central mall muvattupuzha</td>\n",
       "      <td>not-malayalam</td>\n",
       "    </tr>\n",
       "    <tr>\n",
       "      <th>33</th>\n",
       "      <td>മൂക്കുത്തി  കണ്ടില്ലെങ്കിൽ  തെക്കോട്ടു  ഓടിക്കോ</td>\n",
       "      <td>Negative</td>\n",
       "    </tr>\n",
       "    <tr>\n",
       "      <th>34</th>\n",
       "      <td>pirates of carriebian scenes illennu oru doubt</td>\n",
       "      <td>unknown_state</td>\n",
       "    </tr>\n",
       "    <tr>\n",
       "      <th>35</th>\n",
       "      <td>abhinayich njettikkan fahad ikka again</td>\n",
       "      <td>Positive</td>\n",
       "    </tr>\n",
       "    <tr>\n",
       "      <th>36</th>\n",
       "      <td>ഇമ്മാതിരി കഥകളൊക്കെ എടുത്തു കളയേണ്ട കാലം കഴിഞ്...</td>\n",
       "      <td>Negative</td>\n",
       "    </tr>\n",
       "    <tr>\n",
       "      <th>37</th>\n",
       "      <td>20 minutes 70k likes  151k viewer just mohanla...</td>\n",
       "      <td>not-malayalam</td>\n",
       "    </tr>\n",
       "    <tr>\n",
       "      <th>38</th>\n",
       "      <td>ഇത് വേറെ എങ്ങോട്ടോ പോണ പടം തന്നെ</td>\n",
       "      <td>unknown_state</td>\n",
       "    </tr>\n",
       "    <tr>\n",
       "      <th>39</th>\n",
       "      <td>mammookkamass n style kanikanningale kazhinjey...</td>\n",
       "      <td>Positive</td>\n",
       "    </tr>\n",
       "    <tr>\n",
       "      <th>40</th>\n",
       "      <td>iam from telangana song is super i not underst...</td>\n",
       "      <td>not-malayalam</td>\n",
       "    </tr>\n",
       "    <tr>\n",
       "      <th>41</th>\n",
       "      <td>തന്തക്കു വിളിച്ചത് ആയിരിക്കും പക്ഷെ ചൈനയിൽ അയത...</td>\n",
       "      <td>unknown_state</td>\n",
       "    </tr>\n",
       "    <tr>\n",
       "      <th>42</th>\n",
       "      <td>avuudeiiyee eth pollikkum ennu urappullavar ad...</td>\n",
       "      <td>unknown_state</td>\n",
       "    </tr>\n",
       "    <tr>\n",
       "      <th>43</th>\n",
       "      <td>big brother   ഏട്ടൻെറ പിള്ളേർ ഉണ്ടെങ്കി ഇവിടെ cmn</td>\n",
       "      <td>unknown_state</td>\n",
       "    </tr>\n",
       "    <tr>\n",
       "      <th>44</th>\n",
       "      <td>മോശം പറഞ്ഞവരെ കൊണ്ട് തന്നെ നല്ലത് പറയിപ്പിച്ചെ...</td>\n",
       "      <td>Positive</td>\n",
       "    </tr>\n",
       "    <tr>\n",
       "      <th>45</th>\n",
       "      <td>aduta padakam loading ann makakale  next 1971</td>\n",
       "      <td>Negative</td>\n",
       "    </tr>\n",
       "    <tr>\n",
       "      <th>46</th>\n",
       "      <td>we r waiting for mamangam dear  the mamangam o...</td>\n",
       "      <td>not-malayalam</td>\n",
       "    </tr>\n",
       "    <tr>\n",
       "      <th>47</th>\n",
       "      <td>സത്യം പറയാലോ ഏട്ടന്റെ മുഖം  ആ ഒടിയൻ സിനിമയ്ക്ക...</td>\n",
       "      <td>Negative</td>\n",
       "    </tr>\n",
       "    <tr>\n",
       "      <th>48</th>\n",
       "      <td>ഏതോ ഇംഗ്ലീഷ് പടത്തിന്റെ മലയാളം ഡബ്ബിങ് ആണെന്ന്...</td>\n",
       "      <td>unknown_state</td>\n",
       "    </tr>\n",
       "    <tr>\n",
       "      <th>49</th>\n",
       "      <td>mammuka massan parayunavar like cheyyuga</td>\n",
       "      <td>unknown_state</td>\n",
       "    </tr>\n",
       "  </tbody>\n",
       "</table>\n",
       "</div>"
      ],
      "text/plain": [
       "                                                 Data           label\n",
       "0   ഇച്ചാപ്പി ഹസീബ് combo pinneyum kaaanan patyeel...        Positive\n",
       "1   ampampo enna mathiri siripp ithu sirippille at...   not-malayalam\n",
       "2   besttrailer adipoli ayal parayum ithu kanditu ...  Mixed_feelings\n",
       "3                   srk ടെ fan പോലെ ആവാതെ ഇരുന്നാ മതി  Mixed_feelings\n",
       "4   oru mookuthhi kanathathinu dance kalikunnath i...   unknown_state\n",
       "5   ithu oronnonnara allaaaa athukum mele  mammook...        Positive\n",
       "6   romanjification enta ponnikka nigal vere leval...        Positive\n",
       "7               richie orma vanathu eniku mathram ano  Mixed_feelings\n",
       "8   ആ നഴ്സറിക്ടാവിന്റെ മുമ്പിൽ വച്ച് ഇമ്മാതിരി കാബ...   unknown_state\n",
       "9   bgm poaraaa goapi aanel maanthittaanelum bgm g...        Negative\n",
       "10  petta  movie copy dialogue ozhichal bakki ella...  Mixed_feelings\n",
       "11                                         192k views   not-malayalam\n",
       "12         tovinok pakaram unni mukundan mathiyarunnu  Mixed_feelings\n",
       "13                      tamil fans die mohan lal fans   not-malayalam\n",
       "14  puthanpanam movie pole thonniyath enikk maathr...  Mixed_feelings\n",
       "15  ട്രൈലെർ ഒരു ഗുമ്മ്  ഇല്ലാതെ പോലെ എനിക്ക് മാത്ര...  Mixed_feelings\n",
       "16  ikka sooper but ittimani ley eetante margam ka...  Mixed_feelings\n",
       "17     pulimurugan copy adi pole ind stund seen ellam  Mixed_feelings\n",
       "18   friendship dayikk oru cake medichu kodukk  fresh  Mixed_feelings\n",
       "19  ettan fan aaanu but nallathu kandal nallathanu...        Positive\n",
       "20         lalettan polippichengil  adik oru big like        Positive\n",
       "21      waiting for malayalam movie  for tamil paiyan   not-malayalam\n",
       "22  mammooty fansavm dislike adiche poi madhurajak...        Negative\n",
       "23  ഇതുമാതിരി മൂഞ്ചിയ സിനിമ കാണുന്നത് ആദ്യമായി ആണ്...        Negative\n",
       "24  sanni chechiye konddu vannelengilum mammuckayu...        Negative\n",
       "25  e vineeth sreenivasan paat padi irunnal poreve...        Negative\n",
       "26  ഇത് അടുത്ത ബ്ലോക്ക്‌ ബസ്റ്റർ ആവും എന്ന് ഉറപ്പു...   unknown_state\n",
       "27  ദയ ദേവിക ശേഖർ ആരതി ഭാനു ഭദ്ര ഉണ്ണിമായ അഭിരാമി ...        Positive\n",
       "28  സംഭവം അവാർഡ്‌ ആണ് എങ്കിലും മാസ്സ് ആണ് പടം  അച്...        Positive\n",
       "29                                 107   climax scene   not-malayalam\n",
       "30  ടീസർ ഇറങ്ങുന്നതിന് മുന്നേ dislike അടിച്ച മഹാന്...        Negative\n",
       "31    aatttttt 104  mohanlal sir  wating from ntr fan   not-malayalam\n",
       "32                042 grand central mall muvattupuzha   not-malayalam\n",
       "33    മൂക്കുത്തി  കണ്ടില്ലെങ്കിൽ  തെക്കോട്ടു  ഓടിക്കോ        Negative\n",
       "34    pirates of carriebian scenes illennu oru doubt    unknown_state\n",
       "35            abhinayich njettikkan fahad ikka again         Positive\n",
       "36  ഇമ്മാതിരി കഥകളൊക്കെ എടുത്തു കളയേണ്ട കാലം കഴിഞ്...        Negative\n",
       "37  20 minutes 70k likes  151k viewer just mohanla...   not-malayalam\n",
       "38                   ഇത് വേറെ എങ്ങോട്ടോ പോണ പടം തന്നെ   unknown_state\n",
       "39  mammookkamass n style kanikanningale kazhinjey...        Positive\n",
       "40  iam from telangana song is super i not underst...   not-malayalam\n",
       "41  തന്തക്കു വിളിച്ചത് ആയിരിക്കും പക്ഷെ ചൈനയിൽ അയത...   unknown_state\n",
       "42  avuudeiiyee eth pollikkum ennu urappullavar ad...   unknown_state\n",
       "43  big brother   ഏട്ടൻെറ പിള്ളേർ ഉണ്ടെങ്കി ഇവിടെ cmn   unknown_state\n",
       "44  മോശം പറഞ്ഞവരെ കൊണ്ട് തന്നെ നല്ലത് പറയിപ്പിച്ചെ...        Positive\n",
       "45      aduta padakam loading ann makakale  next 1971        Negative\n",
       "46  we r waiting for mamangam dear  the mamangam o...   not-malayalam\n",
       "47  സത്യം പറയാലോ ഏട്ടന്റെ മുഖം  ആ ഒടിയൻ സിനിമയ്ക്ക...        Negative\n",
       "48  ഏതോ ഇംഗ്ലീഷ് പടത്തിന്റെ മലയാളം ഡബ്ബിങ് ആണെന്ന്...   unknown_state\n",
       "49           mammuka massan parayunavar like cheyyuga   unknown_state"
      ]
     },
     "execution_count": 34,
     "metadata": {},
     "output_type": "execute_result"
    }
   ],
   "source": [
    "Testdf = pd.DataFrame({'Data' : temp11,'label' : temp12}, columns=['Data', 'label'])\n",
    "Testdf"
   ]
  },
  {
   "cell_type": "code",
   "execution_count": null,
   "id": "5a62482f",
   "metadata": {},
   "outputs": [],
   "source": []
  }
 ],
 "metadata": {
  "kernelspec": {
   "display_name": "Python 3 (ipykernel)",
   "language": "python",
   "name": "python3"
  },
  "language_info": {
   "codemirror_mode": {
    "name": "ipython",
    "version": 3
   },
   "file_extension": ".py",
   "mimetype": "text/x-python",
   "name": "python",
   "nbconvert_exporter": "python",
   "pygments_lexer": "ipython3",
   "version": "3.8.11"
  },
  "latex_envs": {
   "LaTeX_envs_menu_present": true,
   "autoclose": false,
   "autocomplete": true,
   "bibliofile": "biblio.bib",
   "cite_by": "apalike",
   "current_citInitial": 1,
   "eqLabelWithNumbers": true,
   "eqNumInitial": 1,
   "hotkeys": {
    "equation": "Ctrl-E",
    "itemize": "Ctrl-I"
   },
   "labels_anchors": false,
   "latex_user_defs": false,
   "report_style_numbering": false,
   "user_envs_cfg": false
  },
  "toc": {
   "base_numbering": 1,
   "nav_menu": {},
   "number_sections": true,
   "sideBar": true,
   "skip_h1_title": false,
   "title_cell": "Table of Contents",
   "title_sidebar": "Contents",
   "toc_cell": false,
   "toc_position": {},
   "toc_section_display": true,
   "toc_window_display": true
  }
 },
 "nbformat": 4,
 "nbformat_minor": 5
}
