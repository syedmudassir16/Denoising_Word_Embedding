{
 "cells": [
  {
   "cell_type": "code",
   "execution_count": 1,
   "id": "4c75a642",
   "metadata": {
    "ExecuteTime": {
     "end_time": "2021-10-30T15:48:30.805299Z",
     "start_time": "2021-10-30T15:48:30.154960Z"
    },
    "colab": {
     "base_uri": "https://localhost:8080/"
    },
    "id": "NPsBVUt4CPFK",
    "outputId": "953cf603-64ba-45e3-85be-bc007232150e"
   },
   "outputs": [],
   "source": [
    "import math\n",
    "import pandas as pd\n",
    "import re\n",
    "import numpy as np\n",
    "import itertools\n",
    "import collections\n",
    "from collections import defaultdict, Counter\n",
    "import string\n",
    "from sklearn.preprocessing import LabelEncoder"
   ]
  },
  {
   "cell_type": "code",
   "execution_count": 2,
   "id": "c7975274",
   "metadata": {
    "ExecuteTime": {
     "end_time": "2021-10-30T15:48:30.852142Z",
     "start_time": "2021-10-30T15:48:30.806296Z"
    },
    "colab": {
     "base_uri": "https://localhost:8080/"
    },
    "id": "6GV9JIe0CO2b",
    "outputId": "27988521-db2e-4bcf-fbf0-4116cd5497e0"
   },
   "outputs": [
    {
     "name": "stdout",
     "output_type": "stream",
     "text": [
      " Volume in drive C is Acer\n",
      " Volume Serial Number is 3818-7542\n",
      "\n",
      " Directory of C:\\Users\\phvpa\\Desktop\\Experimants\\DataSet\n",
      "\n",
      "30-10-2021  21:17    <DIR>          .\n",
      "30-10-2021  12:45    <DIR>          ..\n",
      "30-10-2021  21:11    <DIR>          .ipynb_checkpoints\n",
      "30-10-2021  16:09            42,127 Kan_Preprocessing _and_spliting_2750and250.ipynb\n",
      "30-10-2021  12:45    <DIR>          Kannada\n",
      "30-10-2021  16:09            38,450 Mal_Preprocessing _and_spliting_5000and500.ipynb\n",
      "30-10-2021  12:45    <DIR>          Malyalam\n",
      "30-10-2021  12:54    <DIR>          NumpyFiles\n",
      "30-10-2021  16:25    <DIR>          Tamil\n",
      "30-10-2021  21:17            43,071 Tamil_Preprocessing _and_spliting_1600and150.ipynb\n",
      "               3 File(s)        123,648 bytes\n",
      "               7 Dir(s)  316,347,539,456 bytes free\n"
     ]
    }
   ],
   "source": [
    "ls"
   ]
  },
  {
   "cell_type": "code",
   "execution_count": 3,
   "id": "5b44a684",
   "metadata": {
    "ExecuteTime": {
     "end_time": "2021-10-30T15:48:30.868099Z",
     "start_time": "2021-10-30T15:48:30.853141Z"
    }
   },
   "outputs": [],
   "source": [
    "#pd.options.display.max_rows = None"
   ]
  },
  {
   "cell_type": "code",
   "execution_count": 4,
   "id": "f9ceddd5",
   "metadata": {
    "ExecuteTime": {
     "end_time": "2021-10-30T15:48:30.979832Z",
     "start_time": "2021-10-30T15:48:30.870095Z"
    },
    "scrolled": true
   },
   "outputs": [
    {
     "name": "stdout",
     "output_type": "stream",
     "text": [
      "35656\n",
      "3962\n"
     ]
    },
    {
     "data": {
      "text/plain": [
       "4402"
      ]
     },
     "execution_count": 4,
     "metadata": {},
     "output_type": "execute_result"
    }
   ],
   "source": [
    "train_df = pd.read_csv(\"Tamil/tamil_sentiment_full_train.tsv\", sep='\\t')\n",
    "print(len(train_df))\n",
    "\n",
    "#test_df = pd.read_csv(\"Mal_sentiment_full_dev.tsv\", header=None, sep='\\t')\n",
    "valid_df = pd.read_csv(\"Tamil/tamil_sentiment_full_dev.tsv\", sep='\\t')\n",
    "print(len(valid_df))\n",
    "\n",
    "test_df = pd.read_csv(\"Tamil/tamil_sentiment_full_test_withoutlabels.tsv\", sep='\\t')\n",
    "len(test_df)"
   ]
  },
  {
   "cell_type": "code",
   "execution_count": 5,
   "id": "ffc8b4d0",
   "metadata": {
    "ExecuteTime": {
     "end_time": "2021-10-30T15:48:30.995758Z",
     "start_time": "2021-10-30T15:48:30.980864Z"
    }
   },
   "outputs": [
    {
     "data": {
      "text/html": [
       "<div>\n",
       "<style scoped>\n",
       "    .dataframe tbody tr th:only-of-type {\n",
       "        vertical-align: middle;\n",
       "    }\n",
       "\n",
       "    .dataframe tbody tr th {\n",
       "        vertical-align: top;\n",
       "    }\n",
       "\n",
       "    .dataframe thead th {\n",
       "        text-align: right;\n",
       "    }\n",
       "</style>\n",
       "<table border=\"1\" class=\"dataframe\">\n",
       "  <thead>\n",
       "    <tr style=\"text-align: right;\">\n",
       "      <th></th>\n",
       "      <th>text</th>\n",
       "      <th>category</th>\n",
       "    </tr>\n",
       "  </thead>\n",
       "  <tbody>\n",
       "    <tr>\n",
       "      <th>0</th>\n",
       "      <td>Vani bhojam fans hit like solli 500 like Vangi...</td>\n",
       "      <td>unknown_state</td>\n",
       "    </tr>\n",
       "    <tr>\n",
       "      <th>1</th>\n",
       "      <td>I love you ajith very I like</td>\n",
       "      <td>Positive</td>\n",
       "    </tr>\n",
       "    <tr>\n",
       "      <th>2</th>\n",
       "      <td>ennaya trailer Ku mudi Ellam nikkudhu... Vera ...</td>\n",
       "      <td>Positive</td>\n",
       "    </tr>\n",
       "    <tr>\n",
       "      <th>3</th>\n",
       "      <td>Vijay Annaa  Ur Maassssss Therrrrriiiiii</td>\n",
       "      <td>Positive</td>\n",
       "    </tr>\n",
       "    <tr>\n",
       "      <th>4</th>\n",
       "      <td>நம்ப நடே நாசாமா தான் போச்சி</td>\n",
       "      <td>Negative</td>\n",
       "    </tr>\n",
       "    <tr>\n",
       "      <th>...</th>\n",
       "      <td>...</td>\n",
       "      <td>...</td>\n",
       "    </tr>\n",
       "    <tr>\n",
       "      <th>35651</th>\n",
       "      <td>ஒருவர் செய்த தவறுக்காக எல்லாரையும் பழி போடுவது...</td>\n",
       "      <td>Mixed_feelings</td>\n",
       "    </tr>\n",
       "    <tr>\n",
       "      <th>35652</th>\n",
       "      <td>Repeated Mode to Watching Theri Trailer &amp; Ther...</td>\n",
       "      <td>Positive</td>\n",
       "    </tr>\n",
       "    <tr>\n",
       "      <th>35653</th>\n",
       "      <td>yeevanikuachu  pula kutti erudhal oodi poyidu....</td>\n",
       "      <td>Negative</td>\n",
       "    </tr>\n",
       "    <tr>\n",
       "      <th>35654</th>\n",
       "      <td>She is looking like laughing budha</td>\n",
       "      <td>Positive</td>\n",
       "    </tr>\n",
       "    <tr>\n",
       "      <th>35655</th>\n",
       "      <td>NORTH OR SOUTH KGF IS THE BEST!!</td>\n",
       "      <td>Positive</td>\n",
       "    </tr>\n",
       "  </tbody>\n",
       "</table>\n",
       "<p>35656 rows × 2 columns</p>\n",
       "</div>"
      ],
      "text/plain": [
       "                                                    text        category\n",
       "0      Vani bhojam fans hit like solli 500 like Vangi...   unknown_state\n",
       "1                           I love you ajith very I like        Positive\n",
       "2      ennaya trailer Ku mudi Ellam nikkudhu... Vera ...        Positive\n",
       "3               Vijay Annaa  Ur Maassssss Therrrrriiiiii        Positive\n",
       "4                            நம்ப நடே நாசாமா தான் போச்சி        Negative\n",
       "...                                                  ...             ...\n",
       "35651  ஒருவர் செய்த தவறுக்காக எல்லாரையும் பழி போடுவது...  Mixed_feelings\n",
       "35652  Repeated Mode to Watching Theri Trailer & Ther...        Positive\n",
       "35653  yeevanikuachu  pula kutti erudhal oodi poyidu....        Negative\n",
       "35654                 She is looking like laughing budha        Positive\n",
       "35655                   NORTH OR SOUTH KGF IS THE BEST!!        Positive\n",
       "\n",
       "[35656 rows x 2 columns]"
      ]
     },
     "execution_count": 5,
     "metadata": {},
     "output_type": "execute_result"
    }
   ],
   "source": [
    "train_df"
   ]
  },
  {
   "cell_type": "code",
   "execution_count": 6,
   "id": "008088af",
   "metadata": {
    "ExecuteTime": {
     "end_time": "2021-10-30T15:48:31.011746Z",
     "start_time": "2021-10-30T15:48:30.996755Z"
    },
    "scrolled": true
   },
   "outputs": [
    {
     "data": {
      "text/plain": [
       "0         unknown_state\n",
       "1              Positive\n",
       "2              Positive\n",
       "3              Positive\n",
       "4              Negative\n",
       "              ...      \n",
       "35651    Mixed_feelings\n",
       "35652          Positive\n",
       "35653          Negative\n",
       "35654          Positive\n",
       "35655          Positive\n",
       "Name: category, Length: 35656, dtype: object"
      ]
     },
     "execution_count": 6,
     "metadata": {},
     "output_type": "execute_result"
    }
   ],
   "source": [
    "train_df['category']"
   ]
  },
  {
   "cell_type": "code",
   "execution_count": 7,
   "id": "3fea4be7",
   "metadata": {
    "ExecuteTime": {
     "end_time": "2021-10-30T15:48:36.798235Z",
     "start_time": "2021-10-30T15:48:31.012720Z"
    },
    "id": "5M7bMSkdAhbS"
   },
   "outputs": [],
   "source": [
    "#removing all the emoji from the given data\n",
    "\n",
    "def deEmojify(text):\n",
    "    regrex_pattern = re.compile(pattern = \"[\"\n",
    "        u\"\\U0001F600-\\U0001F64F\"  # emoticons\n",
    "        u\"\\U0001F300-\\U0001F5FF\"  # symbols & pictographs\n",
    "        u\"\\U0001F680-\\U0001F6FF\"  # transport & map symbols\n",
    "        u\"\\U0001F1E0-\\U0001F1FF\"  # flags (iOS)\n",
    "        u\"\\U00002500-\\U00002BEF\"  # chinese char\n",
    "        u\"\\U00002702-\\U000027B0\"\n",
    "        u\"\\U00002702-\\U000027B0\"\n",
    "        u\"\\U000024C2-\\U0001F251\"\n",
    "        u\"\\U0001f926-\\U0001f937\"\n",
    "        u\"\\U00010000-\\U0010ffff\"\n",
    "        u\"\\u2640-\\u2642\"\n",
    "        u\"\\u2600-\\u2B55\"\n",
    "        u\"\\u200d\"\n",
    "        u\"\\u23cf\"\n",
    "        u\"\\u23e9\"\n",
    "        u\"\\u231a\"\n",
    "        u\"\\ufe0f\"  # dingbats\n",
    "        u\"\\u3030\"\n",
    "        \"]+\", flags = re.UNICODE)\n",
    "    return regrex_pattern.sub(r'',text)\n",
    "\n",
    "\n",
    "for i in range(len(train_df)):\n",
    "    temp1 = deEmojify(train_df['text'][i])\n",
    "    train_df['text'][i] = temp1\n",
    "\n",
    "for j in range(len(valid_df)):\n",
    "    temp2 = deEmojify(valid_df['text'][j])\n",
    "    valid_df['text'][j] = temp2\n",
    "\n",
    "for k in range(len(test_df)):\n",
    "    temp3 = deEmojify(test_df['text'][k])\n",
    "    test_df['text'][k]=temp3"
   ]
  },
  {
   "cell_type": "code",
   "execution_count": 8,
   "id": "b0ac983b",
   "metadata": {
    "ExecuteTime": {
     "end_time": "2021-10-30T15:48:36.814222Z",
     "start_time": "2021-10-30T15:48:36.799233Z"
    },
    "id": "kvZOI__qZ7zd"
   },
   "outputs": [],
   "source": [
    "def preprocess_data(text):\n",
    "  user_name = '@[A-Za-z0-9]+' # Pattern for matching the user names in the tweet\n",
    "  has_tag = '#[A-Za-z0-9]+' # Pattern for matching the hasgtags in the tweer\n",
    "  url = 'https?:\\/\\/[A-Za-z0-9\\.\\/\\-]+' # Pattern for matching the URLs in the tweet\n",
    "  #emoji_pattern = r'/[x{1F600}-x{1F64F}]/u'\n",
    "  \n",
    "  x = text.lower()  # Lower casing all the characters\n",
    "  x = re.sub(user_name, '', x) # Replace the username with an empty characrer\n",
    "  x = re.sub(has_tag,'',x) # Replace the hashtags with an empty characrer\n",
    "  x = re.sub(url, '', x) # Replace the URLs with an empty characrer\n",
    "  #x = re.sub(emoji_pattern, '', x)\n",
    "  x = x.translate(str.maketrans('', '', string.punctuation)) # Replace all the characters except alphabets and digits from the tweet\n",
    "\n",
    "  return x"
   ]
  },
  {
   "cell_type": "code",
   "execution_count": 9,
   "id": "dbff7146",
   "metadata": {
    "ExecuteTime": {
     "end_time": "2021-10-30T15:48:37.145358Z",
     "start_time": "2021-10-30T15:48:36.816190Z"
    },
    "id": "kXmiAchmcPq_"
   },
   "outputs": [],
   "source": [
    "train_df['text'] = train_df['text'].apply(lambda x: preprocess_data(x)) # Apply the clean_data() to all the entries in the dataframe\n",
    "valid_df['text'] = valid_df['text'].apply(lambda x: preprocess_data(x)) # Apply the clean_data() to all the entries in the dataframe\n",
    "test_df['text'] = test_df['text'].apply(lambda x: preprocess_data(x)) # Apply the clean_data() to all the entries in the dataframe"
   ]
  },
  {
   "cell_type": "code",
   "execution_count": 10,
   "id": "44c33d4f",
   "metadata": {
    "ExecuteTime": {
     "end_time": "2021-10-30T15:48:37.161295Z",
     "start_time": "2021-10-30T15:48:37.147303Z"
    }
   },
   "outputs": [
    {
     "name": "stdout",
     "output_type": "stream",
     "text": [
      "Counter({'Positive': 20069, 'unknown_state': 5628, 'Negative': 4271, 'Mixed_feelings': 4020, 'not-Tamil': 1667, 'Positive ': 1})\n"
     ]
    }
   ],
   "source": [
    "print(Counter(train_df['category']))"
   ]
  },
  {
   "cell_type": "code",
   "execution_count": 11,
   "id": "1d815cc7",
   "metadata": {
    "ExecuteTime": {
     "end_time": "2021-10-30T15:48:37.320150Z",
     "start_time": "2021-10-30T15:48:37.163269Z"
    }
   },
   "outputs": [],
   "source": [
    "for i in range(len(train_df)):\n",
    "    if train_df['category'][i] == 'Positive ':\n",
    "        train_df['category'][i] = 'Positive'"
   ]
  },
  {
   "cell_type": "code",
   "execution_count": 12,
   "id": "488a71eb",
   "metadata": {
    "ExecuteTime": {
     "end_time": "2021-10-30T15:48:37.509081Z",
     "start_time": "2021-10-30T15:48:37.321187Z"
    }
   },
   "outputs": [],
   "source": [
    "np.save('NumpyFiles\\Tamil\\Fulldata\\Tamil_Train_Full_data.npy',list(train_df['text']))\n",
    "np.save('NumpyFiles\\Tamil\\Fulldata\\Tamil_Train_Full_labels.npy',list(train_df['category']))\n",
    "np.save('NumpyFiles\\Tamil\\Fulldata\\Tamil_Val_Full_data.npy',list(valid_df['text']))\n",
    "np.save('NumpyFiles\\Tamil\\Fulldata\\Tamil_Val_Full_labels.npy',list(valid_df['category']))\n",
    "np.save('NumpyFiles\\Tamil\\Fulldata\\Tamil_Test_Full_data.npy',list(valid_df['text']))"
   ]
  },
  {
   "cell_type": "code",
   "execution_count": 13,
   "id": "dff03348",
   "metadata": {
    "ExecuteTime": {
     "end_time": "2021-10-30T15:48:37.586927Z",
     "start_time": "2021-10-30T15:48:37.510084Z"
    }
   },
   "outputs": [],
   "source": [
    "temp1 = np.load('NumpyFiles\\Tamil\\Fulldata\\Tamil_Train_Full_data.npy')\n",
    "temp2 = np.load('NumpyFiles\\Tamil\\Fulldata\\Tamil_Train_Full_labels.npy')\n",
    "temp3 = np.load('NumpyFiles\\Tamil\\Fulldata\\Tamil_Val_Full_data.npy')\n",
    "temp4 = np.load('NumpyFiles\\Tamil\\Fulldata\\Tamil_Val_Full_labels.npy')\n",
    "temp5 = np.load('NumpyFiles\\Tamil\\Fulldata\\Tamil_Test_Full_data.npy')"
   ]
  },
  {
   "cell_type": "code",
   "execution_count": 14,
   "id": "56146dd0",
   "metadata": {
    "ExecuteTime": {
     "end_time": "2021-10-30T15:48:37.602755Z",
     "start_time": "2021-10-30T15:48:37.587792Z"
    }
   },
   "outputs": [
    {
     "data": {
      "text/plain": [
       "((35656,), (35656,), (3962,), (3962,))"
      ]
     },
     "execution_count": 14,
     "metadata": {},
     "output_type": "execute_result"
    }
   ],
   "source": [
    "temp1.shape, temp2.shape, temp3.shape, temp4.shape"
   ]
  },
  {
   "cell_type": "code",
   "execution_count": 15,
   "id": "57dfe004",
   "metadata": {
    "ExecuteTime": {
     "end_time": "2021-10-30T15:48:37.618712Z",
     "start_time": "2021-10-30T15:48:37.603753Z"
    }
   },
   "outputs": [
    {
     "data": {
      "text/plain": [
       "('unknown_state', 35656)"
      ]
     },
     "execution_count": 15,
     "metadata": {},
     "output_type": "execute_result"
    }
   ],
   "source": [
    "train_df['category'][0], len(train_df)"
   ]
  },
  {
   "cell_type": "markdown",
   "id": "18f236a6",
   "metadata": {},
   "source": [
    "# Dividing train and valid separatly:"
   ]
  },
  {
   "cell_type": "markdown",
   "id": "fb3c35a2",
   "metadata": {},
   "source": [
    "### Train data"
   ]
  },
  {
   "cell_type": "code",
   "execution_count": 16,
   "id": "a9aa1472",
   "metadata": {
    "ExecuteTime": {
     "end_time": "2021-10-30T15:48:37.650627Z",
     "start_time": "2021-10-30T15:48:37.619711Z"
    },
    "scrolled": false
   },
   "outputs": [
    {
     "data": {
      "text/html": [
       "<div>\n",
       "<style scoped>\n",
       "    .dataframe tbody tr th:only-of-type {\n",
       "        vertical-align: middle;\n",
       "    }\n",
       "\n",
       "    .dataframe tbody tr th {\n",
       "        vertical-align: top;\n",
       "    }\n",
       "\n",
       "    .dataframe thead th {\n",
       "        text-align: right;\n",
       "    }\n",
       "</style>\n",
       "<table border=\"1\" class=\"dataframe\">\n",
       "  <thead>\n",
       "    <tr style=\"text-align: right;\">\n",
       "      <th></th>\n",
       "      <th>text</th>\n",
       "      <th>category</th>\n",
       "    </tr>\n",
       "  </thead>\n",
       "  <tbody>\n",
       "    <tr>\n",
       "      <th>11296</th>\n",
       "      <td>abhi se advance  booking  suru ho jaye kon kon...</td>\n",
       "      <td>Mixed_feelings</td>\n",
       "    </tr>\n",
       "    <tr>\n",
       "      <th>3436</th>\n",
       "      <td>0108 semma rangaraj pandey mass sir rangaraj p...</td>\n",
       "      <td>Mixed_feelings</td>\n",
       "    </tr>\n",
       "    <tr>\n",
       "      <th>22494</th>\n",
       "      <td>viswasam trailera vida nalla iruku vera level hit</td>\n",
       "      <td>Mixed_feelings</td>\n",
       "    </tr>\n",
       "    <tr>\n",
       "      <th>31235</th>\n",
       "      <td>vazhkayile thaniya ninnu jaikiravean yaar ha i...</td>\n",
       "      <td>Mixed_feelings</td>\n",
       "    </tr>\n",
       "    <tr>\n",
       "      <th>11770</th>\n",
       "      <td>shankar innu pannirukalam nu sonnavanlam  go b...</td>\n",
       "      <td>Mixed_feelings</td>\n",
       "    </tr>\n",
       "    <tr>\n",
       "      <th>...</th>\n",
       "      <td>...</td>\n",
       "      <td>...</td>\n",
       "    </tr>\n",
       "    <tr>\n",
       "      <th>20394</th>\n",
       "      <td>046 kathii trailer feeeel adichavange like</td>\n",
       "      <td>unknown_state</td>\n",
       "    </tr>\n",
       "    <tr>\n",
       "      <th>20399</th>\n",
       "      <td>oho 96la ilayaraja paatu vantha ippo irrukura ...</td>\n",
       "      <td>unknown_state</td>\n",
       "    </tr>\n",
       "    <tr>\n",
       "      <th>20405</th>\n",
       "      <td>plz dubbed in kannada also</td>\n",
       "      <td>unknown_state</td>\n",
       "    </tr>\n",
       "    <tr>\n",
       "      <th>20416</th>\n",
       "      <td>bigil trailer wait pandravanga like here</td>\n",
       "      <td>unknown_state</td>\n",
       "    </tr>\n",
       "    <tr>\n",
       "      <th>17827</th>\n",
       "      <td>90s kids ku etha movie ah than irukum nu nenai...</td>\n",
       "      <td>unknown_state</td>\n",
       "    </tr>\n",
       "  </tbody>\n",
       "</table>\n",
       "<p>35656 rows × 2 columns</p>\n",
       "</div>"
      ],
      "text/plain": [
       "                                                    text        category\n",
       "11296  abhi se advance  booking  suru ho jaye kon kon...  Mixed_feelings\n",
       "3436   0108 semma rangaraj pandey mass sir rangaraj p...  Mixed_feelings\n",
       "22494  viswasam trailera vida nalla iruku vera level hit  Mixed_feelings\n",
       "31235  vazhkayile thaniya ninnu jaikiravean yaar ha i...  Mixed_feelings\n",
       "11770  shankar innu pannirukalam nu sonnavanlam  go b...  Mixed_feelings\n",
       "...                                                  ...             ...\n",
       "20394         046 kathii trailer feeeel adichavange like   unknown_state\n",
       "20399  oho 96la ilayaraja paatu vantha ippo irrukura ...   unknown_state\n",
       "20405                         plz dubbed in kannada also   unknown_state\n",
       "20416           bigil trailer wait pandravanga like here   unknown_state\n",
       "17827  90s kids ku etha movie ah than irukum nu nenai...   unknown_state\n",
       "\n",
       "[35656 rows x 2 columns]"
      ]
     },
     "execution_count": 16,
     "metadata": {},
     "output_type": "execute_result"
    }
   ],
   "source": [
    "df_temp2 = train_df.sort_values('category')\n",
    "df_temp2"
   ]
  },
  {
   "cell_type": "code",
   "execution_count": 17,
   "id": "e6b13c7d",
   "metadata": {
    "ExecuteTime": {
     "end_time": "2021-10-30T15:48:37.666584Z",
     "start_time": "2021-10-30T15:48:37.651625Z"
    }
   },
   "outputs": [
    {
     "name": "stdout",
     "output_type": "stream",
     "text": [
      "Traindf: \n",
      " {'Mixed_feelings': 4020, 'Negative': 4271, 'Positive': 20070, 'not-Tamil': 1667, 'unknown_state': 5628} \n",
      "\n",
      "Mixed_feelings starts from:  0\n",
      "Negative starts from:  4020\n",
      "Positive starts from:  8291\n",
      "not-Tamil starts from:  28361\n",
      "unknown_state starts from:  30028\n",
      "unknown_state ends at:  35656\n"
     ]
    }
   ],
   "source": [
    "train = Counter(train_df['category'])\n",
    "train_sort = dict(sorted(train.items(), key=lambda item: item[0]))\n",
    "\n",
    "print('Traindf: \\n',train_sort,'\\n')\n",
    "temp = 0\n",
    "for key in train_sort:\n",
    "    print(key,'starts from: ', temp)\n",
    "    temp = temp + int(train_sort[key])\n",
    "print(key,'ends at: ', temp)"
   ]
  },
  {
   "cell_type": "code",
   "execution_count": 18,
   "id": "ac592458",
   "metadata": {
    "ExecuteTime": {
     "end_time": "2021-10-30T15:48:37.682542Z",
     "start_time": "2021-10-30T15:48:37.667595Z"
    },
    "scrolled": true
   },
   "outputs": [],
   "source": [
    "#print(df_temp2['category'].tolist())"
   ]
  },
  {
   "cell_type": "code",
   "execution_count": 19,
   "id": "6adcc132",
   "metadata": {
    "ExecuteTime": {
     "end_time": "2021-10-30T15:48:37.698499Z",
     "start_time": "2021-10-30T15:48:37.683540Z"
    }
   },
   "outputs": [],
   "source": [
    "count2 = 1600\n",
    "train_Mixed_feelings = df_temp2[:count2]\n",
    "train_Negative = df_temp2[4025:4025+count2]\n",
    "train_Positive=df_temp2[8295:8295+count2]\n",
    "train_not_Tamil = df_temp2[28370:28370+count2]\n",
    "train_unknown_state = df_temp2[30035:30035+count2]"
   ]
  },
  {
   "cell_type": "code",
   "execution_count": 20,
   "id": "da196b63",
   "metadata": {
    "ExecuteTime": {
     "end_time": "2021-10-30T15:48:37.714456Z",
     "start_time": "2021-10-30T15:48:37.700494Z"
    }
   },
   "outputs": [
    {
     "name": "stdout",
     "output_type": "stream",
     "text": [
      "total: 8000\n"
     ]
    },
    {
     "data": {
      "text/plain": [
       "(1600, 1600, 1600, 1600, 1600)"
      ]
     },
     "execution_count": 20,
     "metadata": {},
     "output_type": "execute_result"
    }
   ],
   "source": [
    "print('total:',count2*5)\n",
    "len(train_Mixed_feelings), len(train_Negative), len(train_Positive), len(train_not_Tamil), len(train_unknown_state)"
   ]
  },
  {
   "cell_type": "code",
   "execution_count": 21,
   "id": "522f6e68",
   "metadata": {
    "ExecuteTime": {
     "end_time": "2021-10-30T15:48:37.730414Z",
     "start_time": "2021-10-30T15:48:37.716451Z"
    }
   },
   "outputs": [
    {
     "data": {
      "text/plain": [
       "(8000, 2)"
      ]
     },
     "execution_count": 21,
     "metadata": {},
     "output_type": "execute_result"
    }
   ],
   "source": [
    "Train_frames = [train_Mixed_feelings, train_Negative, train_Positive, train_not_Tamil, train_unknown_state ]\n",
    "Train_results = pd.concat(Train_frames)\n",
    "Train_results.shape"
   ]
  },
  {
   "cell_type": "code",
   "execution_count": 22,
   "id": "07311930",
   "metadata": {
    "ExecuteTime": {
     "end_time": "2021-10-30T15:48:37.746405Z",
     "start_time": "2021-10-30T15:48:37.733405Z"
    }
   },
   "outputs": [],
   "source": [
    "# Train_results"
   ]
  },
  {
   "cell_type": "code",
   "execution_count": 23,
   "id": "c51253ba",
   "metadata": {
    "ExecuteTime": {
     "end_time": "2021-10-30T15:48:37.762328Z",
     "start_time": "2021-10-30T15:48:37.749413Z"
    }
   },
   "outputs": [
    {
     "data": {
      "text/plain": [
       "Counter({'Mixed_feelings': 1600,\n",
       "         'Negative': 1600,\n",
       "         'Positive': 1600,\n",
       "         'not-Tamil': 1600,\n",
       "         'unknown_state': 1600})"
      ]
     },
     "execution_count": 23,
     "metadata": {},
     "output_type": "execute_result"
    }
   ],
   "source": [
    "Counter(Train_results['category'])"
   ]
  },
  {
   "cell_type": "code",
   "execution_count": 24,
   "id": "7de2eb09",
   "metadata": {
    "ExecuteTime": {
     "end_time": "2021-10-30T15:48:37.778285Z",
     "start_time": "2021-10-30T15:48:37.763341Z"
    }
   },
   "outputs": [],
   "source": [
    "Sub_Train = Train_results.sample(frac = 1)"
   ]
  },
  {
   "cell_type": "code",
   "execution_count": 25,
   "id": "a99c9eaf",
   "metadata": {
    "ExecuteTime": {
     "end_time": "2021-10-30T15:48:37.794243Z",
     "start_time": "2021-10-30T15:48:37.780284Z"
    }
   },
   "outputs": [],
   "source": [
    "Sub_Train_list = Sub_Train['text'].tolist()\n",
    "Sub_Train_labels_list = Sub_Train['category'].tolist()"
   ]
  },
  {
   "cell_type": "markdown",
   "id": "951b3df6",
   "metadata": {},
   "source": [
    "### Val Data"
   ]
  },
  {
   "cell_type": "code",
   "execution_count": 26,
   "id": "1c05ea04",
   "metadata": {
    "ExecuteTime": {
     "end_time": "2021-10-30T15:48:37.810200Z",
     "start_time": "2021-10-30T15:48:37.796237Z"
    }
   },
   "outputs": [
    {
     "data": {
      "text/plain": [
       "(3962, 2)"
      ]
     },
     "execution_count": 26,
     "metadata": {},
     "output_type": "execute_result"
    }
   ],
   "source": [
    "df_temp = valid_df.sort_values('category')\n",
    "df_temp.shape"
   ]
  },
  {
   "cell_type": "code",
   "execution_count": 27,
   "id": "351bf303",
   "metadata": {
    "ExecuteTime": {
     "end_time": "2021-10-30T15:48:37.826161Z",
     "start_time": "2021-10-30T15:48:37.812202Z"
    }
   },
   "outputs": [
    {
     "name": "stdout",
     "output_type": "stream",
     "text": [
      "\n",
      "validdf:\n",
      " {'Mixed_feelings': 438, 'Negative': 480, 'Positive': 2257, 'not-Tamil': 176, 'unknown_state': 611} \n",
      "\n",
      "Mixed_feelings starts from:  0\n",
      "Negative starts from:  438\n",
      "Positive starts from:  918\n",
      "not-Tamil starts from:  3175\n",
      "unknown_state starts from:  3351\n",
      "unknown_state ends at:  3962\n"
     ]
    }
   ],
   "source": [
    "val = Counter(valid_df['category'])\n",
    "val_sort = dict(sorted(val.items(), key=lambda item: item[0]))\n",
    "\n",
    "print('\\nvaliddf:\\n',val_sort,'\\n')\n",
    "temp = 0\n",
    "for key in val_sort:\n",
    "    print(key,'starts from: ', temp)\n",
    "    temp = temp + int(val_sort[key])\n",
    "\n",
    "print(key,'ends at: ', temp)"
   ]
  },
  {
   "cell_type": "code",
   "execution_count": 28,
   "id": "9d9d271b",
   "metadata": {
    "ExecuteTime": {
     "end_time": "2021-10-30T15:48:37.842115Z",
     "start_time": "2021-10-30T15:48:37.831144Z"
    }
   },
   "outputs": [],
   "source": [
    "count = 150\n",
    "val_Mixed_feelings = df_temp[:count]\n",
    "val_Negative = df_temp[440:440+count]\n",
    "val_Positive=df_temp[920:920+count]\n",
    "val_not_Tamil = df_temp[3180:3180+count]\n",
    "val_unknown_state = df_temp[3355:3355+count]"
   ]
  },
  {
   "cell_type": "code",
   "execution_count": 29,
   "id": "40f595d2",
   "metadata": {
    "ExecuteTime": {
     "end_time": "2021-10-30T15:48:37.858106Z",
     "start_time": "2021-10-30T15:48:37.844110Z"
    }
   },
   "outputs": [
    {
     "name": "stdout",
     "output_type": "stream",
     "text": [
      "total: 750\n"
     ]
    },
    {
     "data": {
      "text/plain": [
       "(150, 150, 150, 150, 150)"
      ]
     },
     "execution_count": 29,
     "metadata": {},
     "output_type": "execute_result"
    }
   ],
   "source": [
    "print('total:',count*5)\n",
    "len(val_Mixed_feelings), len(val_Negative), len(val_Positive), len(val_not_Tamil), len(val_unknown_state)"
   ]
  },
  {
   "cell_type": "code",
   "execution_count": 30,
   "id": "1ca430f5",
   "metadata": {
    "ExecuteTime": {
     "end_time": "2021-10-30T15:48:37.874030Z",
     "start_time": "2021-10-30T15:48:37.859072Z"
    },
    "scrolled": true
   },
   "outputs": [],
   "source": [
    "val_frames = [val_Mixed_feelings, val_Negative, val_Positive, val_not_Tamil, val_unknown_state ]\n",
    "\n",
    "val_result = pd.concat(val_frames) #concat"
   ]
  },
  {
   "cell_type": "code",
   "execution_count": 31,
   "id": "92a8f4ad",
   "metadata": {
    "ExecuteTime": {
     "end_time": "2021-10-30T15:48:37.889986Z",
     "start_time": "2021-10-30T15:48:37.876025Z"
    }
   },
   "outputs": [
    {
     "data": {
      "text/plain": [
       "Counter({'Mixed_feelings': 150,\n",
       "         'Negative': 150,\n",
       "         'Positive': 150,\n",
       "         'not-Tamil': 150,\n",
       "         'unknown_state': 150})"
      ]
     },
     "execution_count": 31,
     "metadata": {},
     "output_type": "execute_result"
    }
   ],
   "source": [
    "Counter(val_result['category'])"
   ]
  },
  {
   "cell_type": "code",
   "execution_count": 32,
   "id": "3c9035ac",
   "metadata": {
    "ExecuteTime": {
     "end_time": "2021-10-30T15:48:37.905946Z",
     "start_time": "2021-10-30T15:48:37.893990Z"
    }
   },
   "outputs": [],
   "source": [
    "Sub_val = val_result.sample(frac = 1) #shuffle"
   ]
  },
  {
   "cell_type": "code",
   "execution_count": 33,
   "id": "97e0daf1",
   "metadata": {
    "ExecuteTime": {
     "end_time": "2021-10-30T15:48:37.921905Z",
     "start_time": "2021-10-30T15:48:37.907938Z"
    }
   },
   "outputs": [],
   "source": [
    "Sub_val_list = Sub_val['text'].tolist()\n",
    "Sub_val_labels_list = Sub_val['category'].tolist()"
   ]
  },
  {
   "cell_type": "markdown",
   "id": "0958ab5e",
   "metadata": {},
   "source": [
    "# Saving Choosen data into numpy files"
   ]
  },
  {
   "cell_type": "code",
   "execution_count": 34,
   "id": "ea502a6c",
   "metadata": {
    "ExecuteTime": {
     "end_time": "2021-10-30T15:48:37.969773Z",
     "start_time": "2021-10-30T15:48:37.923906Z"
    }
   },
   "outputs": [],
   "source": [
    "#\"C:\\Users\\phvpa\\Desktop\\Experimants\\DataSet\\NumpyFiles\\Kan\\Split2750and250\"\n",
    "Tamil_train = np.array(Sub_Train_list)\n",
    "np.save('NumpyFiles\\Tamil\\Split1600and150\\Tamil_Train_data_1600.npy',Tamil_train)\n",
    "Train_train_label = np.array(Sub_Train_labels_list)\n",
    "np.save('NumpyFiles\\Tamil\\Split1600and150\\Tamil_Train_label_1600.npy',Train_train_label)"
   ]
  },
  {
   "cell_type": "code",
   "execution_count": 35,
   "id": "b31a3f84",
   "metadata": {
    "ExecuteTime": {
     "end_time": "2021-10-30T15:48:38.001688Z",
     "start_time": "2021-10-30T15:48:37.970771Z"
    }
   },
   "outputs": [
    {
     "name": "stdout",
     "output_type": "stream",
     "text": [
      "(8000,)\n",
      "(8000,)\n"
     ]
    }
   ],
   "source": [
    "temp21 =np.load('NumpyFiles\\Tamil\\Split1600and150\\Tamil_Train_data_1600.npy')\n",
    "print(temp21.shape)\n",
    "temp22 =np.load('NumpyFiles\\Tamil\\Split1600and150\\Tamil_Train_label_1600.npy')\n",
    "print(temp22.shape)"
   ]
  },
  {
   "cell_type": "code",
   "execution_count": 36,
   "id": "bfaac0c9",
   "metadata": {
    "ExecuteTime": {
     "end_time": "2021-10-30T15:48:38.017645Z",
     "start_time": "2021-10-30T15:48:38.003683Z"
    }
   },
   "outputs": [],
   "source": [
    "Tamil_val = np.array(Sub_val_list)\n",
    "np.save(\"NumpyFiles\\Tamil\\Split1600and150\\Tamil_Val_data_150.npy\",Tamil_val)\n",
    "Tamil_val_label = np.array(Sub_val_labels_list)\n",
    "np.save(\"NumpyFiles\\Tamil\\Split1600and150\\Tamil_val_label_150.npy\",Tamil_val_label)"
   ]
  },
  {
   "cell_type": "code",
   "execution_count": 37,
   "id": "f55c3d41",
   "metadata": {
    "ExecuteTime": {
     "end_time": "2021-10-30T15:48:38.033603Z",
     "start_time": "2021-10-30T15:48:38.018643Z"
    }
   },
   "outputs": [
    {
     "name": "stdout",
     "output_type": "stream",
     "text": [
      "(750,)\n",
      "(750,)\n"
     ]
    }
   ],
   "source": [
    "temp11 =np.load('NumpyFiles\\Tamil\\Split1600and150\\Tamil_Val_data_150.npy')\n",
    "print(temp11.shape)\n",
    "temp12 =np.load('NumpyFiles\\Tamil\\Split1600and150\\Tamil_val_label_150.npy')\n",
    "print(temp12.shape)"
   ]
  },
  {
   "cell_type": "code",
   "execution_count": 38,
   "id": "35ab564b",
   "metadata": {
    "ExecuteTime": {
     "end_time": "2021-10-30T15:48:38.065519Z",
     "start_time": "2021-10-30T15:48:38.034601Z"
    }
   },
   "outputs": [
    {
     "data": {
      "text/html": [
       "<div>\n",
       "<style scoped>\n",
       "    .dataframe tbody tr th:only-of-type {\n",
       "        vertical-align: middle;\n",
       "    }\n",
       "\n",
       "    .dataframe tbody tr th {\n",
       "        vertical-align: top;\n",
       "    }\n",
       "\n",
       "    .dataframe thead th {\n",
       "        text-align: right;\n",
       "    }\n",
       "</style>\n",
       "<table border=\"1\" class=\"dataframe\">\n",
       "  <thead>\n",
       "    <tr style=\"text-align: right;\">\n",
       "      <th></th>\n",
       "      <th>Data</th>\n",
       "      <th>label</th>\n",
       "    </tr>\n",
       "  </thead>\n",
       "  <tbody>\n",
       "    <tr>\n",
       "      <th>0</th>\n",
       "      <td>vivegam trailer  mersal all d best thala  team</td>\n",
       "      <td>Mixed_feelings</td>\n",
       "    </tr>\n",
       "    <tr>\n",
       "      <th>1</th>\n",
       "      <td>any malayalies   rajani sir hit like here</td>\n",
       "      <td>unknown_state</td>\n",
       "    </tr>\n",
       "    <tr>\n",
       "      <th>2</th>\n",
       "      <td>ரஜினி சாரை பத்தி பேசினா மட்டும்தான் உங்க படத்த...</td>\n",
       "      <td>unknown_state</td>\n",
       "    </tr>\n",
       "    <tr>\n",
       "      <th>3</th>\n",
       "      <td>romba naal kalichu oru naal padam politics bas...</td>\n",
       "      <td>unknown_state</td>\n",
       "    </tr>\n",
       "    <tr>\n",
       "      <th>4</th>\n",
       "      <td>இப்படம் வெற்றி பெற மனிதர்கள் சார்பாக வாழ்த்துக...</td>\n",
       "      <td>Positive</td>\n",
       "    </tr>\n",
       "    <tr>\n",
       "      <th>...</th>\n",
       "      <td>...</td>\n",
       "      <td>...</td>\n",
       "    </tr>\n",
       "    <tr>\n",
       "      <th>7995</th>\n",
       "      <td>anils fans ellaarum vaya mudikitu odungada ell...</td>\n",
       "      <td>Mixed_feelings</td>\n",
       "    </tr>\n",
       "    <tr>\n",
       "      <th>7996</th>\n",
       "      <td>ஜாதி படம் எடுத்தா ஓடும் என்ற ஆசை உருவானாதா அடு...</td>\n",
       "      <td>Mixed_feelings</td>\n",
       "    </tr>\n",
       "    <tr>\n",
       "      <th>7997</th>\n",
       "      <td>தேர்தலில் இந்த ஒற்றுமை இருந்தால் சிலபேருக்கு ச...</td>\n",
       "      <td>Mixed_feelings</td>\n",
       "    </tr>\n",
       "    <tr>\n",
       "      <th>7998</th>\n",
       "      <td>okkkaaa makkkaaaa mass pppppaaaaaaaa this is w...</td>\n",
       "      <td>Positive</td>\n",
       "    </tr>\n",
       "    <tr>\n",
       "      <th>7999</th>\n",
       "      <td>ayiooooooo vera vera vera vera mathiri</td>\n",
       "      <td>Positive</td>\n",
       "    </tr>\n",
       "  </tbody>\n",
       "</table>\n",
       "<p>8000 rows × 2 columns</p>\n",
       "</div>"
      ],
      "text/plain": [
       "                                                   Data           label\n",
       "0       vivegam trailer  mersal all d best thala  team   Mixed_feelings\n",
       "1             any malayalies   rajani sir hit like here   unknown_state\n",
       "2     ரஜினி சாரை பத்தி பேசினா மட்டும்தான் உங்க படத்த...   unknown_state\n",
       "3     romba naal kalichu oru naal padam politics bas...   unknown_state\n",
       "4     இப்படம் வெற்றி பெற மனிதர்கள் சார்பாக வாழ்த்துக...        Positive\n",
       "...                                                 ...             ...\n",
       "7995  anils fans ellaarum vaya mudikitu odungada ell...  Mixed_feelings\n",
       "7996  ஜாதி படம் எடுத்தா ஓடும் என்ற ஆசை உருவானாதா அடு...  Mixed_feelings\n",
       "7997  தேர்தலில் இந்த ஒற்றுமை இருந்தால் சிலபேருக்கு ச...  Mixed_feelings\n",
       "7998  okkkaaa makkkaaaa mass pppppaaaaaaaa this is w...        Positive\n",
       "7999             ayiooooooo vera vera vera vera mathiri        Positive\n",
       "\n",
       "[8000 rows x 2 columns]"
      ]
     },
     "execution_count": 38,
     "metadata": {},
     "output_type": "execute_result"
    }
   ],
   "source": [
    "Traindf = pd.DataFrame({'Data' : temp21,'label' : temp22}, columns=['Data', 'label'])\n",
    "Traindf"
   ]
  },
  {
   "cell_type": "code",
   "execution_count": 39,
   "id": "0e4e51c5",
   "metadata": {
    "ExecuteTime": {
     "end_time": "2021-10-30T15:48:38.081475Z",
     "start_time": "2021-10-30T15:48:38.067512Z"
    }
   },
   "outputs": [
    {
     "data": {
      "text/html": [
       "<div>\n",
       "<style scoped>\n",
       "    .dataframe tbody tr th:only-of-type {\n",
       "        vertical-align: middle;\n",
       "    }\n",
       "\n",
       "    .dataframe tbody tr th {\n",
       "        vertical-align: top;\n",
       "    }\n",
       "\n",
       "    .dataframe thead th {\n",
       "        text-align: right;\n",
       "    }\n",
       "</style>\n",
       "<table border=\"1\" class=\"dataframe\">\n",
       "  <thead>\n",
       "    <tr style=\"text-align: right;\">\n",
       "      <th></th>\n",
       "      <th>Data</th>\n",
       "      <th>label</th>\n",
       "    </tr>\n",
       "  </thead>\n",
       "  <tbody>\n",
       "    <tr>\n",
       "      <th>0</th>\n",
       "      <td>nallave illa  ipd over ah panni panni tha ippo...</td>\n",
       "      <td>Negative</td>\n",
       "    </tr>\n",
       "    <tr>\n",
       "      <th>1</th>\n",
       "      <td>iam waiting for kaappaan   i love you surya anna</td>\n",
       "      <td>not-Tamil</td>\n",
       "    </tr>\n",
       "    <tr>\n",
       "      <th>2</th>\n",
       "      <td>suyama sinthika therinjavan tha super hero</td>\n",
       "      <td>Mixed_feelings</td>\n",
       "    </tr>\n",
       "    <tr>\n",
       "      <th>3</th>\n",
       "      <td>sai pallavi ni evado baga thinesthunnadu papa ...</td>\n",
       "      <td>unknown_state</td>\n",
       "    </tr>\n",
       "    <tr>\n",
       "      <th>4</th>\n",
       "      <td>srilankan bakery van bgm</td>\n",
       "      <td>Negative</td>\n",
       "    </tr>\n",
       "    <tr>\n",
       "      <th>...</th>\n",
       "      <td>...</td>\n",
       "      <td>...</td>\n",
       "    </tr>\n",
       "    <tr>\n",
       "      <th>745</th>\n",
       "      <td>enum nala pani irukalaam orginal pink trailer ...</td>\n",
       "      <td>Positive</td>\n",
       "    </tr>\n",
       "    <tr>\n",
       "      <th>746</th>\n",
       "      <td>aik aur movie ary yar bas karoo tum loog takty...</td>\n",
       "      <td>not-Tamil</td>\n",
       "    </tr>\n",
       "    <tr>\n",
       "      <th>747</th>\n",
       "      <td>என்னைக்குமே தலைவர் தான் மாஸ்</td>\n",
       "      <td>Positive</td>\n",
       "    </tr>\n",
       "    <tr>\n",
       "      <th>748</th>\n",
       "      <td>என்ன ஜி படம் ஷங்கர் சார் range la எடுகிறீங்களa...</td>\n",
       "      <td>Mixed_feelings</td>\n",
       "    </tr>\n",
       "    <tr>\n",
       "      <th>749</th>\n",
       "      <td>intha padathula yaru hero  sk ah illa arjun ah</td>\n",
       "      <td>Negative</td>\n",
       "    </tr>\n",
       "  </tbody>\n",
       "</table>\n",
       "<p>750 rows × 2 columns</p>\n",
       "</div>"
      ],
      "text/plain": [
       "                                                  Data           label\n",
       "0    nallave illa  ipd over ah panni panni tha ippo...        Negative\n",
       "1     iam waiting for kaappaan   i love you surya anna       not-Tamil\n",
       "2           suyama sinthika therinjavan tha super hero  Mixed_feelings\n",
       "3    sai pallavi ni evado baga thinesthunnadu papa ...   unknown_state\n",
       "4                             srilankan bakery van bgm        Negative\n",
       "..                                                 ...             ...\n",
       "745  enum nala pani irukalaam orginal pink trailer ...        Positive\n",
       "746  aik aur movie ary yar bas karoo tum loog takty...       not-Tamil\n",
       "747                      என்னைக்குமே தலைவர் தான் மாஸ்         Positive\n",
       "748  என்ன ஜி படம் ஷங்கர் சார் range la எடுகிறீங்களa...  Mixed_feelings\n",
       "749    intha padathula yaru hero  sk ah illa arjun ah         Negative\n",
       "\n",
       "[750 rows x 2 columns]"
      ]
     },
     "execution_count": 39,
     "metadata": {},
     "output_type": "execute_result"
    }
   ],
   "source": [
    "Testdf = pd.DataFrame({'Data' : temp11,'label' : temp12}, columns=['Data', 'label'])\n",
    "Testdf"
   ]
  },
  {
   "cell_type": "code",
   "execution_count": null,
   "id": "5a62482f",
   "metadata": {},
   "outputs": [],
   "source": []
  },
  {
   "cell_type": "code",
   "execution_count": null,
   "id": "fd8bbdfa",
   "metadata": {},
   "outputs": [],
   "source": []
  }
 ],
 "metadata": {
  "kernelspec": {
   "display_name": "Python 3 (ipykernel)",
   "language": "python",
   "name": "python3"
  },
  "language_info": {
   "codemirror_mode": {
    "name": "ipython",
    "version": 3
   },
   "file_extension": ".py",
   "mimetype": "text/x-python",
   "name": "python",
   "nbconvert_exporter": "python",
   "pygments_lexer": "ipython3",
   "version": "3.8.11"
  },
  "latex_envs": {
   "LaTeX_envs_menu_present": true,
   "autoclose": false,
   "autocomplete": true,
   "bibliofile": "biblio.bib",
   "cite_by": "apalike",
   "current_citInitial": 1,
   "eqLabelWithNumbers": true,
   "eqNumInitial": 1,
   "hotkeys": {
    "equation": "Ctrl-E",
    "itemize": "Ctrl-I"
   },
   "labels_anchors": false,
   "latex_user_defs": false,
   "report_style_numbering": false,
   "user_envs_cfg": false
  },
  "toc": {
   "base_numbering": 1,
   "nav_menu": {},
   "number_sections": true,
   "sideBar": true,
   "skip_h1_title": false,
   "title_cell": "Table of Contents",
   "title_sidebar": "Contents",
   "toc_cell": false,
   "toc_position": {},
   "toc_section_display": true,
   "toc_window_display": true
  }
 },
 "nbformat": 4,
 "nbformat_minor": 5
}
