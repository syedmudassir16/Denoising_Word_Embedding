{
 "cells": [
  {
   "cell_type": "code",
   "execution_count": 1,
   "id": "4c75a642",
   "metadata": {
    "ExecuteTime": {
     "end_time": "2021-10-30T09:54:09.667538Z",
     "start_time": "2021-10-30T09:54:09.033204Z"
    },
    "colab": {
     "base_uri": "https://localhost:8080/"
    },
    "id": "NPsBVUt4CPFK",
    "outputId": "953cf603-64ba-45e3-85be-bc007232150e"
   },
   "outputs": [],
   "source": [
    "import math\n",
    "import pandas as pd\n",
    "import re\n",
    "import numpy as np\n",
    "import itertools\n",
    "import collections\n",
    "from collections import defaultdict, Counter\n",
    "import string\n",
    "from sklearn.preprocessing import LabelEncoder"
   ]
  },
  {
   "cell_type": "code",
   "execution_count": 2,
   "id": "c7975274",
   "metadata": {
    "ExecuteTime": {
     "end_time": "2021-10-30T09:54:09.699453Z",
     "start_time": "2021-10-30T09:54:09.668542Z"
    },
    "colab": {
     "base_uri": "https://localhost:8080/"
    },
    "id": "6GV9JIe0CO2b",
    "outputId": "27988521-db2e-4bcf-fbf0-4116cd5497e0"
   },
   "outputs": [
    {
     "name": "stdout",
     "output_type": "stream",
     "text": [
      " Volume in drive C is Acer\n",
      " Volume Serial Number is 3818-7542\n",
      "\n",
      " Directory of C:\\Users\\phvpa\\Desktop\\Experimants\\DataSet\n",
      "\n",
      "30-10-2021  15:23    <DIR>          .\n",
      "30-10-2021  12:45    <DIR>          ..\n",
      "30-10-2021  15:16    <DIR>          .ipynb_checkpoints\n",
      "30-10-2021  15:23            36,012 Kan_Preprocessing _and_spliting_2750and250.ipynb\n",
      "30-10-2021  12:45    <DIR>          Kannada\n",
      "30-10-2021  13:57            38,450 Mal_Preprocessing _and_spliting_5000and500.ipynb\n",
      "30-10-2021  12:45    <DIR>          Malyalam\n",
      "30-10-2021  12:54    <DIR>          NumpyFiles\n",
      "30-10-2021  12:45    <DIR>          Tamil\n",
      "               2 File(s)         74,462 bytes\n",
      "               7 Dir(s)  311,477,403,648 bytes free\n"
     ]
    }
   ],
   "source": [
    "ls"
   ]
  },
  {
   "cell_type": "code",
   "execution_count": 3,
   "id": "5b44a684",
   "metadata": {
    "ExecuteTime": {
     "end_time": "2021-10-30T09:54:09.714381Z",
     "start_time": "2021-10-30T09:54:09.700451Z"
    }
   },
   "outputs": [],
   "source": [
    "#pd.options.display.max_rows = None"
   ]
  },
  {
   "cell_type": "code",
   "execution_count": 4,
   "id": "36949d52",
   "metadata": {
    "ExecuteTime": {
     "end_time": "2021-10-30T09:54:09.762286Z",
     "start_time": "2021-10-30T09:54:09.717374Z"
    },
    "colab": {
     "base_uri": "https://localhost:8080/"
    },
    "id": "b6f18C1DCRRT",
    "outputId": "4982a2f2-ca5a-42a8-80b8-35ae41d71c0b"
   },
   "outputs": [
    {
     "name": "stdout",
     "output_type": "stream",
     "text": [
      "6212\n",
      "691\n"
     ]
    },
    {
     "data": {
      "text/plain": [
       "768"
      ]
     },
     "execution_count": 4,
     "metadata": {},
     "output_type": "execute_result"
    }
   ],
   "source": [
    "#\"C:\\Users\\phvpa\\Desktop\\Experimants\\DataSet\\Kannada\\kannada_sentiment_full_train.tsv\"\n",
    "#\"C:\\Users\\phvpa\\Desktop\\Experimants\\DataSet\\Kannada\\kannada_sentiment_full_test_withoutlabels.tsv\"\n",
    "#\"C:\\Users\\phvpa\\Desktop\\Experimants\\DataSet\\Kannada\\kannada_sentiment_full_dev.tsv\"\n",
    "train_df = pd.read_csv(\"Kannada\\kannada_sentiment_full_train.tsv\", sep='\\t')\n",
    "print(len(train_df))\n",
    "\n",
    "#test_df = pd.read_csv(\"Mal_sentiment_full_dev.tsv\", header=None, sep='\\t')\n",
    "valid_df = pd.read_csv(\"Kannada\\kannada_sentiment_full_dev.tsv\", sep='\\t')\n",
    "print(len(valid_df))\n",
    "\n",
    "test_df = pd.read_csv(\"Kannada\\kannada_sentiment_full_test_withoutlabels.tsv\", sep='\\t')\n",
    "len(test_df)"
   ]
  },
  {
   "cell_type": "code",
   "execution_count": 5,
   "id": "ffc8b4d0",
   "metadata": {
    "ExecuteTime": {
     "end_time": "2021-10-30T09:54:09.778211Z",
     "start_time": "2021-10-30T09:54:09.763284Z"
    }
   },
   "outputs": [
    {
     "data": {
      "text/html": [
       "<div>\n",
       "<style scoped>\n",
       "    .dataframe tbody tr th:only-of-type {\n",
       "        vertical-align: middle;\n",
       "    }\n",
       "\n",
       "    .dataframe tbody tr th {\n",
       "        vertical-align: top;\n",
       "    }\n",
       "\n",
       "    .dataframe thead th {\n",
       "        text-align: right;\n",
       "    }\n",
       "</style>\n",
       "<table border=\"1\" class=\"dataframe\">\n",
       "  <thead>\n",
       "    <tr style=\"text-align: right;\">\n",
       "      <th></th>\n",
       "      <th>text</th>\n",
       "      <th>category</th>\n",
       "    </tr>\n",
       "  </thead>\n",
       "  <tbody>\n",
       "    <tr>\n",
       "      <th>0</th>\n",
       "      <td>ಒಂದು ದೇಶದ ಮುಂದುವರಿಯುವುದು ಅದರ ಆರ್ಥಿಕ ಸ್ಥಿತಿಯನ್ನ...</td>\n",
       "      <td>Negative</td>\n",
       "    </tr>\n",
       "    <tr>\n",
       "      <th>1</th>\n",
       "      <td>ಕನ್ನಡದಲ್ಲಿ ಡೈಲಿ ಟೆಕ್ ಅಪ್ಡೇಟ್ಸ್ ಪಡೆಯಲು ಸಬ್ಸ್ಕ್ರ...</td>\n",
       "      <td>Positive</td>\n",
       "    </tr>\n",
       "    <tr>\n",
       "      <th>2</th>\n",
       "      <td>Super sar song</td>\n",
       "      <td>not-Kannada</td>\n",
       "    </tr>\n",
       "    <tr>\n",
       "      <th>3</th>\n",
       "      <td>Tiktokers present situation... nನೋಡುವವರು ಯಾರು ...</td>\n",
       "      <td>Negative</td>\n",
       "    </tr>\n",
       "    <tr>\n",
       "      <th>4</th>\n",
       "      <td>Super ಸಾಂಗ್ ವೆರಿ ನೈಸ್....</td>\n",
       "      <td>Positive</td>\n",
       "    </tr>\n",
       "    <tr>\n",
       "      <th>...</th>\n",
       "      <td>...</td>\n",
       "      <td>...</td>\n",
       "    </tr>\n",
       "    <tr>\n",
       "      <th>6207</th>\n",
       "      <td>@A.R.W   tumbad tanhaji andhadhun aise bahot h...</td>\n",
       "      <td>not-Kannada</td>\n",
       "    </tr>\n",
       "    <tr>\n",
       "      <th>6208</th>\n",
       "      <td>പൊളി ഡാൻസ്🥰 രക്ഷിത് ഷെട്ടി മാസ്സ്</td>\n",
       "      <td>not-Kannada</td>\n",
       "    </tr>\n",
       "    <tr>\n",
       "      <th>6209</th>\n",
       "      <td>Bro...nNeen este Roast madudru...China ne beku...</td>\n",
       "      <td>Negative</td>\n",
       "    </tr>\n",
       "    <tr>\n",
       "      <th>6210</th>\n",
       "      <td>ಕೌಶಲ್ಯ ಇದ್ದವರ ಸಂಖ್ಯೆ ಕಡಿಮೆ ಇಲ್ಲ ಸರ್ ತುಂಬಾ ಪ್ರತ...</td>\n",
       "      <td>Positive</td>\n",
       "    </tr>\n",
       "    <tr>\n",
       "      <th>6211</th>\n",
       "      <td>26 M Views</td>\n",
       "      <td>Mixed feelings</td>\n",
       "    </tr>\n",
       "  </tbody>\n",
       "</table>\n",
       "<p>6212 rows × 2 columns</p>\n",
       "</div>"
      ],
      "text/plain": [
       "                                                   text        category\n",
       "0     ಒಂದು ದೇಶದ ಮುಂದುವರಿಯುವುದು ಅದರ ಆರ್ಥಿಕ ಸ್ಥಿತಿಯನ್ನ...        Negative\n",
       "1     ಕನ್ನಡದಲ್ಲಿ ಡೈಲಿ ಟೆಕ್ ಅಪ್ಡೇಟ್ಸ್ ಪಡೆಯಲು ಸಬ್ಸ್ಕ್ರ...        Positive\n",
       "2                                        Super sar song     not-Kannada\n",
       "3     Tiktokers present situation... nನೋಡುವವರು ಯಾರು ...        Negative\n",
       "4                             Super ಸಾಂಗ್ ವೆರಿ ನೈಸ್....        Positive\n",
       "...                                                 ...             ...\n",
       "6207  @A.R.W   tumbad tanhaji andhadhun aise bahot h...     not-Kannada\n",
       "6208                  പൊളി ഡാൻസ്🥰 രക്ഷിത് ഷെട്ടി മാസ്സ്     not-Kannada\n",
       "6209  Bro...nNeen este Roast madudru...China ne beku...        Negative\n",
       "6210  ಕೌಶಲ್ಯ ಇದ್ದವರ ಸಂಖ್ಯೆ ಕಡಿಮೆ ಇಲ್ಲ ಸರ್ ತುಂಬಾ ಪ್ರತ...        Positive\n",
       "6211                                         26 M Views  Mixed feelings\n",
       "\n",
       "[6212 rows x 2 columns]"
      ]
     },
     "execution_count": 5,
     "metadata": {},
     "output_type": "execute_result"
    }
   ],
   "source": [
    "train_df"
   ]
  },
  {
   "cell_type": "code",
   "execution_count": 6,
   "id": "008088af",
   "metadata": {
    "ExecuteTime": {
     "end_time": "2021-10-30T09:54:09.794168Z",
     "start_time": "2021-10-30T09:54:09.779208Z"
    },
    "scrolled": true
   },
   "outputs": [
    {
     "data": {
      "text/plain": [
       "0             Negative\n",
       "1             Positive\n",
       "2          not-Kannada\n",
       "3             Negative\n",
       "4             Positive\n",
       "             ...      \n",
       "6207       not-Kannada\n",
       "6208       not-Kannada\n",
       "6209          Negative\n",
       "6210          Positive\n",
       "6211    Mixed feelings\n",
       "Name: category, Length: 6212, dtype: object"
      ]
     },
     "execution_count": 6,
     "metadata": {},
     "output_type": "execute_result"
    }
   ],
   "source": [
    "train_df['category']"
   ]
  },
  {
   "cell_type": "code",
   "execution_count": 7,
   "id": "3fea4be7",
   "metadata": {
    "ExecuteTime": {
     "end_time": "2021-10-30T09:54:10.373710Z",
     "start_time": "2021-10-30T09:54:09.795167Z"
    },
    "id": "5M7bMSkdAhbS"
   },
   "outputs": [],
   "source": [
    "#removing all the emoji from the given data\n",
    "\n",
    "def deEmojify(text):\n",
    "    regrex_pattern = re.compile(pattern = \"[\"\n",
    "        u\"\\U0001F600-\\U0001F64F\"  # emoticons\n",
    "        u\"\\U0001F300-\\U0001F5FF\"  # symbols & pictographs\n",
    "        u\"\\U0001F680-\\U0001F6FF\"  # transport & map symbols\n",
    "        u\"\\U0001F1E0-\\U0001F1FF\"  # flags (iOS)\n",
    "        u\"\\U00002500-\\U00002BEF\"  # chinese char\n",
    "        u\"\\U00002702-\\U000027B0\"\n",
    "        u\"\\U00002702-\\U000027B0\"\n",
    "        u\"\\U000024C2-\\U0001F251\"\n",
    "        u\"\\U0001f926-\\U0001f937\"\n",
    "        u\"\\U00010000-\\U0010ffff\"\n",
    "        u\"\\u2640-\\u2642\"\n",
    "        u\"\\u2600-\\u2B55\"\n",
    "        u\"\\u200d\"\n",
    "        u\"\\u23cf\"\n",
    "        u\"\\u23e9\"\n",
    "        u\"\\u231a\"\n",
    "        u\"\\ufe0f\"  # dingbats\n",
    "        u\"\\u3030\"\n",
    "        \"]+\", flags = re.UNICODE)\n",
    "    return regrex_pattern.sub(r'',text)\n",
    "\n",
    "\n",
    "for i in range(len(train_df)):\n",
    "    temp1 = deEmojify(train_df['text'][i])\n",
    "    train_df['text'][i] = temp1\n",
    "\n",
    "for j in range(len(valid_df)):\n",
    "    temp2 = deEmojify(valid_df['text'][j])\n",
    "    valid_df['text'][j] = temp2\n",
    "\n",
    "for k in range(len(test_df)):\n",
    "    temp3 = deEmojify(test_df['text'][k])\n",
    "    test_df['text'][k]=temp3"
   ]
  },
  {
   "cell_type": "code",
   "execution_count": 8,
   "id": "b0ac983b",
   "metadata": {
    "ExecuteTime": {
     "end_time": "2021-10-30T09:54:10.388669Z",
     "start_time": "2021-10-30T09:54:10.374672Z"
    },
    "id": "kvZOI__qZ7zd"
   },
   "outputs": [],
   "source": [
    "def preprocess_data(text):\n",
    "  user_name = '@[A-Za-z0-9]+' # Pattern for matching the user names in the tweet\n",
    "  has_tag = '#[A-Za-z0-9]+' # Pattern for matching the hasgtags in the tweer\n",
    "  url = 'https?:\\/\\/[A-Za-z0-9\\.\\/\\-]+' # Pattern for matching the URLs in the tweet\n",
    "  #emoji_pattern = r'/[x{1F600}-x{1F64F}]/u'\n",
    "  \n",
    "  x = text.lower()  # Lower casing all the characters\n",
    "  x = re.sub(user_name, '', x) # Replace the username with an empty characrer\n",
    "  x = re.sub(has_tag,'',x) # Replace the hashtags with an empty characrer\n",
    "  x = re.sub(url, '', x) # Replace the URLs with an empty characrer\n",
    "  #x = re.sub(emoji_pattern, '', x)\n",
    "  x = x.translate(str.maketrans('', '', string.punctuation)) # Replace all the characters except alphabets and digits from the tweet\n",
    "\n",
    "  return x"
   ]
  },
  {
   "cell_type": "code",
   "execution_count": 9,
   "id": "dbff7146",
   "metadata": {
    "ExecuteTime": {
     "end_time": "2021-10-30T09:54:10.449638Z",
     "start_time": "2021-10-30T09:54:10.390660Z"
    },
    "id": "kXmiAchmcPq_"
   },
   "outputs": [],
   "source": [
    "train_df['text'] = train_df['text'].apply(lambda x: preprocess_data(x)) # Apply the clean_data() to all the entries in the dataframe\n",
    "valid_df['text'] = valid_df['text'].apply(lambda x: preprocess_data(x)) # Apply the clean_data() to all the entries in the dataframe\n",
    "test_df['text'] = test_df['text'].apply(lambda x: preprocess_data(x)) # Apply the clean_data() to all the entries in the dataframe"
   ]
  },
  {
   "cell_type": "code",
   "execution_count": 10,
   "id": "488a71eb",
   "metadata": {
    "ExecuteTime": {
     "end_time": "2021-10-30T09:54:10.480602Z",
     "start_time": "2021-10-30T09:54:10.451625Z"
    }
   },
   "outputs": [],
   "source": [
    "np.save('NumpyFiles\\Kan\\Fulldata\\Kan_Train_Full_data.npy',list(train_df['text']))\n",
    "np.save('NumpyFiles\\Kan\\Fulldata\\Kan_Train_Full_labels.npy',list(train_df['category']))\n",
    "np.save('NumpyFiles\\Kan\\Fulldata\\Kan_Val_Full_data.npy',list(valid_df['text']))\n",
    "np.save('NumpyFiles\\Kan\\Fulldata\\Kan_Val_Full_labels.npy',list(valid_df['category']))\n",
    "np.save('NumpyFiles\\Kan\\Fulldata\\Kan_Test_Full_data.npy',list(valid_df['text']))"
   ]
  },
  {
   "cell_type": "code",
   "execution_count": 11,
   "id": "dff03348",
   "metadata": {
    "ExecuteTime": {
     "end_time": "2021-10-30T09:54:10.510750Z",
     "start_time": "2021-10-30T09:54:10.481572Z"
    }
   },
   "outputs": [],
   "source": [
    "temp1 = np.load('NumpyFiles\\Kan\\Fulldata\\Kan_Train_Full_data.npy')\n",
    "temp2 = np.load('NumpyFiles\\Kan\\Fulldata\\Kan_Train_Full_labels.npy')\n",
    "temp3 = np.load('NumpyFiles\\Kan\\Fulldata\\Kan_Val_Full_data.npy')\n",
    "temp4 = np.load('NumpyFiles\\Kan\\Fulldata\\Kan_Val_Full_labels.npy')\n",
    "temp5 = np.load('NumpyFiles\\Kan\\Fulldata\\Kan_Test_Full_data.npy')"
   ]
  },
  {
   "cell_type": "code",
   "execution_count": 12,
   "id": "56146dd0",
   "metadata": {
    "ExecuteTime": {
     "end_time": "2021-10-30T09:54:10.525711Z",
     "start_time": "2021-10-30T09:54:10.511749Z"
    }
   },
   "outputs": [
    {
     "data": {
      "text/plain": [
       "((6212,), (6212,), (691,), (691,))"
      ]
     },
     "execution_count": 12,
     "metadata": {},
     "output_type": "execute_result"
    }
   ],
   "source": [
    "temp1.shape, temp2.shape, temp3.shape, temp4.shape"
   ]
  },
  {
   "cell_type": "markdown",
   "id": "18f236a6",
   "metadata": {},
   "source": [
    "# Dividing train and valid separatly:"
   ]
  },
  {
   "cell_type": "markdown",
   "id": "fb3c35a2",
   "metadata": {},
   "source": [
    "### Train data"
   ]
  },
  {
   "cell_type": "code",
   "execution_count": 13,
   "id": "a9aa1472",
   "metadata": {
    "ExecuteTime": {
     "end_time": "2021-10-30T09:54:10.540671Z",
     "start_time": "2021-10-30T09:54:10.526709Z"
    },
    "scrolled": true
   },
   "outputs": [
    {
     "data": {
      "text/html": [
       "<div>\n",
       "<style scoped>\n",
       "    .dataframe tbody tr th:only-of-type {\n",
       "        vertical-align: middle;\n",
       "    }\n",
       "\n",
       "    .dataframe tbody tr th {\n",
       "        vertical-align: top;\n",
       "    }\n",
       "\n",
       "    .dataframe thead th {\n",
       "        text-align: right;\n",
       "    }\n",
       "</style>\n",
       "<table border=\"1\" class=\"dataframe\">\n",
       "  <thead>\n",
       "    <tr style=\"text-align: right;\">\n",
       "      <th></th>\n",
       "      <th>text</th>\n",
       "      <th>category</th>\n",
       "    </tr>\n",
       "  </thead>\n",
       "  <tbody>\n",
       "    <tr>\n",
       "      <th>6211</th>\n",
       "      <td>26 m views</td>\n",
       "      <td>Mixed feelings</td>\n",
       "    </tr>\n",
       "    <tr>\n",
       "      <th>4479</th>\n",
       "      <td>yalru hands up madi avane srimannarayana</td>\n",
       "      <td>Mixed feelings</td>\n",
       "    </tr>\n",
       "    <tr>\n",
       "      <th>4476</th>\n",
       "      <td>h ahamad bava ಅಣ್ಣ ಒಂದೆರಡು ಪದ ಬಿಟ್ಟು ಇನ್ನೂ ಉಳ...</td>\n",
       "      <td>Mixed feelings</td>\n",
       "    </tr>\n",
       "    <tr>\n",
       "      <th>547</th>\n",
       "      <td>avane shriman narayana</td>\n",
       "      <td>Mixed feelings</td>\n",
       "    </tr>\n",
       "    <tr>\n",
       "      <th>4475</th>\n",
       "      <td>bro nivu adthiro game yavudu</td>\n",
       "      <td>Mixed feelings</td>\n",
       "    </tr>\n",
       "    <tr>\n",
       "      <th>...</th>\n",
       "      <td>...</td>\n",
       "      <td>...</td>\n",
       "    </tr>\n",
       "    <tr>\n",
       "      <th>4082</th>\n",
       "      <td>vishnuvardhana agreed</td>\n",
       "      <td>unknown state</td>\n",
       "    </tr>\n",
       "    <tr>\n",
       "      <th>4731</th>\n",
       "      <td>sir enthavru jaatre dialogue</td>\n",
       "      <td>unknown state</td>\n",
       "    </tr>\n",
       "    <tr>\n",
       "      <th>315</th>\n",
       "      <td></td>\n",
       "      <td>unknown state</td>\n",
       "    </tr>\n",
       "    <tr>\n",
       "      <th>1838</th>\n",
       "      <td>ಎಂಥ lines</td>\n",
       "      <td>unknown state</td>\n",
       "    </tr>\n",
       "    <tr>\n",
       "      <th>1385</th>\n",
       "      <td>one more lucia movie</td>\n",
       "      <td>unknown state</td>\n",
       "    </tr>\n",
       "  </tbody>\n",
       "</table>\n",
       "<p>6212 rows × 2 columns</p>\n",
       "</div>"
      ],
      "text/plain": [
       "                                                   text        category\n",
       "6211                                         26 m views  Mixed feelings\n",
       "4479           yalru hands up madi avane srimannarayana  Mixed feelings\n",
       "4476   h ahamad bava ಅಣ್ಣ ಒಂದೆರಡು ಪದ ಬಿಟ್ಟು ಇನ್ನೂ ಉಳ...  Mixed feelings\n",
       "547                              avane shriman narayana  Mixed feelings\n",
       "4475                       bro nivu adthiro game yavudu  Mixed feelings\n",
       "...                                                 ...             ...\n",
       "4082                              vishnuvardhana agreed   unknown state\n",
       "4731                       sir enthavru jaatre dialogue   unknown state\n",
       "315                                                       unknown state\n",
       "1838                                          ಎಂಥ lines   unknown state\n",
       "1385                               one more lucia movie   unknown state\n",
       "\n",
       "[6212 rows x 2 columns]"
      ]
     },
     "execution_count": 13,
     "metadata": {},
     "output_type": "execute_result"
    }
   ],
   "source": [
    "df_temp2 = train_df.sort_values('category')\n",
    "df_temp2"
   ]
  },
  {
   "cell_type": "code",
   "execution_count": 14,
   "id": "e6b13c7d",
   "metadata": {
    "ExecuteTime": {
     "end_time": "2021-10-30T09:54:10.556629Z",
     "start_time": "2021-10-30T09:54:10.541669Z"
    }
   },
   "outputs": [
    {
     "name": "stdout",
     "output_type": "stream",
     "text": [
      "Traindf: \n",
      " {'Mixed feelings': 574, 'Negative': 1188, 'Positive': 2823, 'not-Kannada': 916, 'unknown state': 711} \n",
      "\n",
      "Mixed feelings starts from:  0\n",
      "Negative starts from:  574\n",
      "Positive starts from:  1762\n",
      "not-Kannada starts from:  4585\n",
      "unknown state starts from:  5501\n",
      "unknown state ends at:  6212\n"
     ]
    }
   ],
   "source": [
    "train = Counter(train_df['category'])\n",
    "train_sort = dict(sorted(train.items(), key=lambda item: item[0]))\n",
    "\n",
    "print('Traindf: \\n',train_sort,'\\n')\n",
    "temp = 0\n",
    "for key in train_sort:\n",
    "    print(key,'starts from: ', temp)\n",
    "    temp = temp + int(train_sort[key])\n",
    "print(key,'ends at: ', temp)"
   ]
  },
  {
   "cell_type": "code",
   "execution_count": 15,
   "id": "ac592458",
   "metadata": {
    "ExecuteTime": {
     "end_time": "2021-10-30T09:54:10.572586Z",
     "start_time": "2021-10-30T09:54:10.557626Z"
    },
    "scrolled": true
   },
   "outputs": [],
   "source": [
    "#print(df_temp2['category'].tolist())"
   ]
  },
  {
   "cell_type": "code",
   "execution_count": 16,
   "id": "6adcc132",
   "metadata": {
    "ExecuteTime": {
     "end_time": "2021-10-30T09:54:10.588544Z",
     "start_time": "2021-10-30T09:54:10.573583Z"
    }
   },
   "outputs": [],
   "source": [
    "count2 = 550\n",
    "train_Mixed_feelings = df_temp2[:count2]\n",
    "train_Negative = df_temp2[580:580+count2]\n",
    "train_Positive=df_temp2[1770:1770+count2]\n",
    "train_not_kanada = df_temp2[4590:4590+count2]\n",
    "train_unknown_state = df_temp2[5505:5505+count2]"
   ]
  },
  {
   "cell_type": "code",
   "execution_count": 17,
   "id": "da196b63",
   "metadata": {
    "ExecuteTime": {
     "end_time": "2021-10-30T09:54:10.604501Z",
     "start_time": "2021-10-30T09:54:10.589561Z"
    }
   },
   "outputs": [
    {
     "name": "stdout",
     "output_type": "stream",
     "text": [
      "total: 2750\n"
     ]
    },
    {
     "data": {
      "text/plain": [
       "(550, 550, 550, 550, 550)"
      ]
     },
     "execution_count": 17,
     "metadata": {},
     "output_type": "execute_result"
    }
   ],
   "source": [
    "print('total:',count2*5)\n",
    "len(train_Mixed_feelings), len(train_Negative), len(train_Positive), len(train_not_kanada), len(train_unknown_state)"
   ]
  },
  {
   "cell_type": "code",
   "execution_count": 18,
   "id": "522f6e68",
   "metadata": {
    "ExecuteTime": {
     "end_time": "2021-10-30T09:54:10.620458Z",
     "start_time": "2021-10-30T09:54:10.605499Z"
    }
   },
   "outputs": [
    {
     "data": {
      "text/plain": [
       "(2750, 2)"
      ]
     },
     "execution_count": 18,
     "metadata": {},
     "output_type": "execute_result"
    }
   ],
   "source": [
    "Train_frames = [train_Mixed_feelings, train_Negative, train_Positive, train_not_kanada, train_unknown_state ]\n",
    "Train_results = pd.concat(Train_frames)\n",
    "Train_results.shape"
   ]
  },
  {
   "cell_type": "code",
   "execution_count": 19,
   "id": "07311930",
   "metadata": {
    "ExecuteTime": {
     "end_time": "2021-10-30T09:54:10.636415Z",
     "start_time": "2021-10-30T09:54:10.621455Z"
    }
   },
   "outputs": [],
   "source": [
    "# Train_results"
   ]
  },
  {
   "cell_type": "code",
   "execution_count": 20,
   "id": "c51253ba",
   "metadata": {
    "ExecuteTime": {
     "end_time": "2021-10-30T09:54:10.652373Z",
     "start_time": "2021-10-30T09:54:10.638410Z"
    }
   },
   "outputs": [
    {
     "data": {
      "text/plain": [
       "Counter({'Mixed feelings': 550,\n",
       "         'Negative': 550,\n",
       "         'Positive': 550,\n",
       "         'not-Kannada': 550,\n",
       "         'unknown state': 550})"
      ]
     },
     "execution_count": 20,
     "metadata": {},
     "output_type": "execute_result"
    }
   ],
   "source": [
    "Counter(Train_results['category'])"
   ]
  },
  {
   "cell_type": "code",
   "execution_count": 21,
   "id": "7de2eb09",
   "metadata": {
    "ExecuteTime": {
     "end_time": "2021-10-30T09:54:10.668330Z",
     "start_time": "2021-10-30T09:54:10.654368Z"
    }
   },
   "outputs": [],
   "source": [
    "Sub_Train = Train_results.sample(frac = 1)"
   ]
  },
  {
   "cell_type": "code",
   "execution_count": 22,
   "id": "a99c9eaf",
   "metadata": {
    "ExecuteTime": {
     "end_time": "2021-10-30T09:54:10.684287Z",
     "start_time": "2021-10-30T09:54:10.669327Z"
    }
   },
   "outputs": [],
   "source": [
    "Sub_Train_list = Sub_Train['text'].tolist()\n",
    "Sub_Train_labels_list = Sub_Train['category'].tolist()"
   ]
  },
  {
   "cell_type": "markdown",
   "id": "951b3df6",
   "metadata": {},
   "source": [
    "### Val Data"
   ]
  },
  {
   "cell_type": "code",
   "execution_count": 23,
   "id": "1c05ea04",
   "metadata": {
    "ExecuteTime": {
     "end_time": "2021-10-30T09:54:10.700245Z",
     "start_time": "2021-10-30T09:54:10.685285Z"
    }
   },
   "outputs": [
    {
     "data": {
      "text/plain": [
       "(691, 2)"
      ]
     },
     "execution_count": 23,
     "metadata": {},
     "output_type": "execute_result"
    }
   ],
   "source": [
    "df_temp = valid_df.sort_values('category')\n",
    "df_temp.shape"
   ]
  },
  {
   "cell_type": "code",
   "execution_count": 24,
   "id": "351bf303",
   "metadata": {
    "ExecuteTime": {
     "end_time": "2021-10-30T09:54:10.716202Z",
     "start_time": "2021-10-30T09:54:10.701242Z"
    }
   },
   "outputs": [
    {
     "name": "stdout",
     "output_type": "stream",
     "text": [
      "\n",
      "validdf:\n",
      " {'Mixed feelings': 52, 'Negative': 139, 'Positive': 321, 'not-Kannada': 110, 'unknown state': 69} \n",
      "\n",
      "Mixed feelings starts from:  0\n",
      "Negative starts from:  52\n",
      "Positive starts from:  191\n",
      "not-Kannada starts from:  512\n",
      "unknown state starts from:  622\n",
      "unknown state ends at:  691\n"
     ]
    }
   ],
   "source": [
    "val = Counter(valid_df['category'])\n",
    "val_sort = dict(sorted(val.items(), key=lambda item: item[0]))\n",
    "\n",
    "print('\\nvaliddf:\\n',val_sort,'\\n')\n",
    "temp = 0\n",
    "for key in val_sort:\n",
    "    print(key,'starts from: ', temp)\n",
    "    temp = temp + int(val_sort[key])\n",
    "\n",
    "print(key,'ends at: ', temp)"
   ]
  },
  {
   "cell_type": "code",
   "execution_count": 25,
   "id": "9d9d271b",
   "metadata": {
    "ExecuteTime": {
     "end_time": "2021-10-30T09:54:10.732159Z",
     "start_time": "2021-10-30T09:54:10.717199Z"
    }
   },
   "outputs": [],
   "source": [
    "count = 50\n",
    "val_Mixed_feelings = df_temp[:count]\n",
    "val_Negative = df_temp[55:55+count]\n",
    "val_Positive=df_temp[192:192+count]\n",
    "val_not_Kannada = df_temp[515:515+count]\n",
    "val_unknown_state = df_temp[625:625+count]"
   ]
  },
  {
   "cell_type": "code",
   "execution_count": 26,
   "id": "40f595d2",
   "metadata": {
    "ExecuteTime": {
     "end_time": "2021-10-30T09:54:10.748117Z",
     "start_time": "2021-10-30T09:54:10.733156Z"
    }
   },
   "outputs": [
    {
     "name": "stdout",
     "output_type": "stream",
     "text": [
      "total: 250\n"
     ]
    },
    {
     "data": {
      "text/plain": [
       "(50, 50, 50, 50, 50)"
      ]
     },
     "execution_count": 26,
     "metadata": {},
     "output_type": "execute_result"
    }
   ],
   "source": [
    "print('total:',count*5)\n",
    "len(val_Mixed_feelings), len(val_Negative), len(val_Positive), len(val_not_Kannada), len(val_unknown_state)"
   ]
  },
  {
   "cell_type": "code",
   "execution_count": 27,
   "id": "1ca430f5",
   "metadata": {
    "ExecuteTime": {
     "end_time": "2021-10-30T09:54:10.763077Z",
     "start_time": "2021-10-30T09:54:10.749114Z"
    },
    "scrolled": true
   },
   "outputs": [],
   "source": [
    "val_frames = [val_Mixed_feelings, val_Negative, val_Positive, val_not_Kannada, val_unknown_state ]\n",
    "\n",
    "val_result = pd.concat(val_frames) #concat"
   ]
  },
  {
   "cell_type": "code",
   "execution_count": 28,
   "id": "92a8f4ad",
   "metadata": {
    "ExecuteTime": {
     "end_time": "2021-10-30T09:54:10.778037Z",
     "start_time": "2021-10-30T09:54:10.766069Z"
    }
   },
   "outputs": [
    {
     "data": {
      "text/plain": [
       "Counter({'Mixed feelings': 50,\n",
       "         'Negative': 50,\n",
       "         'Positive': 50,\n",
       "         'not-Kannada': 50,\n",
       "         'unknown state': 50})"
      ]
     },
     "execution_count": 28,
     "metadata": {},
     "output_type": "execute_result"
    }
   ],
   "source": [
    "Counter(val_result['category'])"
   ]
  },
  {
   "cell_type": "code",
   "execution_count": 29,
   "id": "3c9035ac",
   "metadata": {
    "ExecuteTime": {
     "end_time": "2021-10-30T09:54:10.793994Z",
     "start_time": "2021-10-30T09:54:10.779034Z"
    }
   },
   "outputs": [],
   "source": [
    "Sub_val = val_result.sample(frac = 1) #shuffle"
   ]
  },
  {
   "cell_type": "code",
   "execution_count": 30,
   "id": "97e0daf1",
   "metadata": {
    "ExecuteTime": {
     "end_time": "2021-10-30T09:54:10.809951Z",
     "start_time": "2021-10-30T09:54:10.794991Z"
    }
   },
   "outputs": [],
   "source": [
    "Sub_val_list = Sub_val['text'].tolist()\n",
    "Sub_val_labels_list = Sub_val['category'].tolist()"
   ]
  },
  {
   "cell_type": "markdown",
   "id": "0958ab5e",
   "metadata": {},
   "source": [
    "# Saving Choosen data into numpy files"
   ]
  },
  {
   "cell_type": "code",
   "execution_count": 31,
   "id": "ea502a6c",
   "metadata": {
    "ExecuteTime": {
     "end_time": "2021-10-30T09:54:10.825909Z",
     "start_time": "2021-10-30T09:54:10.811951Z"
    }
   },
   "outputs": [],
   "source": [
    "#\"C:\\Users\\phvpa\\Desktop\\Experimants\\DataSet\\NumpyFiles\\Kan\\Split2750and250\"\n",
    "Kan_train = np.array(Sub_Train_list)\n",
    "np.save('NumpyFiles\\Kan\\Split2750and250\\Kan_Train_data_2750.npy',Kan_train)\n",
    "Kan_train_label = np.array(Sub_Train_labels_list)\n",
    "np.save('NumpyFiles\\Kan\\Split2750and250\\Kan_Train_label_2750.npy',Kan_train_label)"
   ]
  },
  {
   "cell_type": "code",
   "execution_count": 32,
   "id": "b31a3f84",
   "metadata": {
    "ExecuteTime": {
     "end_time": "2021-10-30T09:54:10.841866Z",
     "start_time": "2021-10-30T09:54:10.826906Z"
    }
   },
   "outputs": [
    {
     "name": "stdout",
     "output_type": "stream",
     "text": [
      "(2750,)\n",
      "(2750,)\n"
     ]
    }
   ],
   "source": [
    "temp21 =np.load('NumpyFiles\\Kan\\Split2750and250\\Kan_Train_data_2750.npy')\n",
    "print(temp21.shape)\n",
    "temp22 =np.load('NumpyFiles\\Kan\\Split2750and250\\Kan_Train_label_2750.npy')\n",
    "print(temp22.shape)"
   ]
  },
  {
   "cell_type": "code",
   "execution_count": 33,
   "id": "bfaac0c9",
   "metadata": {
    "ExecuteTime": {
     "end_time": "2021-10-30T09:54:10.857823Z",
     "start_time": "2021-10-30T09:54:10.842863Z"
    }
   },
   "outputs": [],
   "source": [
    "Kan_val = np.array(Sub_val_list)\n",
    "np.save(\"NumpyFiles\\Kan\\Split2750and250\\Kan_Val_data_250.npy\",Kan_val)\n",
    "Kan_val_label = np.array(Sub_val_labels_list)\n",
    "np.save(\"NumpyFiles\\Kan\\Split2750and250\\Kan_val_label_250.npy\",Kan_val_label)"
   ]
  },
  {
   "cell_type": "code",
   "execution_count": 34,
   "id": "f55c3d41",
   "metadata": {
    "ExecuteTime": {
     "end_time": "2021-10-30T09:54:10.872784Z",
     "start_time": "2021-10-30T09:54:10.859818Z"
    }
   },
   "outputs": [
    {
     "name": "stdout",
     "output_type": "stream",
     "text": [
      "(250,)\n",
      "(250,)\n"
     ]
    }
   ],
   "source": [
    "temp11 =np.load('NumpyFiles\\Kan\\Split2750and250\\Kan_Val_data_250.npy')\n",
    "print(temp11.shape)\n",
    "temp12 =np.load('NumpyFiles\\Kan\\Split2750and250\\Kan_val_label_250.npy')\n",
    "print(temp12.shape)"
   ]
  },
  {
   "cell_type": "code",
   "execution_count": 35,
   "id": "35ab564b",
   "metadata": {
    "ExecuteTime": {
     "end_time": "2021-10-30T09:54:10.887743Z",
     "start_time": "2021-10-30T09:54:10.873781Z"
    }
   },
   "outputs": [
    {
     "data": {
      "text/html": [
       "<div>\n",
       "<style scoped>\n",
       "    .dataframe tbody tr th:only-of-type {\n",
       "        vertical-align: middle;\n",
       "    }\n",
       "\n",
       "    .dataframe tbody tr th {\n",
       "        vertical-align: top;\n",
       "    }\n",
       "\n",
       "    .dataframe thead th {\n",
       "        text-align: right;\n",
       "    }\n",
       "</style>\n",
       "<table border=\"1\" class=\"dataframe\">\n",
       "  <thead>\n",
       "    <tr style=\"text-align: right;\">\n",
       "      <th></th>\n",
       "      <th>Data</th>\n",
       "      <th>label</th>\n",
       "    </tr>\n",
       "  </thead>\n",
       "  <tbody>\n",
       "    <tr>\n",
       "      <th>0</th>\n",
       "      <td>nama kannada channel dinesh ss स्सुप्पेर</td>\n",
       "      <td>not-Kannada</td>\n",
       "    </tr>\n",
       "    <tr>\n",
       "      <th>1</th>\n",
       "      <td>ramesh snakannanavar nlar</td>\n",
       "      <td>unknown state</td>\n",
       "    </tr>\n",
       "    <tr>\n",
       "      <th>2</th>\n",
       "      <td>prakash kittoyta</td>\n",
       "      <td>Negative</td>\n",
       "    </tr>\n",
       "    <tr>\n",
       "      <th>3</th>\n",
       "      <td>hands  up  super  songs</td>\n",
       "      <td>not-Kannada</td>\n",
       "    </tr>\n",
       "    <tr>\n",
       "      <th>4</th>\n",
       "      <td>bai rakshith avri nan msg nodudri yargu agllil...</td>\n",
       "      <td>Negative</td>\n",
       "    </tr>\n",
       "    <tr>\n",
       "      <th>...</th>\n",
       "      <td>...</td>\n",
       "      <td>...</td>\n",
       "    </tr>\n",
       "    <tr>\n",
       "      <th>2745</th>\n",
       "      <td>2k dislikes rashmika maandanna fanss</td>\n",
       "      <td>Negative</td>\n",
       "    </tr>\n",
       "    <tr>\n",
       "      <th>2746</th>\n",
       "      <td>vitthal ಲುಚ್ಛನ್ ಫ್ಯಾನ್ಸ್ ಉರ್ಕೋತಾವ್ರೆ d boss ಬ...</td>\n",
       "      <td>Negative</td>\n",
       "    </tr>\n",
       "    <tr>\n",
       "      <th>2747</th>\n",
       "      <td>dana alla ok</td>\n",
       "      <td>Negative</td>\n",
       "    </tr>\n",
       "    <tr>\n",
       "      <th>2748</th>\n",
       "      <td>howdu gurunadre climax papa</td>\n",
       "      <td>unknown state</td>\n",
       "    </tr>\n",
       "    <tr>\n",
       "      <th>2749</th>\n",
       "      <td>of king yako istond urkond saytiya burnal achko</td>\n",
       "      <td>Negative</td>\n",
       "    </tr>\n",
       "  </tbody>\n",
       "</table>\n",
       "<p>2750 rows × 2 columns</p>\n",
       "</div>"
      ],
      "text/plain": [
       "                                                   Data          label\n",
       "0              nama kannada channel dinesh ss स्सुप्पेर    not-Kannada\n",
       "1                             ramesh snakannanavar nlar  unknown state\n",
       "2                                      prakash kittoyta       Negative\n",
       "3                               hands  up  super  songs    not-Kannada\n",
       "4     bai rakshith avri nan msg nodudri yargu agllil...       Negative\n",
       "...                                                 ...            ...\n",
       "2745               2k dislikes rashmika maandanna fanss       Negative\n",
       "2746   vitthal ಲುಚ್ಛನ್ ಫ್ಯಾನ್ಸ್ ಉರ್ಕೋತಾವ್ರೆ d boss ಬ...       Negative\n",
       "2747                                       dana alla ok       Negative\n",
       "2748                        howdu gurunadre climax papa  unknown state\n",
       "2749    of king yako istond urkond saytiya burnal achko       Negative\n",
       "\n",
       "[2750 rows x 2 columns]"
      ]
     },
     "execution_count": 35,
     "metadata": {},
     "output_type": "execute_result"
    }
   ],
   "source": [
    "Traindf = pd.DataFrame({'Data' : temp21,'label' : temp22}, columns=['Data', 'label'])\n",
    "Traindf"
   ]
  },
  {
   "cell_type": "code",
   "execution_count": 36,
   "id": "0e4e51c5",
   "metadata": {
    "ExecuteTime": {
     "end_time": "2021-10-30T09:54:10.903701Z",
     "start_time": "2021-10-30T09:54:10.888741Z"
    }
   },
   "outputs": [
    {
     "data": {
      "text/html": [
       "<div>\n",
       "<style scoped>\n",
       "    .dataframe tbody tr th:only-of-type {\n",
       "        vertical-align: middle;\n",
       "    }\n",
       "\n",
       "    .dataframe tbody tr th {\n",
       "        vertical-align: top;\n",
       "    }\n",
       "\n",
       "    .dataframe thead th {\n",
       "        text-align: right;\n",
       "    }\n",
       "</style>\n",
       "<table border=\"1\" class=\"dataframe\">\n",
       "  <thead>\n",
       "    <tr style=\"text-align: right;\">\n",
       "      <th></th>\n",
       "      <th>Data</th>\n",
       "      <th>label</th>\n",
       "    </tr>\n",
       "  </thead>\n",
       "  <tbody>\n",
       "    <tr>\n",
       "      <th>0</th>\n",
       "      <td>kannada industry ali estu dodda dodda nayakaru...</td>\n",
       "      <td>Mixed feelings</td>\n",
       "    </tr>\n",
       "    <tr>\n",
       "      <th>1</th>\n",
       "      <td>super  song</td>\n",
       "      <td>Positive</td>\n",
       "    </tr>\n",
       "    <tr>\n",
       "      <th>2</th>\n",
       "      <td>rip tik tok</td>\n",
       "      <td>not-Kannada</td>\n",
       "    </tr>\n",
       "    <tr>\n",
       "      <th>3</th>\n",
       "      <td>mast hadu super</td>\n",
       "      <td>Positive</td>\n",
       "    </tr>\n",
       "    <tr>\n",
       "      <th>4</th>\n",
       "      <td>guru ninu super</td>\n",
       "      <td>Positive</td>\n",
       "    </tr>\n",
       "    <tr>\n",
       "      <th>...</th>\n",
       "      <td>...</td>\n",
       "      <td>...</td>\n",
       "    </tr>\n",
       "    <tr>\n",
       "      <th>245</th>\n",
       "      <td>idu charitre srushtiso avataranasnnyar yaru mo...</td>\n",
       "      <td>Mixed feelings</td>\n",
       "    </tr>\n",
       "    <tr>\n",
       "      <th>246</th>\n",
       "      <td>tejashands up ande kai ettu annadukka agutta</td>\n",
       "      <td>Mixed feelings</td>\n",
       "    </tr>\n",
       "    <tr>\n",
       "      <th>247</th>\n",
       "      <td>vn nim akkan keytini bosdi magna nim avvagu h...</td>\n",
       "      <td>Negative</td>\n",
       "    </tr>\n",
       "    <tr>\n",
       "      <th>248</th>\n",
       "      <td>nivu heliddu ondu ondu maathu  sathyanee</td>\n",
       "      <td>Positive</td>\n",
       "    </tr>\n",
       "    <tr>\n",
       "      <th>249</th>\n",
       "      <td>nonsenses who all r dislike dis video</td>\n",
       "      <td>Negative</td>\n",
       "    </tr>\n",
       "  </tbody>\n",
       "</table>\n",
       "<p>250 rows × 2 columns</p>\n",
       "</div>"
      ],
      "text/plain": [
       "                                                  Data           label\n",
       "0    kannada industry ali estu dodda dodda nayakaru...  Mixed feelings\n",
       "1                                          super  song        Positive\n",
       "2                                          rip tik tok     not-Kannada\n",
       "3                                      mast hadu super        Positive\n",
       "4                                      guru ninu super        Positive\n",
       "..                                                 ...             ...\n",
       "245  idu charitre srushtiso avataranasnnyar yaru mo...  Mixed feelings\n",
       "246       tejashands up ande kai ettu annadukka agutta  Mixed feelings\n",
       "247   vn nim akkan keytini bosdi magna nim avvagu h...        Negative\n",
       "248           nivu heliddu ondu ondu maathu  sathyanee        Positive\n",
       "249              nonsenses who all r dislike dis video        Negative\n",
       "\n",
       "[250 rows x 2 columns]"
      ]
     },
     "execution_count": 36,
     "metadata": {},
     "output_type": "execute_result"
    }
   ],
   "source": [
    "Testdf = pd.DataFrame({'Data' : temp11,'label' : temp12}, columns=['Data', 'label'])\n",
    "Testdf"
   ]
  },
  {
   "cell_type": "code",
   "execution_count": null,
   "id": "5a62482f",
   "metadata": {},
   "outputs": [],
   "source": []
  }
 ],
 "metadata": {
  "kernelspec": {
   "display_name": "Python 3 (ipykernel)",
   "language": "python",
   "name": "python3"
  },
  "language_info": {
   "codemirror_mode": {
    "name": "ipython",
    "version": 3
   },
   "file_extension": ".py",
   "mimetype": "text/x-python",
   "name": "python",
   "nbconvert_exporter": "python",
   "pygments_lexer": "ipython3",
   "version": "3.8.11"
  },
  "latex_envs": {
   "LaTeX_envs_menu_present": true,
   "autoclose": false,
   "autocomplete": true,
   "bibliofile": "biblio.bib",
   "cite_by": "apalike",
   "current_citInitial": 1,
   "eqLabelWithNumbers": true,
   "eqNumInitial": 1,
   "hotkeys": {
    "equation": "Ctrl-E",
    "itemize": "Ctrl-I"
   },
   "labels_anchors": false,
   "latex_user_defs": false,
   "report_style_numbering": false,
   "user_envs_cfg": false
  },
  "toc": {
   "base_numbering": 1,
   "nav_menu": {},
   "number_sections": true,
   "sideBar": true,
   "skip_h1_title": false,
   "title_cell": "Table of Contents",
   "title_sidebar": "Contents",
   "toc_cell": false,
   "toc_position": {},
   "toc_section_display": true,
   "toc_window_display": true
  }
 },
 "nbformat": 4,
 "nbformat_minor": 5
}
