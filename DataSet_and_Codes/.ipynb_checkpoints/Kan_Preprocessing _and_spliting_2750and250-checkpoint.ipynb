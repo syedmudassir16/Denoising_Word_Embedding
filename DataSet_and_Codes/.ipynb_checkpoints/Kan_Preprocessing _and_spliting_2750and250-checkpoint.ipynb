{
 "cells": [
  {
   "cell_type": "code",
   "execution_count": 1,
   "id": "4c75a642",
   "metadata": {
    "ExecuteTime": {
     "end_time": "2021-10-30T09:43:00.814365Z",
     "start_time": "2021-10-30T09:43:00.194056Z"
    },
    "colab": {
     "base_uri": "https://localhost:8080/"
    },
    "id": "NPsBVUt4CPFK",
    "outputId": "953cf603-64ba-45e3-85be-bc007232150e"
   },
   "outputs": [],
   "source": [
    "import math\n",
    "import pandas as pd\n",
    "import re\n",
    "import numpy as np\n",
    "import itertools\n",
    "import collections\n",
    "from collections import defaultdict, Counter\n",
    "import string\n",
    "from sklearn.preprocessing import LabelEncoder"
   ]
  },
  {
   "cell_type": "code",
   "execution_count": 2,
   "id": "c7975274",
   "metadata": {
    "ExecuteTime": {
     "end_time": "2021-10-30T09:43:00.860601Z",
     "start_time": "2021-10-30T09:43:00.816358Z"
    },
    "colab": {
     "base_uri": "https://localhost:8080/"
    },
    "id": "6GV9JIe0CO2b",
    "outputId": "27988521-db2e-4bcf-fbf0-4116cd5497e0"
   },
   "outputs": [
    {
     "name": "stdout",
     "output_type": "stream",
     "text": [
      " Volume in drive C is Acer\n",
      " Volume Serial Number is 3818-7542\n",
      "\n",
      " Directory of C:\\Users\\phvpa\\Desktop\\Experimants\\DataSet\n",
      "\n",
      "30-10-2021  15:11    <DIR>          .\n",
      "30-10-2021  12:45    <DIR>          ..\n",
      "30-10-2021  13:58    <DIR>          .ipynb_checkpoints\n",
      "30-10-2021  15:11         3,827,190 Kan_Preprocessing _and_spliting_5000and500-Copy1.ipynb\n",
      "30-10-2021  12:45    <DIR>          Kannada\n",
      "30-10-2021  13:57            38,450 Mal_Preprocessing _and_spliting_5000and500.ipynb\n",
      "30-10-2021  12:45    <DIR>          Malyalam\n",
      "30-10-2021  12:54    <DIR>          NumpyFiles\n",
      "30-10-2021  12:45    <DIR>          Tamil\n",
      "               2 File(s)      3,865,640 bytes\n",
      "               7 Dir(s)  311,498,731,520 bytes free\n"
     ]
    }
   ],
   "source": [
    "ls"
   ]
  },
  {
   "cell_type": "code",
   "execution_count": 3,
   "id": "f6cb09c3",
   "metadata": {
    "ExecuteTime": {
     "end_time": "2021-10-30T09:43:00.876525Z",
     "start_time": "2021-10-30T09:43:00.861604Z"
    }
   },
   "outputs": [],
   "source": [
    "#pd.options.display.max_rows = None"
   ]
  },
  {
   "cell_type": "code",
   "execution_count": 4,
   "id": "36949d52",
   "metadata": {
    "ExecuteTime": {
     "end_time": "2021-10-30T09:43:00.923431Z",
     "start_time": "2021-10-30T09:43:00.878570Z"
    },
    "colab": {
     "base_uri": "https://localhost:8080/"
    },
    "id": "b6f18C1DCRRT",
    "outputId": "4982a2f2-ca5a-42a8-80b8-35ae41d71c0b"
   },
   "outputs": [
    {
     "name": "stdout",
     "output_type": "stream",
     "text": [
      "6212\n",
      "691\n"
     ]
    },
    {
     "data": {
      "text/plain": [
       "768"
      ]
     },
     "execution_count": 4,
     "metadata": {},
     "output_type": "execute_result"
    }
   ],
   "source": [
    "#\"C:\\Users\\phvpa\\Desktop\\Experimants\\DataSet\\Kannada\\kannada_sentiment_full_train.tsv\"\n",
    "#\"C:\\Users\\phvpa\\Desktop\\Experimants\\DataSet\\Kannada\\kannada_sentiment_full_test_withoutlabels.tsv\"\n",
    "#\"C:\\Users\\phvpa\\Desktop\\Experimants\\DataSet\\Kannada\\kannada_sentiment_full_dev.tsv\"\n",
    "train_df = pd.read_csv(\"Kannada\\kannada_sentiment_full_train.tsv\", sep='\\t')\n",
    "print(len(train_df))\n",
    "\n",
    "#test_df = pd.read_csv(\"Mal_sentiment_full_dev.tsv\", header=None, sep='\\t')\n",
    "valid_df = pd.read_csv(\"Kannada\\kannada_sentiment_full_dev.tsv\", sep='\\t')\n",
    "print(len(valid_df))\n",
    "\n",
    "test_df = pd.read_csv(\"Kannada\\kannada_sentiment_full_test_withoutlabels.tsv\", sep='\\t')\n",
    "len(test_df)"
   ]
  },
  {
   "cell_type": "code",
   "execution_count": 5,
   "id": "ffc8b4d0",
   "metadata": {
    "ExecuteTime": {
     "end_time": "2021-10-30T09:43:00.938360Z",
     "start_time": "2021-10-30T09:43:00.924403Z"
    }
   },
   "outputs": [
    {
     "data": {
      "text/html": [
       "<div>\n",
       "<style scoped>\n",
       "    .dataframe tbody tr th:only-of-type {\n",
       "        vertical-align: middle;\n",
       "    }\n",
       "\n",
       "    .dataframe tbody tr th {\n",
       "        vertical-align: top;\n",
       "    }\n",
       "\n",
       "    .dataframe thead th {\n",
       "        text-align: right;\n",
       "    }\n",
       "</style>\n",
       "<table border=\"1\" class=\"dataframe\">\n",
       "  <thead>\n",
       "    <tr style=\"text-align: right;\">\n",
       "      <th></th>\n",
       "      <th>text</th>\n",
       "      <th>category</th>\n",
       "    </tr>\n",
       "  </thead>\n",
       "  <tbody>\n",
       "    <tr>\n",
       "      <th>0</th>\n",
       "      <td>ಒಂದು ದೇಶದ ಮುಂದುವರಿಯುವುದು ಅದರ ಆರ್ಥಿಕ ಸ್ಥಿತಿಯನ್ನ...</td>\n",
       "      <td>Negative</td>\n",
       "    </tr>\n",
       "    <tr>\n",
       "      <th>1</th>\n",
       "      <td>ಕನ್ನಡದಲ್ಲಿ ಡೈಲಿ ಟೆಕ್ ಅಪ್ಡೇಟ್ಸ್ ಪಡೆಯಲು ಸಬ್ಸ್ಕ್ರ...</td>\n",
       "      <td>Positive</td>\n",
       "    </tr>\n",
       "    <tr>\n",
       "      <th>2</th>\n",
       "      <td>Super sar song</td>\n",
       "      <td>not-Kannada</td>\n",
       "    </tr>\n",
       "    <tr>\n",
       "      <th>3</th>\n",
       "      <td>Tiktokers present situation... nನೋಡುವವರು ಯಾರು ...</td>\n",
       "      <td>Negative</td>\n",
       "    </tr>\n",
       "    <tr>\n",
       "      <th>4</th>\n",
       "      <td>Super ಸಾಂಗ್ ವೆರಿ ನೈಸ್....</td>\n",
       "      <td>Positive</td>\n",
       "    </tr>\n",
       "    <tr>\n",
       "      <th>...</th>\n",
       "      <td>...</td>\n",
       "      <td>...</td>\n",
       "    </tr>\n",
       "    <tr>\n",
       "      <th>6207</th>\n",
       "      <td>@A.R.W   tumbad tanhaji andhadhun aise bahot h...</td>\n",
       "      <td>not-Kannada</td>\n",
       "    </tr>\n",
       "    <tr>\n",
       "      <th>6208</th>\n",
       "      <td>പൊളി ഡാൻസ്🥰 രക്ഷിത് ഷെട്ടി മാസ്സ്</td>\n",
       "      <td>not-Kannada</td>\n",
       "    </tr>\n",
       "    <tr>\n",
       "      <th>6209</th>\n",
       "      <td>Bro...nNeen este Roast madudru...China ne beku...</td>\n",
       "      <td>Negative</td>\n",
       "    </tr>\n",
       "    <tr>\n",
       "      <th>6210</th>\n",
       "      <td>ಕೌಶಲ್ಯ ಇದ್ದವರ ಸಂಖ್ಯೆ ಕಡಿಮೆ ಇಲ್ಲ ಸರ್ ತುಂಬಾ ಪ್ರತ...</td>\n",
       "      <td>Positive</td>\n",
       "    </tr>\n",
       "    <tr>\n",
       "      <th>6211</th>\n",
       "      <td>26 M Views</td>\n",
       "      <td>Mixed feelings</td>\n",
       "    </tr>\n",
       "  </tbody>\n",
       "</table>\n",
       "<p>6212 rows × 2 columns</p>\n",
       "</div>"
      ],
      "text/plain": [
       "                                                   text        category\n",
       "0     ಒಂದು ದೇಶದ ಮುಂದುವರಿಯುವುದು ಅದರ ಆರ್ಥಿಕ ಸ್ಥಿತಿಯನ್ನ...        Negative\n",
       "1     ಕನ್ನಡದಲ್ಲಿ ಡೈಲಿ ಟೆಕ್ ಅಪ್ಡೇಟ್ಸ್ ಪಡೆಯಲು ಸಬ್ಸ್ಕ್ರ...        Positive\n",
       "2                                        Super sar song     not-Kannada\n",
       "3     Tiktokers present situation... nನೋಡುವವರು ಯಾರು ...        Negative\n",
       "4                             Super ಸಾಂಗ್ ವೆರಿ ನೈಸ್....        Positive\n",
       "...                                                 ...             ...\n",
       "6207  @A.R.W   tumbad tanhaji andhadhun aise bahot h...     not-Kannada\n",
       "6208                  പൊളി ഡാൻസ്🥰 രക്ഷിത് ഷെട്ടി മാസ്സ്     not-Kannada\n",
       "6209  Bro...nNeen este Roast madudru...China ne beku...        Negative\n",
       "6210  ಕೌಶಲ್ಯ ಇದ್ದವರ ಸಂಖ್ಯೆ ಕಡಿಮೆ ಇಲ್ಲ ಸರ್ ತುಂಬಾ ಪ್ರತ...        Positive\n",
       "6211                                         26 M Views  Mixed feelings\n",
       "\n",
       "[6212 rows x 2 columns]"
      ]
     },
     "execution_count": 5,
     "metadata": {},
     "output_type": "execute_result"
    }
   ],
   "source": [
    "train_df"
   ]
  },
  {
   "cell_type": "code",
   "execution_count": 6,
   "id": "008088af",
   "metadata": {
    "ExecuteTime": {
     "end_time": "2021-10-30T09:43:00.954317Z",
     "start_time": "2021-10-30T09:43:00.939358Z"
    },
    "scrolled": true
   },
   "outputs": [
    {
     "data": {
      "text/plain": [
       "0             Negative\n",
       "1             Positive\n",
       "2          not-Kannada\n",
       "3             Negative\n",
       "4             Positive\n",
       "             ...      \n",
       "6207       not-Kannada\n",
       "6208       not-Kannada\n",
       "6209          Negative\n",
       "6210          Positive\n",
       "6211    Mixed feelings\n",
       "Name: category, Length: 6212, dtype: object"
      ]
     },
     "execution_count": 6,
     "metadata": {},
     "output_type": "execute_result"
    }
   ],
   "source": [
    "train_df['category']"
   ]
  },
  {
   "cell_type": "code",
   "execution_count": 7,
   "id": "3fea4be7",
   "metadata": {
    "ExecuteTime": {
     "end_time": "2021-10-30T09:43:01.524829Z",
     "start_time": "2021-10-30T09:43:00.955315Z"
    },
    "id": "5M7bMSkdAhbS"
   },
   "outputs": [],
   "source": [
    "#removing all the emoji from the given data\n",
    "\n",
    "def deEmojify(text):\n",
    "    regrex_pattern = re.compile(pattern = \"[\"\n",
    "        u\"\\U0001F600-\\U0001F64F\"  # emoticons\n",
    "        u\"\\U0001F300-\\U0001F5FF\"  # symbols & pictographs\n",
    "        u\"\\U0001F680-\\U0001F6FF\"  # transport & map symbols\n",
    "        u\"\\U0001F1E0-\\U0001F1FF\"  # flags (iOS)\n",
    "        u\"\\U00002500-\\U00002BEF\"  # chinese char\n",
    "        u\"\\U00002702-\\U000027B0\"\n",
    "        u\"\\U00002702-\\U000027B0\"\n",
    "        u\"\\U000024C2-\\U0001F251\"\n",
    "        u\"\\U0001f926-\\U0001f937\"\n",
    "        u\"\\U00010000-\\U0010ffff\"\n",
    "        u\"\\u2640-\\u2642\"\n",
    "        u\"\\u2600-\\u2B55\"\n",
    "        u\"\\u200d\"\n",
    "        u\"\\u23cf\"\n",
    "        u\"\\u23e9\"\n",
    "        u\"\\u231a\"\n",
    "        u\"\\ufe0f\"  # dingbats\n",
    "        u\"\\u3030\"\n",
    "        \"]+\", flags = re.UNICODE)\n",
    "    return regrex_pattern.sub(r'',text)\n",
    "\n",
    "\n",
    "for i in range(len(train_df)):\n",
    "    temp1 = deEmojify(train_df['text'][i])\n",
    "    train_df['text'][i] = temp1\n",
    "\n",
    "for j in range(len(valid_df)):\n",
    "    temp2 = deEmojify(valid_df['text'][j])\n",
    "    valid_df['text'][j] = temp2\n",
    "\n",
    "for k in range(len(test_df)):\n",
    "    temp3 = deEmojify(test_df['text'][k])\n",
    "    test_df['text'][k]=temp3"
   ]
  },
  {
   "cell_type": "code",
   "execution_count": 8,
   "id": "b0ac983b",
   "metadata": {
    "ExecuteTime": {
     "end_time": "2021-10-30T09:43:01.540783Z",
     "start_time": "2021-10-30T09:43:01.525790Z"
    },
    "id": "kvZOI__qZ7zd"
   },
   "outputs": [],
   "source": [
    "def preprocess_data(text):\n",
    "  user_name = '@[A-Za-z0-9]+' # Pattern for matching the user names in the tweet\n",
    "  has_tag = '#[A-Za-z0-9]+' # Pattern for matching the hasgtags in the tweer\n",
    "  url = 'https?:\\/\\/[A-Za-z0-9\\.\\/\\-]+' # Pattern for matching the URLs in the tweet\n",
    "  #emoji_pattern = r'/[x{1F600}-x{1F64F}]/u'\n",
    "  \n",
    "  x = text.lower()  # Lower casing all the characters\n",
    "  x = re.sub(user_name, '', x) # Replace the username with an empty characrer\n",
    "  x = re.sub(has_tag,'',x) # Replace the hashtags with an empty characrer\n",
    "  x = re.sub(url, '', x) # Replace the URLs with an empty characrer\n",
    "  #x = re.sub(emoji_pattern, '', x)\n",
    "  x = x.translate(str.maketrans('', '', string.punctuation)) # Replace all the characters except alphabets and digits from the tweet\n",
    "\n",
    "  return x"
   ]
  },
  {
   "cell_type": "code",
   "execution_count": 9,
   "id": "dbff7146",
   "metadata": {
    "ExecuteTime": {
     "end_time": "2021-10-30T09:43:01.601623Z",
     "start_time": "2021-10-30T09:43:01.541747Z"
    },
    "id": "kXmiAchmcPq_"
   },
   "outputs": [],
   "source": [
    "train_df['text'] = train_df['text'].apply(lambda x: preprocess_data(x)) # Apply the clean_data() to all the entries in the dataframe\n",
    "valid_df['text'] = valid_df['text'].apply(lambda x: preprocess_data(x)) # Apply the clean_data() to all the entries in the dataframe\n",
    "test_df['text'] = test_df['text'].apply(lambda x: preprocess_data(x)) # Apply the clean_data() to all the entries in the dataframe"
   ]
  },
  {
   "cell_type": "code",
   "execution_count": 10,
   "id": "488a71eb",
   "metadata": {
    "ExecuteTime": {
     "end_time": "2021-10-30T09:43:01.648843Z",
     "start_time": "2021-10-30T09:43:01.604592Z"
    }
   },
   "outputs": [],
   "source": [
    "np.save('NumpyFiles\\Kan\\Fulldata\\Kan_Train_Full_data.npy',list(train_df['text']))\n",
    "np.save('NumpyFiles\\Kan\\Fulldata\\Kan_Train_Full_labels.npy',list(train_df['category']))\n",
    "np.save('NumpyFiles\\Kan\\Fulldata\\Kan_Val_Full_data.npy',list(valid_df['text']))\n",
    "np.save('NumpyFiles\\Kan\\Fulldata\\Kan_Val_Full_labels.npy',list(valid_df['category']))\n",
    "np.save('NumpyFiles\\Kan\\Fulldata\\Kan_Test_Full_data.npy',list(valid_df['text']))"
   ]
  },
  {
   "cell_type": "code",
   "execution_count": 11,
   "id": "dff03348",
   "metadata": {
    "ExecuteTime": {
     "end_time": "2021-10-30T09:43:01.679723Z",
     "start_time": "2021-10-30T09:43:01.649802Z"
    }
   },
   "outputs": [],
   "source": [
    "temp1 = np.load('NumpyFiles\\Kan\\Fulldata\\Kan_Train_Full_data.npy')\n",
    "temp2 = np.load('NumpyFiles\\Kan\\Fulldata\\Kan_Train_Full_labels.npy')\n",
    "temp3 = np.load('NumpyFiles\\Kan\\Fulldata\\Kan_Val_Full_data.npy')\n",
    "temp4 = np.load('NumpyFiles\\Kan\\Fulldata\\Kan_Val_Full_labels.npy')\n",
    "temp5 = np.load('NumpyFiles\\Kan\\Fulldata\\Kan_Test_Full_data.npy')"
   ]
  },
  {
   "cell_type": "code",
   "execution_count": 12,
   "id": "56146dd0",
   "metadata": {
    "ExecuteTime": {
     "end_time": "2021-10-30T09:43:01.695710Z",
     "start_time": "2021-10-30T09:43:01.680722Z"
    }
   },
   "outputs": [
    {
     "data": {
      "text/plain": [
       "((6212,), (6212,), (691,), (691,))"
      ]
     },
     "execution_count": 12,
     "metadata": {},
     "output_type": "execute_result"
    }
   ],
   "source": [
    "temp1.shape, temp2.shape, temp3.shape, temp4.shape"
   ]
  },
  {
   "cell_type": "markdown",
   "id": "18f236a6",
   "metadata": {},
   "source": [
    "# Dividing train and valid separatly:"
   ]
  },
  {
   "cell_type": "markdown",
   "id": "fb3c35a2",
   "metadata": {},
   "source": [
    "### Train data"
   ]
  },
  {
   "cell_type": "code",
   "execution_count": 13,
   "id": "a9aa1472",
   "metadata": {
    "ExecuteTime": {
     "end_time": "2021-10-30T09:43:01.711637Z",
     "start_time": "2021-10-30T09:43:01.696678Z"
    },
    "scrolled": true
   },
   "outputs": [
    {
     "data": {
      "text/html": [
       "<div>\n",
       "<style scoped>\n",
       "    .dataframe tbody tr th:only-of-type {\n",
       "        vertical-align: middle;\n",
       "    }\n",
       "\n",
       "    .dataframe tbody tr th {\n",
       "        vertical-align: top;\n",
       "    }\n",
       "\n",
       "    .dataframe thead th {\n",
       "        text-align: right;\n",
       "    }\n",
       "</style>\n",
       "<table border=\"1\" class=\"dataframe\">\n",
       "  <thead>\n",
       "    <tr style=\"text-align: right;\">\n",
       "      <th></th>\n",
       "      <th>text</th>\n",
       "      <th>category</th>\n",
       "    </tr>\n",
       "  </thead>\n",
       "  <tbody>\n",
       "    <tr>\n",
       "      <th>6211</th>\n",
       "      <td>26 m views</td>\n",
       "      <td>Mixed feelings</td>\n",
       "    </tr>\n",
       "    <tr>\n",
       "      <th>4479</th>\n",
       "      <td>yalru hands up madi avane srimannarayana</td>\n",
       "      <td>Mixed feelings</td>\n",
       "    </tr>\n",
       "    <tr>\n",
       "      <th>4476</th>\n",
       "      <td>h ahamad bava ಅಣ್ಣ ಒಂದೆರಡು ಪದ ಬಿಟ್ಟು ಇನ್ನೂ ಉಳ...</td>\n",
       "      <td>Mixed feelings</td>\n",
       "    </tr>\n",
       "    <tr>\n",
       "      <th>547</th>\n",
       "      <td>avane shriman narayana</td>\n",
       "      <td>Mixed feelings</td>\n",
       "    </tr>\n",
       "    <tr>\n",
       "      <th>4475</th>\n",
       "      <td>bro nivu adthiro game yavudu</td>\n",
       "      <td>Mixed feelings</td>\n",
       "    </tr>\n",
       "    <tr>\n",
       "      <th>...</th>\n",
       "      <td>...</td>\n",
       "      <td>...</td>\n",
       "    </tr>\n",
       "    <tr>\n",
       "      <th>4082</th>\n",
       "      <td>vishnuvardhana agreed</td>\n",
       "      <td>unknown state</td>\n",
       "    </tr>\n",
       "    <tr>\n",
       "      <th>4731</th>\n",
       "      <td>sir enthavru jaatre dialogue</td>\n",
       "      <td>unknown state</td>\n",
       "    </tr>\n",
       "    <tr>\n",
       "      <th>315</th>\n",
       "      <td></td>\n",
       "      <td>unknown state</td>\n",
       "    </tr>\n",
       "    <tr>\n",
       "      <th>1838</th>\n",
       "      <td>ಎಂಥ lines</td>\n",
       "      <td>unknown state</td>\n",
       "    </tr>\n",
       "    <tr>\n",
       "      <th>1385</th>\n",
       "      <td>one more lucia movie</td>\n",
       "      <td>unknown state</td>\n",
       "    </tr>\n",
       "  </tbody>\n",
       "</table>\n",
       "<p>6212 rows × 2 columns</p>\n",
       "</div>"
      ],
      "text/plain": [
       "                                                   text        category\n",
       "6211                                         26 m views  Mixed feelings\n",
       "4479           yalru hands up madi avane srimannarayana  Mixed feelings\n",
       "4476   h ahamad bava ಅಣ್ಣ ಒಂದೆರಡು ಪದ ಬಿಟ್ಟು ಇನ್ನೂ ಉಳ...  Mixed feelings\n",
       "547                              avane shriman narayana  Mixed feelings\n",
       "4475                       bro nivu adthiro game yavudu  Mixed feelings\n",
       "...                                                 ...             ...\n",
       "4082                              vishnuvardhana agreed   unknown state\n",
       "4731                       sir enthavru jaatre dialogue   unknown state\n",
       "315                                                       unknown state\n",
       "1838                                          ಎಂಥ lines   unknown state\n",
       "1385                               one more lucia movie   unknown state\n",
       "\n",
       "[6212 rows x 2 columns]"
      ]
     },
     "execution_count": 13,
     "metadata": {},
     "output_type": "execute_result"
    }
   ],
   "source": [
    "df_temp2 = train_df.sort_values('category')\n",
    "df_temp2"
   ]
  },
  {
   "cell_type": "code",
   "execution_count": 14,
   "id": "ebd856d4",
   "metadata": {
    "ExecuteTime": {
     "end_time": "2021-10-30T09:43:01.727595Z",
     "start_time": "2021-10-30T09:43:01.712634Z"
    }
   },
   "outputs": [
    {
     "name": "stdout",
     "output_type": "stream",
     "text": [
      "Traindf: \n",
      " {'Mixed feelings': 574, 'Negative': 1188, 'Positive': 2823, 'not-Kannada': 916, 'unknown state': 711} \n",
      "\n",
      "Mixed feelings starts from:  0\n",
      "Negative starts from:  574\n",
      "Positive starts from:  1762\n",
      "not-Kannada starts from:  4585\n",
      "unknown state starts from:  5501\n",
      "unknown state ends at:  6212\n"
     ]
    }
   ],
   "source": [
    "train = Counter(train_df['category'])\n",
    "train_sort = dict(sorted(train.items(), key=lambda item: item[0]))\n",
    "\n",
    "print('Traindf: \\n',train_sort,'\\n')\n",
    "temp = 0\n",
    "for key in train_sort:\n",
    "    print(key,'starts from: ', temp)\n",
    "    temp = temp + int(train_sort[key])\n",
    "print(key,'ends at: ', temp)"
   ]
  },
  {
   "cell_type": "code",
   "execution_count": 15,
   "id": "a8a64c24",
   "metadata": {
    "ExecuteTime": {
     "end_time": "2021-10-30T09:43:01.743552Z",
     "start_time": "2021-10-30T09:43:01.728592Z"
    },
    "scrolled": true
   },
   "outputs": [],
   "source": [
    "#print(df_temp2['category'].tolist())"
   ]
  },
  {
   "cell_type": "code",
   "execution_count": 16,
   "id": "6adcc132",
   "metadata": {
    "ExecuteTime": {
     "end_time": "2021-10-30T09:43:01.759510Z",
     "start_time": "2021-10-30T09:43:01.744549Z"
    }
   },
   "outputs": [],
   "source": [
    "count2 = 550\n",
    "train_Mixed_feelings = df_temp2[:count2]\n",
    "train_Negative = df_temp2[580:580+count2]\n",
    "train_Positive=df_temp2[1770:1770+count2]\n",
    "train_not_kanada = df_temp2[4590:4590+count2]\n",
    "train_unknown_state = df_temp2[5505:5505+count2]"
   ]
  },
  {
   "cell_type": "code",
   "execution_count": 17,
   "id": "b441c37c",
   "metadata": {
    "ExecuteTime": {
     "end_time": "2021-10-30T09:43:01.774471Z",
     "start_time": "2021-10-30T09:43:01.760531Z"
    }
   },
   "outputs": [
    {
     "name": "stdout",
     "output_type": "stream",
     "text": [
      "total: 2750\n"
     ]
    },
    {
     "data": {
      "text/plain": [
       "(550, 550, 550, 550, 550)"
      ]
     },
     "execution_count": 17,
     "metadata": {},
     "output_type": "execute_result"
    }
   ],
   "source": [
    "print('total:',count2*5)\n",
    "len(train_Mixed_feelings), len(train_Negative), len(train_Positive), len(train_not_kanada), len(train_unknown_state)"
   ]
  },
  {
   "cell_type": "code",
   "execution_count": 18,
   "id": "522f6e68",
   "metadata": {
    "ExecuteTime": {
     "end_time": "2021-10-30T09:43:01.790426Z",
     "start_time": "2021-10-30T09:43:01.776464Z"
    }
   },
   "outputs": [
    {
     "data": {
      "text/plain": [
       "(2750, 2)"
      ]
     },
     "execution_count": 18,
     "metadata": {},
     "output_type": "execute_result"
    }
   ],
   "source": [
    "Train_frames = [train_Mixed_feelings, train_Negative, train_Positive, train_not_kanada, train_unknown_state ]\n",
    "Train_results = pd.concat(Train_frames)\n",
    "Train_results.shape"
   ]
  },
  {
   "cell_type": "code",
   "execution_count": 19,
   "id": "1f8b7e97",
   "metadata": {
    "ExecuteTime": {
     "end_time": "2021-10-30T09:43:01.805387Z",
     "start_time": "2021-10-30T09:43:01.791424Z"
    }
   },
   "outputs": [],
   "source": [
    "# Train_results"
   ]
  },
  {
   "cell_type": "code",
   "execution_count": 20,
   "id": "7bb84e42",
   "metadata": {
    "ExecuteTime": {
     "end_time": "2021-10-30T09:43:01.821343Z",
     "start_time": "2021-10-30T09:43:01.806384Z"
    }
   },
   "outputs": [
    {
     "data": {
      "text/plain": [
       "Counter({'Mixed feelings': 550,\n",
       "         'Negative': 550,\n",
       "         'Positive': 550,\n",
       "         'not-Kannada': 550,\n",
       "         'unknown state': 550})"
      ]
     },
     "execution_count": 20,
     "metadata": {},
     "output_type": "execute_result"
    }
   ],
   "source": [
    "Counter(Train_results['category'])"
   ]
  },
  {
   "cell_type": "code",
   "execution_count": 21,
   "id": "7de2eb09",
   "metadata": {
    "ExecuteTime": {
     "end_time": "2021-10-30T09:43:01.837301Z",
     "start_time": "2021-10-30T09:43:01.823338Z"
    }
   },
   "outputs": [],
   "source": [
    "Sub_Train = Train_results.sample(frac = 1)"
   ]
  },
  {
   "cell_type": "code",
   "execution_count": 22,
   "id": "a99c9eaf",
   "metadata": {
    "ExecuteTime": {
     "end_time": "2021-10-30T09:43:01.853259Z",
     "start_time": "2021-10-30T09:43:01.839296Z"
    }
   },
   "outputs": [],
   "source": [
    "Sub_Train_list = Sub_Train['text'].tolist()\n",
    "Sub_Train_labels_list = Sub_Train['category'].tolist()"
   ]
  },
  {
   "cell_type": "markdown",
   "id": "951b3df6",
   "metadata": {},
   "source": [
    "### Val Data"
   ]
  },
  {
   "cell_type": "code",
   "execution_count": 23,
   "id": "d18082ab",
   "metadata": {
    "ExecuteTime": {
     "end_time": "2021-10-30T09:43:01.869215Z",
     "start_time": "2021-10-30T09:43:01.855253Z"
    }
   },
   "outputs": [
    {
     "data": {
      "text/plain": [
       "(691, 2)"
      ]
     },
     "execution_count": 23,
     "metadata": {},
     "output_type": "execute_result"
    }
   ],
   "source": [
    "df_temp = valid_df.sort_values('category')\n",
    "df_temp.shape"
   ]
  },
  {
   "cell_type": "code",
   "execution_count": 24,
   "id": "bbdef834",
   "metadata": {
    "ExecuteTime": {
     "end_time": "2021-10-30T09:43:01.885172Z",
     "start_time": "2021-10-30T09:43:01.870213Z"
    }
   },
   "outputs": [
    {
     "name": "stdout",
     "output_type": "stream",
     "text": [
      "\n",
      "validdf:\n",
      " {'Mixed feelings': 52, 'Negative': 139, 'Positive': 321, 'not-Kannada': 110, 'unknown state': 69} \n",
      "\n",
      "Mixed feelings starts from:  0\n",
      "Negative starts from:  52\n",
      "Positive starts from:  191\n",
      "not-Kannada starts from:  512\n",
      "unknown state starts from:  622\n",
      "unknown state ends at:  691\n"
     ]
    }
   ],
   "source": [
    "val = Counter(valid_df['category'])\n",
    "val_sort = dict(sorted(val.items(), key=lambda item: item[0]))\n",
    "\n",
    "print('\\nvaliddf:\\n',val_sort,'\\n')\n",
    "temp = 0\n",
    "for key in val_sort:\n",
    "    print(key,'starts from: ', temp)\n",
    "    temp = temp + int(val_sort[key])\n",
    "\n",
    "print(key,'ends at: ', temp)"
   ]
  },
  {
   "cell_type": "code",
   "execution_count": 25,
   "id": "9d9d271b",
   "metadata": {
    "ExecuteTime": {
     "end_time": "2021-10-30T09:43:01.901130Z",
     "start_time": "2021-10-30T09:43:01.886170Z"
    }
   },
   "outputs": [],
   "source": [
    "count = 50\n",
    "val_Mixed_feelings = df_temp[:count]\n",
    "val_Negative = df_temp[55:55+count]\n",
    "val_Positive=df_temp[192:192+count]\n",
    "val_not_Kannada = df_temp[515:515+count]\n",
    "val_unknown_state = df_temp[625:625+count]"
   ]
  },
  {
   "cell_type": "code",
   "execution_count": 26,
   "id": "e88a7985",
   "metadata": {
    "ExecuteTime": {
     "end_time": "2021-10-30T09:43:01.917087Z",
     "start_time": "2021-10-30T09:43:01.902159Z"
    }
   },
   "outputs": [
    {
     "name": "stdout",
     "output_type": "stream",
     "text": [
      "total: 250\n"
     ]
    },
    {
     "data": {
      "text/plain": [
       "(50, 50, 50, 50, 50)"
      ]
     },
     "execution_count": 26,
     "metadata": {},
     "output_type": "execute_result"
    }
   ],
   "source": [
    "print('total:',count*5)\n",
    "len(val_Mixed_feelings), len(val_Negative), len(val_Positive), len(val_not_Kannada), len(val_unknown_state)"
   ]
  },
  {
   "cell_type": "code",
   "execution_count": 27,
   "id": "1ca430f5",
   "metadata": {
    "ExecuteTime": {
     "end_time": "2021-10-30T09:43:01.933045Z",
     "start_time": "2021-10-30T09:43:01.918085Z"
    },
    "scrolled": true
   },
   "outputs": [],
   "source": [
    "val_frames = [val_Mixed_feelings, val_Negative, val_Positive, val_not_Kannada, val_unknown_state ]\n",
    "\n",
    "val_result = pd.concat(val_frames) #concat"
   ]
  },
  {
   "cell_type": "code",
   "execution_count": 28,
   "id": "c160dcf2",
   "metadata": {
    "ExecuteTime": {
     "end_time": "2021-10-30T09:43:01.949002Z",
     "start_time": "2021-10-30T09:43:01.936037Z"
    }
   },
   "outputs": [
    {
     "data": {
      "text/plain": [
       "Counter({'Mixed feelings': 50,\n",
       "         'Negative': 50,\n",
       "         'Positive': 50,\n",
       "         'not-Kannada': 50,\n",
       "         'unknown state': 50})"
      ]
     },
     "execution_count": 28,
     "metadata": {},
     "output_type": "execute_result"
    }
   ],
   "source": [
    "Counter(val_result['category'])"
   ]
  },
  {
   "cell_type": "code",
   "execution_count": 29,
   "id": "3c9035ac",
   "metadata": {
    "ExecuteTime": {
     "end_time": "2021-10-30T09:43:01.964959Z",
     "start_time": "2021-10-30T09:43:01.950000Z"
    }
   },
   "outputs": [],
   "source": [
    "Sub_train = val_result.sample(frac = 1) #shuffle"
   ]
  },
  {
   "cell_type": "code",
   "execution_count": 30,
   "id": "97e0daf1",
   "metadata": {
    "ExecuteTime": {
     "end_time": "2021-10-30T09:43:01.980917Z",
     "start_time": "2021-10-30T09:43:01.965958Z"
    }
   },
   "outputs": [],
   "source": [
    "Sub_train_list = Sub_train['text'].tolist()\n",
    "Sub_labels_list = Sub_train['category'].tolist()"
   ]
  },
  {
   "cell_type": "markdown",
   "id": "0958ab5e",
   "metadata": {},
   "source": [
    "# Saving Choosen data into numpy files"
   ]
  },
  {
   "cell_type": "code",
   "execution_count": 28,
   "id": "ea502a6c",
   "metadata": {
    "ExecuteTime": {
     "end_time": "2021-10-30T08:25:17.108001Z",
     "start_time": "2021-10-30T08:25:17.057744Z"
    }
   },
   "outputs": [],
   "source": [
    "Kan_train = np.array(Sub_train_list)\n",
    "np.save('NumpyFiles\\Kan\\2750and250Split\\Kan_Train_data_2750.npy',Mal_train)\n",
    "Mal_train_label = np.array(Sub_labels_list)\n",
    "np.save('NumpyFiles\\Kan\\2750and250Split\\Kan_Train_label_2750.npy',Mal_train_label)"
   ]
  },
  {
   "cell_type": "code",
   "execution_count": 29,
   "id": "b31a3f84",
   "metadata": {
    "ExecuteTime": {
     "end_time": "2021-10-30T08:25:17.372620Z",
     "start_time": "2021-10-30T08:25:17.339706Z"
    }
   },
   "outputs": [
    {
     "name": "stdout",
     "output_type": "stream",
     "text": [
      "(5000,)\n",
      "(5000,)\n"
     ]
    }
   ],
   "source": [
    "temp21 =np.load('NumpyFiles\\Kan\\2750and250Split\\Kan_Train_data_2750.npy')\n",
    "print(temp21.shape)\n",
    "temp22 =np.load('NumpyFiles\\Kan\\2750and250Split\\Kan_Train_label_2750.npy')\n",
    "print(temp22.shape)"
   ]
  },
  {
   "cell_type": "code",
   "execution_count": 26,
   "id": "bfaac0c9",
   "metadata": {
    "ExecuteTime": {
     "end_time": "2021-10-30T08:25:15.853510Z",
     "start_time": "2021-10-30T08:25:15.834560Z"
    }
   },
   "outputs": [],
   "source": [
    "Kan_val = np.array(Sub_val_list)\n",
    "np.save(\"NumpyFiles\\Kan\\2750and250Split\\Mal_Val_data_500.npy\",Mal_val)\n",
    "Mal_val_label = np.array(Sub_val_labels_list)\n",
    "np.save(\"NumpyFiles\\Kan\\2750and250Split\\Mal_val_label_500.npy\",Mal_val_label)"
   ]
  },
  {
   "cell_type": "code",
   "execution_count": 27,
   "id": "f55c3d41",
   "metadata": {
    "ExecuteTime": {
     "end_time": "2021-10-30T08:25:16.782813Z",
     "start_time": "2021-10-30T08:25:16.767886Z"
    }
   },
   "outputs": [
    {
     "name": "stdout",
     "output_type": "stream",
     "text": [
      "(500,)\n",
      "(500,)\n"
     ]
    }
   ],
   "source": [
    "temp11 =np.load('NumpyFiles\\Kan\\2750and250Split\\Mal_Val_data_500.npy')\n",
    "print(temp11.shape)\n",
    "temp12 =np.load('NumpyFiles\\Kan\\2750and250Split\\Mal_val_label_500.npy')\n",
    "print(temp12.shape)"
   ]
  },
  {
   "cell_type": "code",
   "execution_count": 30,
   "id": "35ab564b",
   "metadata": {
    "ExecuteTime": {
     "end_time": "2021-10-30T08:25:17.683724Z",
     "start_time": "2021-10-30T08:25:17.661782Z"
    }
   },
   "outputs": [
    {
     "data": {
      "text/html": [
       "<div>\n",
       "<style scoped>\n",
       "    .dataframe tbody tr th:only-of-type {\n",
       "        vertical-align: middle;\n",
       "    }\n",
       "\n",
       "    .dataframe tbody tr th {\n",
       "        vertical-align: top;\n",
       "    }\n",
       "\n",
       "    .dataframe thead th {\n",
       "        text-align: right;\n",
       "    }\n",
       "</style>\n",
       "<table border=\"1\" class=\"dataframe\">\n",
       "  <thead>\n",
       "    <tr style=\"text-align: right;\">\n",
       "      <th></th>\n",
       "      <th>Data</th>\n",
       "      <th>label</th>\n",
       "    </tr>\n",
       "  </thead>\n",
       "  <tbody>\n",
       "    <tr>\n",
       "      <th>0</th>\n",
       "      <td>4k dislikes from kallayi khureshi abraam fans 050</td>\n",
       "      <td>not-malayalam</td>\n",
       "    </tr>\n",
       "    <tr>\n",
       "      <th>1</th>\n",
       "      <td>ikka fan ane bt song pora</td>\n",
       "      <td>Negative</td>\n",
       "    </tr>\n",
       "    <tr>\n",
       "      <th>2</th>\n",
       "      <td>ഇക്ക നോടുള്ള ഇഷ്ടം  കൂടിയിട്ട് ഉള്ളൂ</td>\n",
       "      <td>Positive</td>\n",
       "    </tr>\n",
       "    <tr>\n",
       "      <th>3</th>\n",
       "      <td>get  500 subscribersikka fans</td>\n",
       "      <td>not-malayalam</td>\n",
       "    </tr>\n",
       "    <tr>\n",
       "      <th>4</th>\n",
       "      <td>tamil nadu fans  vera level machi trailer</td>\n",
       "      <td>not-malayalam</td>\n",
       "    </tr>\n",
       "    <tr>\n",
       "      <th>...</th>\n",
       "      <td>...</td>\n",
       "      <td>...</td>\n",
       "    </tr>\n",
       "    <tr>\n",
       "      <th>4995</th>\n",
       "      <td>എന്തോ  മനസ്സ് നിറഞ്ഞില്ല കണ്ടിട്ട്   കുറച്ചൊക്...</td>\n",
       "      <td>Mixed_feelings</td>\n",
       "    </tr>\n",
       "    <tr>\n",
       "      <th>4996</th>\n",
       "      <td>hindi me kabhi aayega trailer and movie</td>\n",
       "      <td>not-malayalam</td>\n",
       "    </tr>\n",
       "    <tr>\n",
       "      <th>4997</th>\n",
       "      <td>views കൂട്ടുന്ന ആ app ഒന്നുപറഞ്ഞു തരുമോ ചേട്ടന...</td>\n",
       "      <td>Negative</td>\n",
       "    </tr>\n",
       "    <tr>\n",
       "      <th>4998</th>\n",
       "      <td>മഞ്ജു വിന്റെ ശക്തമായ കഥാപാത്രമാണെന്ന് ഉറപ്പായി</td>\n",
       "      <td>Positive</td>\n",
       "    </tr>\n",
       "    <tr>\n",
       "      <th>4999</th>\n",
       "      <td>മാമാങ്കം സിനിമയുടെ ആദ്യ ദിന പ്രേക്ഷക പ്രതികരണം...</td>\n",
       "      <td>unknown_state</td>\n",
       "    </tr>\n",
       "  </tbody>\n",
       "</table>\n",
       "<p>5000 rows × 2 columns</p>\n",
       "</div>"
      ],
      "text/plain": [
       "                                                   Data           label\n",
       "0     4k dislikes from kallayi khureshi abraam fans 050   not-malayalam\n",
       "1                             ikka fan ane bt song pora        Negative\n",
       "2                  ഇക്ക നോടുള്ള ഇഷ്ടം  കൂടിയിട്ട് ഉള്ളൂ        Positive\n",
       "3                        get  500 subscribersikka fans    not-malayalam\n",
       "4             tamil nadu fans  vera level machi trailer   not-malayalam\n",
       "...                                                 ...             ...\n",
       "4995  എന്തോ  മനസ്സ് നിറഞ്ഞില്ല കണ്ടിട്ട്   കുറച്ചൊക്...  Mixed_feelings\n",
       "4996            hindi me kabhi aayega trailer and movie   not-malayalam\n",
       "4997  views കൂട്ടുന്ന ആ app ഒന്നുപറഞ്ഞു തരുമോ ചേട്ടന...        Negative\n",
       "4998     മഞ്ജു വിന്റെ ശക്തമായ കഥാപാത്രമാണെന്ന് ഉറപ്പായി        Positive\n",
       "4999  മാമാങ്കം സിനിമയുടെ ആദ്യ ദിന പ്രേക്ഷക പ്രതികരണം...   unknown_state\n",
       "\n",
       "[5000 rows x 2 columns]"
      ]
     },
     "execution_count": 30,
     "metadata": {},
     "output_type": "execute_result"
    }
   ],
   "source": [
    "Traindf = pd.DataFrame({'Data' : temp21,'label' : temp22}, columns=['Data', 'label'])\n",
    "Traindf"
   ]
  },
  {
   "cell_type": "code",
   "execution_count": 31,
   "id": "0e4e51c5",
   "metadata": {
    "ExecuteTime": {
     "end_time": "2021-10-30T08:25:18.011953Z",
     "start_time": "2021-10-30T08:25:18.000987Z"
    }
   },
   "outputs": [
    {
     "data": {
      "text/html": [
       "<div>\n",
       "<style scoped>\n",
       "    .dataframe tbody tr th:only-of-type {\n",
       "        vertical-align: middle;\n",
       "    }\n",
       "\n",
       "    .dataframe tbody tr th {\n",
       "        vertical-align: top;\n",
       "    }\n",
       "\n",
       "    .dataframe thead th {\n",
       "        text-align: right;\n",
       "    }\n",
       "</style>\n",
       "<table border=\"1\" class=\"dataframe\">\n",
       "  <thead>\n",
       "    <tr style=\"text-align: right;\">\n",
       "      <th></th>\n",
       "      <th>Data</th>\n",
       "      <th>label</th>\n",
       "    </tr>\n",
       "  </thead>\n",
       "  <tbody>\n",
       "    <tr>\n",
       "      <th>0</th>\n",
       "      <td>സത്യം പറയാലോ ഏട്ടന്റെ മുഖം  ആ ഒടിയൻ സിനിമയ്ക്ക...</td>\n",
       "      <td>Negative</td>\n",
       "    </tr>\n",
       "    <tr>\n",
       "      <th>1</th>\n",
       "      <td>dayvu cheyth priyapettavare kanni akkaruth  ov...</td>\n",
       "      <td>Mixed_feelings</td>\n",
       "    </tr>\n",
       "    <tr>\n",
       "      <th>2</th>\n",
       "      <td>big b  annum innum ini ennum  mammookka thenne...</td>\n",
       "      <td>Positive</td>\n",
       "    </tr>\n",
       "    <tr>\n",
       "      <th>3</th>\n",
       "      <td>oru rakshayum illaaatha waiting  ഒന്നൊന്നര ട്ര...</td>\n",
       "      <td>Positive</td>\n",
       "    </tr>\n",
       "    <tr>\n",
       "      <th>4</th>\n",
       "      <td>oru doubt 11k views like 110k</td>\n",
       "      <td>unknown_state</td>\n",
       "    </tr>\n",
       "    <tr>\n",
       "      <th>...</th>\n",
       "      <td>...</td>\n",
       "      <td>...</td>\n",
       "    </tr>\n",
       "    <tr>\n",
       "      <th>495</th>\n",
       "      <td>ഇന്ന് 7 മണിക്ക് അസുരന്റെ  എഴുന്നുള്ളത്ത്</td>\n",
       "      <td>Positive</td>\n",
       "    </tr>\n",
       "    <tr>\n",
       "      <th>496</th>\n",
       "      <td>padathil animation undenn paranjappo ethreem k...</td>\n",
       "      <td>Positive</td>\n",
       "    </tr>\n",
       "    <tr>\n",
       "      <th>497</th>\n",
       "      <td>besttrailer adipoli ayal parayum ithu kanditu ...</td>\n",
       "      <td>Mixed_feelings</td>\n",
       "    </tr>\n",
       "    <tr>\n",
       "      <th>498</th>\n",
       "      <td>ഷെയിൻ നിഗത്തിന്റെ അഭിനയം കാണുമ്പോഴാണ് ബാക്കിയു...</td>\n",
       "      <td>unknown_state</td>\n",
       "    </tr>\n",
       "    <tr>\n",
       "      <th>499</th>\n",
       "      <td>repeating kettu kettu ippol favourite aayyy</td>\n",
       "      <td>Positive</td>\n",
       "    </tr>\n",
       "  </tbody>\n",
       "</table>\n",
       "<p>500 rows × 2 columns</p>\n",
       "</div>"
      ],
      "text/plain": [
       "                                                  Data           label\n",
       "0    സത്യം പറയാലോ ഏട്ടന്റെ മുഖം  ആ ഒടിയൻ സിനിമയ്ക്ക...        Negative\n",
       "1    dayvu cheyth priyapettavare kanni akkaruth  ov...  Mixed_feelings\n",
       "2    big b  annum innum ini ennum  mammookka thenne...        Positive\n",
       "3    oru rakshayum illaaatha waiting  ഒന്നൊന്നര ട്ര...        Positive\n",
       "4                       oru doubt 11k views like 110k    unknown_state\n",
       "..                                                 ...             ...\n",
       "495           ഇന്ന് 7 മണിക്ക് അസുരന്റെ  എഴുന്നുള്ളത്ത്        Positive\n",
       "496  padathil animation undenn paranjappo ethreem k...        Positive\n",
       "497  besttrailer adipoli ayal parayum ithu kanditu ...  Mixed_feelings\n",
       "498  ഷെയിൻ നിഗത്തിന്റെ അഭിനയം കാണുമ്പോഴാണ് ബാക്കിയു...   unknown_state\n",
       "499        repeating kettu kettu ippol favourite aayyy        Positive\n",
       "\n",
       "[500 rows x 2 columns]"
      ]
     },
     "execution_count": 31,
     "metadata": {},
     "output_type": "execute_result"
    }
   ],
   "source": [
    "Testdf = pd.DataFrame({'Data' : temp11,'label' : temp12}, columns=['Data', 'label'])\n",
    "Testdf"
   ]
  },
  {
   "cell_type": "code",
   "execution_count": null,
   "id": "5a62482f",
   "metadata": {},
   "outputs": [],
   "source": []
  }
 ],
 "metadata": {
  "kernelspec": {
   "display_name": "Python 3 (ipykernel)",
   "language": "python",
   "name": "python3"
  },
  "language_info": {
   "codemirror_mode": {
    "name": "ipython",
    "version": 3
   },
   "file_extension": ".py",
   "mimetype": "text/x-python",
   "name": "python",
   "nbconvert_exporter": "python",
   "pygments_lexer": "ipython3",
   "version": "3.8.11"
  },
  "latex_envs": {
   "LaTeX_envs_menu_present": true,
   "autoclose": false,
   "autocomplete": true,
   "bibliofile": "biblio.bib",
   "cite_by": "apalike",
   "current_citInitial": 1,
   "eqLabelWithNumbers": true,
   "eqNumInitial": 1,
   "hotkeys": {
    "equation": "Ctrl-E",
    "itemize": "Ctrl-I"
   },
   "labels_anchors": false,
   "latex_user_defs": false,
   "report_style_numbering": false,
   "user_envs_cfg": false
  },
  "toc": {
   "base_numbering": 1,
   "nav_menu": {},
   "number_sections": true,
   "sideBar": true,
   "skip_h1_title": false,
   "title_cell": "Table of Contents",
   "title_sidebar": "Contents",
   "toc_cell": false,
   "toc_position": {},
   "toc_section_display": true,
   "toc_window_display": true
  }
 },
 "nbformat": 4,
 "nbformat_minor": 5
}
