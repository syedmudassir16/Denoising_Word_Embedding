{
 "cells": [
  {
   "cell_type": "code",
   "execution_count": 8,
   "id": "4c75a642",
   "metadata": {
    "ExecuteTime": {
     "end_time": "2021-10-30T10:56:01.630860Z",
     "start_time": "2021-10-30T10:56:01.614937Z"
    },
    "colab": {
     "base_uri": "https://localhost:8080/"
    },
    "id": "NPsBVUt4CPFK",
    "outputId": "953cf603-64ba-45e3-85be-bc007232150e"
   },
   "outputs": [],
   "source": [
    "import math\n",
    "import pandas as pd\n",
    "import re\n",
    "import numpy as np\n",
    "import itertools\n",
    "import collections\n",
    "from collections import defaultdict, Counter\n",
    "import string\n",
    "from sklearn.preprocessing import LabelEncoder"
   ]
  },
  {
   "cell_type": "code",
   "execution_count": 9,
   "id": "c7975274",
   "metadata": {
    "ExecuteTime": {
     "end_time": "2021-10-30T10:56:01.895740Z",
     "start_time": "2021-10-30T10:56:01.854850Z"
    },
    "colab": {
     "base_uri": "https://localhost:8080/"
    },
    "id": "6GV9JIe0CO2b",
    "outputId": "27988521-db2e-4bcf-fbf0-4116cd5497e0"
   },
   "outputs": [
    {
     "name": "stdout",
     "output_type": "stream",
     "text": [
      " Volume in drive C is Acer\n",
      " Volume Serial Number is 3818-7542\n",
      "\n",
      " Directory of C:\\Users\\phvpa\\Desktop\\Experimants\\DataSet\n",
      "\n",
      "30-10-2021  16:25    <DIR>          .\n",
      "30-10-2021  12:45    <DIR>          ..\n",
      "30-10-2021  15:45    <DIR>          .ipynb_checkpoints\n",
      "30-10-2021  16:09            42,127 Kan_Preprocessing _and_spliting_2750and250.ipynb\n",
      "30-10-2021  12:45    <DIR>          Kannada\n",
      "30-10-2021  16:09            38,450 Mal_Preprocessing _and_spliting_5000and500.ipynb\n",
      "30-10-2021  12:45    <DIR>          Malyalam\n",
      "30-10-2021  12:54    <DIR>          NumpyFiles\n",
      "30-10-2021  16:25    <DIR>          Tamil\n",
      "30-10-2021  16:25            40,378 Tamil_Preprocessing _and_spliting_2750and250.ipynb\n",
      "               3 File(s)        120,955 bytes\n",
      "               7 Dir(s)  305,971,879,936 bytes free\n"
     ]
    }
   ],
   "source": [
    "ls"
   ]
  },
  {
   "cell_type": "code",
   "execution_count": 10,
   "id": "5b44a684",
   "metadata": {
    "ExecuteTime": {
     "end_time": "2021-10-30T10:56:02.270490Z",
     "start_time": "2021-10-30T10:56:02.262511Z"
    }
   },
   "outputs": [],
   "source": [
    "#pd.options.display.max_rows = None"
   ]
  },
  {
   "cell_type": "code",
   "execution_count": 11,
   "id": "f9ceddd5",
   "metadata": {
    "ExecuteTime": {
     "end_time": "2021-10-30T10:56:04.333092Z",
     "start_time": "2021-10-30T10:56:04.229934Z"
    },
    "scrolled": true
   },
   "outputs": [
    {
     "name": "stdout",
     "output_type": "stream",
     "text": [
      "35656\n",
      "3962\n"
     ]
    },
    {
     "data": {
      "text/plain": [
       "4402"
      ]
     },
     "execution_count": 11,
     "metadata": {},
     "output_type": "execute_result"
    }
   ],
   "source": [
    "train_df = pd.read_csv(\"Tamil/tamil_sentiment_full_train.tsv\", sep='\\t')\n",
    "print(len(train_df))\n",
    "\n",
    "#test_df = pd.read_csv(\"Mal_sentiment_full_dev.tsv\", header=None, sep='\\t')\n",
    "valid_df = pd.read_csv(\"Tamil/tamil_sentiment_full_dev.tsv\", sep='\\t')\n",
    "print(len(valid_df))\n",
    "\n",
    "test_df = pd.read_csv(\"Tamil/tamil_sentiment_full_test_withoutlabels.tsv\", sep='\\t')\n",
    "len(test_df)"
   ]
  },
  {
   "cell_type": "code",
   "execution_count": 12,
   "id": "ffc8b4d0",
   "metadata": {
    "ExecuteTime": {
     "end_time": "2021-10-30T15:30:59.589597Z",
     "start_time": "2021-10-30T15:30:59.568654Z"
    }
   },
   "outputs": [
    {
     "data": {
      "text/html": [
       "<div>\n",
       "<style scoped>\n",
       "    .dataframe tbody tr th:only-of-type {\n",
       "        vertical-align: middle;\n",
       "    }\n",
       "\n",
       "    .dataframe tbody tr th {\n",
       "        vertical-align: top;\n",
       "    }\n",
       "\n",
       "    .dataframe thead th {\n",
       "        text-align: right;\n",
       "    }\n",
       "</style>\n",
       "<table border=\"1\" class=\"dataframe\">\n",
       "  <thead>\n",
       "    <tr style=\"text-align: right;\">\n",
       "      <th></th>\n",
       "      <th>text</th>\n",
       "      <th>category</th>\n",
       "    </tr>\n",
       "  </thead>\n",
       "  <tbody>\n",
       "    <tr>\n",
       "      <th>0</th>\n",
       "      <td>Vani bhojam fans hit like solli 500 like Vangi...</td>\n",
       "      <td>unknown_state</td>\n",
       "    </tr>\n",
       "    <tr>\n",
       "      <th>1</th>\n",
       "      <td>I love you ajith very I like</td>\n",
       "      <td>Positive</td>\n",
       "    </tr>\n",
       "    <tr>\n",
       "      <th>2</th>\n",
       "      <td>ennaya trailer Ku mudi Ellam nikkudhu... Vera ...</td>\n",
       "      <td>Positive</td>\n",
       "    </tr>\n",
       "    <tr>\n",
       "      <th>3</th>\n",
       "      <td>Vijay Annaa  Ur Maassssss Therrrrriiiiii</td>\n",
       "      <td>Positive</td>\n",
       "    </tr>\n",
       "    <tr>\n",
       "      <th>4</th>\n",
       "      <td>நம்ப நடே நாசாமா தான் போச்சி</td>\n",
       "      <td>Negative</td>\n",
       "    </tr>\n",
       "    <tr>\n",
       "      <th>...</th>\n",
       "      <td>...</td>\n",
       "      <td>...</td>\n",
       "    </tr>\n",
       "    <tr>\n",
       "      <th>35651</th>\n",
       "      <td>ஒருவர் செய்த தவறுக்காக எல்லாரையும் பழி போடுவது...</td>\n",
       "      <td>Mixed_feelings</td>\n",
       "    </tr>\n",
       "    <tr>\n",
       "      <th>35652</th>\n",
       "      <td>Repeated Mode to Watching Theri Trailer &amp; Ther...</td>\n",
       "      <td>Positive</td>\n",
       "    </tr>\n",
       "    <tr>\n",
       "      <th>35653</th>\n",
       "      <td>yeevanikuachu  pula kutti erudhal oodi poyidu....</td>\n",
       "      <td>Negative</td>\n",
       "    </tr>\n",
       "    <tr>\n",
       "      <th>35654</th>\n",
       "      <td>She is looking like laughing budha</td>\n",
       "      <td>Positive</td>\n",
       "    </tr>\n",
       "    <tr>\n",
       "      <th>35655</th>\n",
       "      <td>NORTH OR SOUTH KGF IS THE BEST!!</td>\n",
       "      <td>Positive</td>\n",
       "    </tr>\n",
       "  </tbody>\n",
       "</table>\n",
       "<p>35656 rows × 2 columns</p>\n",
       "</div>"
      ],
      "text/plain": [
       "                                                    text        category\n",
       "0      Vani bhojam fans hit like solli 500 like Vangi...   unknown_state\n",
       "1                           I love you ajith very I like        Positive\n",
       "2      ennaya trailer Ku mudi Ellam nikkudhu... Vera ...        Positive\n",
       "3               Vijay Annaa  Ur Maassssss Therrrrriiiiii        Positive\n",
       "4                            நம்ப நடே நாசாமா தான் போச்சி        Negative\n",
       "...                                                  ...             ...\n",
       "35651  ஒருவர் செய்த தவறுக்காக எல்லாரையும் பழி போடுவது...  Mixed_feelings\n",
       "35652  Repeated Mode to Watching Theri Trailer & Ther...        Positive\n",
       "35653  yeevanikuachu  pula kutti erudhal oodi poyidu....        Negative\n",
       "35654                 She is looking like laughing budha        Positive\n",
       "35655                   NORTH OR SOUTH KGF IS THE BEST!!        Positive\n",
       "\n",
       "[35656 rows x 2 columns]"
      ]
     },
     "execution_count": 12,
     "metadata": {},
     "output_type": "execute_result"
    }
   ],
   "source": [
    "train_df"
   ]
  },
  {
   "cell_type": "code",
   "execution_count": 13,
   "id": "008088af",
   "metadata": {
    "ExecuteTime": {
     "end_time": "2021-10-30T15:31:01.694873Z",
     "start_time": "2021-10-30T15:31:01.677951Z"
    },
    "scrolled": true
   },
   "outputs": [
    {
     "data": {
      "text/plain": [
       "0         unknown_state\n",
       "1              Positive\n",
       "2              Positive\n",
       "3              Positive\n",
       "4              Negative\n",
       "              ...      \n",
       "35651    Mixed_feelings\n",
       "35652          Positive\n",
       "35653          Negative\n",
       "35654          Positive\n",
       "35655          Positive\n",
       "Name: category, Length: 35656, dtype: object"
      ]
     },
     "execution_count": 13,
     "metadata": {},
     "output_type": "execute_result"
    }
   ],
   "source": [
    "train_df['category']"
   ]
  },
  {
   "cell_type": "code",
   "execution_count": 14,
   "id": "3fea4be7",
   "metadata": {
    "ExecuteTime": {
     "end_time": "2021-10-30T15:31:09.571734Z",
     "start_time": "2021-10-30T15:31:03.309787Z"
    },
    "id": "5M7bMSkdAhbS"
   },
   "outputs": [],
   "source": [
    "#removing all the emoji from the given data\n",
    "\n",
    "def deEmojify(text):\n",
    "    regrex_pattern = re.compile(pattern = \"[\"\n",
    "        u\"\\U0001F600-\\U0001F64F\"  # emoticons\n",
    "        u\"\\U0001F300-\\U0001F5FF\"  # symbols & pictographs\n",
    "        u\"\\U0001F680-\\U0001F6FF\"  # transport & map symbols\n",
    "        u\"\\U0001F1E0-\\U0001F1FF\"  # flags (iOS)\n",
    "        u\"\\U00002500-\\U00002BEF\"  # chinese char\n",
    "        u\"\\U00002702-\\U000027B0\"\n",
    "        u\"\\U00002702-\\U000027B0\"\n",
    "        u\"\\U000024C2-\\U0001F251\"\n",
    "        u\"\\U0001f926-\\U0001f937\"\n",
    "        u\"\\U00010000-\\U0010ffff\"\n",
    "        u\"\\u2640-\\u2642\"\n",
    "        u\"\\u2600-\\u2B55\"\n",
    "        u\"\\u200d\"\n",
    "        u\"\\u23cf\"\n",
    "        u\"\\u23e9\"\n",
    "        u\"\\u231a\"\n",
    "        u\"\\ufe0f\"  # dingbats\n",
    "        u\"\\u3030\"\n",
    "        \"]+\", flags = re.UNICODE)\n",
    "    return regrex_pattern.sub(r'',text)\n",
    "\n",
    "\n",
    "for i in range(len(train_df)):\n",
    "    temp1 = deEmojify(train_df['text'][i])\n",
    "    train_df['text'][i] = temp1\n",
    "\n",
    "for j in range(len(valid_df)):\n",
    "    temp2 = deEmojify(valid_df['text'][j])\n",
    "    valid_df['text'][j] = temp2\n",
    "\n",
    "for k in range(len(test_df)):\n",
    "    temp3 = deEmojify(test_df['text'][k])\n",
    "    test_df['text'][k]=temp3"
   ]
  },
  {
   "cell_type": "code",
   "execution_count": 15,
   "id": "b0ac983b",
   "metadata": {
    "ExecuteTime": {
     "end_time": "2021-10-30T15:31:11.719498Z",
     "start_time": "2021-10-30T15:31:11.714512Z"
    },
    "id": "kvZOI__qZ7zd"
   },
   "outputs": [],
   "source": [
    "def preprocess_data(text):\n",
    "  user_name = '@[A-Za-z0-9]+' # Pattern for matching the user names in the tweet\n",
    "  has_tag = '#[A-Za-z0-9]+' # Pattern for matching the hasgtags in the tweer\n",
    "  url = 'https?:\\/\\/[A-Za-z0-9\\.\\/\\-]+' # Pattern for matching the URLs in the tweet\n",
    "  #emoji_pattern = r'/[x{1F600}-x{1F64F}]/u'\n",
    "  \n",
    "  x = text.lower()  # Lower casing all the characters\n",
    "  x = re.sub(user_name, '', x) # Replace the username with an empty characrer\n",
    "  x = re.sub(has_tag,'',x) # Replace the hashtags with an empty characrer\n",
    "  x = re.sub(url, '', x) # Replace the URLs with an empty characrer\n",
    "  #x = re.sub(emoji_pattern, '', x)\n",
    "  x = x.translate(str.maketrans('', '', string.punctuation)) # Replace all the characters except alphabets and digits from the tweet\n",
    "\n",
    "  return x"
   ]
  },
  {
   "cell_type": "code",
   "execution_count": 16,
   "id": "dbff7146",
   "metadata": {
    "ExecuteTime": {
     "end_time": "2021-10-30T15:31:13.018523Z",
     "start_time": "2021-10-30T15:31:12.716819Z"
    },
    "id": "kXmiAchmcPq_"
   },
   "outputs": [],
   "source": [
    "train_df['text'] = train_df['text'].apply(lambda x: preprocess_data(x)) # Apply the clean_data() to all the entries in the dataframe\n",
    "valid_df['text'] = valid_df['text'].apply(lambda x: preprocess_data(x)) # Apply the clean_data() to all the entries in the dataframe\n",
    "test_df['text'] = test_df['text'].apply(lambda x: preprocess_data(x)) # Apply the clean_data() to all the entries in the dataframe"
   ]
  },
  {
   "cell_type": "code",
   "execution_count": 17,
   "id": "488a71eb",
   "metadata": {
    "ExecuteTime": {
     "end_time": "2021-10-30T15:31:14.101115Z",
     "start_time": "2021-10-30T15:31:13.923181Z"
    }
   },
   "outputs": [],
   "source": [
    "np.save('NumpyFiles\\Tamil\\Fulldata\\Tamil_Train_Full_data.npy',list(train_df['text']))\n",
    "np.save('NumpyFiles\\Tamil\\Fulldata\\Tamil_Train_Full_labels.npy',list(train_df['category']))\n",
    "np.save('NumpyFiles\\Tamil\\Fulldata\\Tamil_Val_Full_data.npy',list(valid_df['text']))\n",
    "np.save('NumpyFiles\\Tamil\\Fulldata\\Tamil_Val_Full_labels.npy',list(valid_df['category']))\n",
    "np.save('NumpyFiles\\Tamil\\Fulldata\\Tamil_Test_Full_data.npy',list(valid_df['text']))"
   ]
  },
  {
   "cell_type": "code",
   "execution_count": 18,
   "id": "dff03348",
   "metadata": {
    "ExecuteTime": {
     "end_time": "2021-10-30T15:31:23.860489Z",
     "start_time": "2021-10-30T15:31:23.761753Z"
    }
   },
   "outputs": [],
   "source": [
    "temp1 = np.load('NumpyFiles\\Tamil\\Fulldata\\Tamil_Train_Full_data.npy')\n",
    "temp2 = np.load('NumpyFiles\\Tamil\\Fulldata\\Tamil_Train_Full_labels.npy')\n",
    "temp3 = np.load('NumpyFiles\\Tamil\\Fulldata\\Tamil_Val_Full_data.npy')\n",
    "temp4 = np.load('NumpyFiles\\Tamil\\Fulldata\\Tamil_Val_Full_labels.npy')\n",
    "temp5 = np.load('NumpyFiles\\Tamil\\Fulldata\\Tamil_Test_Full_data.npy')"
   ]
  },
  {
   "cell_type": "code",
   "execution_count": 19,
   "id": "56146dd0",
   "metadata": {
    "ExecuteTime": {
     "end_time": "2021-10-30T15:31:24.512848Z",
     "start_time": "2021-10-30T15:31:24.502905Z"
    }
   },
   "outputs": [
    {
     "data": {
      "text/plain": [
       "((35656,), (35656,), (3962,), (3962,))"
      ]
     },
     "execution_count": 19,
     "metadata": {},
     "output_type": "execute_result"
    }
   ],
   "source": [
    "temp1.shape, temp2.shape, temp3.shape, temp4.shape"
   ]
  },
  {
   "cell_type": "markdown",
   "id": "18f236a6",
   "metadata": {},
   "source": [
    "# Dividing train and valid separatly:"
   ]
  },
  {
   "cell_type": "markdown",
   "id": "fb3c35a2",
   "metadata": {},
   "source": [
    "### Train data"
   ]
  },
  {
   "cell_type": "code",
   "execution_count": 20,
   "id": "a9aa1472",
   "metadata": {
    "ExecuteTime": {
     "end_time": "2021-10-30T15:31:30.778058Z",
     "start_time": "2021-10-30T15:31:30.753125Z"
    },
    "scrolled": false
   },
   "outputs": [
    {
     "data": {
      "text/html": [
       "<div>\n",
       "<style scoped>\n",
       "    .dataframe tbody tr th:only-of-type {\n",
       "        vertical-align: middle;\n",
       "    }\n",
       "\n",
       "    .dataframe tbody tr th {\n",
       "        vertical-align: top;\n",
       "    }\n",
       "\n",
       "    .dataframe thead th {\n",
       "        text-align: right;\n",
       "    }\n",
       "</style>\n",
       "<table border=\"1\" class=\"dataframe\">\n",
       "  <thead>\n",
       "    <tr style=\"text-align: right;\">\n",
       "      <th></th>\n",
       "      <th>text</th>\n",
       "      <th>category</th>\n",
       "    </tr>\n",
       "  </thead>\n",
       "  <tbody>\n",
       "    <tr>\n",
       "      <th>11296</th>\n",
       "      <td>abhi se advance  booking  suru ho jaye kon kon...</td>\n",
       "      <td>Mixed_feelings</td>\n",
       "    </tr>\n",
       "    <tr>\n",
       "      <th>3579</th>\n",
       "      <td>கருப்பு சுதந்திரத்தை பேசும் அவர்கள் சட்டத்தில்...</td>\n",
       "      <td>Mixed_feelings</td>\n",
       "    </tr>\n",
       "    <tr>\n",
       "      <th>35086</th>\n",
       "      <td>thala blood mattum like ah podu</td>\n",
       "      <td>Mixed_feelings</td>\n",
       "    </tr>\n",
       "    <tr>\n",
       "      <th>18627</th>\n",
       "      <td>ஜாதிய விடுங்க முதலில் அப்பாவி பெண்களுக்கு நாடக...</td>\n",
       "      <td>Mixed_feelings</td>\n",
       "    </tr>\n",
       "    <tr>\n",
       "      <th>3572</th>\n",
       "      <td>dai ithu maniratnam padmada irutaya kanoom</td>\n",
       "      <td>Mixed_feelings</td>\n",
       "    </tr>\n",
       "    <tr>\n",
       "      <th>...</th>\n",
       "      <td>...</td>\n",
       "      <td>...</td>\n",
       "    </tr>\n",
       "    <tr>\n",
       "      <th>20394</th>\n",
       "      <td>046 kathii trailer feeeel adichavange like</td>\n",
       "      <td>unknown_state</td>\n",
       "    </tr>\n",
       "    <tr>\n",
       "      <th>20399</th>\n",
       "      <td>oho 96la ilayaraja paatu vantha ippo irrukura ...</td>\n",
       "      <td>unknown_state</td>\n",
       "    </tr>\n",
       "    <tr>\n",
       "      <th>20405</th>\n",
       "      <td>plz dubbed in kannada also</td>\n",
       "      <td>unknown_state</td>\n",
       "    </tr>\n",
       "    <tr>\n",
       "      <th>20416</th>\n",
       "      <td>bigil trailer wait pandravanga like here</td>\n",
       "      <td>unknown_state</td>\n",
       "    </tr>\n",
       "    <tr>\n",
       "      <th>17827</th>\n",
       "      <td>90s kids ku etha movie ah than irukum nu nenai...</td>\n",
       "      <td>unknown_state</td>\n",
       "    </tr>\n",
       "  </tbody>\n",
       "</table>\n",
       "<p>35656 rows × 2 columns</p>\n",
       "</div>"
      ],
      "text/plain": [
       "                                                    text        category\n",
       "11296  abhi se advance  booking  suru ho jaye kon kon...  Mixed_feelings\n",
       "3579   கருப்பு சுதந்திரத்தை பேசும் அவர்கள் சட்டத்தில்...  Mixed_feelings\n",
       "35086                    thala blood mattum like ah podu  Mixed_feelings\n",
       "18627  ஜாதிய விடுங்க முதலில் அப்பாவி பெண்களுக்கு நாடக...  Mixed_feelings\n",
       "3572          dai ithu maniratnam padmada irutaya kanoom  Mixed_feelings\n",
       "...                                                  ...             ...\n",
       "20394         046 kathii trailer feeeel adichavange like   unknown_state\n",
       "20399  oho 96la ilayaraja paatu vantha ippo irrukura ...   unknown_state\n",
       "20405                         plz dubbed in kannada also   unknown_state\n",
       "20416           bigil trailer wait pandravanga like here   unknown_state\n",
       "17827  90s kids ku etha movie ah than irukum nu nenai...   unknown_state\n",
       "\n",
       "[35656 rows x 2 columns]"
      ]
     },
     "execution_count": 20,
     "metadata": {},
     "output_type": "execute_result"
    }
   ],
   "source": [
    "df_temp2 = train_df.sort_values('category')\n",
    "df_temp2"
   ]
  },
  {
   "cell_type": "code",
   "execution_count": 21,
   "id": "e6b13c7d",
   "metadata": {
    "ExecuteTime": {
     "end_time": "2021-10-30T15:31:32.890984Z",
     "start_time": "2021-10-30T15:31:32.878018Z"
    }
   },
   "outputs": [
    {
     "name": "stdout",
     "output_type": "stream",
     "text": [
      "Traindf: \n",
      " {'Mixed_feelings': 4020, 'Negative': 4271, 'Positive': 20069, 'Positive ': 1, 'not-Tamil': 1667, 'unknown_state': 5628} \n",
      "\n",
      "Mixed_feelings starts from:  0\n",
      "Negative starts from:  4020\n",
      "Positive starts from:  8291\n",
      "Positive  starts from:  28360\n",
      "not-Tamil starts from:  28361\n",
      "unknown_state starts from:  30028\n",
      "unknown_state ends at:  35656\n"
     ]
    }
   ],
   "source": [
    "train = Counter(train_df['category'])\n",
    "train_sort = dict(sorted(train.items(), key=lambda item: item[0]))\n",
    "\n",
    "print('Traindf: \\n',train_sort,'\\n')\n",
    "temp = 0\n",
    "for key in train_sort:\n",
    "    print(key,'starts from: ', temp)\n",
    "    temp = temp + int(train_sort[key])\n",
    "print(key,'ends at: ', temp)"
   ]
  },
  {
   "cell_type": "code",
   "execution_count": 22,
   "id": "ac592458",
   "metadata": {
    "ExecuteTime": {
     "end_time": "2021-10-30T15:31:36.400971Z",
     "start_time": "2021-10-30T15:31:36.385014Z"
    },
    "scrolled": true
   },
   "outputs": [],
   "source": [
    "#print(df_temp2['category'].tolist())"
   ]
  },
  {
   "cell_type": "code",
   "execution_count": 16,
   "id": "6adcc132",
   "metadata": {
    "ExecuteTime": {
     "end_time": "2021-10-30T09:54:10.588544Z",
     "start_time": "2021-10-30T09:54:10.573583Z"
    }
   },
   "outputs": [],
   "source": [
    "count2 = 1600\n",
    "train_Mixed_feelings = df_temp2[:count2]\n",
    "train_Negative = df_temp2[4025:4025+count2]\n",
    "train_Positive=df_temp2[8295:8295+count2]\n",
    "train_not_Tamil = df_temp2[28370:4590+count2]\n",
    "train_unknown_state = df_temp2[5505:5505+count2]"
   ]
  },
  {
   "cell_type": "code",
   "execution_count": 17,
   "id": "da196b63",
   "metadata": {
    "ExecuteTime": {
     "end_time": "2021-10-30T09:54:10.604501Z",
     "start_time": "2021-10-30T09:54:10.589561Z"
    }
   },
   "outputs": [
    {
     "name": "stdout",
     "output_type": "stream",
     "text": [
      "total: 2750\n"
     ]
    },
    {
     "data": {
      "text/plain": [
       "(550, 550, 550, 550, 550)"
      ]
     },
     "execution_count": 17,
     "metadata": {},
     "output_type": "execute_result"
    }
   ],
   "source": [
    "print('total:',count2*5)\n",
    "len(train_Mixed_feelings), len(train_Negative), len(train_Positive), len(train_not_Tamil), len(train_unknown_state)"
   ]
  },
  {
   "cell_type": "code",
   "execution_count": 18,
   "id": "522f6e68",
   "metadata": {
    "ExecuteTime": {
     "end_time": "2021-10-30T09:54:10.620458Z",
     "start_time": "2021-10-30T09:54:10.605499Z"
    }
   },
   "outputs": [
    {
     "data": {
      "text/plain": [
       "(2750, 2)"
      ]
     },
     "execution_count": 18,
     "metadata": {},
     "output_type": "execute_result"
    }
   ],
   "source": [
    "Train_frames = [train_Mixed_feelings, train_Negative, train_Positive, train_not_Tamil, train_unknown_state ]\n",
    "Train_results = pd.concat(Train_frames)\n",
    "Train_results.shape"
   ]
  },
  {
   "cell_type": "code",
   "execution_count": 19,
   "id": "07311930",
   "metadata": {
    "ExecuteTime": {
     "end_time": "2021-10-30T09:54:10.636415Z",
     "start_time": "2021-10-30T09:54:10.621455Z"
    }
   },
   "outputs": [],
   "source": [
    "# Train_results"
   ]
  },
  {
   "cell_type": "code",
   "execution_count": 20,
   "id": "c51253ba",
   "metadata": {
    "ExecuteTime": {
     "end_time": "2021-10-30T09:54:10.652373Z",
     "start_time": "2021-10-30T09:54:10.638410Z"
    }
   },
   "outputs": [
    {
     "data": {
      "text/plain": [
       "Counter({'Mixed feelings': 550,\n",
       "         'Negative': 550,\n",
       "         'Positive': 550,\n",
       "         'not-Kannada': 550,\n",
       "         'unknown state': 550})"
      ]
     },
     "execution_count": 20,
     "metadata": {},
     "output_type": "execute_result"
    }
   ],
   "source": [
    "Counter(Train_results['category'])"
   ]
  },
  {
   "cell_type": "code",
   "execution_count": 21,
   "id": "7de2eb09",
   "metadata": {
    "ExecuteTime": {
     "end_time": "2021-10-30T09:54:10.668330Z",
     "start_time": "2021-10-30T09:54:10.654368Z"
    }
   },
   "outputs": [],
   "source": [
    "Sub_Train = Train_results.sample(frac = 1)"
   ]
  },
  {
   "cell_type": "code",
   "execution_count": 22,
   "id": "a99c9eaf",
   "metadata": {
    "ExecuteTime": {
     "end_time": "2021-10-30T09:54:10.684287Z",
     "start_time": "2021-10-30T09:54:10.669327Z"
    }
   },
   "outputs": [],
   "source": [
    "Sub_Train_list = Sub_Train['text'].tolist()\n",
    "Sub_Train_labels_list = Sub_Train['category'].tolist()"
   ]
  },
  {
   "cell_type": "markdown",
   "id": "951b3df6",
   "metadata": {},
   "source": [
    "### Val Data"
   ]
  },
  {
   "cell_type": "code",
   "execution_count": 23,
   "id": "1c05ea04",
   "metadata": {
    "ExecuteTime": {
     "end_time": "2021-10-30T09:54:10.700245Z",
     "start_time": "2021-10-30T09:54:10.685285Z"
    }
   },
   "outputs": [
    {
     "data": {
      "text/plain": [
       "(691, 2)"
      ]
     },
     "execution_count": 23,
     "metadata": {},
     "output_type": "execute_result"
    }
   ],
   "source": [
    "df_temp = valid_df.sort_values('category')\n",
    "df_temp.shape"
   ]
  },
  {
   "cell_type": "code",
   "execution_count": 24,
   "id": "351bf303",
   "metadata": {
    "ExecuteTime": {
     "end_time": "2021-10-30T09:54:10.716202Z",
     "start_time": "2021-10-30T09:54:10.701242Z"
    }
   },
   "outputs": [
    {
     "name": "stdout",
     "output_type": "stream",
     "text": [
      "\n",
      "validdf:\n",
      " {'Mixed feelings': 52, 'Negative': 139, 'Positive': 321, 'not-Kannada': 110, 'unknown state': 69} \n",
      "\n",
      "Mixed feelings starts from:  0\n",
      "Negative starts from:  52\n",
      "Positive starts from:  191\n",
      "not-Kannada starts from:  512\n",
      "unknown state starts from:  622\n",
      "unknown state ends at:  691\n"
     ]
    }
   ],
   "source": [
    "val = Counter(valid_df['category'])\n",
    "val_sort = dict(sorted(val.items(), key=lambda item: item[0]))\n",
    "\n",
    "print('\\nvaliddf:\\n',val_sort,'\\n')\n",
    "temp = 0\n",
    "for key in val_sort:\n",
    "    print(key,'starts from: ', temp)\n",
    "    temp = temp + int(val_sort[key])\n",
    "\n",
    "print(key,'ends at: ', temp)"
   ]
  },
  {
   "cell_type": "code",
   "execution_count": 25,
   "id": "9d9d271b",
   "metadata": {
    "ExecuteTime": {
     "end_time": "2021-10-30T09:54:10.732159Z",
     "start_time": "2021-10-30T09:54:10.717199Z"
    }
   },
   "outputs": [],
   "source": [
    "count = 50\n",
    "val_Mixed_feelings = df_temp[:count]\n",
    "val_Negative = df_temp[55:55+count]\n",
    "val_Positive=df_temp[192:192+count]\n",
    "val_not_Kannada = df_temp[515:515+count]\n",
    "val_unknown_state = df_temp[625:625+count]"
   ]
  },
  {
   "cell_type": "code",
   "execution_count": 26,
   "id": "40f595d2",
   "metadata": {
    "ExecuteTime": {
     "end_time": "2021-10-30T09:54:10.748117Z",
     "start_time": "2021-10-30T09:54:10.733156Z"
    }
   },
   "outputs": [
    {
     "name": "stdout",
     "output_type": "stream",
     "text": [
      "total: 250\n"
     ]
    },
    {
     "data": {
      "text/plain": [
       "(50, 50, 50, 50, 50)"
      ]
     },
     "execution_count": 26,
     "metadata": {},
     "output_type": "execute_result"
    }
   ],
   "source": [
    "print('total:',count*5)\n",
    "len(val_Mixed_feelings), len(val_Negative), len(val_Positive), len(val_not_Kannada), len(val_unknown_state)"
   ]
  },
  {
   "cell_type": "code",
   "execution_count": 27,
   "id": "1ca430f5",
   "metadata": {
    "ExecuteTime": {
     "end_time": "2021-10-30T09:54:10.763077Z",
     "start_time": "2021-10-30T09:54:10.749114Z"
    },
    "scrolled": true
   },
   "outputs": [],
   "source": [
    "val_frames = [val_Mixed_feelings, val_Negative, val_Positive, val_not_Kannada, val_unknown_state ]\n",
    "\n",
    "val_result = pd.concat(val_frames) #concat"
   ]
  },
  {
   "cell_type": "code",
   "execution_count": 28,
   "id": "92a8f4ad",
   "metadata": {
    "ExecuteTime": {
     "end_time": "2021-10-30T09:54:10.778037Z",
     "start_time": "2021-10-30T09:54:10.766069Z"
    }
   },
   "outputs": [
    {
     "data": {
      "text/plain": [
       "Counter({'Mixed feelings': 50,\n",
       "         'Negative': 50,\n",
       "         'Positive': 50,\n",
       "         'not-Kannada': 50,\n",
       "         'unknown state': 50})"
      ]
     },
     "execution_count": 28,
     "metadata": {},
     "output_type": "execute_result"
    }
   ],
   "source": [
    "Counter(val_result['category'])"
   ]
  },
  {
   "cell_type": "code",
   "execution_count": 29,
   "id": "3c9035ac",
   "metadata": {
    "ExecuteTime": {
     "end_time": "2021-10-30T09:54:10.793994Z",
     "start_time": "2021-10-30T09:54:10.779034Z"
    }
   },
   "outputs": [],
   "source": [
    "Sub_val = val_result.sample(frac = 1) #shuffle"
   ]
  },
  {
   "cell_type": "code",
   "execution_count": 30,
   "id": "97e0daf1",
   "metadata": {
    "ExecuteTime": {
     "end_time": "2021-10-30T09:54:10.809951Z",
     "start_time": "2021-10-30T09:54:10.794991Z"
    }
   },
   "outputs": [],
   "source": [
    "Sub_val_list = Sub_val['text'].tolist()\n",
    "Sub_val_labels_list = Sub_val['category'].tolist()"
   ]
  },
  {
   "cell_type": "markdown",
   "id": "0958ab5e",
   "metadata": {},
   "source": [
    "# Saving Choosen data into numpy files"
   ]
  },
  {
   "cell_type": "code",
   "execution_count": 31,
   "id": "ea502a6c",
   "metadata": {
    "ExecuteTime": {
     "end_time": "2021-10-30T09:54:10.825909Z",
     "start_time": "2021-10-30T09:54:10.811951Z"
    }
   },
   "outputs": [],
   "source": [
    "#\"C:\\Users\\phvpa\\Desktop\\Experimants\\DataSet\\NumpyFiles\\Kan\\Split2750and250\"\n",
    "Kan_train = np.array(Sub_Train_list)\n",
    "np.save('NumpyFiles\\Kan\\Split2750and250\\Kan_Train_data_2750.npy',Kan_train)\n",
    "Kan_train_label = np.array(Sub_Train_labels_list)\n",
    "np.save('NumpyFiles\\Kan\\Split2750and250\\Kan_Train_label_2750.npy',Kan_train_label)"
   ]
  },
  {
   "cell_type": "code",
   "execution_count": 32,
   "id": "b31a3f84",
   "metadata": {
    "ExecuteTime": {
     "end_time": "2021-10-30T09:54:10.841866Z",
     "start_time": "2021-10-30T09:54:10.826906Z"
    }
   },
   "outputs": [
    {
     "name": "stdout",
     "output_type": "stream",
     "text": [
      "(2750,)\n",
      "(2750,)\n"
     ]
    }
   ],
   "source": [
    "temp21 =np.load('NumpyFiles\\Kan\\Split2750and250\\Kan_Train_data_2750.npy')\n",
    "print(temp21.shape)\n",
    "temp22 =np.load('NumpyFiles\\Kan\\Split2750and250\\Kan_Train_label_2750.npy')\n",
    "print(temp22.shape)"
   ]
  },
  {
   "cell_type": "code",
   "execution_count": 33,
   "id": "bfaac0c9",
   "metadata": {
    "ExecuteTime": {
     "end_time": "2021-10-30T09:54:10.857823Z",
     "start_time": "2021-10-30T09:54:10.842863Z"
    }
   },
   "outputs": [],
   "source": [
    "Kan_val = np.array(Sub_val_list)\n",
    "np.save(\"NumpyFiles\\Kan\\Split2750and250\\Kan_Val_data_250.npy\",Kan_val)\n",
    "Kan_val_label = np.array(Sub_val_labels_list)\n",
    "np.save(\"NumpyFiles\\Kan\\Split2750and250\\Kan_val_label_250.npy\",Kan_val_label)"
   ]
  },
  {
   "cell_type": "code",
   "execution_count": 34,
   "id": "f55c3d41",
   "metadata": {
    "ExecuteTime": {
     "end_time": "2021-10-30T09:54:10.872784Z",
     "start_time": "2021-10-30T09:54:10.859818Z"
    }
   },
   "outputs": [
    {
     "name": "stdout",
     "output_type": "stream",
     "text": [
      "(250,)\n",
      "(250,)\n"
     ]
    }
   ],
   "source": [
    "temp11 =np.load('NumpyFiles\\Kan\\Split2750and250\\Kan_Val_data_250.npy')\n",
    "print(temp11.shape)\n",
    "temp12 =np.load('NumpyFiles\\Kan\\Split2750and250\\Kan_val_label_250.npy')\n",
    "print(temp12.shape)"
   ]
  },
  {
   "cell_type": "code",
   "execution_count": 35,
   "id": "35ab564b",
   "metadata": {
    "ExecuteTime": {
     "end_time": "2021-10-30T09:54:10.887743Z",
     "start_time": "2021-10-30T09:54:10.873781Z"
    }
   },
   "outputs": [
    {
     "data": {
      "text/html": [
       "<div>\n",
       "<style scoped>\n",
       "    .dataframe tbody tr th:only-of-type {\n",
       "        vertical-align: middle;\n",
       "    }\n",
       "\n",
       "    .dataframe tbody tr th {\n",
       "        vertical-align: top;\n",
       "    }\n",
       "\n",
       "    .dataframe thead th {\n",
       "        text-align: right;\n",
       "    }\n",
       "</style>\n",
       "<table border=\"1\" class=\"dataframe\">\n",
       "  <thead>\n",
       "    <tr style=\"text-align: right;\">\n",
       "      <th></th>\n",
       "      <th>Data</th>\n",
       "      <th>label</th>\n",
       "    </tr>\n",
       "  </thead>\n",
       "  <tbody>\n",
       "    <tr>\n",
       "      <th>0</th>\n",
       "      <td>nama kannada channel dinesh ss स्सुप्पेर</td>\n",
       "      <td>not-Kannada</td>\n",
       "    </tr>\n",
       "    <tr>\n",
       "      <th>1</th>\n",
       "      <td>ramesh snakannanavar nlar</td>\n",
       "      <td>unknown state</td>\n",
       "    </tr>\n",
       "    <tr>\n",
       "      <th>2</th>\n",
       "      <td>prakash kittoyta</td>\n",
       "      <td>Negative</td>\n",
       "    </tr>\n",
       "    <tr>\n",
       "      <th>3</th>\n",
       "      <td>hands  up  super  songs</td>\n",
       "      <td>not-Kannada</td>\n",
       "    </tr>\n",
       "    <tr>\n",
       "      <th>4</th>\n",
       "      <td>bai rakshith avri nan msg nodudri yargu agllil...</td>\n",
       "      <td>Negative</td>\n",
       "    </tr>\n",
       "    <tr>\n",
       "      <th>...</th>\n",
       "      <td>...</td>\n",
       "      <td>...</td>\n",
       "    </tr>\n",
       "    <tr>\n",
       "      <th>2745</th>\n",
       "      <td>2k dislikes rashmika maandanna fanss</td>\n",
       "      <td>Negative</td>\n",
       "    </tr>\n",
       "    <tr>\n",
       "      <th>2746</th>\n",
       "      <td>vitthal ಲುಚ್ಛನ್ ಫ್ಯಾನ್ಸ್ ಉರ್ಕೋತಾವ್ರೆ d boss ಬ...</td>\n",
       "      <td>Negative</td>\n",
       "    </tr>\n",
       "    <tr>\n",
       "      <th>2747</th>\n",
       "      <td>dana alla ok</td>\n",
       "      <td>Negative</td>\n",
       "    </tr>\n",
       "    <tr>\n",
       "      <th>2748</th>\n",
       "      <td>howdu gurunadre climax papa</td>\n",
       "      <td>unknown state</td>\n",
       "    </tr>\n",
       "    <tr>\n",
       "      <th>2749</th>\n",
       "      <td>of king yako istond urkond saytiya burnal achko</td>\n",
       "      <td>Negative</td>\n",
       "    </tr>\n",
       "  </tbody>\n",
       "</table>\n",
       "<p>2750 rows × 2 columns</p>\n",
       "</div>"
      ],
      "text/plain": [
       "                                                   Data          label\n",
       "0              nama kannada channel dinesh ss स्सुप्पेर    not-Kannada\n",
       "1                             ramesh snakannanavar nlar  unknown state\n",
       "2                                      prakash kittoyta       Negative\n",
       "3                               hands  up  super  songs    not-Kannada\n",
       "4     bai rakshith avri nan msg nodudri yargu agllil...       Negative\n",
       "...                                                 ...            ...\n",
       "2745               2k dislikes rashmika maandanna fanss       Negative\n",
       "2746   vitthal ಲುಚ್ಛನ್ ಫ್ಯಾನ್ಸ್ ಉರ್ಕೋತಾವ್ರೆ d boss ಬ...       Negative\n",
       "2747                                       dana alla ok       Negative\n",
       "2748                        howdu gurunadre climax papa  unknown state\n",
       "2749    of king yako istond urkond saytiya burnal achko       Negative\n",
       "\n",
       "[2750 rows x 2 columns]"
      ]
     },
     "execution_count": 35,
     "metadata": {},
     "output_type": "execute_result"
    }
   ],
   "source": [
    "Traindf = pd.DataFrame({'Data' : temp21,'label' : temp22}, columns=['Data', 'label'])\n",
    "Traindf"
   ]
  },
  {
   "cell_type": "code",
   "execution_count": 36,
   "id": "0e4e51c5",
   "metadata": {
    "ExecuteTime": {
     "end_time": "2021-10-30T09:54:10.903701Z",
     "start_time": "2021-10-30T09:54:10.888741Z"
    }
   },
   "outputs": [
    {
     "data": {
      "text/html": [
       "<div>\n",
       "<style scoped>\n",
       "    .dataframe tbody tr th:only-of-type {\n",
       "        vertical-align: middle;\n",
       "    }\n",
       "\n",
       "    .dataframe tbody tr th {\n",
       "        vertical-align: top;\n",
       "    }\n",
       "\n",
       "    .dataframe thead th {\n",
       "        text-align: right;\n",
       "    }\n",
       "</style>\n",
       "<table border=\"1\" class=\"dataframe\">\n",
       "  <thead>\n",
       "    <tr style=\"text-align: right;\">\n",
       "      <th></th>\n",
       "      <th>Data</th>\n",
       "      <th>label</th>\n",
       "    </tr>\n",
       "  </thead>\n",
       "  <tbody>\n",
       "    <tr>\n",
       "      <th>0</th>\n",
       "      <td>kannada industry ali estu dodda dodda nayakaru...</td>\n",
       "      <td>Mixed feelings</td>\n",
       "    </tr>\n",
       "    <tr>\n",
       "      <th>1</th>\n",
       "      <td>super  song</td>\n",
       "      <td>Positive</td>\n",
       "    </tr>\n",
       "    <tr>\n",
       "      <th>2</th>\n",
       "      <td>rip tik tok</td>\n",
       "      <td>not-Kannada</td>\n",
       "    </tr>\n",
       "    <tr>\n",
       "      <th>3</th>\n",
       "      <td>mast hadu super</td>\n",
       "      <td>Positive</td>\n",
       "    </tr>\n",
       "    <tr>\n",
       "      <th>4</th>\n",
       "      <td>guru ninu super</td>\n",
       "      <td>Positive</td>\n",
       "    </tr>\n",
       "    <tr>\n",
       "      <th>...</th>\n",
       "      <td>...</td>\n",
       "      <td>...</td>\n",
       "    </tr>\n",
       "    <tr>\n",
       "      <th>245</th>\n",
       "      <td>idu charitre srushtiso avataranasnnyar yaru mo...</td>\n",
       "      <td>Mixed feelings</td>\n",
       "    </tr>\n",
       "    <tr>\n",
       "      <th>246</th>\n",
       "      <td>tejashands up ande kai ettu annadukka agutta</td>\n",
       "      <td>Mixed feelings</td>\n",
       "    </tr>\n",
       "    <tr>\n",
       "      <th>247</th>\n",
       "      <td>vn nim akkan keytini bosdi magna nim avvagu h...</td>\n",
       "      <td>Negative</td>\n",
       "    </tr>\n",
       "    <tr>\n",
       "      <th>248</th>\n",
       "      <td>nivu heliddu ondu ondu maathu  sathyanee</td>\n",
       "      <td>Positive</td>\n",
       "    </tr>\n",
       "    <tr>\n",
       "      <th>249</th>\n",
       "      <td>nonsenses who all r dislike dis video</td>\n",
       "      <td>Negative</td>\n",
       "    </tr>\n",
       "  </tbody>\n",
       "</table>\n",
       "<p>250 rows × 2 columns</p>\n",
       "</div>"
      ],
      "text/plain": [
       "                                                  Data           label\n",
       "0    kannada industry ali estu dodda dodda nayakaru...  Mixed feelings\n",
       "1                                          super  song        Positive\n",
       "2                                          rip tik tok     not-Kannada\n",
       "3                                      mast hadu super        Positive\n",
       "4                                      guru ninu super        Positive\n",
       "..                                                 ...             ...\n",
       "245  idu charitre srushtiso avataranasnnyar yaru mo...  Mixed feelings\n",
       "246       tejashands up ande kai ettu annadukka agutta  Mixed feelings\n",
       "247   vn nim akkan keytini bosdi magna nim avvagu h...        Negative\n",
       "248           nivu heliddu ondu ondu maathu  sathyanee        Positive\n",
       "249              nonsenses who all r dislike dis video        Negative\n",
       "\n",
       "[250 rows x 2 columns]"
      ]
     },
     "execution_count": 36,
     "metadata": {},
     "output_type": "execute_result"
    }
   ],
   "source": [
    "Testdf = pd.DataFrame({'Data' : temp11,'label' : temp12}, columns=['Data', 'label'])\n",
    "Testdf"
   ]
  },
  {
   "cell_type": "code",
   "execution_count": null,
   "id": "5a62482f",
   "metadata": {},
   "outputs": [],
   "source": []
  }
 ],
 "metadata": {
  "kernelspec": {
   "display_name": "Python 3 (ipykernel)",
   "language": "python",
   "name": "python3"
  },
  "language_info": {
   "codemirror_mode": {
    "name": "ipython",
    "version": 3
   },
   "file_extension": ".py",
   "mimetype": "text/x-python",
   "name": "python",
   "nbconvert_exporter": "python",
   "pygments_lexer": "ipython3",
   "version": "3.8.11"
  },
  "latex_envs": {
   "LaTeX_envs_menu_present": true,
   "autoclose": false,
   "autocomplete": true,
   "bibliofile": "biblio.bib",
   "cite_by": "apalike",
   "current_citInitial": 1,
   "eqLabelWithNumbers": true,
   "eqNumInitial": 1,
   "hotkeys": {
    "equation": "Ctrl-E",
    "itemize": "Ctrl-I"
   },
   "labels_anchors": false,
   "latex_user_defs": false,
   "report_style_numbering": false,
   "user_envs_cfg": false
  },
  "toc": {
   "base_numbering": 1,
   "nav_menu": {},
   "number_sections": true,
   "sideBar": true,
   "skip_h1_title": false,
   "title_cell": "Table of Contents",
   "title_sidebar": "Contents",
   "toc_cell": false,
   "toc_position": {},
   "toc_section_display": true,
   "toc_window_display": true
  }
 },
 "nbformat": 4,
 "nbformat_minor": 5
}
