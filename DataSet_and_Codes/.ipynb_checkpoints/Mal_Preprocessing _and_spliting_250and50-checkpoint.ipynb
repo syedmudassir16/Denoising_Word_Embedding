{
 "cells": [
  {
   "cell_type": "code",
   "execution_count": 1,
   "id": "4c75a642",
   "metadata": {
    "ExecuteTime": {
     "end_time": "2021-10-30T16:22:19.798361Z",
     "start_time": "2021-10-30T16:22:19.209909Z"
    },
    "colab": {
     "base_uri": "https://localhost:8080/"
    },
    "id": "NPsBVUt4CPFK",
    "outputId": "953cf603-64ba-45e3-85be-bc007232150e"
   },
   "outputs": [],
   "source": [
    "import math\n",
    "import pandas as pd\n",
    "import re\n",
    "import numpy as np\n",
    "import itertools\n",
    "import collections\n",
    "from collections import defaultdict, Counter\n",
    "import string\n",
    "from sklearn.preprocessing import LabelEncoder"
   ]
  },
  {
   "cell_type": "code",
   "execution_count": 2,
   "id": "c7975274",
   "metadata": {
    "ExecuteTime": {
     "end_time": "2021-10-30T16:22:19.845410Z",
     "start_time": "2021-10-30T16:22:19.800323Z"
    },
    "colab": {
     "base_uri": "https://localhost:8080/"
    },
    "id": "6GV9JIe0CO2b",
    "outputId": "27988521-db2e-4bcf-fbf0-4116cd5497e0"
   },
   "outputs": [
    {
     "name": "stdout",
     "output_type": "stream",
     "text": [
      " Volume in drive C is Acer\n",
      " Volume Serial Number is 3818-7542\n",
      "\n",
      " Directory of C:\\Users\\phvpa\\Desktop\\Experimants\\DataSet\n",
      "\n",
      "30-10-2021  21:51    <DIR>          .\n",
      "30-10-2021  21:37    <DIR>          ..\n",
      "30-10-2021  21:51    <DIR>          .ipynb_checkpoints\n",
      "30-10-2021  16:09            42,127 Kan_Preprocessing _and_spliting_2750and250.ipynb\n",
      "30-10-2021  12:45    <DIR>          Kannada\n",
      "30-10-2021  21:51            43,406 Mal_Preprocessing _and_spliting_4500and500.ipynb\n",
      "30-10-2021  12:45    <DIR>          Malyalam\n",
      "30-10-2021  12:54    <DIR>          NumpyFiles\n",
      "30-10-2021  16:25    <DIR>          Tamil\n",
      "30-10-2021  21:19            44,233 Tamil_Preprocessing _and_spliting_1600and150.ipynb\n",
      "               3 File(s)        129,766 bytes\n",
      "               7 Dir(s)  315,971,059,712 bytes free\n"
     ]
    }
   ],
   "source": [
    "ls"
   ]
  },
  {
   "cell_type": "code",
   "execution_count": 3,
   "id": "36949d52",
   "metadata": {
    "ExecuteTime": {
     "end_time": "2021-10-30T16:22:19.939159Z",
     "start_time": "2021-10-30T16:22:19.847407Z"
    },
    "colab": {
     "base_uri": "https://localhost:8080/"
    },
    "id": "b6f18C1DCRRT",
    "outputId": "4982a2f2-ca5a-42a8-80b8-35ae41d71c0b"
   },
   "outputs": [
    {
     "name": "stdout",
     "output_type": "stream",
     "text": [
      "15888\n",
      "1766\n"
     ]
    },
    {
     "data": {
      "text/plain": [
       "1962"
      ]
     },
     "execution_count": 3,
     "metadata": {},
     "output_type": "execute_result"
    }
   ],
   "source": [
    "train_df = pd.read_csv(\"Malyalam\\Mal_sentiment_full_train.tsv\", sep='\\t')\n",
    "print(len(train_df))\n",
    "\n",
    "#test_df = pd.read_csv(\"Mal_sentiment_full_dev.tsv\", header=None, sep='\\t')\n",
    "valid_df = pd.read_csv(\"Malyalam\\Mal_sentiment_full_dev.tsv\", sep='\\t')\n",
    "print(len(valid_df))\n",
    "\n",
    "test_df = pd.read_csv(\"Malyalam\\Mal_sentiment_full_test_withoutlabels.tsv\", sep='\\t')\n",
    "len(test_df)"
   ]
  },
  {
   "cell_type": "code",
   "execution_count": 4,
   "id": "ffc8b4d0",
   "metadata": {
    "ExecuteTime": {
     "end_time": "2021-10-30T16:22:19.955117Z",
     "start_time": "2021-10-30T16:22:19.941163Z"
    }
   },
   "outputs": [
    {
     "data": {
      "text/html": [
       "<div>\n",
       "<style scoped>\n",
       "    .dataframe tbody tr th:only-of-type {\n",
       "        vertical-align: middle;\n",
       "    }\n",
       "\n",
       "    .dataframe tbody tr th {\n",
       "        vertical-align: top;\n",
       "    }\n",
       "\n",
       "    .dataframe thead th {\n",
       "        text-align: right;\n",
       "    }\n",
       "</style>\n",
       "<table border=\"1\" class=\"dataframe\">\n",
       "  <thead>\n",
       "    <tr style=\"text-align: right;\">\n",
       "      <th></th>\n",
       "      <th>text</th>\n",
       "      <th>category</th>\n",
       "    </tr>\n",
       "  </thead>\n",
       "  <tbody>\n",
       "    <tr>\n",
       "      <th>0</th>\n",
       "      <td>Sunny chechi fans evide like adichu power kani...</td>\n",
       "      <td>unknown_state</td>\n",
       "    </tr>\n",
       "    <tr>\n",
       "      <th>1</th>\n",
       "      <td>Angane july month ile ende aadyathe leave njan...</td>\n",
       "      <td>Positive</td>\n",
       "    </tr>\n",
       "    <tr>\n",
       "      <th>2</th>\n",
       "      <td>ഏട്ടന്റെ പുതിയ പടത്തിനു വേണ്ടി കാത്തിരിക്കുന്ന...</td>\n",
       "      <td>unknown_state</td>\n",
       "    </tr>\n",
       "    <tr>\n",
       "      <th>3</th>\n",
       "      <td>ഇനി ലാലേട്ടന്റെ വേട്ട തുടങ്ങാൻ പോകുന്നു..........</td>\n",
       "      <td>Positive</td>\n",
       "    </tr>\n",
       "    <tr>\n",
       "      <th>4</th>\n",
       "      <td>Trailer powli oru raksha illa . Pakshea padam ...</td>\n",
       "      <td>Positive</td>\n",
       "    </tr>\n",
       "    <tr>\n",
       "      <th>...</th>\n",
       "      <td>...</td>\n",
       "      <td>...</td>\n",
       "    </tr>\n",
       "    <tr>\n",
       "      <th>15883</th>\n",
       "      <td>Minimum 10 thavana kandavar maathram like adi</td>\n",
       "      <td>unknown_state</td>\n",
       "    </tr>\n",
       "    <tr>\n",
       "      <th>15884</th>\n",
       "      <td>Please cinema kaannaaan kothi aakunnu onnu rel...</td>\n",
       "      <td>Positive</td>\n",
       "    </tr>\n",
       "    <tr>\n",
       "      <th>15885</th>\n",
       "      <td>USA ok.. India No... Sadhacharam</td>\n",
       "      <td>unknown_state</td>\n",
       "    </tr>\n",
       "    <tr>\n",
       "      <th>15886</th>\n",
       "      <td>nama hero december 12 wait &amp; see  mamamaga mah...</td>\n",
       "      <td>Positive</td>\n",
       "    </tr>\n",
       "    <tr>\n",
       "      <th>15887</th>\n",
       "      <td>Madhuraraja 1 hour 40 k likes  Lucifer 1 min 4...</td>\n",
       "      <td>Mixed_feelings</td>\n",
       "    </tr>\n",
       "  </tbody>\n",
       "</table>\n",
       "<p>15888 rows × 2 columns</p>\n",
       "</div>"
      ],
      "text/plain": [
       "                                                    text        category\n",
       "0      Sunny chechi fans evide like adichu power kani...   unknown_state\n",
       "1      Angane july month ile ende aadyathe leave njan...        Positive\n",
       "2      ഏട്ടന്റെ പുതിയ പടത്തിനു വേണ്ടി കാത്തിരിക്കുന്ന...   unknown_state\n",
       "3      ഇനി ലാലേട്ടന്റെ വേട്ട തുടങ്ങാൻ പോകുന്നു..........        Positive\n",
       "4      Trailer powli oru raksha illa . Pakshea padam ...        Positive\n",
       "...                                                  ...             ...\n",
       "15883      Minimum 10 thavana kandavar maathram like adi   unknown_state\n",
       "15884  Please cinema kaannaaan kothi aakunnu onnu rel...        Positive\n",
       "15885                   USA ok.. India No... Sadhacharam   unknown_state\n",
       "15886  nama hero december 12 wait & see  mamamaga mah...        Positive\n",
       "15887  Madhuraraja 1 hour 40 k likes  Lucifer 1 min 4...  Mixed_feelings\n",
       "\n",
       "[15888 rows x 2 columns]"
      ]
     },
     "execution_count": 4,
     "metadata": {},
     "output_type": "execute_result"
    }
   ],
   "source": [
    "train_df"
   ]
  },
  {
   "cell_type": "code",
   "execution_count": 5,
   "id": "008088af",
   "metadata": {
    "ExecuteTime": {
     "end_time": "2021-10-30T16:22:19.971074Z",
     "start_time": "2021-10-30T16:22:19.956115Z"
    },
    "scrolled": true
   },
   "outputs": [
    {
     "data": {
      "text/plain": [
       "0         unknown_state\n",
       "1              Positive\n",
       "2         unknown_state\n",
       "3              Positive\n",
       "4              Positive\n",
       "              ...      \n",
       "15883     unknown_state\n",
       "15884          Positive\n",
       "15885     unknown_state\n",
       "15886          Positive\n",
       "15887    Mixed_feelings\n",
       "Name: category, Length: 15888, dtype: object"
      ]
     },
     "execution_count": 5,
     "metadata": {},
     "output_type": "execute_result"
    }
   ],
   "source": [
    "train_df['category']"
   ]
  },
  {
   "cell_type": "code",
   "execution_count": 6,
   "id": "3fea4be7",
   "metadata": {
    "ExecuteTime": {
     "end_time": "2021-10-30T16:22:21.783226Z",
     "start_time": "2021-10-30T16:22:19.972071Z"
    },
    "id": "5M7bMSkdAhbS"
   },
   "outputs": [],
   "source": [
    "#removing all the emoji from the given data\n",
    "\n",
    "def deEmojify(text):\n",
    "    regrex_pattern = re.compile(pattern = \"[\"\n",
    "        u\"\\U0001F600-\\U0001F64F\"  # emoticons\n",
    "        u\"\\U0001F300-\\U0001F5FF\"  # symbols & pictographs\n",
    "        u\"\\U0001F680-\\U0001F6FF\"  # transport & map symbols\n",
    "        u\"\\U0001F1E0-\\U0001F1FF\"  # flags (iOS)\n",
    "        u\"\\U00002500-\\U00002BEF\"  # chinese char\n",
    "        u\"\\U00002702-\\U000027B0\"\n",
    "        u\"\\U00002702-\\U000027B0\"\n",
    "        u\"\\U000024C2-\\U0001F251\"\n",
    "        u\"\\U0001f926-\\U0001f937\"\n",
    "        u\"\\U00010000-\\U0010ffff\"\n",
    "        u\"\\u2640-\\u2642\"\n",
    "        u\"\\u2600-\\u2B55\"\n",
    "        u\"\\u200d\"\n",
    "        u\"\\u23cf\"\n",
    "        u\"\\u23e9\"\n",
    "        u\"\\u231a\"\n",
    "        u\"\\ufe0f\"  # dingbats\n",
    "        u\"\\u3030\"\n",
    "        \"]+\", flags = re.UNICODE)\n",
    "    return regrex_pattern.sub(r'',text)\n",
    "\n",
    "\n",
    "for i in range(len(train_df)):\n",
    "    temp1 = deEmojify(train_df['text'][i])\n",
    "    train_df['text'][i] = temp1\n",
    "\n",
    "for j in range(len(valid_df)):\n",
    "    temp2 = deEmojify(valid_df['text'][j])\n",
    "    valid_df['text'][j] = temp2\n",
    "\n",
    "for k in range(len(test_df)):\n",
    "    temp3 = deEmojify(test_df['text'][k])\n",
    "    test_df['text'][k]=temp3"
   ]
  },
  {
   "cell_type": "code",
   "execution_count": 7,
   "id": "b0ac983b",
   "metadata": {
    "ExecuteTime": {
     "end_time": "2021-10-30T16:22:21.799223Z",
     "start_time": "2021-10-30T16:22:21.784224Z"
    },
    "id": "kvZOI__qZ7zd"
   },
   "outputs": [],
   "source": [
    "def preprocess_data(text):\n",
    "  user_name = '@[A-Za-z0-9]+' # Pattern for matching the user names in the tweet\n",
    "  has_tag = '#[A-Za-z0-9]+' # Pattern for matching the hasgtags in the tweer\n",
    "  url = 'https?:\\/\\/[A-Za-z0-9\\.\\/\\-]+' # Pattern for matching the URLs in the tweet\n",
    "  #emoji_pattern = r'/[x{1F600}-x{1F64F}]/u'\n",
    "  \n",
    "  x = text.lower()  # Lower casing all the characters\n",
    "  x = re.sub(user_name, '', x) # Replace the username with an empty characrer\n",
    "  x = re.sub(has_tag,'',x) # Replace the hashtags with an empty characrer\n",
    "  x = re.sub(url, '', x) # Replace the URLs with an empty characrer\n",
    "  #x = re.sub(emoji_pattern, '', x)\n",
    "  x = x.translate(str.maketrans('', '', string.punctuation)) # Replace all the characters except alphabets and digits from the tweet\n",
    "\n",
    "  return x"
   ]
  },
  {
   "cell_type": "code",
   "execution_count": 8,
   "id": "dbff7146",
   "metadata": {
    "ExecuteTime": {
     "end_time": "2021-10-30T16:22:21.973717Z",
     "start_time": "2021-10-30T16:22:21.801184Z"
    },
    "id": "kXmiAchmcPq_"
   },
   "outputs": [],
   "source": [
    "train_df['text'] = train_df['text'].apply(lambda x: preprocess_data(x)) # Apply the clean_data() to all the entries in the dataframe\n",
    "valid_df['text'] = valid_df['text'].apply(lambda x: preprocess_data(x)) # Apply the clean_data() to all the entries in the dataframe\n",
    "test_df['text'] = test_df['text'].apply(lambda x: preprocess_data(x)) # Apply the clean_data() to all the entries in the dataframe"
   ]
  },
  {
   "cell_type": "code",
   "execution_count": 9,
   "id": "708876ea",
   "metadata": {
    "ExecuteTime": {
     "end_time": "2021-10-30T16:22:21.989673Z",
     "start_time": "2021-10-30T16:22:21.974713Z"
    }
   },
   "outputs": [
    {
     "data": {
      "text/plain": [
       "Counter({'unknown_state': 5279,\n",
       "         'Positive': 6421,\n",
       "         'Negative': 2105,\n",
       "         'Mixed_feelings': 926,\n",
       "         'not-malayalam': 1157})"
      ]
     },
     "execution_count": 9,
     "metadata": {},
     "output_type": "execute_result"
    }
   ],
   "source": [
    "Counter(train_df['category'])"
   ]
  },
  {
   "cell_type": "code",
   "execution_count": 10,
   "id": "622bb075",
   "metadata": {
    "ExecuteTime": {
     "end_time": "2021-10-30T16:22:22.005631Z",
     "start_time": "2021-10-30T16:22:21.991668Z"
    }
   },
   "outputs": [
    {
     "data": {
      "text/plain": [
       "Counter({'Positive': 706,\n",
       "         'not-malayalam': 141,\n",
       "         'unknown_state': 580,\n",
       "         'Negative': 237,\n",
       "         'Mixed_feelings': 102})"
      ]
     },
     "execution_count": 10,
     "metadata": {},
     "output_type": "execute_result"
    }
   ],
   "source": [
    "Counter(valid_df['category'])"
   ]
  },
  {
   "cell_type": "code",
   "execution_count": 11,
   "id": "488a71eb",
   "metadata": {
    "ExecuteTime": {
     "end_time": "2021-10-30T16:22:22.165204Z",
     "start_time": "2021-10-30T16:22:22.006628Z"
    }
   },
   "outputs": [],
   "source": [
    "np.save('NumpyFiles\\Mal\\Fulldata\\Mal_Train_Full_data.npy',list(train_df['text']))\n",
    "np.save('NumpyFiles\\Mal\\Fulldata\\Mal_Train_Full_labels.npy',list(train_df['category']))\n",
    "np.save('NumpyFiles\\Mal\\Fulldata\\Mal_Val_Full_data.npy',list(valid_df['text']))\n",
    "np.save('NumpyFiles\\Mal\\Fulldata\\Mal_Val_Full_labels.npy',list(valid_df['category']))\n",
    "np.save('NumpyFiles\\Mal\\Fulldata\\Mal_Test_Full_data.npy',list(valid_df['text']))"
   ]
  },
  {
   "cell_type": "code",
   "execution_count": 12,
   "id": "dff03348",
   "metadata": {
    "ExecuteTime": {
     "end_time": "2021-10-30T16:22:22.244991Z",
     "start_time": "2021-10-30T16:22:22.166202Z"
    }
   },
   "outputs": [],
   "source": [
    "temp1 = np.load('NumpyFiles\\Mal\\Fulldata\\Mal_Train_Full_data.npy')\n",
    "temp2 = np.load('NumpyFiles\\Mal\\Fulldata\\Mal_Train_Full_labels.npy')\n",
    "temp3 = np.load('NumpyFiles\\Mal\\Fulldata\\Mal_Val_Full_data.npy')\n",
    "temp4 = np.load('NumpyFiles\\Mal\\Fulldata\\Mal_Val_Full_labels.npy')\n",
    "temp5 = np.load('NumpyFiles\\Mal\\Fulldata\\Mal_Test_Full_data.npy')"
   ]
  },
  {
   "cell_type": "code",
   "execution_count": 13,
   "id": "56146dd0",
   "metadata": {
    "ExecuteTime": {
     "end_time": "2021-10-30T16:22:22.260948Z",
     "start_time": "2021-10-30T16:22:22.245989Z"
    }
   },
   "outputs": [
    {
     "name": "stdout",
     "output_type": "stream",
     "text": [
      "oru panipalal manakunnu again mr jr \n",
      "ende ponno 68 vayasaya oraluda body thanneyano ith  namichu ponnikkaaaa\n",
      "fdfs trailer kandu ithu vareyum njanithu paranjittilla\n",
      "degraders step back   മമ്മൂക്ക\n",
      "ഈ പാട്ട് ഡിസ്‌ലൈക് ചെയ്തവരുടെ വീട്ടുകാരെ സമ്മതിക്കണം big salute\n",
      "ഇത് ഏത് ഭാഷ ശിവനെ ഏത് ജില്ല \n",
      "ഇതൊക്കെ മമ്മുക്ക പറഞ്ഞാൽ പൊളിക്കും   \n",
      "108 st pius x kuttikanam        uyir\n",
      "ente ponno heavy bgm ikka pinne parayanilla2 looks kidilosky  overall kidukkachi aahn mone\n",
      "song dislike adicha 90 perum phycho singles akum\n",
      "അഭ്യർത്ഥന  മാമാങ്കം പലകുറി കൊണ്ടാടും  എന്ന ഗാനം ടൈറ്റിൽ സോങ്ങ് ആയി ഉൾപ്പെടുത്താമോ  album vasantha geethangal singer k j yesudas\n"
     ]
    }
   ],
   "source": [
    "print(test_df['text'][279])\n",
    "print(test_df['text'][516])\n",
    "print(test_df['text'][546])\n",
    "print(test_df['text'][555])\n",
    "print(test_df['text'][559])\n",
    "print(test_df['text'][570])\n",
    "print(test_df['text'][825])\n",
    "print(test_df['text'][838])\n",
    "print(test_df['text'][860])\n",
    "print(test_df['text'][890])\n",
    "print(test_df['text'][1234])"
   ]
  },
  {
   "cell_type": "code",
   "execution_count": 14,
   "id": "9b67b994",
   "metadata": {
    "ExecuteTime": {
     "end_time": "2021-10-30T16:22:22.276905Z",
     "start_time": "2021-10-30T16:22:22.261947Z"
    },
    "colab": {
     "base_uri": "https://localhost:8080/",
     "height": 35
    },
    "id": "ZaxBiC7ByJJH",
    "outputId": "309d6739-c912-43f9-d1f8-f5f88d0cef7b"
   },
   "outputs": [
    {
     "data": {
      "text/plain": [
       "'mammooka ninghal mass aa pwoli item'"
      ]
     },
     "execution_count": 14,
     "metadata": {},
     "output_type": "execute_result"
    }
   ],
   "source": [
    "valid_df['text'][0]"
   ]
  },
  {
   "cell_type": "markdown",
   "id": "18f236a6",
   "metadata": {},
   "source": [
    "# Dividing train and valid separatly:"
   ]
  },
  {
   "cell_type": "markdown",
   "id": "fb3c35a2",
   "metadata": {},
   "source": [
    "### Val data"
   ]
  },
  {
   "cell_type": "code",
   "execution_count": 15,
   "id": "a9aa1472",
   "metadata": {
    "ExecuteTime": {
     "end_time": "2021-10-30T16:22:22.292863Z",
     "start_time": "2021-10-30T16:22:22.277903Z"
    },
    "scrolled": true
   },
   "outputs": [
    {
     "data": {
      "text/html": [
       "<div>\n",
       "<style scoped>\n",
       "    .dataframe tbody tr th:only-of-type {\n",
       "        vertical-align: middle;\n",
       "    }\n",
       "\n",
       "    .dataframe tbody tr th {\n",
       "        vertical-align: top;\n",
       "    }\n",
       "\n",
       "    .dataframe thead th {\n",
       "        text-align: right;\n",
       "    }\n",
       "</style>\n",
       "<table border=\"1\" class=\"dataframe\">\n",
       "  <thead>\n",
       "    <tr style=\"text-align: right;\">\n",
       "      <th></th>\n",
       "      <th>text</th>\n",
       "      <th>category</th>\n",
       "    </tr>\n",
       "  </thead>\n",
       "  <tbody>\n",
       "    <tr>\n",
       "      <th>974</th>\n",
       "      <td>tovinok pakaram unni mukundan mathiyarunnu</td>\n",
       "      <td>Mixed_feelings</td>\n",
       "    </tr>\n",
       "    <tr>\n",
       "      <th>166</th>\n",
       "      <td>puthanpanam movie pole thonniyath enikk maathr...</td>\n",
       "      <td>Mixed_feelings</td>\n",
       "    </tr>\n",
       "    <tr>\n",
       "      <th>536</th>\n",
       "      <td>richie orma vanathu eniku mathram ano</td>\n",
       "      <td>Mixed_feelings</td>\n",
       "    </tr>\n",
       "    <tr>\n",
       "      <th>700</th>\n",
       "      <td>friendship dayikk oru cake medichu kodukk  fresh</td>\n",
       "      <td>Mixed_feelings</td>\n",
       "    </tr>\n",
       "    <tr>\n",
       "      <th>1363</th>\n",
       "      <td>pulimurugan copy adi pole ind stund seen ellam</td>\n",
       "      <td>Mixed_feelings</td>\n",
       "    </tr>\n",
       "    <tr>\n",
       "      <th>...</th>\n",
       "      <td>...</td>\n",
       "      <td>...</td>\n",
       "    </tr>\n",
       "    <tr>\n",
       "      <th>436</th>\n",
       "      <td>tesla code um കണ്ടിട്ട് ഇറങ്ങിയിട്ടുണ്ട് കുറേ</td>\n",
       "      <td>unknown_state</td>\n",
       "    </tr>\n",
       "    <tr>\n",
       "      <th>1180</th>\n",
       "      <td>കമന്റ്‌ വായിക്കുന്ന ലാലേട്ടൻ ഫാൻസിന് ലൈക് അടിക...</td>\n",
       "      <td>unknown_state</td>\n",
       "    </tr>\n",
       "    <tr>\n",
       "      <th>1182</th>\n",
       "      <td>eth sajiv pillai visuals ane  alle</td>\n",
       "      <td>unknown_state</td>\n",
       "    </tr>\n",
       "    <tr>\n",
       "      <th>1186</th>\n",
       "      <td>katha manasilay tv il varambam kanam</td>\n",
       "      <td>unknown_state</td>\n",
       "    </tr>\n",
       "    <tr>\n",
       "      <th>882</th>\n",
       "      <td>pazhaya standbaker junction and aakasapatha id...</td>\n",
       "      <td>unknown_state</td>\n",
       "    </tr>\n",
       "  </tbody>\n",
       "</table>\n",
       "<p>1766 rows × 2 columns</p>\n",
       "</div>"
      ],
      "text/plain": [
       "                                                   text        category\n",
       "974          tovinok pakaram unni mukundan mathiyarunnu  Mixed_feelings\n",
       "166   puthanpanam movie pole thonniyath enikk maathr...  Mixed_feelings\n",
       "536               richie orma vanathu eniku mathram ano  Mixed_feelings\n",
       "700    friendship dayikk oru cake medichu kodukk  fresh  Mixed_feelings\n",
       "1363     pulimurugan copy adi pole ind stund seen ellam  Mixed_feelings\n",
       "...                                                 ...             ...\n",
       "436       tesla code um കണ്ടിട്ട് ഇറങ്ങിയിട്ടുണ്ട് കുറേ   unknown_state\n",
       "1180  കമന്റ്‌ വായിക്കുന്ന ലാലേട്ടൻ ഫാൻസിന് ലൈക് അടിക...   unknown_state\n",
       "1182                 eth sajiv pillai visuals ane  alle   unknown_state\n",
       "1186               katha manasilay tv il varambam kanam   unknown_state\n",
       "882   pazhaya standbaker junction and aakasapatha id...   unknown_state\n",
       "\n",
       "[1766 rows x 2 columns]"
      ]
     },
     "execution_count": 15,
     "metadata": {},
     "output_type": "execute_result"
    }
   ],
   "source": [
    "df_temp2 = valid_df.sort_values('category')\n",
    "df_temp2"
   ]
  },
  {
   "cell_type": "code",
   "execution_count": 16,
   "id": "ff36ba38",
   "metadata": {
    "ExecuteTime": {
     "end_time": "2021-10-30T16:22:22.308820Z",
     "start_time": "2021-10-30T16:22:22.293861Z"
    }
   },
   "outputs": [
    {
     "name": "stdout",
     "output_type": "stream",
     "text": [
      "\n",
      "validdf:\n",
      " {'Mixed_feelings': 102, 'Negative': 237, 'Positive': 706, 'not-malayalam': 141, 'unknown_state': 580} \n",
      "\n",
      "Mixed_feelings starts from:  0\n",
      "Negative starts from:  102\n",
      "Positive starts from:  339\n",
      "not-malayalam starts from:  1045\n",
      "unknown_state starts from:  1186\n",
      "unknown_state ends at:  1766\n"
     ]
    }
   ],
   "source": [
    "val = Counter(valid_df['category'])\n",
    "val_sort = dict(sorted(val.items(), key=lambda item: item[0]))\n",
    "\n",
    "print('\\nvaliddf:\\n',val_sort,'\\n')\n",
    "temp = 0\n",
    "for key in val_sort:\n",
    "    print(key,'starts from: ', temp)\n",
    "    temp = temp + int(val_sort[key])\n",
    "\n",
    "print(key,'ends at: ', temp)"
   ]
  },
  {
   "cell_type": "code",
   "execution_count": 17,
   "id": "6adcc132",
   "metadata": {
    "ExecuteTime": {
     "end_time": "2021-10-30T16:22:22.324777Z",
     "start_time": "2021-10-30T16:22:22.309818Z"
    }
   },
   "outputs": [],
   "source": [
    "count2 = 100\n",
    "val_Mixed_feelings = df_temp2[:count2]\n",
    "val_Negative = df_temp2[110:110+count2]\n",
    "val_Positive=df_temp2[350:350+count2]\n",
    "val_not_malayalam = df_temp2[1060:1060+count2]\n",
    "val_unknown_state = df_temp2[1190:1190+count2]"
   ]
  },
  {
   "cell_type": "code",
   "execution_count": 18,
   "id": "522f6e68",
   "metadata": {
    "ExecuteTime": {
     "end_time": "2021-10-30T16:22:22.340734Z",
     "start_time": "2021-10-30T16:22:22.325775Z"
    }
   },
   "outputs": [],
   "source": [
    "Val_frames = [val_Mixed_feelings, val_Negative, val_Positive, val_not_malayalam, val_unknown_state ]\n",
    "Val_results = pd.concat(Val_frames)"
   ]
  },
  {
   "cell_type": "code",
   "execution_count": 19,
   "id": "f0548ab7",
   "metadata": {
    "ExecuteTime": {
     "end_time": "2021-10-30T16:22:22.356692Z",
     "start_time": "2021-10-30T16:22:22.342729Z"
    }
   },
   "outputs": [
    {
     "data": {
      "text/plain": [
       "Counter({'Mixed_feelings': 100,\n",
       "         'Negative': 100,\n",
       "         'Positive': 100,\n",
       "         'not-malayalam': 100,\n",
       "         'unknown_state': 100})"
      ]
     },
     "execution_count": 19,
     "metadata": {},
     "output_type": "execute_result"
    }
   ],
   "source": [
    "Counter(Val_results['category'])"
   ]
  },
  {
   "cell_type": "code",
   "execution_count": 20,
   "id": "7de2eb09",
   "metadata": {
    "ExecuteTime": {
     "end_time": "2021-10-30T16:22:22.372684Z",
     "start_time": "2021-10-30T16:22:22.359683Z"
    }
   },
   "outputs": [],
   "source": [
    "Sub_val = Val_results.sample(frac = 1)"
   ]
  },
  {
   "cell_type": "code",
   "execution_count": 21,
   "id": "a99c9eaf",
   "metadata": {
    "ExecuteTime": {
     "end_time": "2021-10-30T16:22:22.388606Z",
     "start_time": "2021-10-30T16:22:22.374643Z"
    }
   },
   "outputs": [],
   "source": [
    "Sub_val_list = Sub_val['text'].tolist()\n",
    "Sub_val_labels_list = Sub_val['category'].tolist()"
   ]
  },
  {
   "cell_type": "markdown",
   "id": "951b3df6",
   "metadata": {},
   "source": [
    "### Train Data"
   ]
  },
  {
   "cell_type": "code",
   "execution_count": 22,
   "id": "89bb0e8f",
   "metadata": {
    "ExecuteTime": {
     "end_time": "2021-10-30T16:22:22.404017Z",
     "start_time": "2021-10-30T16:22:22.390601Z"
    }
   },
   "outputs": [
    {
     "name": "stdout",
     "output_type": "stream",
     "text": [
      "Traindf: \n",
      " {'Mixed_feelings': 926, 'Negative': 2105, 'Positive': 6421, 'not-malayalam': 1157, 'unknown_state': 5279} \n",
      "\n",
      "Mixed_feelings starts from:  0\n",
      "Negative starts from:  926\n",
      "Positive starts from:  3031\n",
      "not-malayalam starts from:  9452\n",
      "unknown_state starts from:  10609\n",
      "unknown_state ends at:  15888\n"
     ]
    }
   ],
   "source": [
    "train = Counter(train_df['category'])\n",
    "train_sort = dict(sorted(train.items(), key=lambda item: item[0]))\n",
    "\n",
    "print('Traindf: \\n',train_sort,'\\n')\n",
    "temp = 0\n",
    "for key in train_sort:\n",
    "    print(key,'starts from: ', temp)\n",
    "    temp = temp + int(train_sort[key])\n",
    "print(key,'ends at: ', temp)"
   ]
  },
  {
   "cell_type": "code",
   "execution_count": 23,
   "id": "9d9d271b",
   "metadata": {
    "ExecuteTime": {
     "end_time": "2021-10-30T16:22:22.419974Z",
     "start_time": "2021-10-30T16:22:22.406013Z"
    }
   },
   "outputs": [],
   "source": [
    "df_temp = train_df.sort_values('category')\n",
    "count = 900\n",
    "Mixed_feelings = df_temp[:count]\n",
    "Negative = df_temp[930:930+count]\n",
    "Positive=df_temp[3040:3040+count]\n",
    "not_malayalam = df_temp[9460:9460+count]\n",
    "unknown_state = df_temp[10620:10620+count]"
   ]
  },
  {
   "cell_type": "code",
   "execution_count": 24,
   "id": "1ca430f5",
   "metadata": {
    "ExecuteTime": {
     "end_time": "2021-10-30T16:22:22.435931Z",
     "start_time": "2021-10-30T16:22:22.421970Z"
    },
    "scrolled": true
   },
   "outputs": [],
   "source": [
    "train_frames = [Mixed_feelings, Negative, Positive, not_malayalam, unknown_state ]\n",
    "\n",
    "train_result = pd.concat(train_frames) #concat"
   ]
  },
  {
   "cell_type": "code",
   "execution_count": 25,
   "id": "03d029b3",
   "metadata": {
    "ExecuteTime": {
     "end_time": "2021-10-30T16:22:22.451889Z",
     "start_time": "2021-10-30T16:22:22.436929Z"
    }
   },
   "outputs": [
    {
     "data": {
      "text/plain": [
       "Counter({'Mixed_feelings': 900,\n",
       "         'Negative': 900,\n",
       "         'Positive': 900,\n",
       "         'not-malayalam': 900,\n",
       "         'unknown_state': 900})"
      ]
     },
     "execution_count": 25,
     "metadata": {},
     "output_type": "execute_result"
    }
   ],
   "source": [
    "Counter(train_result['category'])"
   ]
  },
  {
   "cell_type": "code",
   "execution_count": 26,
   "id": "3c9035ac",
   "metadata": {
    "ExecuteTime": {
     "end_time": "2021-10-30T16:22:22.467846Z",
     "start_time": "2021-10-30T16:22:22.452887Z"
    }
   },
   "outputs": [],
   "source": [
    "Sub_train = train_result.sample(frac = 1) #shuffle"
   ]
  },
  {
   "cell_type": "code",
   "execution_count": 27,
   "id": "97e0daf1",
   "metadata": {
    "ExecuteTime": {
     "end_time": "2021-10-30T16:22:22.482806Z",
     "start_time": "2021-10-30T16:22:22.468843Z"
    }
   },
   "outputs": [],
   "source": [
    "Sub_train_list = Sub_train['text'].tolist()\n",
    "Sub_labels_list = Sub_train['category'].tolist()"
   ]
  },
  {
   "cell_type": "markdown",
   "id": "0958ab5e",
   "metadata": {},
   "source": [
    "# Saving Choosen data into numpy files"
   ]
  },
  {
   "cell_type": "code",
   "execution_count": 28,
   "id": "bfaac0c9",
   "metadata": {
    "ExecuteTime": {
     "end_time": "2021-10-30T16:22:22.498763Z",
     "start_time": "2021-10-30T16:22:22.484802Z"
    }
   },
   "outputs": [],
   "source": [
    "Mal_val = np.array(Sub_val_list)\n",
    "np.save(\"NumpyFiles\\Mal\\Split4500and500\\Mal_Val_data_500.npy\",Mal_val)\n",
    "Mal_val_label = np.array(Sub_val_labels_list)\n",
    "np.save(\"NumpyFiles\\Mal\\Split4500and500\\Mal_val_label_500.npy\",Mal_val_label)"
   ]
  },
  {
   "cell_type": "code",
   "execution_count": 29,
   "id": "f55c3d41",
   "metadata": {
    "ExecuteTime": {
     "end_time": "2021-10-30T16:22:22.514721Z",
     "start_time": "2021-10-30T16:22:22.500758Z"
    }
   },
   "outputs": [
    {
     "name": "stdout",
     "output_type": "stream",
     "text": [
      "(500,)\n",
      "(500,)\n"
     ]
    }
   ],
   "source": [
    "temp11 =np.load('NumpyFiles\\Mal\\Split4500and500\\Mal_Val_data_500.npy')\n",
    "print(temp11.shape)\n",
    "temp12 =np.load('NumpyFiles\\Mal\\Split4500and500\\Mal_val_label_500.npy')\n",
    "print(temp12.shape)"
   ]
  },
  {
   "cell_type": "code",
   "execution_count": 30,
   "id": "ea502a6c",
   "metadata": {
    "ExecuteTime": {
     "end_time": "2021-10-30T16:22:22.559601Z",
     "start_time": "2021-10-30T16:22:22.515720Z"
    }
   },
   "outputs": [],
   "source": [
    "Mal_train = np.array(Sub_train_list)\n",
    "np.save('NumpyFiles\\Mal\\Split4500and500\\Mal_Train_data_5000.npy',Mal_train)\n",
    "Mal_train_label = np.array(Sub_labels_list)\n",
    "np.save('NumpyFiles\\Mal\\Split4500and500\\Mal_Train_label_5000.npy',Mal_train_label)"
   ]
  },
  {
   "cell_type": "code",
   "execution_count": 31,
   "id": "b31a3f84",
   "metadata": {
    "ExecuteTime": {
     "end_time": "2021-10-30T16:22:22.591516Z",
     "start_time": "2021-10-30T16:22:22.560599Z"
    }
   },
   "outputs": [
    {
     "name": "stdout",
     "output_type": "stream",
     "text": [
      "(4500,)\n",
      "(4500,)\n"
     ]
    }
   ],
   "source": [
    "temp21 =np.load('NumpyFiles\\Mal\\Split4500and500\\Mal_Train_data_5000.npy')\n",
    "print(temp21.shape)\n",
    "temp22 =np.load('NumpyFiles\\Mal\\Split4500and500\\Mal_Train_label_5000.npy')\n",
    "print(temp22.shape)"
   ]
  },
  {
   "cell_type": "code",
   "execution_count": 32,
   "id": "35ab564b",
   "metadata": {
    "ExecuteTime": {
     "end_time": "2021-10-30T16:22:22.623430Z",
     "start_time": "2021-10-30T16:22:22.593510Z"
    }
   },
   "outputs": [
    {
     "data": {
      "text/html": [
       "<div>\n",
       "<style scoped>\n",
       "    .dataframe tbody tr th:only-of-type {\n",
       "        vertical-align: middle;\n",
       "    }\n",
       "\n",
       "    .dataframe tbody tr th {\n",
       "        vertical-align: top;\n",
       "    }\n",
       "\n",
       "    .dataframe thead th {\n",
       "        text-align: right;\n",
       "    }\n",
       "</style>\n",
       "<table border=\"1\" class=\"dataframe\">\n",
       "  <thead>\n",
       "    <tr style=\"text-align: right;\">\n",
       "      <th></th>\n",
       "      <th>Data</th>\n",
       "      <th>label</th>\n",
       "    </tr>\n",
       "  </thead>\n",
       "  <tbody>\n",
       "    <tr>\n",
       "      <th>0</th>\n",
       "      <td>ട്രൈലർ കണ്ടിട്ട് മുമ്പ് എട്ട് നിലയിൽ പൊട്ടിപ്...</td>\n",
       "      <td>Negative</td>\n",
       "    </tr>\n",
       "    <tr>\n",
       "      <th>1</th>\n",
       "      <td>lucifer trailer erangiya day million views van...</td>\n",
       "      <td>Negative</td>\n",
       "    </tr>\n",
       "    <tr>\n",
       "      <th>2</th>\n",
       "      <td>ettan industry hit adichal ikkante hit urappa ...</td>\n",
       "      <td>Positive</td>\n",
       "    </tr>\n",
       "    <tr>\n",
       "      <th>3</th>\n",
       "      <td>ദിലീപ്  ഏട്ടൻ ജീവൻ ആണ്  ദിലീപ് ഏട്ടൻ ഫാൻസ്‌ ലൈ...</td>\n",
       "      <td>Positive</td>\n",
       "    </tr>\n",
       "    <tr>\n",
       "      <th>4</th>\n",
       "      <td>ട്രെയിലറിന് ഒട്ടും impact ഇല്ലാലോ എവിടെയോ എന്ത...</td>\n",
       "      <td>Mixed_feelings</td>\n",
       "    </tr>\n",
       "    <tr>\n",
       "      <th>...</th>\n",
       "      <td>...</td>\n",
       "      <td>...</td>\n",
       "    </tr>\n",
       "    <tr>\n",
       "      <th>4495</th>\n",
       "      <td>i never seen ikka like this before  just uff</td>\n",
       "      <td>not-malayalam</td>\n",
       "    </tr>\n",
       "    <tr>\n",
       "      <th>4496</th>\n",
       "      <td>njan ee song kett maduthilla athrakku ishtta l...</td>\n",
       "      <td>Positive</td>\n",
       "    </tr>\n",
       "    <tr>\n",
       "      <th>4497</th>\n",
       "      <td>basha ketapol basheer bashiyude mashudhaye orm...</td>\n",
       "      <td>unknown_state</td>\n",
       "    </tr>\n",
       "    <tr>\n",
       "      <th>4498</th>\n",
       "      <td>mammokka fans onnum alla but karyam parayalo  ...</td>\n",
       "      <td>Mixed_feelings</td>\n",
       "    </tr>\n",
       "    <tr>\n",
       "      <th>4499</th>\n",
       "      <td>panchavarnaa thatha poley oola padavaruthittaa...</td>\n",
       "      <td>Mixed_feelings</td>\n",
       "    </tr>\n",
       "  </tbody>\n",
       "</table>\n",
       "<p>4500 rows × 2 columns</p>\n",
       "</div>"
      ],
      "text/plain": [
       "                                                   Data           label\n",
       "0     ട്രൈലർ കണ്ടിട്ട് മുമ്പ് എട്ട് നിലയിൽ പൊട്ടിപ്...        Negative\n",
       "1     lucifer trailer erangiya day million views van...        Negative\n",
       "2     ettan industry hit adichal ikkante hit urappa ...        Positive\n",
       "3     ദിലീപ്  ഏട്ടൻ ജീവൻ ആണ്  ദിലീപ് ഏട്ടൻ ഫാൻസ്‌ ലൈ...        Positive\n",
       "4     ട്രെയിലറിന് ഒട്ടും impact ഇല്ലാലോ എവിടെയോ എന്ത...  Mixed_feelings\n",
       "...                                                 ...             ...\n",
       "4495       i never seen ikka like this before  just uff   not-malayalam\n",
       "4496  njan ee song kett maduthilla athrakku ishtta l...        Positive\n",
       "4497  basha ketapol basheer bashiyude mashudhaye orm...   unknown_state\n",
       "4498  mammokka fans onnum alla but karyam parayalo  ...  Mixed_feelings\n",
       "4499  panchavarnaa thatha poley oola padavaruthittaa...  Mixed_feelings\n",
       "\n",
       "[4500 rows x 2 columns]"
      ]
     },
     "execution_count": 32,
     "metadata": {},
     "output_type": "execute_result"
    }
   ],
   "source": [
    "Traindf = pd.DataFrame({'Data' : temp21,'label' : temp22}, columns=['Data', 'label'])\n",
    "Traindf"
   ]
  },
  {
   "cell_type": "code",
   "execution_count": 33,
   "id": "0e4e51c5",
   "metadata": {
    "ExecuteTime": {
     "end_time": "2021-10-30T16:22:22.638391Z",
     "start_time": "2021-10-30T16:22:22.625427Z"
    }
   },
   "outputs": [
    {
     "data": {
      "text/html": [
       "<div>\n",
       "<style scoped>\n",
       "    .dataframe tbody tr th:only-of-type {\n",
       "        vertical-align: middle;\n",
       "    }\n",
       "\n",
       "    .dataframe tbody tr th {\n",
       "        vertical-align: top;\n",
       "    }\n",
       "\n",
       "    .dataframe thead th {\n",
       "        text-align: right;\n",
       "    }\n",
       "</style>\n",
       "<table border=\"1\" class=\"dataframe\">\n",
       "  <thead>\n",
       "    <tr style=\"text-align: right;\">\n",
       "      <th></th>\n",
       "      <th>Data</th>\n",
       "      <th>label</th>\n",
       "    </tr>\n",
       "  </thead>\n",
       "  <tbody>\n",
       "    <tr>\n",
       "      <th>0</th>\n",
       "      <td>ella cinemellum ippo oru psycho indavallo</td>\n",
       "      <td>Mixed_feelings</td>\n",
       "    </tr>\n",
       "    <tr>\n",
       "      <th>1</th>\n",
       "      <td>pokkiriraja verum trailer mathram picture abhi...</td>\n",
       "      <td>Negative</td>\n",
       "    </tr>\n",
       "    <tr>\n",
       "      <th>2</th>\n",
       "      <td>ഇ ട്രെയിലറിൽ ഉള്ളതൊന്നും സിനിമയിലില്ലേ  അതുകൊണ...</td>\n",
       "      <td>unknown_state</td>\n",
       "    </tr>\n",
       "    <tr>\n",
       "      <th>3</th>\n",
       "      <td>etan just nailed itraju etta hats off</td>\n",
       "      <td>not-malayalam</td>\n",
       "    </tr>\n",
       "    <tr>\n",
       "      <th>4</th>\n",
       "      <td>70 aam vayasille ithihasvm 80am vaysile ithiha...</td>\n",
       "      <td>Positive</td>\n",
       "    </tr>\n",
       "    <tr>\n",
       "      <th>...</th>\n",
       "      <td>...</td>\n",
       "      <td>...</td>\n",
       "    </tr>\n",
       "    <tr>\n",
       "      <th>495</th>\n",
       "      <td>ettan fans ibdee common</td>\n",
       "      <td>unknown_state</td>\n",
       "    </tr>\n",
       "    <tr>\n",
       "      <th>496</th>\n",
       "      <td>എജ്ജാതി പടം 3  ഫസ്റ്റ് ഡേ കണ്ടവരുണ്ടോ</td>\n",
       "      <td>Positive</td>\n",
       "    </tr>\n",
       "    <tr>\n",
       "      <th>497</th>\n",
       "      <td>sanni chechiye konddu vannelengilum mammuckayu...</td>\n",
       "      <td>Negative</td>\n",
       "    </tr>\n",
       "    <tr>\n",
       "      <th>498</th>\n",
       "      <td>ട്രെയ്ലറിലും ഉണ്ണിയേട്ടൻ പാട്ടീലും ഉണ്ണിയേട്ടൻ...</td>\n",
       "      <td>unknown_state</td>\n",
       "    </tr>\n",
       "    <tr>\n",
       "      <th>499</th>\n",
       "      <td>vere level trailer and bgm  ikka look powlii</td>\n",
       "      <td>Positive</td>\n",
       "    </tr>\n",
       "  </tbody>\n",
       "</table>\n",
       "<p>500 rows × 2 columns</p>\n",
       "</div>"
      ],
      "text/plain": [
       "                                                  Data           label\n",
       "0            ella cinemellum ippo oru psycho indavallo  Mixed_feelings\n",
       "1    pokkiriraja verum trailer mathram picture abhi...        Negative\n",
       "2    ഇ ട്രെയിലറിൽ ഉള്ളതൊന്നും സിനിമയിലില്ലേ  അതുകൊണ...   unknown_state\n",
       "3                etan just nailed itraju etta hats off   not-malayalam\n",
       "4    70 aam vayasille ithihasvm 80am vaysile ithiha...        Positive\n",
       "..                                                 ...             ...\n",
       "495                            ettan fans ibdee common   unknown_state\n",
       "496             എജ്ജാതി പടം 3  ഫസ്റ്റ് ഡേ കണ്ടവരുണ്ടോ         Positive\n",
       "497  sanni chechiye konddu vannelengilum mammuckayu...        Negative\n",
       "498  ട്രെയ്ലറിലും ഉണ്ണിയേട്ടൻ പാട്ടീലും ഉണ്ണിയേട്ടൻ...   unknown_state\n",
       "499       vere level trailer and bgm  ikka look powlii        Positive\n",
       "\n",
       "[500 rows x 2 columns]"
      ]
     },
     "execution_count": 33,
     "metadata": {},
     "output_type": "execute_result"
    }
   ],
   "source": [
    "Testdf = pd.DataFrame({'Data' : temp11,'label' : temp12}, columns=['Data', 'label'])\n",
    "Testdf"
   ]
  },
  {
   "cell_type": "code",
   "execution_count": null,
   "id": "5a62482f",
   "metadata": {},
   "outputs": [],
   "source": []
  }
 ],
 "metadata": {
  "kernelspec": {
   "display_name": "Python 3 (ipykernel)",
   "language": "python",
   "name": "python3"
  },
  "language_info": {
   "codemirror_mode": {
    "name": "ipython",
    "version": 3
   },
   "file_extension": ".py",
   "mimetype": "text/x-python",
   "name": "python",
   "nbconvert_exporter": "python",
   "pygments_lexer": "ipython3",
   "version": "3.8.11"
  },
  "latex_envs": {
   "LaTeX_envs_menu_present": true,
   "autoclose": false,
   "autocomplete": true,
   "bibliofile": "biblio.bib",
   "cite_by": "apalike",
   "current_citInitial": 1,
   "eqLabelWithNumbers": true,
   "eqNumInitial": 1,
   "hotkeys": {
    "equation": "Ctrl-E",
    "itemize": "Ctrl-I"
   },
   "labels_anchors": false,
   "latex_user_defs": false,
   "report_style_numbering": false,
   "user_envs_cfg": false
  },
  "toc": {
   "base_numbering": 1,
   "nav_menu": {},
   "number_sections": true,
   "sideBar": true,
   "skip_h1_title": false,
   "title_cell": "Table of Contents",
   "title_sidebar": "Contents",
   "toc_cell": false,
   "toc_position": {},
   "toc_section_display": true,
   "toc_window_display": true
  }
 },
 "nbformat": 4,
 "nbformat_minor": 5
}
